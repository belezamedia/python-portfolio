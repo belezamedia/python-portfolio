{
  "cells": [
    {
      "cell_type": "markdown",
      "source": [
        "# Senior ML Engineer Assignment | Daniel Helfman"
      ],
      "metadata": {
        "id": "X7iA0ISVLL1i"
      }
    },
    {
      "cell_type": "code",
      "source": [
        "from google.colab import drive\n",
        "drive.mount('/content/drive')"
      ],
      "metadata": {
        "colab": {
          "base_uri": "https://localhost:8080/"
        },
        "id": "FT1brpx1rD-q",
        "outputId": "cd7bee52-8886-4ed1-c18f-be23d554b16e"
      },
      "execution_count": null,
      "outputs": [
        {
          "output_type": "stream",
          "name": "stdout",
          "text": [
            "Mounted at /content/drive\n"
          ]
        }
      ]
    },
    {
      "cell_type": "code",
      "execution_count": null,
      "metadata": {
        "id": "Pk1n6zuIe3aC"
      },
      "outputs": [],
      "source": [
        "!apt-get install openjdk-11-jdk-headless -qq > /dev/null\n",
        "!wget -q https://dlcdn.apache.org/spark/spark-3.0.3/spark-3.0.3-bin-hadoop2.7.tgz\n",
        "!tar xf spark-3.0.3-bin-hadoop2.7.tgz\n",
        "!pip install -q findspark"
      ]
    },
    {
      "cell_type": "code",
      "execution_count": null,
      "metadata": {
        "id": "JCV3jcRJfSGo"
      },
      "outputs": [],
      "source": [
        "import os\n",
        "os.environ[\"JAVA_HOME\"] = \"/usr/lib/jvm/java-11-openjdk-amd64\"\n",
        "os.environ[\"SPARK_HOME\"] = \"/content/spark-3.0.3-bin-hadoop2.7\""
      ]
    },
    {
      "cell_type": "code",
      "execution_count": null,
      "metadata": {
        "id": "_RUoWAC_lOG1"
      },
      "outputs": [],
      "source": [
        "import findspark\n",
        "findspark.init()"
      ]
    },
    {
      "cell_type": "code",
      "execution_count": null,
      "metadata": {
        "id": "9MwBiKLJmgMD"
      },
      "outputs": [],
      "source": [
        "from pyspark.sql import SparkSession"
      ]
    },
    {
      "cell_type": "code",
      "execution_count": null,
      "metadata": {
        "id": "UCiQ_Dpzmtc1"
      },
      "outputs": [],
      "source": [
        "spark = (\n",
        "    SparkSession\n",
        "        .builder\n",
        "        .appName(\"programming\")\n",
        "        .master(\"local\")\n",
        "        .config(\"spark.jars.packages\", \"io.delta:delta-core_2.12:0.7.0\")\n",
        "        .config(\"spark.sql.extensions\", \"io.delta.sql.DeltaSparkSessionExtension\")\n",
        "        .config(\"spark.sql.catalog.spark_catalog\", \"org.apache.spark.sql.delta.catalog.DeltaCatalog\")\n",
        "        .config('spark.ui.port', '4050')\n",
        "        .getOrCreate()\n",
        ")"
      ]
    },
    {
      "cell_type": "code",
      "execution_count": null,
      "metadata": {
        "id": "JG2kkKA7Jvl_",
        "colab": {
          "base_uri": "https://localhost:8080/"
        },
        "outputId": "c9b7d576-e7e6-4787-82a6-e44d74a98e25"
      },
      "outputs": [
        {
          "output_type": "stream",
          "name": "stdout",
          "text": [
            "root\n",
            " |-- id: integer (nullable = true)\n",
            " |-- store_id: integer (nullable = true)\n",
            " |-- date: string (nullable = true)\n",
            " |-- customer_id: integer (nullable = true)\n",
            " |-- total_price: double (nullable = true)\n",
            "\n"
          ]
        }
      ],
      "source": [
        "orders_path = '/content/drive/MyDrive/Colab Notebooks/MMM_DEVELOPMENT/ANALYTICS_PROJECTS/SONY-INTERVIEW-ASSIGNMENT/2_intermediate_exercise/resources/orders.csv'\n",
        "orders_df = spark.read.option(\"header\", True).option(\"inferSchema\", True).csv(orders_path)\n",
        "\n",
        "orders_df.printSchema()"
      ]
    },
    {
      "cell_type": "code",
      "source": [
        "orders_df = orders_df.withColumnRenamed(\"id\",\"order_id\")\n",
        "orders_df.show()"
      ],
      "metadata": {
        "colab": {
          "base_uri": "https://localhost:8080/"
        },
        "id": "L3Wde-TIJ0Pe",
        "outputId": "c035ffd3-ec1b-4116-ec47-8ce96dc95af0"
      },
      "execution_count": null,
      "outputs": [
        {
          "output_type": "stream",
          "name": "stdout",
          "text": [
            "+--------+--------+----------+-----------+-----------+\n",
            "|order_id|store_id|      date|customer_id|total_price|\n",
            "+--------+--------+----------+-----------+-----------+\n",
            "|  100001|    3001|2021-06-16|     200001|      15.95|\n",
            "|  100002|    3001|2021-06-16|     200002|      31.24|\n",
            "|  100003|    3001|2021-06-16|     200003|       2.13|\n",
            "|  100004|    3001|2021-06-17|     200005|      12.09|\n",
            "|  100005|    3001|2021-06-17|     200002|      38.52|\n",
            "|  100006|    3001|2021-06-17|     200002|      38.52|\n",
            "|  100007|    3001|2021-06-17|     200007|        1.4|\n",
            "|  100008|    3001|2021-06-18|     200004|       91.2|\n",
            "|  100009|    3001|2021-06-18|     200004|       3.45|\n",
            "|  100010|    3001|2021-06-18|     200002|      18.71|\n",
            "|  100011|    3001|2021-06-18|     200007|      12.11|\n",
            "+--------+--------+----------+-----------+-----------+\n",
            "\n"
          ]
        }
      ]
    },
    {
      "cell_type": "code",
      "execution_count": null,
      "metadata": {
        "id": "QvJma9CfJvl_",
        "colab": {
          "base_uri": "https://localhost:8080/"
        },
        "outputId": "ddd48c8f-569b-4f73-a5ca-c1ed1e58af99"
      },
      "outputs": [
        {
          "output_type": "stream",
          "name": "stdout",
          "text": [
            "root\n",
            " |-- id: integer (nullable = true)\n",
            " |-- fname: string (nullable = true)\n",
            " |-- lname: string (nullable = true)\n",
            " |-- reward_card_num: integer (nullable = true)\n",
            " |-- joined: string (nullable = true)\n",
            " |-- address1: string (nullable = true)\n",
            " |-- state: string (nullable = true)\n",
            " |-- country: string (nullable = true)\n",
            " |-- zipcode: string (nullable = true)\n",
            "\n"
          ]
        }
      ],
      "source": [
        "customers_path = '/content/drive/MyDrive/Colab Notebooks/MMM_DEVELOPMENT/ANALYTICS_PROJECTS/SONY-INTERVIEW-ASSIGNMENT/2_intermediate_exercise/resources/customers.csv'\n",
        "customers_df = spark.read.option(\"header\", True).option(\"inferSchema\", True).csv(customers_path)\n",
        "customers_df.printSchema()"
      ]
    },
    {
      "cell_type": "code",
      "source": [
        "customers_df.show()"
      ],
      "metadata": {
        "colab": {
          "base_uri": "https://localhost:8080/"
        },
        "id": "7pj-MVmKJ_wo",
        "outputId": "6f3e6838-472a-4571-be1c-d65660eadf88"
      },
      "execution_count": null,
      "outputs": [
        {
          "output_type": "stream",
          "name": "stdout",
          "text": [
            "+------+------------+------------+---------------+----------+--------+-----+-------+----------+\n",
            "|    id|       fname|       lname|reward_card_num|    joined|address1|state|country|   zipcode|\n",
            "+------+------------+------------+---------------+----------+--------+-----+-------+----------+\n",
            "|200001|Matlalihuitl|    Rackett |         111111|2019-11-18|123 Main|   WA|     US|     98101|\n",
            "|200002|     Nicolas|Belarde Ross|         222222|2001-01-01|125 Main|   WA|     US|     98101|\n",
            "|200003|    Carmello|       Wygal|         333333|2021-03-05|923 Main|   WA|     us|     98101|\n",
            "|200004|      Yazmin|    Pozzuoli|         444444|2015-08-19|100 Main|   WA|     US|98101-1234|\n",
            "|200005|        Cate|       Hinde|         555555|2020-12-31|444 Main|   WA|     US|     98101|\n",
            "|200006|      Astera|   Loeschner|         666666|2021-07-12|    null|   AZ|     US|     85001|\n",
            "|200007|       Maeja|       Kempf|         777777| 2017-11-1|888 Mani|   MB|     CA|   R0G 0J0|\n",
            "+------+------------+------------+---------------+----------+--------+-----+-------+----------+\n",
            "\n"
          ]
        }
      ]
    },
    {
      "cell_type": "code",
      "source": [
        "joined_df = orders_df.join(customers_df, orders_df.customer_id == customers_df.id, 'inner')\n",
        "joined_df.printSchema()"
      ],
      "metadata": {
        "colab": {
          "base_uri": "https://localhost:8080/"
        },
        "id": "Mu3Df3ZT3dtb",
        "outputId": "1d886cac-2ca9-4dfd-fc88-1134200228e4"
      },
      "execution_count": null,
      "outputs": [
        {
          "output_type": "stream",
          "name": "stdout",
          "text": [
            "root\n",
            " |-- order_id: integer (nullable = true)\n",
            " |-- store_id: integer (nullable = true)\n",
            " |-- date: string (nullable = true)\n",
            " |-- customer_id: integer (nullable = true)\n",
            " |-- total_price: double (nullable = true)\n",
            " |-- id: integer (nullable = true)\n",
            " |-- fname: string (nullable = true)\n",
            " |-- lname: string (nullable = true)\n",
            " |-- reward_card_num: integer (nullable = true)\n",
            " |-- joined: string (nullable = true)\n",
            " |-- address1: string (nullable = true)\n",
            " |-- state: string (nullable = true)\n",
            " |-- country: string (nullable = true)\n",
            " |-- zipcode: string (nullable = true)\n",
            "\n"
          ]
        }
      ]
    },
    {
      "cell_type": "code",
      "source": [
        "joined_df.cache()\n",
        "joined_df.show()"
      ],
      "metadata": {
        "colab": {
          "base_uri": "https://localhost:8080/"
        },
        "id": "Q7im69Gb4sAM",
        "outputId": "f85ffc5a-0cf3-4bc7-a954-b56190264649"
      },
      "execution_count": null,
      "outputs": [
        {
          "output_type": "stream",
          "name": "stdout",
          "text": [
            "+--------+--------+----------+-----------+-----------+------+------------+------------+---------------+----------+--------+-----+-------+----------+\n",
            "|order_id|store_id|      date|customer_id|total_price|    id|       fname|       lname|reward_card_num|    joined|address1|state|country|   zipcode|\n",
            "+--------+--------+----------+-----------+-----------+------+------------+------------+---------------+----------+--------+-----+-------+----------+\n",
            "|  100001|    3001|2021-06-16|     200001|      15.95|200001|Matlalihuitl|    Rackett |         111111|2019-11-18|123 Main|   WA|     US|     98101|\n",
            "|  100010|    3001|2021-06-18|     200002|      18.71|200002|     Nicolas|Belarde Ross|         222222|2001-01-01|125 Main|   WA|     US|     98101|\n",
            "|  100006|    3001|2021-06-17|     200002|      38.52|200002|     Nicolas|Belarde Ross|         222222|2001-01-01|125 Main|   WA|     US|     98101|\n",
            "|  100005|    3001|2021-06-17|     200002|      38.52|200002|     Nicolas|Belarde Ross|         222222|2001-01-01|125 Main|   WA|     US|     98101|\n",
            "|  100002|    3001|2021-06-16|     200002|      31.24|200002|     Nicolas|Belarde Ross|         222222|2001-01-01|125 Main|   WA|     US|     98101|\n",
            "|  100003|    3001|2021-06-16|     200003|       2.13|200003|    Carmello|       Wygal|         333333|2021-03-05|923 Main|   WA|     us|     98101|\n",
            "|  100009|    3001|2021-06-18|     200004|       3.45|200004|      Yazmin|    Pozzuoli|         444444|2015-08-19|100 Main|   WA|     US|98101-1234|\n",
            "|  100008|    3001|2021-06-18|     200004|       91.2|200004|      Yazmin|    Pozzuoli|         444444|2015-08-19|100 Main|   WA|     US|98101-1234|\n",
            "|  100004|    3001|2021-06-17|     200005|      12.09|200005|        Cate|       Hinde|         555555|2020-12-31|444 Main|   WA|     US|     98101|\n",
            "|  100011|    3001|2021-06-18|     200007|      12.11|200007|       Maeja|       Kempf|         777777| 2017-11-1|888 Mani|   MB|     CA|   R0G 0J0|\n",
            "|  100007|    3001|2021-06-17|     200007|        1.4|200007|       Maeja|       Kempf|         777777| 2017-11-1|888 Mani|   MB|     CA|   R0G 0J0|\n",
            "+--------+--------+----------+-----------+-----------+------+------------+------------+---------------+----------+--------+-----+-------+----------+\n",
            "\n"
          ]
        }
      ]
    },
    {
      "cell_type": "code",
      "source": [
        "joined_df.createOrReplaceTempView('joinedView')"
      ],
      "metadata": {
        "id": "a-qXuplr9KTO"
      },
      "execution_count": null,
      "outputs": []
    },
    {
      "cell_type": "markdown",
      "metadata": {
        "id": "YkWHq0wxJvmA"
      },
      "source": [
        "**1. Show total orders and revenue.**"
      ]
    },
    {
      "cell_type": "code",
      "source": [
        "total_orders_and_revenue_df = spark.sql('SELECT customer_id, COUNT(order_id) AS total_orders, SUM(total_price) AS total_revenue FROM joinedView GROUP BY customer_id ORDER BY total_revenue DESC')\n",
        "total_orders_and_revenue_df.show()"
      ],
      "metadata": {
        "colab": {
          "base_uri": "https://localhost:8080/"
        },
        "id": "QG2jWRZw5ejY",
        "outputId": "96098a94-d072-4355-a90a-6f01c3f33676"
      },
      "execution_count": null,
      "outputs": [
        {
          "output_type": "stream",
          "name": "stdout",
          "text": [
            "+-----------+------------+-------------+\n",
            "|customer_id|total_orders|total_revenue|\n",
            "+-----------+------------+-------------+\n",
            "|     200002|           4|       126.99|\n",
            "|     200004|           2|        94.65|\n",
            "|     200001|           1|        15.95|\n",
            "|     200007|           2|        13.51|\n",
            "|     200005|           1|        12.09|\n",
            "|     200003|           1|         2.13|\n",
            "+-----------+------------+-------------+\n",
            "\n"
          ]
        }
      ]
    },
    {
      "cell_type": "markdown",
      "metadata": {
        "id": "XgN-C-j9JvmA"
      },
      "source": [
        "**2. What's the average order revenue per day?**"
      ]
    },
    {
      "cell_type": "code",
      "source": [
        "average_order_revenue_df = spark.sql('SELECT date, AVG(total_price) AS avg_order_revenue FROM joinedView GROUP BY date ORDER BY date DESC')\n",
        "average_order_revenue_df.show()"
      ],
      "metadata": {
        "colab": {
          "base_uri": "https://localhost:8080/"
        },
        "id": "wGst_ysT9MiT",
        "outputId": "91f485ab-bdae-460e-fae1-be6f3f22af4a"
      },
      "execution_count": null,
      "outputs": [
        {
          "output_type": "stream",
          "name": "stdout",
          "text": [
            "+----------+------------------+\n",
            "|      date| avg_order_revenue|\n",
            "+----------+------------------+\n",
            "|2021-06-18|           31.3675|\n",
            "|2021-06-17|22.632500000000004|\n",
            "|2021-06-16|             16.44|\n",
            "+----------+------------------+\n",
            "\n"
          ]
        }
      ]
    },
    {
      "cell_type": "markdown",
      "metadata": {
        "id": "UN2w-ykpJvmA"
      },
      "source": [
        "**3. Which order has the most revenue each day?**"
      ]
    },
    {
      "cell_type": "code",
      "source": [
        "revenue_by_day_df = spark.sql(\"SELECT date, order_id, total_price, MAX(total_price) OVER (PARTITION BY date) AS max_revenue_by_date FROM joinedView ORDER BY max_revenue_by_date DESC\")\n",
        "revenue_by_day_df.show()"
      ],
      "metadata": {
        "colab": {
          "base_uri": "https://localhost:8080/"
        },
        "id": "OGjuVeFN-s-n",
        "outputId": "3abae733-fba6-453b-c05e-0471f49c4c3c"
      },
      "execution_count": null,
      "outputs": [
        {
          "output_type": "stream",
          "name": "stdout",
          "text": [
            "+----------+--------+-----------+-------------------+\n",
            "|      date|order_id|total_price|max_revenue_by_date|\n",
            "+----------+--------+-----------+-------------------+\n",
            "|2021-06-18|  100010|      18.71|               91.2|\n",
            "|2021-06-18|  100009|       3.45|               91.2|\n",
            "|2021-06-18|  100008|       91.2|               91.2|\n",
            "|2021-06-18|  100011|      12.11|               91.2|\n",
            "|2021-06-17|  100006|      38.52|              38.52|\n",
            "|2021-06-17|  100007|        1.4|              38.52|\n",
            "|2021-06-17|  100005|      38.52|              38.52|\n",
            "|2021-06-17|  100004|      12.09|              38.52|\n",
            "|2021-06-16|  100001|      15.95|              31.24|\n",
            "|2021-06-16|  100002|      31.24|              31.24|\n",
            "|2021-06-16|  100003|       2.13|              31.24|\n",
            "+----------+--------+-----------+-------------------+\n",
            "\n"
          ]
        }
      ]
    },
    {
      "cell_type": "code",
      "source": [
        "joined_df.show()"
      ],
      "metadata": {
        "colab": {
          "base_uri": "https://localhost:8080/"
        },
        "id": "bYpgfYCHRP9j",
        "outputId": "e081750f-878c-4fde-8eb5-82ab44a4191f"
      },
      "execution_count": null,
      "outputs": [
        {
          "output_type": "stream",
          "name": "stdout",
          "text": [
            "+--------+--------+----------+-----------+-----------+------+------------+------------+---------------+----------+--------+-----+-------+----------+\n",
            "|order_id|store_id|      date|customer_id|total_price|    id|       fname|       lname|reward_card_num|    joined|address1|state|country|   zipcode|\n",
            "+--------+--------+----------+-----------+-----------+------+------------+------------+---------------+----------+--------+-----+-------+----------+\n",
            "|  100001|    3001|2021-06-16|     200001|      15.95|200001|Matlalihuitl|    Rackett |         111111|2019-11-18|123 Main|   WA|     US|     98101|\n",
            "|  100010|    3001|2021-06-18|     200002|      18.71|200002|     Nicolas|Belarde Ross|         222222|2001-01-01|125 Main|   WA|     US|     98101|\n",
            "|  100006|    3001|2021-06-17|     200002|      38.52|200002|     Nicolas|Belarde Ross|         222222|2001-01-01|125 Main|   WA|     US|     98101|\n",
            "|  100005|    3001|2021-06-17|     200002|      38.52|200002|     Nicolas|Belarde Ross|         222222|2001-01-01|125 Main|   WA|     US|     98101|\n",
            "|  100002|    3001|2021-06-16|     200002|      31.24|200002|     Nicolas|Belarde Ross|         222222|2001-01-01|125 Main|   WA|     US|     98101|\n",
            "|  100003|    3001|2021-06-16|     200003|       2.13|200003|    Carmello|       Wygal|         333333|2021-03-05|923 Main|   WA|     us|     98101|\n",
            "|  100009|    3001|2021-06-18|     200004|       3.45|200004|      Yazmin|    Pozzuoli|         444444|2015-08-19|100 Main|   WA|     US|98101-1234|\n",
            "|  100008|    3001|2021-06-18|     200004|       91.2|200004|      Yazmin|    Pozzuoli|         444444|2015-08-19|100 Main|   WA|     US|98101-1234|\n",
            "|  100004|    3001|2021-06-17|     200005|      12.09|200005|        Cate|       Hinde|         555555|2020-12-31|444 Main|   WA|     US|     98101|\n",
            "|  100011|    3001|2021-06-18|     200007|      12.11|200007|       Maeja|       Kempf|         777777| 2017-11-1|888 Mani|   MB|     CA|   R0G 0J0|\n",
            "|  100007|    3001|2021-06-17|     200007|        1.4|200007|       Maeja|       Kempf|         777777| 2017-11-1|888 Mani|   MB|     CA|   R0G 0J0|\n",
            "+--------+--------+----------+-----------+-----------+------+------------+------------+---------------+----------+--------+-----+-------+----------+\n",
            "\n"
          ]
        }
      ]
    },
    {
      "cell_type": "markdown",
      "metadata": {
        "id": "ejnuJCY8JvmB"
      },
      "source": [
        "**4. How much revenue by customer zip code?**"
      ]
    },
    {
      "cell_type": "code",
      "source": [
        "joined_df.show()"
      ],
      "metadata": {
        "colab": {
          "base_uri": "https://localhost:8080/"
        },
        "id": "07xreqmNKicm",
        "outputId": "f2df2242-fadb-4adc-e037-8f9a0f2bc090"
      },
      "execution_count": null,
      "outputs": [
        {
          "output_type": "stream",
          "name": "stdout",
          "text": [
            "+--------+--------+----------+-----------+-----------+------+------------+------------+---------------+----------+--------+-----+-------+----------+\n",
            "|order_id|store_id|      date|customer_id|total_price|    id|       fname|       lname|reward_card_num|    joined|address1|state|country|   zipcode|\n",
            "+--------+--------+----------+-----------+-----------+------+------------+------------+---------------+----------+--------+-----+-------+----------+\n",
            "|  100001|    3001|2021-06-16|     200001|      15.95|200001|Matlalihuitl|    Rackett |         111111|2019-11-18|123 Main|   WA|     US|     98101|\n",
            "|  100010|    3001|2021-06-18|     200002|      18.71|200002|     Nicolas|Belarde Ross|         222222|2001-01-01|125 Main|   WA|     US|     98101|\n",
            "|  100006|    3001|2021-06-17|     200002|      38.52|200002|     Nicolas|Belarde Ross|         222222|2001-01-01|125 Main|   WA|     US|     98101|\n",
            "|  100005|    3001|2021-06-17|     200002|      38.52|200002|     Nicolas|Belarde Ross|         222222|2001-01-01|125 Main|   WA|     US|     98101|\n",
            "|  100002|    3001|2021-06-16|     200002|      31.24|200002|     Nicolas|Belarde Ross|         222222|2001-01-01|125 Main|   WA|     US|     98101|\n",
            "|  100003|    3001|2021-06-16|     200003|       2.13|200003|    Carmello|       Wygal|         333333|2021-03-05|923 Main|   WA|     us|     98101|\n",
            "|  100009|    3001|2021-06-18|     200004|       3.45|200004|      Yazmin|    Pozzuoli|         444444|2015-08-19|100 Main|   WA|     US|98101-1234|\n",
            "|  100008|    3001|2021-06-18|     200004|       91.2|200004|      Yazmin|    Pozzuoli|         444444|2015-08-19|100 Main|   WA|     US|98101-1234|\n",
            "|  100004|    3001|2021-06-17|     200005|      12.09|200005|        Cate|       Hinde|         555555|2020-12-31|444 Main|   WA|     US|     98101|\n",
            "|  100011|    3001|2021-06-18|     200007|      12.11|200007|       Maeja|       Kempf|         777777| 2017-11-1|888 Mani|   MB|     CA|   R0G 0J0|\n",
            "|  100007|    3001|2021-06-17|     200007|        1.4|200007|       Maeja|       Kempf|         777777| 2017-11-1|888 Mani|   MB|     CA|   R0G 0J0|\n",
            "+--------+--------+----------+-----------+-----------+------+------------+------------+---------------+----------+--------+-----+-------+----------+\n",
            "\n"
          ]
        }
      ]
    },
    {
      "cell_type": "code",
      "source": [
        "revenue_by_day_df = spark.sql(\"SELECT zipcode, SUM(total_price) AS total_revenue_by_zipcode FROM joinedView GROUP BY zipcode ORDER BY total_revenue_by_zipcode DESC\")\n",
        "revenue_by_day_df.show()"
      ],
      "metadata": {
        "colab": {
          "base_uri": "https://localhost:8080/"
        },
        "id": "cTJc6WrSKdRI",
        "outputId": "efe61461-e044-40e7-e17e-2b96ea8a2d13"
      },
      "execution_count": null,
      "outputs": [
        {
          "output_type": "stream",
          "name": "stdout",
          "text": [
            "+----------+------------------------+\n",
            "|   zipcode|total_revenue_by_zipcode|\n",
            "+----------+------------------------+\n",
            "|     98101|      157.16000000000003|\n",
            "|98101-1234|                   94.65|\n",
            "|   R0G 0J0|                   13.51|\n",
            "+----------+------------------------+\n",
            "\n"
          ]
        }
      ]
    },
    {
      "cell_type": "markdown",
      "metadata": {
        "id": "l-fu7YJlJvmB"
      },
      "source": [
        "**5. Who has been a customer the longest?**"
      ]
    },
    {
      "cell_type": "code",
      "source": [
        "total_orders_and_revenue_df = spark.sql('SELECT * FROM joinedView ORDER BY joined ASC')\n",
        "total_orders_and_revenue_df.show()"
      ],
      "metadata": {
        "colab": {
          "base_uri": "https://localhost:8080/"
        },
        "id": "73AvuPt_Dl_M",
        "outputId": "52e0badc-63cb-47db-9617-8d6c9b18be01"
      },
      "execution_count": null,
      "outputs": [
        {
          "output_type": "stream",
          "name": "stdout",
          "text": [
            "+--------+--------+----------+-----------+-----------+------+------------+------------+---------------+----------+--------+-----+-------+----------+\n",
            "|order_id|store_id|      date|customer_id|total_price|    id|       fname|       lname|reward_card_num|    joined|address1|state|country|   zipcode|\n",
            "+--------+--------+----------+-----------+-----------+------+------------+------------+---------------+----------+--------+-----+-------+----------+\n",
            "|  100005|    3001|2021-06-17|     200002|      38.52|200002|     Nicolas|Belarde Ross|         222222|2001-01-01|125 Main|   WA|     US|     98101|\n",
            "|  100002|    3001|2021-06-16|     200002|      31.24|200002|     Nicolas|Belarde Ross|         222222|2001-01-01|125 Main|   WA|     US|     98101|\n",
            "|  100010|    3001|2021-06-18|     200002|      18.71|200002|     Nicolas|Belarde Ross|         222222|2001-01-01|125 Main|   WA|     US|     98101|\n",
            "|  100006|    3001|2021-06-17|     200002|      38.52|200002|     Nicolas|Belarde Ross|         222222|2001-01-01|125 Main|   WA|     US|     98101|\n",
            "|  100009|    3001|2021-06-18|     200004|       3.45|200004|      Yazmin|    Pozzuoli|         444444|2015-08-19|100 Main|   WA|     US|98101-1234|\n",
            "|  100008|    3001|2021-06-18|     200004|       91.2|200004|      Yazmin|    Pozzuoli|         444444|2015-08-19|100 Main|   WA|     US|98101-1234|\n",
            "|  100007|    3001|2021-06-17|     200007|        1.4|200007|       Maeja|       Kempf|         777777| 2017-11-1|888 Mani|   MB|     CA|   R0G 0J0|\n",
            "|  100011|    3001|2021-06-18|     200007|      12.11|200007|       Maeja|       Kempf|         777777| 2017-11-1|888 Mani|   MB|     CA|   R0G 0J0|\n",
            "|  100001|    3001|2021-06-16|     200001|      15.95|200001|Matlalihuitl|    Rackett |         111111|2019-11-18|123 Main|   WA|     US|     98101|\n",
            "|  100004|    3001|2021-06-17|     200005|      12.09|200005|        Cate|       Hinde|         555555|2020-12-31|444 Main|   WA|     US|     98101|\n",
            "|  100003|    3001|2021-06-16|     200003|       2.13|200003|    Carmello|       Wygal|         333333|2021-03-05|923 Main|   WA|     us|     98101|\n",
            "+--------+--------+----------+-----------+-----------+------+------------+------------+---------------+----------+--------+-----+-------+----------+\n",
            "\n"
          ]
        }
      ]
    },
    {
      "cell_type": "markdown",
      "metadata": {
        "id": "wEoSCPIUJvmB"
      },
      "source": [
        "**6. Which customer has the least amount of orders?**"
      ]
    },
    {
      "cell_type": "code",
      "source": [
        "revenue_by_day_df = spark.sql(\"SELECT customer_id, COUNT(order_id) AS total_customer_orders FROM joinedView GROUP BY customer_id ORDER BY total_customer_orders ASC\")\n",
        "revenue_by_day_df.show()"
      ],
      "metadata": {
        "id": "5PAO9SEXIfoC",
        "colab": {
          "base_uri": "https://localhost:8080/"
        },
        "outputId": "837fb96f-df9a-4d98-bf1b-71fa3b42827c"
      },
      "execution_count": null,
      "outputs": [
        {
          "output_type": "stream",
          "name": "stdout",
          "text": [
            "+-----------+---------------------+\n",
            "|customer_id|total_customer_orders|\n",
            "+-----------+---------------------+\n",
            "|     200001|                    1|\n",
            "|     200005|                    1|\n",
            "|     200003|                    1|\n",
            "|     200007|                    2|\n",
            "|     200004|                    2|\n",
            "|     200002|                    4|\n",
            "+-----------+---------------------+\n",
            "\n"
          ]
        }
      ]
    },
    {
      "cell_type": "code",
      "source": [
        "revenue_by_day_df = spark.sql(\"SELECT customer_id, fname, lname FROM joinedView WHERE customer_id IN ('200001', '200005', '200003') ORDER BY customer_id DESC\")\n",
        "revenue_by_day_df.show()"
      ],
      "metadata": {
        "colab": {
          "base_uri": "https://localhost:8080/"
        },
        "id": "OT_ogBWGLhYi",
        "outputId": "f0e4cc95-42de-4d76-a495-6dc0ec5ae0c4"
      },
      "execution_count": null,
      "outputs": [
        {
          "output_type": "stream",
          "name": "stdout",
          "text": [
            "+-----------+------------+--------+\n",
            "|customer_id|       fname|   lname|\n",
            "+-----------+------------+--------+\n",
            "|     200005|        Cate|   Hinde|\n",
            "|     200003|    Carmello|   Wygal|\n",
            "|     200001|Matlalihuitl|Rackett |\n",
            "+-----------+------------+--------+\n",
            "\n"
          ]
        }
      ]
    },
    {
      "cell_type": "markdown",
      "source": [
        "**7. BONUS PySpark Machine Learning Examples**"
      ],
      "metadata": {
        "id": "5U-f0voYIg_Q"
      }
    },
    {
      "cell_type": "code",
      "source": [
        "from pyspark.sql.functions import *\n",
        "from pyspark.ml.linalg import Vectors\n",
        "from pyspark.ml.feature import VectorAssembler\n",
        "from pyspark.ml.clustering import KMeans\n",
        "from pyspark.ml.clustering import BisectingKMeans\n",
        "\n",
        "from pyspark.ml.feature import StringIndexer\n",
        "\n",
        "from pyspark.ml.regression import LinearRegression\n",
        "from pyspark.ml.evaluation import RegressionEvaluator"
      ],
      "metadata": {
        "id": "Z4ZksX0COCBq"
      },
      "execution_count": null,
      "outputs": []
    },
    {
      "cell_type": "code",
      "source": [
        "joined_df.printSchema()"
      ],
      "metadata": {
        "colab": {
          "base_uri": "https://localhost:8080/"
        },
        "id": "QUEcoQGjNNux",
        "outputId": "edac7265-2d3e-41c7-db55-9e9fc1bd7c7a"
      },
      "execution_count": null,
      "outputs": [
        {
          "output_type": "stream",
          "name": "stdout",
          "text": [
            "root\n",
            " |-- order_id: integer (nullable = true)\n",
            " |-- store_id: integer (nullable = true)\n",
            " |-- date: string (nullable = true)\n",
            " |-- customer_id: integer (nullable = true)\n",
            " |-- total_price: double (nullable = true)\n",
            " |-- id: integer (nullable = true)\n",
            " |-- fname: string (nullable = true)\n",
            " |-- lname: string (nullable = true)\n",
            " |-- reward_card_num: integer (nullable = true)\n",
            " |-- joined: string (nullable = true)\n",
            " |-- address1: string (nullable = true)\n",
            " |-- state: string (nullable = true)\n",
            " |-- country: string (nullable = true)\n",
            " |-- zipcode: string (nullable = true)\n",
            "\n"
          ]
        }
      ]
    },
    {
      "cell_type": "code",
      "source": [
        "joined_df.describe().show()"
      ],
      "metadata": {
        "colab": {
          "base_uri": "https://localhost:8080/"
        },
        "id": "5c_ghVwEMUIO",
        "outputId": "42ae0ed1-dc1c-4fe2-dc23-da8c479f932b"
      },
      "execution_count": null,
      "outputs": [
        {
          "output_type": "stream",
          "name": "stdout",
          "text": [
            "+-------+-----------------+--------+----------+------------------+------------------+------------------+--------+------------+------------------+----------+--------+-----+-------+-------+\n",
            "|summary|         order_id|store_id|      date|       customer_id|       total_price|                id|   fname|       lname|   reward_card_num|    joined|address1|state|country|zipcode|\n",
            "+-------+-----------------+--------+----------+------------------+------------------+------------------+--------+------------+------------------+----------+--------+-----+-------+-------+\n",
            "|  count|               11|      11|        11|                11|                11|                11|      11|          11|                11|        11|      11|   11|     11|     11|\n",
            "|   mean|         100006.0|  3001.0|      null|200003.54545454544|             24.12|200003.54545454544|    null|        null|          393939.0|      null|    null| null|   null|98101.0|\n",
            "| stddev|3.316624790356683|     0.0|      null| 2.067057636526092|26.032914166493157| 2.067057636526092|    null|        null|229672.84105222367|      null|    null| null|   null|    0.0|\n",
            "|    min|           100001|    3001|2021-06-16|            200001|               1.4|            200001|Carmello|Belarde Ross|            111111|2001-01-01|100 Main|   MB|     CA|  98101|\n",
            "|    max|           100011|    3001|2021-06-18|            200007|              91.2|            200007|  Yazmin|       Wygal|            777777|2021-03-05|923 Main|   WA|     us|R0G 0J0|\n",
            "+-------+-----------------+--------+----------+------------------+------------------+------------------+--------+------------+------------------+----------+--------+-----+-------+-------+\n",
            "\n"
          ]
        }
      ]
    },
    {
      "cell_type": "code",
      "source": [
        "joined_df.show()"
      ],
      "metadata": {
        "colab": {
          "base_uri": "https://localhost:8080/"
        },
        "id": "-CDxoaFwOQwR",
        "outputId": "5a2efa29-4a25-4599-bf85-453766ddafae"
      },
      "execution_count": null,
      "outputs": [
        {
          "output_type": "stream",
          "name": "stdout",
          "text": [
            "+--------+--------+----------+-----------+-----------+------+------------+------------+---------------+----------+--------+-----+-------+----------+\n",
            "|order_id|store_id|      date|customer_id|total_price|    id|       fname|       lname|reward_card_num|    joined|address1|state|country|   zipcode|\n",
            "+--------+--------+----------+-----------+-----------+------+------------+------------+---------------+----------+--------+-----+-------+----------+\n",
            "|  100001|    3001|2021-06-16|     200001|      15.95|200001|Matlalihuitl|    Rackett |         111111|2019-11-18|123 Main|   WA|     US|     98101|\n",
            "|  100010|    3001|2021-06-18|     200002|      18.71|200002|     Nicolas|Belarde Ross|         222222|2001-01-01|125 Main|   WA|     US|     98101|\n",
            "|  100006|    3001|2021-06-17|     200002|      38.52|200002|     Nicolas|Belarde Ross|         222222|2001-01-01|125 Main|   WA|     US|     98101|\n",
            "|  100005|    3001|2021-06-17|     200002|      38.52|200002|     Nicolas|Belarde Ross|         222222|2001-01-01|125 Main|   WA|     US|     98101|\n",
            "|  100002|    3001|2021-06-16|     200002|      31.24|200002|     Nicolas|Belarde Ross|         222222|2001-01-01|125 Main|   WA|     US|     98101|\n",
            "|  100003|    3001|2021-06-16|     200003|       2.13|200003|    Carmello|       Wygal|         333333|2021-03-05|923 Main|   WA|     us|     98101|\n",
            "|  100009|    3001|2021-06-18|     200004|       3.45|200004|      Yazmin|    Pozzuoli|         444444|2015-08-19|100 Main|   WA|     US|98101-1234|\n",
            "|  100008|    3001|2021-06-18|     200004|       91.2|200004|      Yazmin|    Pozzuoli|         444444|2015-08-19|100 Main|   WA|     US|98101-1234|\n",
            "|  100004|    3001|2021-06-17|     200005|      12.09|200005|        Cate|       Hinde|         555555|2020-12-31|444 Main|   WA|     US|     98101|\n",
            "|  100011|    3001|2021-06-18|     200007|      12.11|200007|       Maeja|       Kempf|         777777| 2017-11-1|888 Mani|   MB|     CA|   R0G 0J0|\n",
            "|  100007|    3001|2021-06-17|     200007|        1.4|200007|       Maeja|       Kempf|         777777| 2017-11-1|888 Mani|   MB|     CA|   R0G 0J0|\n",
            "+--------+--------+----------+-----------+-----------+------+------------+------------+---------------+----------+--------+-----+-------+----------+\n",
            "\n"
          ]
        }
      ]
    },
    {
      "cell_type": "code",
      "source": [
        "# input all the features in one vector column\n",
        "assembler = VectorAssembler(inputCols=['order_id', 'store_id', 'customer_id', 'id', 'reward_card_num'], outputCol = 'features')\n",
        "output = assembler.transform(joined_df)\n",
        "\n",
        "finalized_data = output.select(\"features\", \"total_price\")\n",
        "finalized_data.show()"
      ],
      "metadata": {
        "colab": {
          "base_uri": "https://localhost:8080/"
        },
        "id": "XGOXHQsYNdM4",
        "outputId": "bdc51ada-2e1a-4096-c544-8b9d935b8c09"
      },
      "execution_count": null,
      "outputs": [
        {
          "output_type": "stream",
          "name": "stdout",
          "text": [
            "+--------------------+-----------+\n",
            "|            features|total_price|\n",
            "+--------------------+-----------+\n",
            "|[100001.0,3001.0,...|      15.95|\n",
            "|[100010.0,3001.0,...|      18.71|\n",
            "|[100006.0,3001.0,...|      38.52|\n",
            "|[100005.0,3001.0,...|      38.52|\n",
            "|[100002.0,3001.0,...|      31.24|\n",
            "|[100003.0,3001.0,...|       2.13|\n",
            "|[100009.0,3001.0,...|       3.45|\n",
            "|[100008.0,3001.0,...|       91.2|\n",
            "|[100004.0,3001.0,...|      12.09|\n",
            "|[100011.0,3001.0,...|      12.11|\n",
            "|[100007.0,3001.0,...|        1.4|\n",
            "+--------------------+-----------+\n",
            "\n"
          ]
        }
      ]
    },
    {
      "cell_type": "markdown",
      "source": [
        "**KMeans Clustering Unsupervised Machine Learning**"
      ],
      "metadata": {
        "id": "POmQ_gsha7NR"
      }
    },
    {
      "cell_type": "code",
      "source": [
        "kmeans = KMeans().setK(3)\n",
        "kmeans = kmeans.setSeed(1)\n",
        "kmodel = kmeans.fit(finalized_data)\n",
        "centers = kmodel.clusterCenters()\n",
        "\n",
        "# this will print out the 3 sets of clusters for your dataset\n",
        "centers"
      ],
      "metadata": {
        "colab": {
          "base_uri": "https://localhost:8080/"
        },
        "id": "jHGwiP1Kaidt",
        "outputId": "d4668f5f-2309-49a8-989a-6d1405213823"
      },
      "execution_count": null,
      "outputs": [
        {
          "output_type": "execute_result",
          "data": {
            "text/plain": [
              "[array([100009.,   3001., 200007., 200007., 777777.]),\n",
              " array([100004.5,   3001. , 200002. , 200002. , 222222. ]),\n",
              " array([100007.        ,   3001.        , 200004.33333333, 200004.33333333,\n",
              "        481481.        ])]"
            ]
          },
          "metadata": {},
          "execution_count": 28
        }
      ]
    },
    {
      "cell_type": "markdown",
      "source": [
        "**Hierarchical Clustering Unsupervised Machine Learning**"
      ],
      "metadata": {
        "id": "AwnP6XBObFe-"
      }
    },
    {
      "cell_type": "code",
      "source": [
        "BKMeans = BisectingKMeans().setK(3)\n",
        "BKMeans = BKMeans.setSeed(1)\n",
        "BKModel = BKMeans.fit(finalized_data)\n",
        "BKCenters = BKModel.clusterCenters()\n",
        "\n",
        "# hierarchical clustering results\n",
        "BKCenters"
      ],
      "metadata": {
        "colab": {
          "base_uri": "https://localhost:8080/"
        },
        "id": "8m9ttg_ibNcB",
        "outputId": "eec50f4f-82cf-4542-e2d5-ed8f9aaa24e1"
      },
      "execution_count": null,
      "outputs": [
        {
          "output_type": "execute_result",
          "data": {
            "text/plain": [
              "[array([100001.,   3001., 200001., 200001., 111111.]),\n",
              " array([100005.2,   3001. , 200002.2, 200002.2, 244444.2]),\n",
              " array([100007.8,   3001. , 200005.4, 200005.4, 599999.4])]"
            ]
          },
          "metadata": {},
          "execution_count": 29
        }
      ]
    },
    {
      "cell_type": "markdown",
      "source": [
        "**Classification Supervised Machine Learning**"
      ],
      "metadata": {
        "id": "2flNQR-9brva"
      }
    },
    {
      "cell_type": "code",
      "source": [
        "joined_df.show()"
      ],
      "metadata": {
        "colab": {
          "base_uri": "https://localhost:8080/"
        },
        "id": "XDAZjiwocFnY",
        "outputId": "816705ac-7f38-4577-f40a-778ad56147c9"
      },
      "execution_count": null,
      "outputs": [
        {
          "output_type": "stream",
          "name": "stdout",
          "text": [
            "+--------+--------+----------+-----------+-----------+------+------------+------------+---------------+----------+--------+-----+-------+----------+\n",
            "|order_id|store_id|      date|customer_id|total_price|    id|       fname|       lname|reward_card_num|    joined|address1|state|country|   zipcode|\n",
            "+--------+--------+----------+-----------+-----------+------+------------+------------+---------------+----------+--------+-----+-------+----------+\n",
            "|  100001|    3001|2021-06-16|     200001|      15.95|200001|Matlalihuitl|    Rackett |         111111|2019-11-18|123 Main|   WA|     US|     98101|\n",
            "|  100010|    3001|2021-06-18|     200002|      18.71|200002|     Nicolas|Belarde Ross|         222222|2001-01-01|125 Main|   WA|     US|     98101|\n",
            "|  100006|    3001|2021-06-17|     200002|      38.52|200002|     Nicolas|Belarde Ross|         222222|2001-01-01|125 Main|   WA|     US|     98101|\n",
            "|  100005|    3001|2021-06-17|     200002|      38.52|200002|     Nicolas|Belarde Ross|         222222|2001-01-01|125 Main|   WA|     US|     98101|\n",
            "|  100002|    3001|2021-06-16|     200002|      31.24|200002|     Nicolas|Belarde Ross|         222222|2001-01-01|125 Main|   WA|     US|     98101|\n",
            "|  100003|    3001|2021-06-16|     200003|       2.13|200003|    Carmello|       Wygal|         333333|2021-03-05|923 Main|   WA|     us|     98101|\n",
            "|  100009|    3001|2021-06-18|     200004|       3.45|200004|      Yazmin|    Pozzuoli|         444444|2015-08-19|100 Main|   WA|     US|98101-1234|\n",
            "|  100008|    3001|2021-06-18|     200004|       91.2|200004|      Yazmin|    Pozzuoli|         444444|2015-08-19|100 Main|   WA|     US|98101-1234|\n",
            "|  100004|    3001|2021-06-17|     200005|      12.09|200005|        Cate|       Hinde|         555555|2020-12-31|444 Main|   WA|     US|     98101|\n",
            "|  100011|    3001|2021-06-18|     200007|      12.11|200007|       Maeja|       Kempf|         777777| 2017-11-1|888 Mani|   MB|     CA|   R0G 0J0|\n",
            "|  100007|    3001|2021-06-17|     200007|        1.4|200007|       Maeja|       Kempf|         777777| 2017-11-1|888 Mani|   MB|     CA|   R0G 0J0|\n",
            "+--------+--------+----------+-----------+-----------+------+------------+------------+---------------+----------+--------+-----+-------+----------+\n",
            "\n"
          ]
        }
      ]
    },
    {
      "cell_type": "code",
      "source": [
        "indexer = StringIndexer(inputCol='zipcode', outputCol='label')\n",
        "joined_df_classification = indexer.fit(joined_df).transform(joined_df)\n",
        "joined_df_classification.show()"
      ],
      "metadata": {
        "colab": {
          "base_uri": "https://localhost:8080/"
        },
        "id": "4dwv1xpVbw3Q",
        "outputId": "1e5c11a9-bdc1-4743-ff3d-f439ddd88751"
      },
      "execution_count": null,
      "outputs": [
        {
          "output_type": "stream",
          "name": "stdout",
          "text": [
            "+--------+--------+----------+-----------+-----------+------+------------+------------+---------------+----------+--------+-----+-------+----------+-----+\n",
            "|order_id|store_id|      date|customer_id|total_price|    id|       fname|       lname|reward_card_num|    joined|address1|state|country|   zipcode|label|\n",
            "+--------+--------+----------+-----------+-----------+------+------------+------------+---------------+----------+--------+-----+-------+----------+-----+\n",
            "|  100001|    3001|2021-06-16|     200001|      15.95|200001|Matlalihuitl|    Rackett |         111111|2019-11-18|123 Main|   WA|     US|     98101|  0.0|\n",
            "|  100010|    3001|2021-06-18|     200002|      18.71|200002|     Nicolas|Belarde Ross|         222222|2001-01-01|125 Main|   WA|     US|     98101|  0.0|\n",
            "|  100006|    3001|2021-06-17|     200002|      38.52|200002|     Nicolas|Belarde Ross|         222222|2001-01-01|125 Main|   WA|     US|     98101|  0.0|\n",
            "|  100005|    3001|2021-06-17|     200002|      38.52|200002|     Nicolas|Belarde Ross|         222222|2001-01-01|125 Main|   WA|     US|     98101|  0.0|\n",
            "|  100002|    3001|2021-06-16|     200002|      31.24|200002|     Nicolas|Belarde Ross|         222222|2001-01-01|125 Main|   WA|     US|     98101|  0.0|\n",
            "|  100003|    3001|2021-06-16|     200003|       2.13|200003|    Carmello|       Wygal|         333333|2021-03-05|923 Main|   WA|     us|     98101|  0.0|\n",
            "|  100009|    3001|2021-06-18|     200004|       3.45|200004|      Yazmin|    Pozzuoli|         444444|2015-08-19|100 Main|   WA|     US|98101-1234|  1.0|\n",
            "|  100008|    3001|2021-06-18|     200004|       91.2|200004|      Yazmin|    Pozzuoli|         444444|2015-08-19|100 Main|   WA|     US|98101-1234|  1.0|\n",
            "|  100004|    3001|2021-06-17|     200005|      12.09|200005|        Cate|       Hinde|         555555|2020-12-31|444 Main|   WA|     US|     98101|  0.0|\n",
            "|  100011|    3001|2021-06-18|     200007|      12.11|200007|       Maeja|       Kempf|         777777| 2017-11-1|888 Mani|   MB|     CA|   R0G 0J0|  2.0|\n",
            "|  100007|    3001|2021-06-17|     200007|        1.4|200007|       Maeja|       Kempf|         777777| 2017-11-1|888 Mani|   MB|     CA|   R0G 0J0|  2.0|\n",
            "+--------+--------+----------+-----------+-----------+------+------------+------------+---------------+----------+--------+-----+-------+----------+-----+\n",
            "\n"
          ]
        }
      ]
    },
    {
      "cell_type": "markdown",
      "source": [
        "**Regression Supervised Machine Learning**"
      ],
      "metadata": {
        "id": "6DtKRTwmcjJ9"
      }
    },
    {
      "cell_type": "code",
      "source": [
        "train_data, test_data = finalized_data.randomSplit([0.8,0.2])\n",
        "regressor = LinearRegression(featuresCol = 'features', labelCol = 'total_price')\n",
        "\n",
        "# fit the model from training set\n",
        "regressor = regressor.fit(train_data)"
      ],
      "metadata": {
        "id": "4f0KQFG6O_5m"
      },
      "execution_count": null,
      "outputs": []
    },
    {
      "cell_type": "code",
      "source": [
        "# predict the total_price on testing set\n",
        "pred = regressor.evaluate(test_data)\n",
        "\n",
        "# predict the model\n",
        "pred.predictions.show()"
      ],
      "metadata": {
        "colab": {
          "base_uri": "https://localhost:8080/"
        },
        "id": "5mqqEW6xP-rp",
        "outputId": "e9e38cfd-135a-46f8-eeac-e8c2a7119e0d"
      },
      "execution_count": null,
      "outputs": [
        {
          "output_type": "stream",
          "name": "stdout",
          "text": [
            "+--------------------+-----------+------------------+\n",
            "|            features|total_price|        prediction|\n",
            "+--------------------+-----------+------------------+\n",
            "|[100007.0,3001.0,...|        1.4|15.392189735721331|\n",
            "+--------------------+-----------+------------------+\n",
            "\n"
          ]
        }
      ]
    },
    {
      "cell_type": "code",
      "source": [
        "# coefficient of the regression model\n",
        "coeff = regressor.coefficients\n",
        "\n",
        "# X and Y intercept\n",
        "intr = regressor.intercept\n",
        "\n",
        "print (\"The coefficient of the model is : %a\" %coeff)\n",
        "print (\"The Intercept of the model is : %f\" %intr)"
      ],
      "metadata": {
        "colab": {
          "base_uri": "https://localhost:8080/"
        },
        "id": "Ahsi_LJcQJ9D",
        "outputId": "5e09d858-fe54-4c92-f353-ede26e3e3891"
      },
      "execution_count": null,
      "outputs": [
        {
          "output_type": "stream",
          "name": "stdout",
          "text": [
            "The coefficient of the model is : DenseVector([1.7468, 0.0, -1.1334, -1.1334, -0.0])\n",
            "The Intercept of the model is : 278727.722097\n"
          ]
        }
      ]
    },
    {
      "cell_type": "code",
      "source": [
        "eval = RegressionEvaluator(labelCol=\"total_price\", predictionCol=\"prediction\", metricName=\"rmse\")\n",
        "\n",
        "# Root Mean Square Error\n",
        "rmse = eval.evaluate(pred.predictions)\n",
        "print(\"RMSE: %.3f\" % rmse)\n",
        "\n",
        "# Mean Square Error\n",
        "mse = eval.evaluate(pred.predictions, {eval.metricName: \"mse\"})\n",
        "print(\"MSE: %.3f\" % mse)\n",
        "\n",
        "# Mean Absolute Error\n",
        "mae = eval.evaluate(pred.predictions, {eval.metricName: \"mae\"})\n",
        "print(\"MAE: %.3f\" % mae)\n",
        "\n",
        "# r2 - coefficient of determination\n",
        "r2 = eval.evaluate(pred.predictions, {eval.metricName: \"r2\"})\n",
        "print(\"r2: %.3f\" %r2)"
      ],
      "metadata": {
        "colab": {
          "base_uri": "https://localhost:8080/"
        },
        "id": "jztfy4VsQPaA",
        "outputId": "68ea5773-631c-4fdd-adf4-a31bb6f4872c"
      },
      "execution_count": null,
      "outputs": [
        {
          "output_type": "stream",
          "name": "stdout",
          "text": [
            "RMSE: 13.992\n",
            "MSE: 195.781\n",
            "MAE: 13.992\n",
            "r2: -inf\n"
          ]
        }
      ]
    }
  ],
  "metadata": {
    "colab": {
      "provenance": []
    },
    "kernelspec": {
      "display_name": "Python 3",
      "name": "python3"
    },
    "language_info": {
      "name": "python"
    }
  },
  "nbformat": 4,
  "nbformat_minor": 0
}