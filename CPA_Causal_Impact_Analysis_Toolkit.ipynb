{
 "cells": [
  {
   "cell_type": "markdown",
   "metadata": {
    "application/vnd.databricks.v1+cell": {
     "cellMetadata": {
      "byteLimit": 2048000,
      "rowLimit": 10000
     },
     "inputWidgets": {},
     "nuid": "6efeeca9-8acc-4460-8f74-902cb3b57892",
     "showTitle": false,
     "title": ""
    }
   },
   "source": [
    "# Causal Impact Analysis\n",
    "\n",
    "### Databricks Widget Descriptions:\n",
    "* __Project Name__: Specific name to create a path to write analysis data in hive.\n",
    "* __Treatment Start and End Date__: The first and last date of exposure to treatment content in '%Y-%m-%d' format.\n",
    "* __Treatment Content IDs__: hread_ID, NTC Workout_ID or Email Comm_ID Value(s) for the treatment Content. For a collection of values, use a comma-separated list.\n",
    "* __Geo__: Restricts the geography for the analysis. Default is no filter, and Marketplace will determine countries.\n",
    "* __Marketplace__: Country cd codes (example: us, jp, fr, ... ) to restrict the marketplace for the analysis. For a collection of values, use a comma-separated list. Default is all marketplaces.\n",
    "* __Member Tenure__: Restricts the length of time since a member has first interacted with the thread_ID. Default is all tenure groups.\n",
    "* __Age Group__: Restricts the age group of members to be analyzed. Default is all age groups.\n",
    "* __Gender__: Restricts the gender of the members to be analyzed. Default is all genders.\n",
    "* __Control-Treatment Matching Criteria__: Matches the Control Groups to the Treatment Group based on the selected dimensions.\n",
    "* __Number of Control Groups__: Number of synthetic control groups to create and use for causal impact. Default is 5.\n",
    "* __Post-treatment Period__: Number of days after exposure for measuring the impact.\n",
    "* __Target KPI__: Engagement metric used for the Causal Impact model. Choosing between different metrics that measure number of unique members with different types of digital behavior."
   ]
  },
  {
   "cell_type": "markdown",
   "metadata": {
    "application/vnd.databricks.v1+cell": {
     "cellMetadata": {
      "byteLimit": 2048000,
      "rowLimit": 10000
     },
     "inputWidgets": {},
     "nuid": "7b38c006-e629-4969-a00b-4ec2f70571cb",
     "showTitle": false,
     "title": ""
    }
   },
   "source": [
    "## Setup Notebook with Selected Databricks Parameters"
   ]
  },
  {
   "cell_type": "code",
   "execution_count": 0,
   "metadata": {
    "application/vnd.databricks.v1+cell": {
     "cellMetadata": {
      "byteLimit": 2048000,
      "implicitDf": true,
      "rowLimit": 10000
     },
     "inputWidgets": {},
     "nuid": "25d33a8b-092c-4ea0-83df-d8fc7654351c",
     "showTitle": false,
     "title": ""
    },
    "jupyter": {
     "outputs_hidden": true,
     "source_hidden": true
    }
   },
   "outputs": [
    {
     "output_type": "display_data",
     "data": {
      "text/html": [
       "<style scoped>\n",
       "  .table-result-container {\n",
       "    max-height: 300px;\n",
       "    overflow: auto;\n",
       "  }\n",
       "  table, th, td {\n",
       "    border: 1px solid black;\n",
       "    border-collapse: collapse;\n",
       "  }\n",
       "  th, td {\n",
       "    padding: 5px;\n",
       "  }\n",
       "  th {\n",
       "    text-align: left;\n",
       "  }\n",
       "</style><div class='table-result-container'><table class='table-result'><thead style='background-color: white'><tr><th>key</th><th>value</th></tr></thead><tbody><tr><td>spark.databricks.delta.formatCheck.enabled</td><td>false</td></tr></tbody></table></div>"
      ]
     },
     "metadata": {
      "application/vnd.databricks.v1+output": {
       "addedWidgets": {},
       "aggData": [],
       "aggError": "",
       "aggOverflow": false,
       "aggSchema": [],
       "aggSeriesLimitReached": false,
       "aggType": "",
       "arguments": {},
       "columnCustomDisplayInfos": {},
       "data": [
        [
         "spark.databricks.delta.formatCheck.enabled",
         "false"
        ]
       ],
       "datasetInfos": [],
       "dbfsResultPath": null,
       "isJsonSchema": true,
       "metadata": {},
       "overflow": false,
       "plotOptions": {
        "customPlotOptions": {},
        "displayType": "table",
        "pivotAggregation": null,
        "pivotColumns": null,
        "xColumns": null,
        "yColumns": null
       },
       "removedWidgets": [],
       "schema": [
        {
         "metadata": "{}",
         "name": "key",
         "type": "\"string\""
        },
        {
         "metadata": "{}",
         "name": "value",
         "type": "\"string\""
        }
       ],
       "type": "table"
      }
     },
     "output_type": "display_data"
    }
   ],
   "source": [
    "%sql \n",
    "SET spark.databricks.delta.formatCheck.enabled=false"
   ]
  },
  {
   "cell_type": "code",
   "execution_count": 0,
   "metadata": {
    "application/vnd.databricks.v1+cell": {
     "cellMetadata": {
      "byteLimit": 2048000,
      "rowLimit": 10000
     },
     "inputWidgets": {},
     "nuid": "023c3cb9-3a0b-4eee-8caf-1ec9a352d340",
     "showTitle": false,
     "title": ""
    },
    "jupyter": {
     "outputs_hidden": true,
     "source_hidden": true
    }
   },
   "outputs": [
    {
     "output_type": "display_data",
     "data": {
      "text/html": [
       "<style scoped>\n",
       "  .ansiout {\n",
       "    display: block;\n",
       "    unicode-bidi: embed;\n",
       "    white-space: pre-wrap;\n",
       "    word-wrap: break-word;\n",
       "    word-break: break-all;\n",
       "    font-family: \"Menlo\", \"Monaco\", \"Consolas\", \"Ubuntu Mono\", \"Source Code Pro\", monospace;\n",
       "    font-size: 13px;\n",
       "    color: #555;\n",
       "    margin-left: 4px;\n",
       "    line-height: 19px;\n",
       "  }\n",
       "</style>\n",
       "<div class=\"ansiout\"></div>"
      ]
     },
     "metadata": {
      "application/vnd.databricks.v1+output": {
       "addedWidgets": {},
       "arguments": {},
       "data": "<div class=\"ansiout\"></div>",
       "datasetInfos": [],
       "metadata": {},
       "removedWidgets": [],
       "type": "html"
      }
     },
     "output_type": "display_data"
    }
   ],
   "source": [
    "spark.conf.set(\"spark.sql.execution.arrow.pyspark.enabled\", \"true\")"
   ]
  },
  {
   "cell_type": "code",
   "execution_count": 0,
   "metadata": {
    "application/vnd.databricks.v1+cell": {
     "cellMetadata": {
      "byteLimit": 2048000,
      "rowLimit": 10000
     },
     "inputWidgets": {},
     "nuid": "f3e717e1-8688-4fe5-a86d-a59b804033ec",
     "showTitle": true,
     "title": "Install Required Packages"
    },
    "jupyter": {
     "outputs_hidden": true,
     "source_hidden": true
    }
   },
   "outputs": [
    {
     "output_type": "display_data",
     "data": {
      "text/html": [
       "<style scoped>\n",
       "  .ansiout {\n",
       "    display: block;\n",
       "    unicode-bidi: embed;\n",
       "    white-space: pre-wrap;\n",
       "    word-wrap: break-word;\n",
       "    word-break: break-all;\n",
       "    font-family: \"Menlo\", \"Monaco\", \"Consolas\", \"Ubuntu Mono\", \"Source Code Pro\", monospace;\n",
       "    font-size: 13px;\n",
       "    color: #555;\n",
       "    margin-left: 4px;\n",
       "    line-height: 19px;\n",
       "  }\n",
       "</style>\n",
       "<div class=\"ansiout\">Collecting pycausalimpact\r\n",
       "  Downloading pycausalimpact-0.1.1-py2.py3-none-any.whl (30 kB)\r\n",
       "Requirement already satisfied: matplotlib&gt;=2.2.3 in /databricks/python3/lib/python3.8/site-packages (from pycausalimpact) (3.4.2)\r\n",
       "Requirement already satisfied: scipy in /databricks/python3/lib/python3.8/site-packages (from pycausalimpact) (1.6.2)\r\n",
       "Requirement already satisfied: jinja2&gt;=2.10 in /databricks/python3/lib/python3.8/site-packages (from pycausalimpact) (2.11.3)\r\n",
       "Requirement already satisfied: statsmodels&gt;=0.11.0 in /databricks/python3/lib/python3.8/site-packages (from pycausalimpact) (0.12.2)\r\n",
       "Requirement already satisfied: numpy in /databricks/python3/lib/python3.8/site-packages (from pycausalimpact) (1.19.2)\r\n",
       "Requirement already satisfied: MarkupSafe&gt;=0.23 in /databricks/python3/lib/python3.8/site-packages (from jinja2&gt;=2.10-&gt;pycausalimpact) (1.1.1)\r\n",
       "Requirement already satisfied: pyparsing&gt;=2.2.1 in /databricks/python3/lib/python3.8/site-packages (from matplotlib&gt;=2.2.3-&gt;pycausalimpact) (2.4.7)\r\n",
       "Requirement already satisfied: cycler&gt;=0.10 in /databricks/python3/lib/python3.8/site-packages (from matplotlib&gt;=2.2.3-&gt;pycausalimpact) (0.10.0)\r\n",
       "Requirement already satisfied: python-dateutil&gt;=2.7 in /databricks/python3/lib/python3.8/site-packages (from matplotlib&gt;=2.2.3-&gt;pycausalimpact) (2.8.1)\r\n",
       "Requirement already satisfied: pillow&gt;=6.2.0 in /databricks/python3/lib/python3.8/site-packages (from matplotlib&gt;=2.2.3-&gt;pycausalimpact) (8.2.0)\r\n",
       "Requirement already satisfied: kiwisolver&gt;=1.0.1 in /databricks/python3/lib/python3.8/site-packages (from matplotlib&gt;=2.2.3-&gt;pycausalimpact) (1.3.1)\r\n",
       "Requirement already satisfied: six in /databricks/python3/lib/python3.8/site-packages (from cycler&gt;=0.10-&gt;matplotlib&gt;=2.2.3-&gt;pycausalimpact) (1.15.0)\r\n",
       "Requirement already satisfied: patsy&gt;=0.5 in /databricks/python3/lib/python3.8/site-packages (from statsmodels&gt;=0.11.0-&gt;pycausalimpact) (0.5.1)\r\n",
       "Requirement already satisfied: pandas&gt;=0.21 in /databricks/python3/lib/python3.8/site-packages (from statsmodels&gt;=0.11.0-&gt;pycausalimpact) (1.2.4)\r\n",
       "Requirement already satisfied: pytz&gt;=2017.3 in /databricks/python3/lib/python3.8/site-packages (from pandas&gt;=0.21-&gt;statsmodels&gt;=0.11.0-&gt;pycausalimpact) (2020.5)\r\n",
       "Installing collected packages: pycausalimpact\r\n",
       "Successfully installed pycausalimpact-0.1.1\r\n",
       "<span class=\"ansi-yellow-fg\">WARNING: You are using pip version 21.0.1; however, version 23.3.1 is available.\r\n",
       "You should consider upgrading via the &#39;/databricks/python3/bin/python -m pip install --upgrade pip&#39; command.</span>\r\n",
       "Collecting scipy==1.7.1\r\n",
       "  Downloading scipy-1.7.1-cp38-cp38-manylinux_2_5_x86_64.manylinux1_x86_64.whl (28.4 MB)\r\n",
       "                                | 10 kB 42.3 MB/s eta 0:00:01\r     |                                | 20 kB 52.5 MB/s eta 0:00:01\r     |                                | 30 kB 66.8 MB/s eta 0:00:01\r     |                                | 40 kB 28.6 MB/s eta 0:00:01\r     |                                | 51 kB 24.3 MB/s eta 0:00:02\r     |                                | 61 kB 28.2 MB/s eta 0:00:02\r     |                                | 71 kB 29.8 MB/s eta 0:00:01\r     |                                | 81 kB 27.9 MB/s eta 0:00:02\r     |                                | 92 kB 30.6 MB/s eta 0:00:01\r     |▏                               | 102 kB 31.8 MB/s eta 0:00:01\r     |▏                               | 112 kB 31.8 MB/s eta 0:00:01\r     |▏                               | 122 kB 31.8 MB/s eta 0:00:01\r     |▏                               | 133 kB 31.8 MB/s eta 0:00:01\r     |▏                               | 143 kB 31.8 MB/s eta 0:00:01\r     |▏                               | 153 kB 31.8 MB/s eta 0:00:01\r     |▏                               | 163 kB 31.8 MB/s eta 0:00:01\r     |▏                               | 174 kB 31.8 MB/s eta 0:00:01\r     |▏                               | 184 kB 31.8 MB/s eta 0:00:01\r     |▏                               | 194 kB 31.8 MB/s eta 0:00:01\r     |▎                               | 204 kB 31.8 MB/s eta 0:00:01\r     |▎                               | 215 kB 31.8 MB/s eta 0:00:01\r     |▎                               | 225 kB 31.8 MB/s eta 0:00:01\r     |▎                               | 235 kB 31.8 MB/s eta 0:00:01\r     |▎                               | 245 kB 31.8 MB/s eta 0:00:01\r     |▎                               | 256 kB 31.8 MB/s eta 0:00:01\r     |▎                               | 266 kB 31.8 MB/s eta 0:00:01\r     |▎                               | 276 kB 31.8 MB/s eta 0:00:01\r     |▎                               | 286 kB 31.8 MB/s eta 0:00:01\r     |▍                               | 296 kB 31.8 MB/s eta 0:00:01\r     |▍                               | 307 kB 31.8 MB/s eta 0:00:01\r     |▍                               | 317 kB 31.8 MB/s eta 0:00:01\r     |▍                               | 327 kB 31.8 MB/s eta 0:00:01\r     |▍                               | 337 kB 31.8 MB/s eta 0:00:01\r     |▍                               | 348 kB 31.8 MB/s eta 0:00:01\r     |▍                               | 358 kB 31.8 MB/s eta 0:00:01\r     |▍                               | 368 kB 31.8 MB/s eta 0:00:01\r     |▍                               | 378 kB 31.8 MB/s eta 0:00:01\r     |▍                               | 389 kB 31.8 MB/s eta 0:00:01\r     |▌                               | 399 kB 31.8 MB/s eta 0:00:01\r     |▌                               | 409 kB 31.8 MB/s eta 0:00:01\r     |▌                               | 419 kB 31.8 MB/s eta 0:00:01\r     |▌                               | 430 kB 31.8 MB/s eta 0:00:01\r     |▌                               | 440 kB 31.8 MB/s eta 0:00:01\r     |▌                               | 450 kB 31.8 MB/s eta 0:00:01\r     |▌                               | 460 kB 31.8 MB/s eta 0:00:01\r     |▌                               | 471 kB 31.8 MB/s eta 0:00:01\r     |▌                               | 481 kB 31.8 MB/s eta 0:00:01\r     |▌                               | 491 kB 31.8 MB/s eta 0:00:01\r     |▋                               | 501 kB 31.8 MB/s eta 0:00:01\r     |▋                               | 512 kB 31.8 MB/s eta 0:00:01\r     |▋                               | 522 kB 31.8 MB/s eta 0:00:01\r     |▋                               | 532 kB 31.8 MB/s eta 0:00:01\r     |▋                               | 542 kB 31.8 MB/s eta 0:00:01\r     |▋                               | 552 kB 31.8 MB/s eta 0:00:01\r     |▋                               | 563 kB 31.8 MB/s eta 0:00:01\r     |▋                               | 573 kB 31.8 MB/s eta 0:00:01\r     |▋                               | 583 kB 31.8 MB/s eta 0:00:01\r     |▊                               | 593 kB 31.8 MB/s eta 0:00:01\r     |▊                               | 604 kB 31.8 MB/s eta 0:00:01\r     |▊                               | 614 kB 31.8 MB/s eta 0:00:01\r     |▊                               | 624 kB 31.8 MB/s eta 0:00:01\r     |▊                               | 634 kB 31.8 MB/s eta 0:00:01\r     |▊                               | 645 kB 31.8 MB/s eta 0:00:01\r     |▊                               | 655 kB 31.8 MB/s eta 0:00:01\r     |▊                               | 665 kB 31.8 MB/s eta 0:00:01\r     |▊                               | 675 kB 31.8 MB/s eta 0:00:01\r     |▊                               | 686 kB 31.8 MB/s eta 0:00:01\r     |▉                               | 696 kB 31.8 MB/s eta 0:00:01\r     |▉                               | 706 kB 31.8 MB/s eta 0:00:01\r     |▉                               | 716 kB 31.8 MB/s eta 0:00:01\r     |▉                               | 727 kB 31.8 MB/s eta 0:00:01\r     |▉                               | 737 kB 31.8 MB/s eta 0:00:01\r     |▉                               | 747 kB 31.8 MB/s eta 0:00:01\r     |▉                               | 757 kB 31.8 MB/s eta 0:00:01\r     |▉                               | 768 kB 31.8 MB/s eta 0:00:01\r     |▉                               | 778 kB 31.8 MB/s eta 0:00:01\r     |█                               | 788 kB 31.8 MB/s eta 0:00:01\r     |█                               | 798 kB 31.8 MB/s eta 0:00:01\r     |█                               | 808 kB 31.8 MB/s eta 0:00:01\r     |█                               | 819 kB 31.8 MB/s eta 0:00:01\r     |█                               | 829 kB 31.8 MB/s eta 0:00:01\r     |█                               | 839 kB 31.8 MB/s eta 0:00:01\r     |█                               | 849 kB 31.8 MB/s eta 0:00:01\r     |█                               | 860 kB 31.8 MB/s eta 0:00:01\r     |█                               | 870 kB 31.8 MB/s eta 0:00:01\r     |█                               | 880 kB 31.8 MB/s eta 0:00:01\r     |█                               | 890 kB 31.8 MB/s eta 0:00:01\r     |█                               | 901 kB 31.8 MB/s eta 0:00:01\r     |█                               | 911 kB 31.8 MB/s eta 0:00:01\r     |█                               | 921 kB 31.8 MB/s eta 0:00:01\r     |█                               | 931 kB 31.8 MB/s eta 0:00:01\r     |█                               | 942 kB 31.8 MB/s eta 0:00:01\r     |█                               | 952 kB 31.8 MB/s eta 0:00:01\r     |█                               | 962 kB 31.8 MB/s eta 0:00:01\r     |█                               | 972 kB 31.8 MB/s eta 0:00:01\r     |█                               | 983 kB 31.8 MB/s eta 0:00:01\r     |█▏                              | 993 kB 31.8 MB/s eta 0:00:01\r     |█▏                              | 1.0 MB 31.8 MB/s eta 0:00:01\r     |█▏                              | 1.0 MB 31.8 MB/s eta 0:00:01\r     |█▏                              | 1.0 MB 31.8 MB/s eta 0:00:01\r     |█▏                              | 1.0 MB 31.8 MB/s eta 0:00:01\r     |█▏                              | 1.0 MB 31.8 MB/s eta 0:00:01\r     |█▏                              | 1.1 MB 31.8 MB/s eta 0:00:01\r     |█▏                              | 1.1 MB 31.8 MB/s eta 0:00:01\r     |█▏                              | 1.1 MB 31.8 MB/s eta 0:00:01\r     |█▎                              | 1.1 MB 31.8 MB/s eta 0:00:01\r     |█▎                              | 1.1 MB 31.8 MB/s eta 0:00:01\r     |█▎                              | 1.1 MB 31.8 MB/s eta 0:00:01\r     |█▎                              | 1.1 MB 31.8 MB/s eta 0:00:01\r     |█▎                              | 1.1 MB 31.8 MB/s eta 0:00:01\r     |█▎                              | 1.1 MB 31.8 MB/s eta 0:00:01\r     |█▎                              | 1.1 MB 31.8 MB/s eta 0:00:01\r     |█▎                              | 1.2 MB 31.8 MB/s eta 0:00:01\r     |█▎                              | 1.2 MB 31.8 MB/s eta 0:00:01\r     |█▎                              | 1.2 MB 31.8 MB/s eta 0:00:01\r     |█▍                              | 1.2 MB 31.8 MB/s eta 0:00:01\r     |█▍                              | 1.2 MB 31.8 MB/s eta 0:00:01\r     |█▍                              | 1.2 MB 31.8 MB/s eta 0:00:01\r     |█▍                              | 1.2 MB 31.8 MB/s eta 0:00:01\r     |█▍                              | 1.2 MB 31.8 MB/s eta 0:00:01\r     |█▍                              | 1.2 MB 31.8 MB/s eta 0:00:01\r     |█▍                              | 1.2 MB 31.8 MB/s eta 0:00:01\r     |█▍                              | 1.3 MB 31.8 MB/s eta 0:00:01\r     |█▍                              | 1.3 MB 31.8 MB/s eta 0:00:01\r     |█▍                              | 1.3 MB 31.8 MB/s eta 0:00:01\r     |█▌                              | 1.3 MB 31.8 MB/s eta 0:00:01\r     |█▌                              | 1.3 MB 31.8 MB/s eta 0:00:01\r     |█▌                              | 1.3 MB 31.8 MB/s eta 0:00:01\r     |█▌                              | 1.3 MB 31.8 MB/s eta 0:00:01\r     |█▌                              | 1.3 MB 31.8 MB/s eta 0:00:01\r     |█▌                              | 1.3 MB 31.8 MB/s eta 0:00:01\r     |█▌                              | 1.4 MB 31.8 MB/s eta 0:00:01\r     |█▌                              | 1.4 MB 31.8 MB/s eta 0:00:01\r     |█▌                              | 1.4 MB 31.8 MB/s eta 0:00:01\r     |█▋                              | 1.4 MB 31.8 MB/s eta 0:00:01\r     |█▋                              | 1.4 MB 31.8 MB/s eta 0:00:01\r     |█▋                              | 1.4 MB 31.8 MB/s eta 0:00:01\r     |█▋                              | 1.4 MB 31.8 MB/s eta 0:00:01\r     |█▋                              | 1.4 MB 31.8 MB/s eta 0:00:01\r     |█▋                              | 1.4 MB 31.8 MB/s eta 0:00:01\r     |█▋                              | 1.4 MB 31.8 MB/s eta 0:00:01\r     |█▋                              | 1.5 MB 31.8 MB/s eta 0:00:01\r     |█▋                              | 1.5 MB 31.8 MB/s eta 0:00:01\r     |█▋                              | 1.5 MB 31.8 MB/s eta 0:00:01\r     |█▊                              | 1.5 MB 31.8 MB/s eta 0:00:01\r     |█▊                              | 1.5 MB 31.8 MB/s eta 0:00:01\r     |█▊                              | 1.5 MB 31.8 MB/s eta 0:00:01\r     |█▊                              | 1.5 MB 31.8 MB/s eta 0:00:01\r     |█▊                              | 1.5 MB 31.8 MB/s eta 0:00:01\r     |█▊                              | 1.5 MB 31.8 MB/s eta 0:00:01\r     |█▊                              | 1.5 MB 31.8 MB/s eta 0:00:01\r     |█▊                              | 1.6 MB 31.8 MB/s eta 0:00:01\r     |█▊                              | 1.6 MB 31.8 MB/s eta 0:00:01\r     |█▉                              | 1.6 MB 31.8 MB/s eta 0:00:01\r     |█▉                              | 1.6 MB 31.8 MB/s eta 0:00:01\r     |█▉                              | 1.6 MB 31.8 MB/s eta 0:00:01\r     |█▉                              | 1.6 MB 31.8 MB/s eta 0:00:01\r     |█▉                              | 1.6 MB 31.8 MB/s eta 0:00:01\r     |█▉                              | 1.6 MB 31.8 MB/s eta 0:00:01\r     |█▉                              | 1.6 MB 31.8 MB/s eta 0:00:01\r     |█▉                              | 1.6 MB 31.8 MB/s eta 0:00:01\r     |█▉                              | 1.7 MB 31.8 MB/s eta 0:00:01\r     |█▉                              | 1.7 MB 31.8 MB/s eta 0:00:01\r     |██                              | 1.7 MB 31.8 MB/s eta 0:00:01\r     |██                              | 1.7 MB 31.8 MB/s eta 0:00:01\r     |██                              | 1.7 MB 31.8 MB/s eta 0:00:01\r     |██                              | 1.7 MB 31.8 MB/s eta 0:00:01\r     |██                              | 1.7 MB 31.8 MB/s eta 0:00:01\r     |██                              | 1.7 MB 31.8 MB/s eta 0:00:01\r     |██                              | 1.7 MB 31.8 MB/s eta 0:00:01\r     |██                              | 1.8 MB 31.8 MB/s eta 0:00:01\r     |██                              | 1.8 MB 31.8 MB/s eta 0:00:01\r     |██                              | 1.8 MB 31.8 MB/s eta 0:00:01\r     |██                              | 1.8 MB 31.8 MB/s eta 0:00:01\r     |██                              | 1.8 MB 31.8 MB/s eta 0:00:01\r     |██                              | 1.8 MB 31.8 MB/s eta 0:00:01\r     |██                              | 1.8 MB 31.8 MB/s eta 0:00:01\r     |██                              | 1.8 MB 31.8 MB/s eta 0:00:01\r     |██                              | 1.8 MB 31.8 MB/s eta 0:00:01\r     |██                              | 1.8 MB 31.8 MB/s eta 0:00:01\r     |██                              | 1.9 MB 31.8 MB/s eta 0:00:01\r     |██                              | 1.9 MB 31.8 MB/s eta 0:00:01\r     |██▏                             | 1.9 MB 31.8 MB/s eta 0:00:01\r     |██▏                             | 1.9 MB 31.8 MB/s eta 0:00:01\r     |██▏                             | 1.9 MB 31.8 MB/s eta 0:00:01\r     |██▏                             | 1.9 MB 31.8 MB/s eta 0:00:01\r     |██▏                             | 1.9 MB 31.8 MB/s eta 0:00:01\r     |██▏                             | 1.9 MB 31.8 MB/s eta 0:00:01\r     |██▏                             | 1.9 MB 31.8 MB/s eta 0:00:01\r     |██▏                             | 1.9 MB 31.8 MB/s eta 0:00:01\r     |██▏                             | 2.0 MB 31.8 MB/s eta 0:00:01\r     |██▏                             | 2.0 MB 31.8 MB/s eta 0:00:01\r     |██▎                             | 2.0 MB 31.8 MB/s eta 0:00:01\r     |██▎                             | 2.0 MB 31.8 MB/s eta 0:00:01\r     |██▎                             | 2.0 MB 31.8 MB/s eta 0:00:01\r     |██▎                             | 2.0 MB 31.8 MB/s eta 0:00:01\r     |██▎                             | 2.0 MB 31.8 MB/s eta 0:00:01\r     |██▎                             | 2.0 MB 31.8 MB/s eta 0:00:01\r     |██▎                             | 2.0 MB 31.8 MB/s eta 0:00:01\r     |██▎                             | 2.0 MB 31.8 MB/s eta 0:00:01\r     |██▎                             | 2.1 MB 31.8 MB/s eta 0:00:01\r     |██▎                             | 2.1 MB 31.8 MB/s eta 0:00:01\r     |██▍                             | 2.1 MB 31.8 MB/s eta 0:00:01\r     |██▍                             | 2.1 MB 31.8 MB/s eta 0:00:01\r     |██▍                             | 2.1 MB 31.8 MB/s eta 0:00:01\r     |██▍                             | 2.1 MB 31.8 MB/s eta 0:00:01\r     |██▍                             | 2.1 MB 31.8 MB/s eta 0:00:01\r     |██▍                             | 2.1 MB 31.8 MB/s eta 0:00:01\r     |██▍                             | 2.1 MB 31.8 MB/s eta 0:00:01\r     |██▍                             | 2.2 MB 31.8 MB/s eta 0:00:01\r     |██▍                             | 2.2 MB 31.8 MB/s eta 0:00:01\r     |██▌                             | 2.2 MB 31.8 MB/s eta 0:00:01\r     |██▌                             | 2.2 MB 31.8 MB/s eta 0:00:01\r     |██▌                             | 2.2 MB 31.8 MB/s eta 0:00:01\r     |██▌                             | 2.2 MB 31.8 MB/s eta 0:00:01\r     |██▌                             | 2.2 MB 31.8 MB/s eta 0:00:01\r     |██▌                             | 2.2 MB 31.8 MB/s eta 0:00:01\r     |██▌                             | 2.2 MB 31.8 MB/s eta 0:00:01\r     |██▌                             | 2.2 MB 31.8 MB/s eta 0:00:01\r     |██▌                             | 2.3 MB 31.8 MB/s eta 0:00:01\r     |██▌                             | 2.3 MB 31.8 MB/s eta 0:00:01\r     |██▋                             | 2.3 MB 31.8 MB/s eta 0:00:01\r     |██▋                             | 2.3 MB 31.8 MB/s eta 0:00:01\r     |██▋                             | 2.3 MB 31.8 MB/s eta 0:00:01\r     |██▋                             | 2.3 MB 31.8 MB/s eta 0:00:01\r     |██▋                             | 2.3 MB 31.8 MB/s eta 0:00:01\r     |██▋                             | 2.3 MB 31.8 MB/s eta 0:00:01\r     |██▋                             | 2.3 MB 31.8 MB/s eta 0:00:01\r     |██▋                             | 2.3 MB 31.8 MB/s eta 0:00:01\r     |██▋                             | 2.4 MB 31.8 MB/s eta 0:00:01\r     |██▊                             | 2.4 MB 31.8 MB/s eta 0:00:01\r     |██▊                             | 2.4 MB 31.8 MB/s eta 0:00:01\r     |██▊                             | 2.4 MB 31.8 MB/s eta 0:00:01\r     |██▊                             | 2.4 MB 31.8 MB/s eta 0:00:01\r     |██▊                             | 2.4 MB 31.8 MB/s eta 0:00:01\r     |██▊                             | 2.4 MB 31.8 MB/s eta 0:00:01\r     |██▊                             | 2.4 MB 31.8 MB/s eta 0:00:01\r     |██▊                             | 2.4 MB 31.8 MB/s eta 0:00:01\r     |██▊                             | 2.4 MB 31.8 MB/s eta 0:00:01\r     |██▊                             | 2.5 MB 31.8 MB/s eta 0:00:01\r     |██▉                             | 2.5 MB 31.8 MB/s eta 0:00:01\r     |██▉                             | 2.5 MB 31.8 MB/s eta 0:00:01\r     |██▉                             | 2.5 MB 31.8 MB/s eta 0:00:01\r     |██▉                             | 2.5 MB 31.8 MB/s eta 0:00:01\r     |██▉                             | 2.5 MB 31.8 MB/s eta 0:00:01\r     |██▉                             | 2.5 MB 31.8 MB/s eta 0:00:01\r     |██▉                             | 2.5 MB 31.8 MB/s eta 0:00:01\r     |██▉                             | 2.5 MB 31.8 MB/s eta 0:00:01\r     |██▉                             | 2.5 MB 31.8 MB/s eta 0:00:01\r     |██▉                             | 2.6 MB 31.8 MB/s eta 0:00:01\r     |███                             | 2.6 MB 31.8 MB/s eta 0:00:01\r     |███                             | 2.6 MB 31.8 MB/s eta 0:00:01\r     |███                             | 2.6 MB 31.8 MB/s eta 0:00:01\r     |███                             | 2.6 MB 31.8 MB/s eta 0:00:01\r     |███                             | 2.6 MB 31.8 MB/s eta 0:00:01\r     |███                             | 2.6 MB 31.8 MB/s eta 0:00:01\r     |███                             | 2.6 MB 31.8 MB/s eta 0:00:01\r     |███                             | 2.6 MB 31.8 MB/s eta 0:00:01\r     |███                             | 2.7 MB 31.8 MB/s eta 0:00:01\r     |███                             | 2.7 MB 31.8 MB/s eta 0:00:01\r     |███                             | 2.7 MB 31.8 MB/s eta 0:00:01\r     |███                             | 2.7 MB 31.8 MB/s eta 0:00:01\r     |███                             | 2.7 MB 31.8 MB/s eta 0:00:01\r     |███                             | 2.7 MB 31.8 MB/s eta 0:00:01\r     |███                             | 2.7 MB 31.8 MB/s eta 0:00:01\r     |███                             | 2.7 MB 31.8 MB/s eta 0:00:01\r     |███                             | 2.7 MB 31.8 MB/s eta 0:00:01\r     |███                             | 2.7 MB 31.8 MB/s eta 0:00:01\r     |███                             | 2.8 MB 31.8 MB/s eta 0:00:01\r     |███▏                            | 2.8 MB 31.8 MB/s eta 0:00:01\r     |███▏                            | 2.8 MB 31.8 MB/s eta 0:00:01\r     |███▏                            | 2.8 MB 31.8 MB/s eta 0:00:01\r     |███▏                            | 2.8 MB 31.8 MB/s eta 0:00:01\r     |███▏                            | 2.8 MB 31.8 MB/s eta 0:00:01\r     |███▏                            | 2.8 MB 31.8 MB/s eta 0:00:01\r     |███▏                            | 2.8 MB 31.8 MB/s eta 0:00:01\r     |███▏                            | 2.8 MB 31.8 MB/s eta 0:00:01\r     |███▏                            | 2.8 MB 31.8 MB/s eta 0:00:01\r     |███▎                            | 2.9 MB 31.8 MB/s eta 0:00:01\r     |███▎                            | 2.9 MB 31.8 MB/s eta 0:00:01\r     |███▎                            | 2.9 MB 31.8 MB/s eta 0:00:01\r     |███▎                            | 2.9 MB 31.8 MB/s eta 0:00:01\r     |███▎                            | 2.9 MB 31.8 MB/s eta 0:00:01\r     |███▎                            | 2.9 MB 31.8 MB/s eta 0:00:01\r     |███▎                            | 2.9 MB 31.8 MB/s eta 0:00:01\r     |███▎                            | 2.9 MB 31.8 MB/s eta 0:00:01\r     |███▎                            | 2.9 MB 31.8 MB/s eta 0:00:01\r     |███▎                            | 2.9 MB 31.8 MB/s eta 0:00:01\r     |███▍                            | 3.0 MB 31.8 MB/s eta 0:00:01\r     |███▍                            | 3.0 MB 31.8 MB/s eta 0:00:01\r     |███▍                            | 3.0 MB 31.8 MB/s eta 0:00:01\r     |███▍                            | 3.0 MB 31.8 MB/s eta 0:00:01\r     |███▍                            | 3.0 MB 31.8 MB/s eta 0:00:01\r     |███▍                            | 3.0 MB 31.8 MB/s eta 0:00:01\r     |███▍                            | 3.0 MB 31.8 MB/s eta 0:00:01\r     |███▍                            | 3.0 MB 31.8 MB/s eta 0:00:01\r     |███▍                            | 3.0 MB 31.8 MB/s eta 0:00:01\r     |███▍                            | 3.1 MB 31.8 MB/s eta 0:00:01\r     |███▌                            | 3.1 MB 31.8 MB/s eta 0:00:01\r     |███▌                            | 3.1 MB 31.8 MB/s eta 0:00:01\r     |███▌                            | 3.1 MB 31.8 MB/s eta 0:00:01\r     |███▌                            | 3.1 MB 31.8 MB/s eta 0:00:01\r     |███▌                            | 3.1 MB 31.8 MB/s eta 0:00:01\r     |███▌                            | 3.1 MB 31.8 MB/s eta 0:00:01\r     |███▌                            | 3.1 MB 31.8 MB/s eta 0:00:01\r     |███▌                            | 3.1 MB 31.8 MB/s eta 0:00:01\r     |███▌                            | 3.1 MB 31.8 MB/s eta 0:00:01\r     |███▋                            | 3.2 MB 31.8 MB/s eta 0:00:01\r     |███▋                            | 3.2 MB 31.8 MB/s eta 0:00:01\r     |███▋                            | 3.2 MB 31.8 MB/s eta 0:00:01\r     |███▋                            | 3.2 MB 31.8 MB/s eta 0:00:01\r     |███▋                            | 3.2 MB 31.8 MB/s eta 0:00:01\r     |███▋                            | 3.2 MB 31.8 MB/s eta 0:00:01\r     |███▋                            | 3.2 MB 31.8 MB/s eta 0:00:01\r     |███▋                            | 3.2 MB 31.8 MB/s eta 0:00:01\r     |███▋                            | 3.2 MB 31.8 MB/s eta 0:00:01\r     |███▋                            | 3.2 MB 31.8 MB/s eta 0:00:01\r     |███▊                            | 3.3 MB 31.8 MB/s eta 0:00:01\r     |███▊                            | 3.3 MB 31.8 MB/s eta 0:00:01\r     |███▊                            | 3.3 MB 31.8 MB/s eta 0:00:01\r     |███▊                            | 3.3 MB 31.8 MB/s eta 0:00:01\r     |███▊                            | 3.3 MB 31.8 MB/s eta 0:00:01\r     |███▊                            | 3.3 MB 31.8 MB/s eta 0:00:01\r     |███▊                            | 3.3 MB 31.8 MB/s eta 0:00:01\r     |███▊                            | 3.3 MB 31.8 MB/s eta 0:00:01\r     |███▊                            | 3.3 MB 31.8 MB/s eta 0:00:01\r     |███▊                            | 3.3 MB 31.8 MB/s eta 0:00:01\r     |███▉                            | 3.4 MB 31.8 MB/s eta 0:00:01\r     |███▉                            | 3.4 MB 31.8 MB/s eta 0:00:01\r     |███▉                            | 3.4 MB 31.8 MB/s eta 0:00:01\r     |███▉                            | 3.4 MB 31.8 MB/s eta 0:00:01\r     |███▉                            | 3.4 MB 31.8 MB/s eta 0:00:01\r     |███▉                            | 3.4 MB 31.8 MB/s eta 0:00:01\r     |███▉                            | 3.4 MB 31.8 MB/s eta 0:00:01\r     |███▉                            | 3.4 MB 31.8 MB/s eta 0:00:01\r     |███▉                            | 3.4 MB 31.8 MB/s eta 0:00:01\r     |████                            | 3.5 MB 31.8 MB/s eta 0:00:01\r     |████                            | 3.5 MB 31.8 MB/s eta 0:00:01\r     |████                            | 3.5 MB 31.8 MB/s eta 0:00:01\r     |████                            | 3.5 MB 31.8 MB/s eta 0:00:01\r     |████                            | 3.5 MB 31.8 MB/s eta 0:00:01\r     |████                            | 3.5 MB 31.8 MB/s eta 0:00:01\r     |████                            | 3.5 MB 31.8 MB/s eta 0:00:01\r     |████                            | 3.5 MB 31.8 MB/s eta 0:00:01\r     |████                            | 3.5 MB 31.8 MB/s eta 0:00:01\r     |████                            | 3.5 MB 31.8 MB/s eta 0:00:01\r     |████                            | 3.6 MB 31.8 MB/s eta 0:00:01\r     |████                            | 3.6 MB 31.8 MB/s eta 0:00:01\r     |████                            | 3.6 MB 31.8 MB/s eta 0:00:01\r     |████                            | 3.6 MB 31.8 MB/s eta 0:00:01\r     |████                            | 3.6 MB 31.8 MB/s eta 0:00:01\r     |████                            | 3.6 MB 31.8 MB/s eta 0:00:01\r     |████                            | 3.6 MB 31.8 MB/s eta 0:00:01\r     |████                            | 3.6 MB 31.8 MB/s eta 0:00:01\r     |████                            | 3.6 MB 31.8 MB/s eta 0:00:01\r     |████▏                           | 3.6 MB 31.8 MB/s eta 0:00:01\r     |████▏                           | 3.7 MB 31.8 MB/s eta 0:00:01\r     |████▏                           | 3.7 MB 31.8 MB/s eta 0:00:01\r     |████▏                           | 3.7 MB 31.8 MB/s eta 0:00:01\r     |████▏                           | 3.7 MB 31.8 MB/s eta 0:00:01\r     |████▏                           | 3.7 MB 31.8 MB/s eta 0:00:01\r     |████▏                           | 3.7 MB 31.8 MB/s eta 0:00:01\r     |████▏                           | 3.7 MB 31.8 MB/s eta 0:00:01\r     |████▏                           | 3.7 MB 31.8 MB/s eta 0:00:01\r     |████▏                           | 3.7 MB 31.8 MB/s eta 0:00:01\r     |████▎                           | 3.7 MB 31.8 MB/s eta 0:00:01\r     |████▎                           | 3.8 MB 31.8 MB/s eta 0:00:01\r     |████▎                           | 3.8 MB 31.8 MB/s eta 0:00:01\r     |████▎                           | 3.8 MB 31.8 MB/s eta 0:00:01\r     |████▎                           | 3.8 MB 31.8 MB/s eta 0:00:01\r     |████▎                           | 3.8 MB 31.8 MB/s eta 0:00:01\r     |████▎                           | 3.8 MB 31.8 MB/s eta 0:00:01\r     |████▎                           | 3.8 MB 31.8 MB/s eta 0:00:01\r     |████▎                           | 3.8 MB 31.8 MB/s eta 0:00:01\r     |████▎                           | 3.8 MB 31.8 MB/s eta 0:00:01\r     |████▍                           | 3.9 MB 31.8 MB/s eta 0:00:01\r     |████▍                           | 3.9 MB 31.8 MB/s eta 0:00:01\r     |████▍                           | 3.9 MB 31.8 MB/s eta 0:00:01\r     |████▍                           | 3.9 MB 31.8 MB/s eta 0:00:01\r     |████▍                           | 3.9 MB 31.8 MB/s eta 0:00:01\r     |████▍                           | 3.9 MB 31.8 MB/s eta 0:00:01\r     |████▍                           | 3.9 MB 31.8 MB/s eta 0:00:01\r     |████▍                           | 3.9 MB 31.8 MB/s eta 0:00:01\r     |████▍                           | 3.9 MB 31.8 MB/s eta 0:00:01\r     |████▌                           | 3.9 MB 31.8 MB/s eta 0:00:01\r     |████▌                           | 4.0 MB 31.8 MB/s eta 0:00:01\r     |████▌                           | 4.0 MB 31.8 MB/s eta 0:00:01\r     |████▌                           | 4.0 MB 31.8 MB/s eta 0:00:01\r     |████▌                           | 4.0 MB 31.8 MB/s eta 0:00:01\r     |████▌                           | 4.0 MB 31.8 MB/s eta 0:00:01\r     |████▌                           | 4.0 MB 31.8 MB/s eta 0:00:01\r     |████▌                           | 4.0 MB 31.8 MB/s eta 0:00:01\r     |████▌                           | 4.0 MB 31.8 MB/s eta 0:00:01\r     |████▌                           | 4.0 MB 31.8 MB/s eta 0:00:01\r     |████▋                           | 4.0 MB 31.8 MB/s eta 0:00:01\r     |████▋                           | 4.1 MB 31.8 MB/s eta 0:00:01\r     |████▋                           | 4.1 MB 31.8 MB/s eta 0:00:01\r     |████▋                           | 4.1 MB 31.8 MB/s eta 0:00:01\r     |████▋                           | 4.1 MB 31.8 MB/s eta 0:00:01\r     |████▋                           | 4.1 MB 31.8 MB/s eta 0:00:01\r     |████▋                           | 4.1 MB 31.8 MB/s eta 0:00:01\r     |████▋                           | 4.1 MB 31.8 MB/s eta 0:00:01\r     |████▋                           | 4.1 MB 31.8 MB/s eta 0:00:01\r     |████▋                           | 4.1 MB 31.8 MB/s eta 0:00:01\r     |████▊                           | 4.1 MB 31.8 MB/s eta 0:00:01\r     |████▊                           | 4.2 MB 31.8 MB/s eta 0:00:01\r     |████▊                           | 4.2 MB 31.8 MB/s eta 0:00:01\r     |████▊                           | 4.2 MB 31.8 MB/s eta 0:00:01\r     |████▊                           | 4.2 MB 31.8 MB/s eta 0:00:01\r     |████▊                           | 4.2 MB 31.8 MB/s eta 0:00:01\r     |████▊                           | 4.2 MB 31.8 MB/s eta 0:00:01\r     |████▊                           | 4.2 MB 31.8 MB/s eta 0:00:01\r     |████▊                           | 4.2 MB 31.8 MB/s eta 0:00:01\r     |████▉                           | 4.2 MB 31.8 MB/s eta 0:00:01\r     |████▉                           | 4.2 MB 31.8 MB/s eta 0:00:01\r     |████▉                           | 4.3 MB 31.8 MB/s eta 0:00:01\r     |████▉                           | 4.3 MB 31.8 MB/s eta 0:00:01\r     |████▉                           | 4.3 MB 31.8 MB/s eta 0:00:01\r     |████▉                           | 4.3 MB 31.8 MB/s eta 0:00:01\r     |████▉                           | 4.3 MB 31.8 MB/s eta 0:00:01\r     |████▉                           | 4.3 MB 31.8 MB/s eta 0:00:01\r     |████▉                           | 4.3 MB 31.8 MB/s eta 0:00:01\r     |████▉                           | 4.3 MB 31.8 MB/s eta 0:00:01\r     |█████                           | 4.3 MB 31.8 MB/s eta 0:00:01\r     |█████                           | 4.4 MB 31.8 MB/s eta 0:00:01\r     |█████                           | 4.4 MB 31.8 MB/s eta 0:00:01\r     |█████                           | 4.4 MB 31.8 MB/s eta 0:00:01\r     |█████                           | 4.4 MB 31.8 MB/s eta 0:00:01\r     |█████                           | 4.4 MB 31.8 MB/s eta 0:00:01\r     |█████                           | 4.4 MB 31.8 MB/s eta 0:00:01\r     |█████                           | 4.4 MB 31.8 MB/s eta 0:00:01\r     |█████                           | 4.4 MB 31.8 MB/s eta 0:00:01\r     |█████                           | 4.4 MB 31.8 MB/s eta 0:00:01\r     |█████                           | 4.4 MB 31.8 MB/s eta 0:00:01\r     |█████                           | 4.5 MB 31.8 MB/s eta 0:00:01\r     |█████                           | 4.5 MB 31.8 MB/s eta 0:00:01\r     |█████                           | 4.5 MB 31.8 MB/s eta 0:00:01\r     |█████                           | 4.5 MB 31.8 MB/s eta 0:00:01\r     |█████                           | 4.5 MB 31.8 MB/s eta 0:00:01\r     |█████                           | 4.5 MB 31.8 MB/s eta 0:00:01\r     |█████                           | 4.5 MB 31.8 MB/s eta 0:00:01\r     |█████                           | 4.5 MB 31.8 MB/s eta 0:00:01\r     |█████▏                          | 4.5 MB 31.8 MB/s eta 0:00:01\r     |█████▏                          | 4.5 MB 31.8 MB/s eta 0:00:01\r     |█████▏                          | 4.6 MB 31.8 MB/s eta 0:00:01\r     |█████▏                          | 4.6 MB 31.8 MB/s eta 0:00:01\r     |█████▏                          | 4.6 MB 31.8 MB/s eta 0:00:01\r     |█████▏                          | 4.6 MB 31.8 MB/s eta 0:00:01\r     |█████▏                          | 4.6 MB 31.8 MB/s eta 0:00:01\r     |█████▏                          | 4.6 MB 31.8 MB/s eta 0:00:01\r     |█████▏                          | 4.6 MB 31.8 MB/s eta 0:00:01\r     |█████▏                          | 4.6 MB 31.8 MB/s eta 0:00:01\r     |█████▎                          | 4.6 MB 31.8 MB/s eta 0:00:01\r     |█████▎                          | 4.6 MB 31.8 MB/s eta 0:00:01\r     |█████▎                          | 4.7 MB 31.8 MB/s eta 0:00:01\r     |█████▎                          | 4.7 MB 31.8 MB/s eta 0:00:01\r     |█████▎                          | 4.7 MB 31.8 MB/s eta 0:00:01\r     |█████▎                          | 4.7 MB 31.8 MB/s eta 0:00:01\r     |█████▎                          | 4.7 MB 31.8 MB/s eta 0:00:01\r     |█████▎                          | 4.7 MB 31.8 MB/s eta 0:00:01\r     |█████▎                          | 4.7 MB 31.8 MB/s eta 0:00:01\r     |█████▍                          | 4.7 MB 31.8 MB/s eta 0:00:01\r     |█████▍                          | 4.7 MB 31.8 MB/s eta 0:00:01\r     |█████▍                          | 4.8 MB 31.8 MB/s eta 0:00:01\r     |█████▍                          | 4.8 MB 31.8 MB/s eta 0:00:01\r     |█████▍                          | 4.8 MB 31.8 MB/s eta 0:00:01\r     |█████▍                          | 4.8 MB 31.8 MB/s eta 0:00:01\r     |█████▍                          | 4.8 MB 31.8 MB/s eta 0:00:01\r     |█████▍                          | 4.8 MB 31.8 MB/s eta 0:00:01\r     |█████▍                          | 4.8 MB 31.8 MB/s eta 0:00:01\r     |█████▍                          | 4.8 MB 31.8 MB/s eta 0:00:01\r     |█████▌                          | 4.8 MB 31.8 MB/s eta 0:00:01\r     |█████▌                          | 4.8 MB 31.8 MB/s eta 0:00:01\r     |█████▌                          | 4.9 MB 31.8 MB/s eta 0:00:01\r     |█████▌                          | 4.9 MB 31.8 MB/s eta 0:00:01\r     |█████▌                          | 4.9 MB 31.8 MB/s eta 0:00:01\r     |█████▌                          | 4.9 MB 31.8 MB/s eta 0:00:01\r     |█████▌                          | 4.9 MB 31.8 MB/s eta 0:00:01\r     |█████▌                          | 4.9 MB 31.8 MB/s eta 0:00:01\r     |█████▌                          | 4.9 MB 31.8 MB/s eta 0:00:01\r     |█████▋                          | 4.9 MB 31.8 MB/s eta 0:00:01\r     |█████▋                          | 4.9 MB 31.8 MB/s eta 0:00:01\r     |█████▋                          | 4.9 MB 31.8 MB/s eta 0:00:01\r     |█████▋                          | 5.0 MB 31.8 MB/s eta 0:00:01\r     |█████▋                          | 5.0 MB 31.8 MB/s eta 0:00:01\r     |█████▋                          | 5.0 MB 31.8 MB/s eta 0:00:01\r     |█████▋                          | 5.0 MB 31.8 MB/s eta 0:00:01\r     |█████▋                          | 5.0 MB 31.8 MB/s eta 0:00:01\r     |█████▋                          | 5.0 MB 31.8 MB/s eta 0:00:01\r     |█████▋                          | 5.0 MB 31.8 MB/s eta 0:00:01\r     |█████▊                          | 5.0 MB 31.8 MB/s eta 0:00:01\r     |█████▊                          | 5.0 MB 31.8 MB/s eta 0:00:01\r     |█████▊                          | 5.0 MB 31.8 MB/s eta 0:00:01\r     |█████▊                          | 5.1 MB 31.8 MB/s eta 0:00:01\r     |█████▊                          | 5.1 MB 31.8 MB/s eta 0:00:01\r     |█████▊                          | 5.1 MB 31.8 MB/s eta 0:00:01\r     |█████▊                          | 5.1 MB 31.8 MB/s eta 0:00:01\r     |█████▊                          | 5.1 MB 31.8 MB/s eta 0:00:01\r     |█████▊                          | 5.1 MB 31.8 MB/s eta 0:00:01\r     |█████▊                          | 5.1 MB 31.8 MB/s eta 0:00:01\r     |█████▉                          | 5.1 MB 31.8 MB/s eta 0:00:01\r     |█████▉                          | 5.1 MB 31.8 MB/s eta 0:00:01\r     |█████▉                          | 5.2 MB 31.8 MB/s eta 0:00:01\r     |█████▉                          | 5.2 MB 31.8 MB/s eta 0:00:01\r     |█████▉                          | 5.2 MB 31.8 MB/s eta 0:00:01\r     |█████▉                          | 5.2 MB 31.8 MB/s eta 0:00:01\r     |█████▉                          | 5.2 MB 31.8 MB/s eta 0:00:01\r     |█████▉                          | 5.2 MB 31.8 MB/s eta 0:00:01\r     |█████▉                          | 5.2 MB 31.8 MB/s eta 0:00:01\r     |██████                          | 5.2 MB 31.8 MB/s eta 0:00:01\r     |██████                          | 5.2 MB 31.8 MB/s eta 0:00:01\r     |██████                          | 5.2 MB 31.8 MB/s eta 0:00:01\r     |██████                          | 5.3 MB 31.8 MB/s eta 0:00:01\r     |██████                          | 5.3 MB 31.8 MB/s eta 0:00:01\r     |██████                          | 5.3 MB 31.8 MB/s eta 0:00:01\r     |██████                          | 5.3 MB 31.8 MB/s eta 0:00:01\r     |██████                          | 5.3 MB 31.8 MB/s eta 0:00:01\r     |██████                          | 5.3 MB 31.8 MB/s eta 0:00:01\r     |██████                          | 5.3 MB 31.8 MB/s eta 0:00:01\r     |██████                          | 5.3 MB 31.8 MB/s eta 0:00:01\r     |██████                          | 5.3 MB 31.8 MB/s eta 0:00:01\r     |██████                          | 5.3 MB 31.8 MB/s eta 0:00:01\r     |██████                          | 5.4 MB 31.8 MB/s eta 0:00:01\r     |██████                          | 5.4 MB 31.8 MB/s eta 0:00:01\r     |██████                          | 5.4 MB 31.8 MB/s eta 0:00:01\r     |██████                          | 5.4 MB 31.8 MB/s eta 0:00:01\r     |██████                          | 5.4 MB 31.8 MB/s eta 0:00:01\r     |██████                          | 5.4 MB 31.8 MB/s eta 0:00:01\r     |██████                          | 5.4 MB 31.8 MB/s eta 0:00:01\r     |██████▏                         | 5.4 MB 31.8 MB/s eta 0:00:01\r     |██████▏                         | 5.4 MB 31.8 MB/s eta 0:00:01\r     |██████▏                         | 5.4 MB 31.8 MB/s eta 0:00:01\r     |██████▏                         | 5.5 MB 31.8 MB/s eta 0:00:01\r     |██████▏                         | 5.5 MB 31.8 MB/s eta 0:00:01\r     |██████▏                         | 5.5 MB 31.8 MB/s eta 0:00:01\r     |██████▏                         | 5.5 MB 31.8 MB/s eta 0:00:01\r     |██████▏                         | 5.5 MB 31.8 MB/s eta 0:00:01\r     |██████▏                         | 5.5 MB 31.8 MB/s eta 0:00:01\r     |██████▎                         | 5.5 MB 31.8 MB/s eta 0:00:01\r     |██████▎                         | 5.5 MB 31.8 MB/s eta 0:00:01\r     |██████▎                         | 5.5 MB 31.8 MB/s eta 0:00:01\r     |██████▎                         | 5.6 MB 31.8 MB/s eta 0:00:01\r     |██████▎                         | 5.6 MB 31.8 MB/s eta 0:00:01\r     |██████▎                         | 5.6 MB 31.8 MB/s eta 0:00:01\r     |██████▎                         | 5.6 MB 31.8 MB/s eta 0:00:01\r     |██████▎                         | 5.6 MB 31.8 MB/s eta 0:00:01\r     |██████▎                         | 5.6 MB 31.8 MB/s eta 0:00:01\r     |██████▎                         | 5.6 MB 31.8 MB/s eta 0:00:01\r     |██████▍                         | 5.6 MB 31.8 MB/s eta 0:00:01\r     |██████▍                         | 5.6 MB 31.8 MB/s eta 0:00:01\r     |██████▍                         | 5.6 MB 31.8 MB/s eta 0:00:01\r     |██████▍                         | 5.7 MB 31.8 MB/s eta 0:00:01\r     |██████▍                         | 5.7 MB 31.8 MB/s eta 0:00:01\r     |██████▍                         | 5.7 MB 31.8 MB/s eta 0:00:01\r     |██████▍                         | 5.7 MB 31.8 MB/s eta 0:00:01\r     |██████▍                         | 5.7 MB 31.8 MB/s eta 0:00:01\r     |██████▍                         | 5.7 MB 31.8 MB/s eta 0:00:01\r     |██████▌                         | 5.7 MB 31.8 MB/s eta 0:00:01\r     |██████▌                         | 5.7 MB 31.8 MB/s eta 0:00:01\r     |██████▌                         | 5.7 MB 31.8 MB/s eta 0:00:01\r     |██████▌                         | 5.7 MB 31.8 MB/s eta 0:00:01\r     |██████▌                         | 5.8 MB 31.8 MB/s eta 0:00:01\r     |██████▌                         | 5.8 MB 31.8 MB/s eta 0:00:01\r     |██████▌                         | 5.8 MB 31.8 MB/s eta 0:00:01\r     |██████▌                         | 5.8 MB 31.8 MB/s eta 0:00:01\r     |██████▌                         | 5.8 MB 31.8 MB/s eta 0:00:01\r     |██████▌                         | 5.8 MB 31.8 MB/s eta 0:00:01\r     |██████▋                         | 5.8 MB 31.8 MB/s eta 0:00:01\r     |██████▋                         | 5.8 MB 31.8 MB/s eta 0:00:01\r     |██████▋                         | 5.8 MB 31.8 MB/s eta 0:00:01\r     |██████▋                         | 5.8 MB 31.8 MB/s eta 0:00:01\r     |██████▋                         | 5.9 MB 31.8 MB/s eta 0:00:01\r     |██████▋                         | 5.9 MB 31.8 MB/s eta 0:00:01\r     |██████▋                         | 5.9 MB 31.8 MB/s eta 0:00:01\r     |██████▋                         | 5.9 MB 31.8 MB/s eta 0:00:01\r     |██████▋                         | 5.9 MB 31.8 MB/s eta 0:00:01\r     |██████▋                         | 5.9 MB 31.8 MB/s eta 0:00:01\r     |██████▊                         | 5.9 MB 31.8 MB/s eta 0:00:01\r     |██████▊                         | 5.9 MB 31.8 MB/s eta 0:00:01\r     |██████▊                         | 5.9 MB 31.8 MB/s eta 0:00:01\r     |██████▊                         | 5.9 MB 31.8 MB/s eta 0:00:01\r     |██████▊                         | 6.0 MB 31.8 MB/s eta 0:00:01\r     |██████▊                         | 6.0 MB 31.8 MB/s eta 0:00:01\r     |██████▊                         | 6.0 MB 31.8 MB/s eta 0:00:01\r     |██████▊                         | 6.0 MB 31.8 MB/s eta 0:00:01\r     |██████▊                         | 6.0 MB 31.8 MB/s eta 0:00:01\r     |██████▉                         | 6.0 MB 31.8 MB/s eta 0:00:01\r     |██████▉                         | 6.0 MB 31.8 MB/s eta 0:00:01\r     |██████▉                         | 6.0 MB 31.8 MB/s eta 0:00:01\r     |██████▉                         | 6.0 MB 31.8 MB/s eta 0:00:01\r     |██████▉                         | 6.1 MB 31.8 MB/s eta 0:00:01\r     |██████▉                         | 6.1 MB 31.8 MB/s eta 0:00:01\r     |██████▉                         | 6.1 MB 31.8 MB/s eta 0:00:01\r     |██████▉                         | 6.1 MB 31.8 MB/s eta 0:00:01\r     |██████▉                         | 6.1 MB 31.8 MB/s eta 0:00:01\r     |██████▉                         | 6.1 MB 31.8 MB/s eta 0:00:01\r     |███████                         | 6.1 MB 31.8 MB/s eta 0:00:01\r     |███████                         | 6.1 MB 31.8 MB/s eta 0:00:01\r     |███████                         | 6.1 MB 31.8 MB/s eta 0:00:01\r     |███████                         | 6.1 MB 31.8 MB/s eta 0:00:01\r     |███████                         | 6.2 MB 31.8 MB/s eta 0:00:01\r     |███████                         | 6.2 MB 31.8 MB/s eta 0:00:01\r     |███████                         | 6.2 MB 31.8 MB/s eta 0:00:01\r     |███████                         | 6.2 MB 31.8 MB/s eta 0:00:01\r     |███████                         | 6.2 MB 31.8 MB/s eta 0:00:01\r     |███████                         | 6.2 MB 31.8 MB/s eta 0:00:01\r     |███████                         | 6.2 MB 31.8 MB/s eta 0:00:01\r     |███████                         | 6.2 MB 31.8 MB/s eta 0:00:01\r     |███████                         | 6.2 MB 31.8 MB/s eta 0:00:01\r     |███████                         | 6.2 MB 31.8 MB/s eta 0:00:01\r     |███████                         | 6.3 MB 31.8 MB/s eta 0:00:01\r     |███████                         | 6.3 MB 31.8 MB/s eta 0:00:01\r     |███████                         | 6.3 MB 31.8 MB/s eta 0:00:01\r     |███████                         | 6.3 MB 31.8 MB/s eta 0:00:01\r     |███████                         | 6.3 MB 31.8 MB/s eta 0:00:01\r     |███████▏                        | 6.3 MB 31.8 MB/s eta 0:00:01\r     |███████▏                        | 6.3 MB 31.8 MB/s eta 0:00:01\r     |███████▏                        | 6.3 MB 31.8 MB/s eta 0:00:01\r     |███████▏                        | 6.3 MB 31.8 MB/s eta 0:00:01\r     |███████▏                        | 6.3 MB 31.8 MB/s eta 0:00:01\r     |███████▏                        | 6.4 MB 31.8 MB/s eta 0:00:01\r     |███████▏                        | 6.4 MB 31.8 MB/s eta 0:00:01\r     |███████▏                        | 6.4 MB 31.8 MB/s eta 0:00:01\r     |███████▏                        | 6.4 MB 31.8 MB/s eta 0:00:01\r     |███████▏                        | 6.4 MB 31.8 MB/s eta 0:00:01\r     |███████▎                        | 6.4 MB 31.8 MB/s eta 0:00:01\r     |███████▎                        | 6.4 MB 31.8 MB/s eta 0:00:01\r     |███████▎                        | 6.4 MB 31.8 MB/s eta 0:00:01\r     |███████▎                        | 6.4 MB 31.8 MB/s eta 0:00:01\r     |███████▎                        | 6.5 MB 31.8 MB/s eta 0:00:01\r     |███████▎                        | 6.5 MB 31.8 MB/s eta 0:00:01\r     |███████▎                        | 6.5 MB 31.8 MB/s eta 0:00:01\r     |███████▎                        | 6.5 MB 31.8 MB/s eta 0:00:01\r     |███████▎                        | 6.5 MB 31.8 MB/s eta 0:00:01\r     |███████▍                        | 6.5 MB 31.8 MB/s eta 0:00:01\r     |███████▍                        | 6.5 MB 31.8 MB/s eta 0:00:01\r     |███████▍                        | 6.5 MB 31.8 MB/s eta 0:00:01\r     |███████▍                        | 6.5 MB 31.8 MB/s eta 0:00:01\r     |███████▍                        | 6.5 MB 31.8 MB/s eta 0:00:01\r     |███████▍                        | 6.6 MB 31.8 MB/s eta 0:00:01\r     |███████▍                        | 6.6 MB 31.8 MB/s eta 0:00:01\r     |███████▍                        | 6.6 MB 31.8 MB/s eta 0:00:01\r     |███████▍                        | 6.6 MB 31.8 MB/s eta 0:00:01\r     |███████▍                        | 6.6 MB 31.8 MB/s eta 0:00:01\r     |███████▌                        | 6.6 MB 31.8 MB/s eta 0:00:01\r     |███████▌                        | 6.6 MB 31.8 MB/s eta 0:00:01\r     |███████▌                        | 6.6 MB 31.8 MB/s eta 0:00:01\r     |███████▌                        | 6.6 MB 31.8 MB/s eta 0:00:01\r     |███████▌                        | 6.6 MB 31.8 MB/s eta 0:00:01\r     |███████▌                        | 6.7 MB 31.8 MB/s eta 0:00:01\r     |███████▌                        | 6.7 MB 31.8 MB/s eta 0:00:01\r     |███████▌                        | 6.7 MB 31.8 MB/s eta 0:00:01\r     |███████▌                        | 6.7 MB 31.8 MB/s eta 0:00:01\r     |███████▌                        | 6.7 MB 31.8 MB/s eta 0:00:01\r     |███████▋                        | 6.7 MB 31.8 MB/s eta 0:00:01\r     |███████▋                        | 6.7 MB 31.8 MB/s eta 0:00:01\r     |███████▋                        | 6.7 MB 31.8 MB/s eta 0:00:01\r     |███████▋                        | 6.7 MB 31.8 MB/s eta 0:00:01\r\u001B[\n",
       "*** WARNING: skipped 153860 bytes of output ***\n",
       "\n",
       "████████████████████████████████| 28.4 MB 31.8 MB/s \r\n",
       "Requirement already satisfied: numpy&lt;1.23.0,&gt;=1.16.5 in /databricks/python3/lib/python3.8/site-packages (from scipy==1.7.1) (1.19.2)\r\n",
       "Installing collected packages: scipy\r\n",
       "  Attempting uninstall: scipy\r\n",
       "    Found existing installation: scipy 1.6.2\r\n",
       "    Uninstalling scipy-1.6.2:\r\n",
       "      Successfully uninstalled scipy-1.6.2\r\n",
       "Successfully installed scipy-1.7.1\r\n",
       "<span class=\"ansi-yellow-fg\">WARNING: You are using pip version 21.0.1; however, version 23.3.1 is available.\r\n",
       "You should consider upgrading via the &#39;/databricks/python3/bin/python -m pip install --upgrade pip&#39; command.</span>\r\n",
       "<span class=\"ansi-red-fg\">ERROR: Invalid requirement: &#39;==1.2.2&#39;</span>\r\n",
       "<span class=\"ansi-yellow-fg\">WARNING: You are using pip version 21.0.1; however, version 23.3.1 is available.\r\n",
       "You should consider upgrading via the &#39;/databricks/python3/bin/python -m pip install --upgrade pip&#39; command.</span>\r\n",
       "</div>"
      ]
     },
     "metadata": {
      "application/vnd.databricks.v1+output": {
       "addedWidgets": {},
       "arguments": {},
       "data": "<div class=\"ansiout\">Collecting pycausalimpact\r\n  Downloading pycausalimpact-0.1.1-py2.py3-none-any.whl (30 kB)\r\nRequirement already satisfied: matplotlib&gt;=2.2.3 in /databricks/python3/lib/python3.8/site-packages (from pycausalimpact) (3.4.2)\r\nRequirement already satisfied: scipy in /databricks/python3/lib/python3.8/site-packages (from pycausalimpact) (1.6.2)\r\nRequirement already satisfied: jinja2&gt;=2.10 in /databricks/python3/lib/python3.8/site-packages (from pycausalimpact) (2.11.3)\r\nRequirement already satisfied: statsmodels&gt;=0.11.0 in /databricks/python3/lib/python3.8/site-packages (from pycausalimpact) (0.12.2)\r\nRequirement already satisfied: numpy in /databricks/python3/lib/python3.8/site-packages (from pycausalimpact) (1.19.2)\r\nRequirement already satisfied: MarkupSafe&gt;=0.23 in /databricks/python3/lib/python3.8/site-packages (from jinja2&gt;=2.10-&gt;pycausalimpact) (1.1.1)\r\nRequirement already satisfied: pyparsing&gt;=2.2.1 in /databricks/python3/lib/python3.8/site-packages (from matplotlib&gt;=2.2.3-&gt;pycausalimpact) (2.4.7)\r\nRequirement already satisfied: cycler&gt;=0.10 in /databricks/python3/lib/python3.8/site-packages (from matplotlib&gt;=2.2.3-&gt;pycausalimpact) (0.10.0)\r\nRequirement already satisfied: python-dateutil&gt;=2.7 in /databricks/python3/lib/python3.8/site-packages (from matplotlib&gt;=2.2.3-&gt;pycausalimpact) (2.8.1)\r\nRequirement already satisfied: pillow&gt;=6.2.0 in /databricks/python3/lib/python3.8/site-packages (from matplotlib&gt;=2.2.3-&gt;pycausalimpact) (8.2.0)\r\nRequirement already satisfied: kiwisolver&gt;=1.0.1 in /databricks/python3/lib/python3.8/site-packages (from matplotlib&gt;=2.2.3-&gt;pycausalimpact) (1.3.1)\r\nRequirement already satisfied: six in /databricks/python3/lib/python3.8/site-packages (from cycler&gt;=0.10-&gt;matplotlib&gt;=2.2.3-&gt;pycausalimpact) (1.15.0)\r\nRequirement already satisfied: patsy&gt;=0.5 in /databricks/python3/lib/python3.8/site-packages (from statsmodels&gt;=0.11.0-&gt;pycausalimpact) (0.5.1)\r\nRequirement already satisfied: pandas&gt;=0.21 in /databricks/python3/lib/python3.8/site-packages (from statsmodels&gt;=0.11.0-&gt;pycausalimpact) (1.2.4)\r\nRequirement already satisfied: pytz&gt;=2017.3 in /databricks/python3/lib/python3.8/site-packages (from pandas&gt;=0.21-&gt;statsmodels&gt;=0.11.0-&gt;pycausalimpact) (2020.5)\r\nInstalling collected packages: pycausalimpact\r\nSuccessfully installed pycausalimpact-0.1.1\r\n<span class=\"ansi-yellow-fg\">WARNING: You are using pip version 21.0.1; however, version 23.3.1 is available.\r\nYou should consider upgrading via the &#39;/databricks/python3/bin/python -m pip install --upgrade pip&#39; command.</span>\r\nCollecting scipy==1.7.1\r\n  Downloading scipy-1.7.1-cp38-cp38-manylinux_2_5_x86_64.manylinux1_x86_64.whl (28.4 MB)\r\n\r     |                                | 10 kB 42.3 MB/s eta 0:00:01\r     |                                | 20 kB 52.5 MB/s eta 0:00:01\r     |                                | 30 kB 66.8 MB/s eta 0:00:01\r     |                                | 40 kB 28.6 MB/s eta 0:00:01\r     |                                | 51 kB 24.3 MB/s eta 0:00:02\r     |                                | 61 kB 28.2 MB/s eta 0:00:02\r     |                                | 71 kB 29.8 MB/s eta 0:00:01\r     |                                | 81 kB 27.9 MB/s eta 0:00:02\r     |                                | 92 kB 30.6 MB/s eta 0:00:01\r     |▏                               | 102 kB 31.8 MB/s eta 0:00:01\r     |▏                               | 112 kB 31.8 MB/s eta 0:00:01\r     |▏                               | 122 kB 31.8 MB/s eta 0:00:01\r     |▏                               | 133 kB 31.8 MB/s eta 0:00:01\r     |▏                               | 143 kB 31.8 MB/s eta 0:00:01\r     |▏                               | 153 kB 31.8 MB/s eta 0:00:01\r     |▏                               | 163 kB 31.8 MB/s eta 0:00:01\r     |▏                               | 174 kB 31.8 MB/s eta 0:00:01\r     |▏                               | 184 kB 31.8 MB/s eta 0:00:01\r     |▏                               | 194 kB 31.8 MB/s eta 0:00:01\r     |▎                               | 204 kB 31.8 MB/s eta 0:00:01\r     |▎                               | 215 kB 31.8 MB/s eta 0:00:01\r     |▎                               | 225 kB 31.8 MB/s eta 0:00:01\r     |▎                               | 235 kB 31.8 MB/s eta 0:00:01\r     |▎                               | 245 kB 31.8 MB/s eta 0:00:01\r     |▎                               | 256 kB 31.8 MB/s eta 0:00:01\r     |▎                               | 266 kB 31.8 MB/s eta 0:00:01\r     |▎                               | 276 kB 31.8 MB/s eta 0:00:01\r     |▎                               | 286 kB 31.8 MB/s eta 0:00:01\r     |▍                               | 296 kB 31.8 MB/s eta 0:00:01\r     |▍                               | 307 kB 31.8 MB/s eta 0:00:01\r     |▍                               | 317 kB 31.8 MB/s eta 0:00:01\r     |▍                               | 327 kB 31.8 MB/s eta 0:00:01\r     |▍                               | 337 kB 31.8 MB/s eta 0:00:01\r     |▍                               | 348 kB 31.8 MB/s eta 0:00:01\r     |▍                               | 358 kB 31.8 MB/s eta 0:00:01\r     |▍                               | 368 kB 31.8 MB/s eta 0:00:01\r     |▍                               | 378 kB 31.8 MB/s eta 0:00:01\r     |▍                               | 389 kB 31.8 MB/s eta 0:00:01\r     |▌                               | 399 kB 31.8 MB/s eta 0:00:01\r     |▌                               | 409 kB 31.8 MB/s eta 0:00:01\r     |▌                               | 419 kB 31.8 MB/s eta 0:00:01\r     |▌                               | 430 kB 31.8 MB/s eta 0:00:01\r     |▌                               | 440 kB 31.8 MB/s eta 0:00:01\r     |▌                               | 450 kB 31.8 MB/s eta 0:00:01\r     |▌                               | 460 kB 31.8 MB/s eta 0:00:01\r     |▌                               | 471 kB 31.8 MB/s eta 0:00:01\r     |▌                               | 481 kB 31.8 MB/s eta 0:00:01\r     |▌                               | 491 kB 31.8 MB/s eta 0:00:01\r     |▋                               | 501 kB 31.8 MB/s eta 0:00:01\r     |▋                               | 512 kB 31.8 MB/s eta 0:00:01\r     |▋                               | 522 kB 31.8 MB/s eta 0:00:01\r     |▋                               | 532 kB 31.8 MB/s eta 0:00:01\r     |▋                               | 542 kB 31.8 MB/s eta 0:00:01\r     |▋                               | 552 kB 31.8 MB/s eta 0:00:01\r     |▋                               | 563 kB 31.8 MB/s eta 0:00:01\r     |▋                               | 573 kB 31.8 MB/s eta 0:00:01\r     |▋                               | 583 kB 31.8 MB/s eta 0:00:01\r     |▊                               | 593 kB 31.8 MB/s eta 0:00:01\r     |▊                               | 604 kB 31.8 MB/s eta 0:00:01\r     |▊                               | 614 kB 31.8 MB/s eta 0:00:01\r     |▊                               | 624 kB 31.8 MB/s eta 0:00:01\r     |▊                               | 634 kB 31.8 MB/s eta 0:00:01\r     |▊                               | 645 kB 31.8 MB/s eta 0:00:01\r     |▊                               | 655 kB 31.8 MB/s eta 0:00:01\r     |▊                               | 665 kB 31.8 MB/s eta 0:00:01\r     |▊                               | 675 kB 31.8 MB/s eta 0:00:01\r     |▊                               | 686 kB 31.8 MB/s eta 0:00:01\r     |▉                               | 696 kB 31.8 MB/s eta 0:00:01\r     |▉                               | 706 kB 31.8 MB/s eta 0:00:01\r     |▉                               | 716 kB 31.8 MB/s eta 0:00:01\r     |▉                               | 727 kB 31.8 MB/s eta 0:00:01\r     |▉                               | 737 kB 31.8 MB/s eta 0:00:01\r     |▉                               | 747 kB 31.8 MB/s eta 0:00:01\r     |▉                               | 757 kB 31.8 MB/s eta 0:00:01\r     |▉                               | 768 kB 31.8 MB/s eta 0:00:01\r     |▉                               | 778 kB 31.8 MB/s eta 0:00:01\r     |█                               | 788 kB 31.8 MB/s eta 0:00:01\r     |█                               | 798 kB 31.8 MB/s eta 0:00:01\r     |█                               | 808 kB 31.8 MB/s eta 0:00:01\r     |█                               | 819 kB 31.8 MB/s eta 0:00:01\r     |█                               | 829 kB 31.8 MB/s eta 0:00:01\r     |█                               | 839 kB 31.8 MB/s eta 0:00:01\r     |█                               | 849 kB 31.8 MB/s eta 0:00:01\r     |█                               | 860 kB 31.8 MB/s eta 0:00:01\r     |█                               | 870 kB 31.8 MB/s eta 0:00:01\r     |█                               | 880 kB 31.8 MB/s eta 0:00:01\r     |█                               | 890 kB 31.8 MB/s eta 0:00:01\r     |█                               | 901 kB 31.8 MB/s eta 0:00:01\r     |█                               | 911 kB 31.8 MB/s eta 0:00:01\r     |█                               | 921 kB 31.8 MB/s eta 0:00:01\r     |█                               | 931 kB 31.8 MB/s eta 0:00:01\r     |█                               | 942 kB 31.8 MB/s eta 0:00:01\r     |█                               | 952 kB 31.8 MB/s eta 0:00:01\r     |█                               | 962 kB 31.8 MB/s eta 0:00:01\r     |█                               | 972 kB 31.8 MB/s eta 0:00:01\r     |█                               | 983 kB 31.8 MB/s eta 0:00:01\r     |█▏                              | 993 kB 31.8 MB/s eta 0:00:01\r     |█▏                              | 1.0 MB 31.8 MB/s eta 0:00:01\r     |█▏                              | 1.0 MB 31.8 MB/s eta 0:00:01\r     |█▏                              | 1.0 MB 31.8 MB/s eta 0:00:01\r     |█▏                              | 1.0 MB 31.8 MB/s eta 0:00:01\r     |█▏                              | 1.0 MB 31.8 MB/s eta 0:00:01\r     |█▏                              | 1.1 MB 31.8 MB/s eta 0:00:01\r     |█▏                              | 1.1 MB 31.8 MB/s eta 0:00:01\r     |█▏                              | 1.1 MB 31.8 MB/s eta 0:00:01\r     |█▎                              | 1.1 MB 31.8 MB/s eta 0:00:01\r     |█▎                              | 1.1 MB 31.8 MB/s eta 0:00:01\r     |█▎                              | 1.1 MB 31.8 MB/s eta 0:00:01\r     |█▎                              | 1.1 MB 31.8 MB/s eta 0:00:01\r     |█▎                              | 1.1 MB 31.8 MB/s eta 0:00:01\r     |█▎                              | 1.1 MB 31.8 MB/s eta 0:00:01\r     |█▎                              | 1.1 MB 31.8 MB/s eta 0:00:01\r     |█▎                              | 1.2 MB 31.8 MB/s eta 0:00:01\r     |█▎                              | 1.2 MB 31.8 MB/s eta 0:00:01\r     |█▎                              | 1.2 MB 31.8 MB/s eta 0:00:01\r     |█▍                              | 1.2 MB 31.8 MB/s eta 0:00:01\r     |█▍                              | 1.2 MB 31.8 MB/s eta 0:00:01\r     |█▍                              | 1.2 MB 31.8 MB/s eta 0:00:01\r     |█▍                              | 1.2 MB 31.8 MB/s eta 0:00:01\r     |█▍                              | 1.2 MB 31.8 MB/s eta 0:00:01\r     |█▍                              | 1.2 MB 31.8 MB/s eta 0:00:01\r     |█▍                              | 1.2 MB 31.8 MB/s eta 0:00:01\r     |█▍                              | 1.3 MB 31.8 MB/s eta 0:00:01\r     |█▍                              | 1.3 MB 31.8 MB/s eta 0:00:01\r     |█▍                              | 1.3 MB 31.8 MB/s eta 0:00:01\r     |█▌                              | 1.3 MB 31.8 MB/s eta 0:00:01\r     |█▌                              | 1.3 MB 31.8 MB/s eta 0:00:01\r     |█▌                              | 1.3 MB 31.8 MB/s eta 0:00:01\r     |█▌                              | 1.3 MB 31.8 MB/s eta 0:00:01\r     |█▌                              | 1.3 MB 31.8 MB/s eta 0:00:01\r     |█▌                              | 1.3 MB 31.8 MB/s eta 0:00:01\r     |█▌                              | 1.4 MB 31.8 MB/s eta 0:00:01\r     |█▌                              | 1.4 MB 31.8 MB/s eta 0:00:01\r     |█▌                              | 1.4 MB 31.8 MB/s eta 0:00:01\r     |█▋                              | 1.4 MB 31.8 MB/s eta 0:00:01\r     |█▋                              | 1.4 MB 31.8 MB/s eta 0:00:01\r     |█▋                              | 1.4 MB 31.8 MB/s eta 0:00:01\r     |█▋                              | 1.4 MB 31.8 MB/s eta 0:00:01\r     |█▋                              | 1.4 MB 31.8 MB/s eta 0:00:01\r     |█▋                              | 1.4 MB 31.8 MB/s eta 0:00:01\r     |█▋                              | 1.4 MB 31.8 MB/s eta 0:00:01\r     |█▋                              | 1.5 MB 31.8 MB/s eta 0:00:01\r     |█▋                              | 1.5 MB 31.8 MB/s eta 0:00:01\r     |█▋                              | 1.5 MB 31.8 MB/s eta 0:00:01\r     |█▊                              | 1.5 MB 31.8 MB/s eta 0:00:01\r     |█▊                              | 1.5 MB 31.8 MB/s eta 0:00:01\r     |█▊                              | 1.5 MB 31.8 MB/s eta 0:00:01\r     |█▊                              | 1.5 MB 31.8 MB/s eta 0:00:01\r     |█▊                              | 1.5 MB 31.8 MB/s eta 0:00:01\r     |█▊                              | 1.5 MB 31.8 MB/s eta 0:00:01\r     |█▊                              | 1.5 MB 31.8 MB/s eta 0:00:01\r     |█▊                              | 1.6 MB 31.8 MB/s eta 0:00:01\r     |█▊                              | 1.6 MB 31.8 MB/s eta 0:00:01\r     |█▉                              | 1.6 MB 31.8 MB/s eta 0:00:01\r     |█▉                              | 1.6 MB 31.8 MB/s eta 0:00:01\r     |█▉                              | 1.6 MB 31.8 MB/s eta 0:00:01\r     |█▉                              | 1.6 MB 31.8 MB/s eta 0:00:01\r     |█▉                              | 1.6 MB 31.8 MB/s eta 0:00:01\r     |█▉                              | 1.6 MB 31.8 MB/s eta 0:00:01\r     |█▉                              | 1.6 MB 31.8 MB/s eta 0:00:01\r     |█▉                              | 1.6 MB 31.8 MB/s eta 0:00:01\r     |█▉                              | 1.7 MB 31.8 MB/s eta 0:00:01\r     |█▉                              | 1.7 MB 31.8 MB/s eta 0:00:01\r     |██                              | 1.7 MB 31.8 MB/s eta 0:00:01\r     |██                              | 1.7 MB 31.8 MB/s eta 0:00:01\r     |██                              | 1.7 MB 31.8 MB/s eta 0:00:01\r     |██                              | 1.7 MB 31.8 MB/s eta 0:00:01\r     |██                              | 1.7 MB 31.8 MB/s eta 0:00:01\r     |██                              | 1.7 MB 31.8 MB/s eta 0:00:01\r     |██                              | 1.7 MB 31.8 MB/s eta 0:00:01\r     |██                              | 1.8 MB 31.8 MB/s eta 0:00:01\r     |██                              | 1.8 MB 31.8 MB/s eta 0:00:01\r     |██                              | 1.8 MB 31.8 MB/s eta 0:00:01\r     |██                              | 1.8 MB 31.8 MB/s eta 0:00:01\r     |██                              | 1.8 MB 31.8 MB/s eta 0:00:01\r     |██                              | 1.8 MB 31.8 MB/s eta 0:00:01\r     |██                              | 1.8 MB 31.8 MB/s eta 0:00:01\r     |██                              | 1.8 MB 31.8 MB/s eta 0:00:01\r     |██                              | 1.8 MB 31.8 MB/s eta 0:00:01\r     |██                              | 1.8 MB 31.8 MB/s eta 0:00:01\r     |██                              | 1.9 MB 31.8 MB/s eta 0:00:01\r     |██                              | 1.9 MB 31.8 MB/s eta 0:00:01\r     |██▏                             | 1.9 MB 31.8 MB/s eta 0:00:01\r     |██▏                             | 1.9 MB 31.8 MB/s eta 0:00:01\r     |██▏                             | 1.9 MB 31.8 MB/s eta 0:00:01\r     |██▏                             | 1.9 MB 31.8 MB/s eta 0:00:01\r     |██▏                             | 1.9 MB 31.8 MB/s eta 0:00:01\r     |██▏                             | 1.9 MB 31.8 MB/s eta 0:00:01\r     |██▏                             | 1.9 MB 31.8 MB/s eta 0:00:01\r     |██▏                             | 1.9 MB 31.8 MB/s eta 0:00:01\r     |██▏                             | 2.0 MB 31.8 MB/s eta 0:00:01\r     |██▏                             | 2.0 MB 31.8 MB/s eta 0:00:01\r     |██▎                             | 2.0 MB 31.8 MB/s eta 0:00:01\r     |██▎                             | 2.0 MB 31.8 MB/s eta 0:00:01\r     |██▎                             | 2.0 MB 31.8 MB/s eta 0:00:01\r     |██▎                             | 2.0 MB 31.8 MB/s eta 0:00:01\r     |██▎                             | 2.0 MB 31.8 MB/s eta 0:00:01\r     |██▎                             | 2.0 MB 31.8 MB/s eta 0:00:01\r     |██▎                             | 2.0 MB 31.8 MB/s eta 0:00:01\r     |██▎                             | 2.0 MB 31.8 MB/s eta 0:00:01\r     |██▎                             | 2.1 MB 31.8 MB/s eta 0:00:01\r     |██▎                             | 2.1 MB 31.8 MB/s eta 0:00:01\r     |██▍                             | 2.1 MB 31.8 MB/s eta 0:00:01\r     |██▍                             | 2.1 MB 31.8 MB/s eta 0:00:01\r     |██▍                             | 2.1 MB 31.8 MB/s eta 0:00:01\r     |██▍                             | 2.1 MB 31.8 MB/s eta 0:00:01\r     |██▍                             | 2.1 MB 31.8 MB/s eta 0:00:01\r     |██▍                             | 2.1 MB 31.8 MB/s eta 0:00:01\r     |██▍                             | 2.1 MB 31.8 MB/s eta 0:00:01\r     |██▍                             | 2.2 MB 31.8 MB/s eta 0:00:01\r     |██▍                             | 2.2 MB 31.8 MB/s eta 0:00:01\r     |██▌                             | 2.2 MB 31.8 MB/s eta 0:00:01\r     |██▌                             | 2.2 MB 31.8 MB/s eta 0:00:01\r     |██▌                             | 2.2 MB 31.8 MB/s eta 0:00:01\r     |██▌                             | 2.2 MB 31.8 MB/s eta 0:00:01\r     |██▌                             | 2.2 MB 31.8 MB/s eta 0:00:01\r     |██▌                             | 2.2 MB 31.8 MB/s eta 0:00:01\r     |██▌                             | 2.2 MB 31.8 MB/s eta 0:00:01\r     |██▌                             | 2.2 MB 31.8 MB/s eta 0:00:01\r     |██▌                             | 2.3 MB 31.8 MB/s eta 0:00:01\r     |██▌                             | 2.3 MB 31.8 MB/s eta 0:00:01\r     |██▋                             | 2.3 MB 31.8 MB/s eta 0:00:01\r     |██▋                             | 2.3 MB 31.8 MB/s eta 0:00:01\r     |██▋                             | 2.3 MB 31.8 MB/s eta 0:00:01\r     |██▋                             | 2.3 MB 31.8 MB/s eta 0:00:01\r     |██▋                             | 2.3 MB 31.8 MB/s eta 0:00:01\r     |██▋                             | 2.3 MB 31.8 MB/s eta 0:00:01\r     |██▋                             | 2.3 MB 31.8 MB/s eta 0:00:01\r     |██▋                             | 2.3 MB 31.8 MB/s eta 0:00:01\r     |██▋                             | 2.4 MB 31.8 MB/s eta 0:00:01\r     |██▊                             | 2.4 MB 31.8 MB/s eta 0:00:01\r     |██▊                             | 2.4 MB 31.8 MB/s eta 0:00:01\r     |██▊                             | 2.4 MB 31.8 MB/s eta 0:00:01\r     |██▊                             | 2.4 MB 31.8 MB/s eta 0:00:01\r     |██▊                             | 2.4 MB 31.8 MB/s eta 0:00:01\r     |██▊                             | 2.4 MB 31.8 MB/s eta 0:00:01\r     |██▊                             | 2.4 MB 31.8 MB/s eta 0:00:01\r     |██▊                             | 2.4 MB 31.8 MB/s eta 0:00:01\r     |██▊                             | 2.4 MB 31.8 MB/s eta 0:00:01\r     |██▊                             | 2.5 MB 31.8 MB/s eta 0:00:01\r     |██▉                             | 2.5 MB 31.8 MB/s eta 0:00:01\r     |██▉                             | 2.5 MB 31.8 MB/s eta 0:00:01\r     |██▉                             | 2.5 MB 31.8 MB/s eta 0:00:01\r     |██▉                             | 2.5 MB 31.8 MB/s eta 0:00:01\r     |██▉                             | 2.5 MB 31.8 MB/s eta 0:00:01\r     |██▉                             | 2.5 MB 31.8 MB/s eta 0:00:01\r     |██▉                             | 2.5 MB 31.8 MB/s eta 0:00:01\r     |██▉                             | 2.5 MB 31.8 MB/s eta 0:00:01\r     |██▉                             | 2.5 MB 31.8 MB/s eta 0:00:01\r     |██▉                             | 2.6 MB 31.8 MB/s eta 0:00:01\r     |███                             | 2.6 MB 31.8 MB/s eta 0:00:01\r     |███                             | 2.6 MB 31.8 MB/s eta 0:00:01\r     |███                             | 2.6 MB 31.8 MB/s eta 0:00:01\r     |███                             | 2.6 MB 31.8 MB/s eta 0:00:01\r     |███                             | 2.6 MB 31.8 MB/s eta 0:00:01\r     |███                             | 2.6 MB 31.8 MB/s eta 0:00:01\r     |███                             | 2.6 MB 31.8 MB/s eta 0:00:01\r     |███                             | 2.6 MB 31.8 MB/s eta 0:00:01\r     |███                             | 2.7 MB 31.8 MB/s eta 0:00:01\r     |███                             | 2.7 MB 31.8 MB/s eta 0:00:01\r     |███                             | 2.7 MB 31.8 MB/s eta 0:00:01\r     |███                             | 2.7 MB 31.8 MB/s eta 0:00:01\r     |███                             | 2.7 MB 31.8 MB/s eta 0:00:01\r     |███                             | 2.7 MB 31.8 MB/s eta 0:00:01\r     |███                             | 2.7 MB 31.8 MB/s eta 0:00:01\r     |███                             | 2.7 MB 31.8 MB/s eta 0:00:01\r     |███                             | 2.7 MB 31.8 MB/s eta 0:00:01\r     |███                             | 2.7 MB 31.8 MB/s eta 0:00:01\r     |███                             | 2.8 MB 31.8 MB/s eta 0:00:01\r     |███▏                            | 2.8 MB 31.8 MB/s eta 0:00:01\r     |███▏                            | 2.8 MB 31.8 MB/s eta 0:00:01\r     |███▏                            | 2.8 MB 31.8 MB/s eta 0:00:01\r     |███▏                            | 2.8 MB 31.8 MB/s eta 0:00:01\r     |███▏                            | 2.8 MB 31.8 MB/s eta 0:00:01\r     |███▏                            | 2.8 MB 31.8 MB/s eta 0:00:01\r     |███▏                            | 2.8 MB 31.8 MB/s eta 0:00:01\r     |███▏                            | 2.8 MB 31.8 MB/s eta 0:00:01\r     |███▏                            | 2.8 MB 31.8 MB/s eta 0:00:01\r     |███▎                            | 2.9 MB 31.8 MB/s eta 0:00:01\r     |███▎                            | 2.9 MB 31.8 MB/s eta 0:00:01\r     |███▎                            | 2.9 MB 31.8 MB/s eta 0:00:01\r     |███▎                            | 2.9 MB 31.8 MB/s eta 0:00:01\r     |███▎                            | 2.9 MB 31.8 MB/s eta 0:00:01\r     |███▎                            | 2.9 MB 31.8 MB/s eta 0:00:01\r     |███▎                            | 2.9 MB 31.8 MB/s eta 0:00:01\r     |███▎                            | 2.9 MB 31.8 MB/s eta 0:00:01\r     |███▎                            | 2.9 MB 31.8 MB/s eta 0:00:01\r     |███▎                            | 2.9 MB 31.8 MB/s eta 0:00:01\r     |███▍                            | 3.0 MB 31.8 MB/s eta 0:00:01\r     |███▍                            | 3.0 MB 31.8 MB/s eta 0:00:01\r     |███▍                            | 3.0 MB 31.8 MB/s eta 0:00:01\r     |███▍                            | 3.0 MB 31.8 MB/s eta 0:00:01\r     |███▍                            | 3.0 MB 31.8 MB/s eta 0:00:01\r     |███▍                            | 3.0 MB 31.8 MB/s eta 0:00:01\r     |███▍                            | 3.0 MB 31.8 MB/s eta 0:00:01\r     |███▍                            | 3.0 MB 31.8 MB/s eta 0:00:01\r     |███▍                            | 3.0 MB 31.8 MB/s eta 0:00:01\r     |███▍                            | 3.1 MB 31.8 MB/s eta 0:00:01\r     |███▌                            | 3.1 MB 31.8 MB/s eta 0:00:01\r     |███▌                            | 3.1 MB 31.8 MB/s eta 0:00:01\r     |███▌                            | 3.1 MB 31.8 MB/s eta 0:00:01\r     |███▌                            | 3.1 MB 31.8 MB/s eta 0:00:01\r     |███▌                            | 3.1 MB 31.8 MB/s eta 0:00:01\r     |███▌                            | 3.1 MB 31.8 MB/s eta 0:00:01\r     |███▌                            | 3.1 MB 31.8 MB/s eta 0:00:01\r     |███▌                            | 3.1 MB 31.8 MB/s eta 0:00:01\r     |███▌                            | 3.1 MB 31.8 MB/s eta 0:00:01\r     |███▋                            | 3.2 MB 31.8 MB/s eta 0:00:01\r     |███▋                            | 3.2 MB 31.8 MB/s eta 0:00:01\r     |███▋                            | 3.2 MB 31.8 MB/s eta 0:00:01\r     |███▋                            | 3.2 MB 31.8 MB/s eta 0:00:01\r     |███▋                            | 3.2 MB 31.8 MB/s eta 0:00:01\r     |███▋                            | 3.2 MB 31.8 MB/s eta 0:00:01\r     |███▋                            | 3.2 MB 31.8 MB/s eta 0:00:01\r     |███▋                            | 3.2 MB 31.8 MB/s eta 0:00:01\r     |███▋                            | 3.2 MB 31.8 MB/s eta 0:00:01\r     |███▋                            | 3.2 MB 31.8 MB/s eta 0:00:01\r     |███▊                            | 3.3 MB 31.8 MB/s eta 0:00:01\r     |███▊                            | 3.3 MB 31.8 MB/s eta 0:00:01\r     |███▊                            | 3.3 MB 31.8 MB/s eta 0:00:01\r     |███▊                            | 3.3 MB 31.8 MB/s eta 0:00:01\r     |███▊                            | 3.3 MB 31.8 MB/s eta 0:00:01\r     |███▊                            | 3.3 MB 31.8 MB/s eta 0:00:01\r     |███▊                            | 3.3 MB 31.8 MB/s eta 0:00:01\r     |███▊                            | 3.3 MB 31.8 MB/s eta 0:00:01\r     |███▊                            | 3.3 MB 31.8 MB/s eta 0:00:01\r     |███▊                            | 3.3 MB 31.8 MB/s eta 0:00:01\r     |███▉                            | 3.4 MB 31.8 MB/s eta 0:00:01\r     |███▉                            | 3.4 MB 31.8 MB/s eta 0:00:01\r     |███▉                            | 3.4 MB 31.8 MB/s eta 0:00:01\r     |███▉                            | 3.4 MB 31.8 MB/s eta 0:00:01\r     |███▉                            | 3.4 MB 31.8 MB/s eta 0:00:01\r     |███▉                            | 3.4 MB 31.8 MB/s eta 0:00:01\r     |███▉                            | 3.4 MB 31.8 MB/s eta 0:00:01\r     |███▉                            | 3.4 MB 31.8 MB/s eta 0:00:01\r     |███▉                            | 3.4 MB 31.8 MB/s eta 0:00:01\r     |████                            | 3.5 MB 31.8 MB/s eta 0:00:01\r     |████                            | 3.5 MB 31.8 MB/s eta 0:00:01\r     |████                            | 3.5 MB 31.8 MB/s eta 0:00:01\r     |████                            | 3.5 MB 31.8 MB/s eta 0:00:01\r     |████                            | 3.5 MB 31.8 MB/s eta 0:00:01\r     |████                            | 3.5 MB 31.8 MB/s eta 0:00:01\r     |████                            | 3.5 MB 31.8 MB/s eta 0:00:01\r     |████                            | 3.5 MB 31.8 MB/s eta 0:00:01\r     |████                            | 3.5 MB 31.8 MB/s eta 0:00:01\r     |████                            | 3.5 MB 31.8 MB/s eta 0:00:01\r     |████                            | 3.6 MB 31.8 MB/s eta 0:00:01\r     |████                            | 3.6 MB 31.8 MB/s eta 0:00:01\r     |████                            | 3.6 MB 31.8 MB/s eta 0:00:01\r     |████                            | 3.6 MB 31.8 MB/s eta 0:00:01\r     |████                            | 3.6 MB 31.8 MB/s eta 0:00:01\r     |████                            | 3.6 MB 31.8 MB/s eta 0:00:01\r     |████                            | 3.6 MB 31.8 MB/s eta 0:00:01\r     |████                            | 3.6 MB 31.8 MB/s eta 0:00:01\r     |████                            | 3.6 MB 31.8 MB/s eta 0:00:01\r     |████▏                           | 3.6 MB 31.8 MB/s eta 0:00:01\r     |████▏                           | 3.7 MB 31.8 MB/s eta 0:00:01\r     |████▏                           | 3.7 MB 31.8 MB/s eta 0:00:01\r     |████▏                           | 3.7 MB 31.8 MB/s eta 0:00:01\r     |████▏                           | 3.7 MB 31.8 MB/s eta 0:00:01\r     |████▏                           | 3.7 MB 31.8 MB/s eta 0:00:01\r     |████▏                           | 3.7 MB 31.8 MB/s eta 0:00:01\r     |████▏                           | 3.7 MB 31.8 MB/s eta 0:00:01\r     |████▏                           | 3.7 MB 31.8 MB/s eta 0:00:01\r     |████▏                           | 3.7 MB 31.8 MB/s eta 0:00:01\r     |████▎                           | 3.7 MB 31.8 MB/s eta 0:00:01\r     |████▎                           | 3.8 MB 31.8 MB/s eta 0:00:01\r     |████▎                           | 3.8 MB 31.8 MB/s eta 0:00:01\r     |████▎                           | 3.8 MB 31.8 MB/s eta 0:00:01\r     |████▎                           | 3.8 MB 31.8 MB/s eta 0:00:01\r     |████▎                           | 3.8 MB 31.8 MB/s eta 0:00:01\r     |████▎                           | 3.8 MB 31.8 MB/s eta 0:00:01\r     |████▎                           | 3.8 MB 31.8 MB/s eta 0:00:01\r     |████▎                           | 3.8 MB 31.8 MB/s eta 0:00:01\r     |████▎                           | 3.8 MB 31.8 MB/s eta 0:00:01\r     |████▍                           | 3.9 MB 31.8 MB/s eta 0:00:01\r     |████▍                           | 3.9 MB 31.8 MB/s eta 0:00:01\r     |████▍                           | 3.9 MB 31.8 MB/s eta 0:00:01\r     |████▍                           | 3.9 MB 31.8 MB/s eta 0:00:01\r     |████▍                           | 3.9 MB 31.8 MB/s eta 0:00:01\r     |████▍                           | 3.9 MB 31.8 MB/s eta 0:00:01\r     |████▍                           | 3.9 MB 31.8 MB/s eta 0:00:01\r     |████▍                           | 3.9 MB 31.8 MB/s eta 0:00:01\r     |████▍                           | 3.9 MB 31.8 MB/s eta 0:00:01\r     |████▌                           | 3.9 MB 31.8 MB/s eta 0:00:01\r     |████▌                           | 4.0 MB 31.8 MB/s eta 0:00:01\r     |████▌                           | 4.0 MB 31.8 MB/s eta 0:00:01\r     |████▌                           | 4.0 MB 31.8 MB/s eta 0:00:01\r     |████▌                           | 4.0 MB 31.8 MB/s eta 0:00:01\r     |████▌                           | 4.0 MB 31.8 MB/s eta 0:00:01\r     |████▌                           | 4.0 MB 31.8 MB/s eta 0:00:01\r     |████▌                           | 4.0 MB 31.8 MB/s eta 0:00:01\r     |████▌                           | 4.0 MB 31.8 MB/s eta 0:00:01\r     |████▌                           | 4.0 MB 31.8 MB/s eta 0:00:01\r     |████▋                           | 4.0 MB 31.8 MB/s eta 0:00:01\r     |████▋                           | 4.1 MB 31.8 MB/s eta 0:00:01\r     |████▋                           | 4.1 MB 31.8 MB/s eta 0:00:01\r     |████▋                           | 4.1 MB 31.8 MB/s eta 0:00:01\r     |████▋                           | 4.1 MB 31.8 MB/s eta 0:00:01\r     |████▋                           | 4.1 MB 31.8 MB/s eta 0:00:01\r     |████▋                           | 4.1 MB 31.8 MB/s eta 0:00:01\r     |████▋                           | 4.1 MB 31.8 MB/s eta 0:00:01\r     |████▋                           | 4.1 MB 31.8 MB/s eta 0:00:01\r     |████▋                           | 4.1 MB 31.8 MB/s eta 0:00:01\r     |████▊                           | 4.1 MB 31.8 MB/s eta 0:00:01\r     |████▊                           | 4.2 MB 31.8 MB/s eta 0:00:01\r     |████▊                           | 4.2 MB 31.8 MB/s eta 0:00:01\r     |████▊                           | 4.2 MB 31.8 MB/s eta 0:00:01\r     |████▊                           | 4.2 MB 31.8 MB/s eta 0:00:01\r     |████▊                           | 4.2 MB 31.8 MB/s eta 0:00:01\r     |████▊                           | 4.2 MB 31.8 MB/s eta 0:00:01\r     |████▊                           | 4.2 MB 31.8 MB/s eta 0:00:01\r     |████▊                           | 4.2 MB 31.8 MB/s eta 0:00:01\r     |████▉                           | 4.2 MB 31.8 MB/s eta 0:00:01\r     |████▉                           | 4.2 MB 31.8 MB/s eta 0:00:01\r     |████▉                           | 4.3 MB 31.8 MB/s eta 0:00:01\r     |████▉                           | 4.3 MB 31.8 MB/s eta 0:00:01\r     |████▉                           | 4.3 MB 31.8 MB/s eta 0:00:01\r     |████▉                           | 4.3 MB 31.8 MB/s eta 0:00:01\r     |████▉                           | 4.3 MB 31.8 MB/s eta 0:00:01\r     |████▉                           | 4.3 MB 31.8 MB/s eta 0:00:01\r     |████▉                           | 4.3 MB 31.8 MB/s eta 0:00:01\r     |████▉                           | 4.3 MB 31.8 MB/s eta 0:00:01\r     |█████                           | 4.3 MB 31.8 MB/s eta 0:00:01\r     |█████                           | 4.4 MB 31.8 MB/s eta 0:00:01\r     |█████                           | 4.4 MB 31.8 MB/s eta 0:00:01\r     |█████                           | 4.4 MB 31.8 MB/s eta 0:00:01\r     |█████                           | 4.4 MB 31.8 MB/s eta 0:00:01\r     |█████                           | 4.4 MB 31.8 MB/s eta 0:00:01\r     |█████                           | 4.4 MB 31.8 MB/s eta 0:00:01\r     |█████                           | 4.4 MB 31.8 MB/s eta 0:00:01\r     |█████                           | 4.4 MB 31.8 MB/s eta 0:00:01\r     |█████                           | 4.4 MB 31.8 MB/s eta 0:00:01\r     |█████                           | 4.4 MB 31.8 MB/s eta 0:00:01\r     |█████                           | 4.5 MB 31.8 MB/s eta 0:00:01\r     |█████                           | 4.5 MB 31.8 MB/s eta 0:00:01\r     |█████                           | 4.5 MB 31.8 MB/s eta 0:00:01\r     |█████                           | 4.5 MB 31.8 MB/s eta 0:00:01\r     |█████                           | 4.5 MB 31.8 MB/s eta 0:00:01\r     |█████                           | 4.5 MB 31.8 MB/s eta 0:00:01\r     |█████                           | 4.5 MB 31.8 MB/s eta 0:00:01\r     |█████                           | 4.5 MB 31.8 MB/s eta 0:00:01\r     |█████▏                          | 4.5 MB 31.8 MB/s eta 0:00:01\r     |█████▏                          | 4.5 MB 31.8 MB/s eta 0:00:01\r     |█████▏                          | 4.6 MB 31.8 MB/s eta 0:00:01\r     |█████▏                          | 4.6 MB 31.8 MB/s eta 0:00:01\r     |█████▏                          | 4.6 MB 31.8 MB/s eta 0:00:01\r     |█████▏                          | 4.6 MB 31.8 MB/s eta 0:00:01\r     |█████▏                          | 4.6 MB 31.8 MB/s eta 0:00:01\r     |█████▏                          | 4.6 MB 31.8 MB/s eta 0:00:01\r     |█████▏                          | 4.6 MB 31.8 MB/s eta 0:00:01\r     |█████▏                          | 4.6 MB 31.8 MB/s eta 0:00:01\r     |█████▎                          | 4.6 MB 31.8 MB/s eta 0:00:01\r     |█████▎                          | 4.6 MB 31.8 MB/s eta 0:00:01\r     |█████▎                          | 4.7 MB 31.8 MB/s eta 0:00:01\r     |█████▎                          | 4.7 MB 31.8 MB/s eta 0:00:01\r     |█████▎                          | 4.7 MB 31.8 MB/s eta 0:00:01\r     |█████▎                          | 4.7 MB 31.8 MB/s eta 0:00:01\r     |█████▎                          | 4.7 MB 31.8 MB/s eta 0:00:01\r     |█████▎                          | 4.7 MB 31.8 MB/s eta 0:00:01\r     |█████▎                          | 4.7 MB 31.8 MB/s eta 0:00:01\r     |█████▍                          | 4.7 MB 31.8 MB/s eta 0:00:01\r     |█████▍                          | 4.7 MB 31.8 MB/s eta 0:00:01\r     |█████▍                          | 4.8 MB 31.8 MB/s eta 0:00:01\r     |█████▍                          | 4.8 MB 31.8 MB/s eta 0:00:01\r     |█████▍                          | 4.8 MB 31.8 MB/s eta 0:00:01\r     |█████▍                          | 4.8 MB 31.8 MB/s eta 0:00:01\r     |█████▍                          | 4.8 MB 31.8 MB/s eta 0:00:01\r     |█████▍                          | 4.8 MB 31.8 MB/s eta 0:00:01\r     |█████▍                          | 4.8 MB 31.8 MB/s eta 0:00:01\r     |█████▍                          | 4.8 MB 31.8 MB/s eta 0:00:01\r     |█████▌                          | 4.8 MB 31.8 MB/s eta 0:00:01\r     |█████▌                          | 4.8 MB 31.8 MB/s eta 0:00:01\r     |█████▌                          | 4.9 MB 31.8 MB/s eta 0:00:01\r     |█████▌                          | 4.9 MB 31.8 MB/s eta 0:00:01\r     |█████▌                          | 4.9 MB 31.8 MB/s eta 0:00:01\r     |█████▌                          | 4.9 MB 31.8 MB/s eta 0:00:01\r     |█████▌                          | 4.9 MB 31.8 MB/s eta 0:00:01\r     |█████▌                          | 4.9 MB 31.8 MB/s eta 0:00:01\r     |█████▌                          | 4.9 MB 31.8 MB/s eta 0:00:01\r     |█████▋                          | 4.9 MB 31.8 MB/s eta 0:00:01\r     |█████▋                          | 4.9 MB 31.8 MB/s eta 0:00:01\r     |█████▋                          | 4.9 MB 31.8 MB/s eta 0:00:01\r     |█████▋                          | 5.0 MB 31.8 MB/s eta 0:00:01\r     |█████▋                          | 5.0 MB 31.8 MB/s eta 0:00:01\r     |█████▋                          | 5.0 MB 31.8 MB/s eta 0:00:01\r     |█████▋                          | 5.0 MB 31.8 MB/s eta 0:00:01\r     |█████▋                          | 5.0 MB 31.8 MB/s eta 0:00:01\r     |█████▋                          | 5.0 MB 31.8 MB/s eta 0:00:01\r     |█████▋                          | 5.0 MB 31.8 MB/s eta 0:00:01\r     |█████▊                          | 5.0 MB 31.8 MB/s eta 0:00:01\r     |█████▊                          | 5.0 MB 31.8 MB/s eta 0:00:01\r     |█████▊                          | 5.0 MB 31.8 MB/s eta 0:00:01\r     |█████▊                          | 5.1 MB 31.8 MB/s eta 0:00:01\r     |█████▊                          | 5.1 MB 31.8 MB/s eta 0:00:01\r     |█████▊                          | 5.1 MB 31.8 MB/s eta 0:00:01\r     |█████▊                          | 5.1 MB 31.8 MB/s eta 0:00:01\r     |█████▊                          | 5.1 MB 31.8 MB/s eta 0:00:01\r     |█████▊                          | 5.1 MB 31.8 MB/s eta 0:00:01\r     |█████▊                          | 5.1 MB 31.8 MB/s eta 0:00:01\r     |█████▉                          | 5.1 MB 31.8 MB/s eta 0:00:01\r     |█████▉                          | 5.1 MB 31.8 MB/s eta 0:00:01\r     |█████▉                          | 5.2 MB 31.8 MB/s eta 0:00:01\r     |█████▉                          | 5.2 MB 31.8 MB/s eta 0:00:01\r     |█████▉                          | 5.2 MB 31.8 MB/s eta 0:00:01\r     |█████▉                          | 5.2 MB 31.8 MB/s eta 0:00:01\r     |█████▉                          | 5.2 MB 31.8 MB/s eta 0:00:01\r     |█████▉                          | 5.2 MB 31.8 MB/s eta 0:00:01\r     |█████▉                          | 5.2 MB 31.8 MB/s eta 0:00:01\r     |██████                          | 5.2 MB 31.8 MB/s eta 0:00:01\r     |██████                          | 5.2 MB 31.8 MB/s eta 0:00:01\r     |██████                          | 5.2 MB 31.8 MB/s eta 0:00:01\r     |██████                          | 5.3 MB 31.8 MB/s eta 0:00:01\r     |██████                          | 5.3 MB 31.8 MB/s eta 0:00:01\r     |██████                          | 5.3 MB 31.8 MB/s eta 0:00:01\r     |██████                          | 5.3 MB 31.8 MB/s eta 0:00:01\r     |██████                          | 5.3 MB 31.8 MB/s eta 0:00:01\r     |██████                          | 5.3 MB 31.8 MB/s eta 0:00:01\r     |██████                          | 5.3 MB 31.8 MB/s eta 0:00:01\r     |██████                          | 5.3 MB 31.8 MB/s eta 0:00:01\r     |██████                          | 5.3 MB 31.8 MB/s eta 0:00:01\r     |██████                          | 5.3 MB 31.8 MB/s eta 0:00:01\r     |██████                          | 5.4 MB 31.8 MB/s eta 0:00:01\r     |██████                          | 5.4 MB 31.8 MB/s eta 0:00:01\r     |██████                          | 5.4 MB 31.8 MB/s eta 0:00:01\r     |██████                          | 5.4 MB 31.8 MB/s eta 0:00:01\r     |██████                          | 5.4 MB 31.8 MB/s eta 0:00:01\r     |██████                          | 5.4 MB 31.8 MB/s eta 0:00:01\r     |██████                          | 5.4 MB 31.8 MB/s eta 0:00:01\r     |██████▏                         | 5.4 MB 31.8 MB/s eta 0:00:01\r     |██████▏                         | 5.4 MB 31.8 MB/s eta 0:00:01\r     |██████▏                         | 5.4 MB 31.8 MB/s eta 0:00:01\r     |██████▏                         | 5.5 MB 31.8 MB/s eta 0:00:01\r     |██████▏                         | 5.5 MB 31.8 MB/s eta 0:00:01\r     |██████▏                         | 5.5 MB 31.8 MB/s eta 0:00:01\r     |██████▏                         | 5.5 MB 31.8 MB/s eta 0:00:01\r     |██████▏                         | 5.5 MB 31.8 MB/s eta 0:00:01\r     |██████▏                         | 5.5 MB 31.8 MB/s eta 0:00:01\r     |██████▎                         | 5.5 MB 31.8 MB/s eta 0:00:01\r     |██████▎                         | 5.5 MB 31.8 MB/s eta 0:00:01\r     |██████▎                         | 5.5 MB 31.8 MB/s eta 0:00:01\r     |██████▎                         | 5.6 MB 31.8 MB/s eta 0:00:01\r     |██████▎                         | 5.6 MB 31.8 MB/s eta 0:00:01\r     |██████▎                         | 5.6 MB 31.8 MB/s eta 0:00:01\r     |██████▎                         | 5.6 MB 31.8 MB/s eta 0:00:01\r     |██████▎                         | 5.6 MB 31.8 MB/s eta 0:00:01\r     |██████▎                         | 5.6 MB 31.8 MB/s eta 0:00:01\r     |██████▎                         | 5.6 MB 31.8 MB/s eta 0:00:01\r     |██████▍                         | 5.6 MB 31.8 MB/s eta 0:00:01\r     |██████▍                         | 5.6 MB 31.8 MB/s eta 0:00:01\r     |██████▍                         | 5.6 MB 31.8 MB/s eta 0:00:01\r     |██████▍                         | 5.7 MB 31.8 MB/s eta 0:00:01\r     |██████▍                         | 5.7 MB 31.8 MB/s eta 0:00:01\r     |██████▍                         | 5.7 MB 31.8 MB/s eta 0:00:01\r     |██████▍                         | 5.7 MB 31.8 MB/s eta 0:00:01\r     |██████▍                         | 5.7 MB 31.8 MB/s eta 0:00:01\r     |██████▍                         | 5.7 MB 31.8 MB/s eta 0:00:01\r     |██████▌                         | 5.7 MB 31.8 MB/s eta 0:00:01\r     |██████▌                         | 5.7 MB 31.8 MB/s eta 0:00:01\r     |██████▌                         | 5.7 MB 31.8 MB/s eta 0:00:01\r     |██████▌                         | 5.7 MB 31.8 MB/s eta 0:00:01\r     |██████▌                         | 5.8 MB 31.8 MB/s eta 0:00:01\r     |██████▌                         | 5.8 MB 31.8 MB/s eta 0:00:01\r     |██████▌                         | 5.8 MB 31.8 MB/s eta 0:00:01\r     |██████▌                         | 5.8 MB 31.8 MB/s eta 0:00:01\r     |██████▌                         | 5.8 MB 31.8 MB/s eta 0:00:01\r     |██████▌                         | 5.8 MB 31.8 MB/s eta 0:00:01\r     |██████▋                         | 5.8 MB 31.8 MB/s eta 0:00:01\r     |██████▋                         | 5.8 MB 31.8 MB/s eta 0:00:01\r     |██████▋                         | 5.8 MB 31.8 MB/s eta 0:00:01\r     |██████▋                         | 5.8 MB 31.8 MB/s eta 0:00:01\r     |██████▋                         | 5.9 MB 31.8 MB/s eta 0:00:01\r     |██████▋                         | 5.9 MB 31.8 MB/s eta 0:00:01\r     |██████▋                         | 5.9 MB 31.8 MB/s eta 0:00:01\r     |██████▋                         | 5.9 MB 31.8 MB/s eta 0:00:01\r     |██████▋                         | 5.9 MB 31.8 MB/s eta 0:00:01\r     |██████▋                         | 5.9 MB 31.8 MB/s eta 0:00:01\r     |██████▊                         | 5.9 MB 31.8 MB/s eta 0:00:01\r     |██████▊                         | 5.9 MB 31.8 MB/s eta 0:00:01\r     |██████▊                         | 5.9 MB 31.8 MB/s eta 0:00:01\r     |██████▊                         | 5.9 MB 31.8 MB/s eta 0:00:01\r     |██████▊                         | 6.0 MB 31.8 MB/s eta 0:00:01\r     |██████▊                         | 6.0 MB 31.8 MB/s eta 0:00:01\r     |██████▊                         | 6.0 MB 31.8 MB/s eta 0:00:01\r     |██████▊                         | 6.0 MB 31.8 MB/s eta 0:00:01\r     |██████▊                         | 6.0 MB 31.8 MB/s eta 0:00:01\r     |██████▉                         | 6.0 MB 31.8 MB/s eta 0:00:01\r     |██████▉                         | 6.0 MB 31.8 MB/s eta 0:00:01\r     |██████▉                         | 6.0 MB 31.8 MB/s eta 0:00:01\r     |██████▉                         | 6.0 MB 31.8 MB/s eta 0:00:01\r     |██████▉                         | 6.1 MB 31.8 MB/s eta 0:00:01\r     |██████▉                         | 6.1 MB 31.8 MB/s eta 0:00:01\r     |██████▉                         | 6.1 MB 31.8 MB/s eta 0:00:01\r     |██████▉                         | 6.1 MB 31.8 MB/s eta 0:00:01\r     |██████▉                         | 6.1 MB 31.8 MB/s eta 0:00:01\r     |██████▉                         | 6.1 MB 31.8 MB/s eta 0:00:01\r     |███████                         | 6.1 MB 31.8 MB/s eta 0:00:01\r     |███████                         | 6.1 MB 31.8 MB/s eta 0:00:01\r     |███████                         | 6.1 MB 31.8 MB/s eta 0:00:01\r     |███████                         | 6.1 MB 31.8 MB/s eta 0:00:01\r     |███████                         | 6.2 MB 31.8 MB/s eta 0:00:01\r     |███████                         | 6.2 MB 31.8 MB/s eta 0:00:01\r     |███████                         | 6.2 MB 31.8 MB/s eta 0:00:01\r     |███████                         | 6.2 MB 31.8 MB/s eta 0:00:01\r     |███████                         | 6.2 MB 31.8 MB/s eta 0:00:01\r     |███████                         | 6.2 MB 31.8 MB/s eta 0:00:01\r     |███████                         | 6.2 MB 31.8 MB/s eta 0:00:01\r     |███████                         | 6.2 MB 31.8 MB/s eta 0:00:01\r     |███████                         | 6.2 MB 31.8 MB/s eta 0:00:01\r     |███████                         | 6.2 MB 31.8 MB/s eta 0:00:01\r     |███████                         | 6.3 MB 31.8 MB/s eta 0:00:01\r     |███████                         | 6.3 MB 31.8 MB/s eta 0:00:01\r     |███████                         | 6.3 MB 31.8 MB/s eta 0:00:01\r     |███████                         | 6.3 MB 31.8 MB/s eta 0:00:01\r     |███████                         | 6.3 MB 31.8 MB/s eta 0:00:01\r     |███████▏                        | 6.3 MB 31.8 MB/s eta 0:00:01\r     |███████▏                        | 6.3 MB 31.8 MB/s eta 0:00:01\r     |███████▏                        | 6.3 MB 31.8 MB/s eta 0:00:01\r     |███████▏                        | 6.3 MB 31.8 MB/s eta 0:00:01\r     |███████▏                        | 6.3 MB 31.8 MB/s eta 0:00:01\r     |███████▏                        | 6.4 MB 31.8 MB/s eta 0:00:01\r     |███████▏                        | 6.4 MB 31.8 MB/s eta 0:00:01\r     |███████▏                        | 6.4 MB 31.8 MB/s eta 0:00:01\r     |███████▏                        | 6.4 MB 31.8 MB/s eta 0:00:01\r     |███████▏                        | 6.4 MB 31.8 MB/s eta 0:00:01\r     |███████▎                        | 6.4 MB 31.8 MB/s eta 0:00:01\r     |███████▎                        | 6.4 MB 31.8 MB/s eta 0:00:01\r     |███████▎                        | 6.4 MB 31.8 MB/s eta 0:00:01\r     |███████▎                        | 6.4 MB 31.8 MB/s eta 0:00:01\r     |███████▎                        | 6.5 MB 31.8 MB/s eta 0:00:01\r     |███████▎                        | 6.5 MB 31.8 MB/s eta 0:00:01\r     |███████▎                        | 6.5 MB 31.8 MB/s eta 0:00:01\r     |███████▎                        | 6.5 MB 31.8 MB/s eta 0:00:01\r     |███████▎                        | 6.5 MB 31.8 MB/s eta 0:00:01\r     |███████▍                        | 6.5 MB 31.8 MB/s eta 0:00:01\r     |███████▍                        | 6.5 MB 31.8 MB/s eta 0:00:01\r     |███████▍                        | 6.5 MB 31.8 MB/s eta 0:00:01\r     |███████▍                        | 6.5 MB 31.8 MB/s eta 0:00:01\r     |███████▍                        | 6.5 MB 31.8 MB/s eta 0:00:01\r     |███████▍                        | 6.6 MB 31.8 MB/s eta 0:00:01\r     |███████▍                        | 6.6 MB 31.8 MB/s eta 0:00:01\r     |███████▍                        | 6.6 MB 31.8 MB/s eta 0:00:01\r     |███████▍                        | 6.6 MB 31.8 MB/s eta 0:00:01\r     |███████▍                        | 6.6 MB 31.8 MB/s eta 0:00:01\r     |███████▌                        | 6.6 MB 31.8 MB/s eta 0:00:01\r     |███████▌                        | 6.6 MB 31.8 MB/s eta 0:00:01\r     |███████▌                        | 6.6 MB 31.8 MB/s eta 0:00:01\r     |███████▌                        | 6.6 MB 31.8 MB/s eta 0:00:01\r     |███████▌                        | 6.6 MB 31.8 MB/s eta 0:00:01\r     |███████▌                        | 6.7 MB 31.8 MB/s eta 0:00:01\r     |███████▌                        | 6.7 MB 31.8 MB/s eta 0:00:01\r     |███████▌                        | 6.7 MB 31.8 MB/s eta 0:00:01\r     |███████▌                        | 6.7 MB 31.8 MB/s eta 0:00:01\r     |███████▌                        | 6.7 MB 31.8 MB/s eta 0:00:01\r     |███████▋                        | 6.7 MB 31.8 MB/s eta 0:00:01\r     |███████▋                        | 6.7 MB 31.8 MB/s eta 0:00:01\r     |███████▋                        | 6.7 MB 31.8 MB/s eta 0:00:01\r     |███████▋                        | 6.7 MB 31.8 MB/s eta 0:00:01\r\u001B[\n*** WARNING: skipped 153860 bytes of output ***\n\n\r     |████████████████████████████████| 28.4 MB 31.8 MB/s \r\nRequirement already satisfied: numpy&lt;1.23.0,&gt;=1.16.5 in /databricks/python3/lib/python3.8/site-packages (from scipy==1.7.1) (1.19.2)\r\nInstalling collected packages: scipy\r\n  Attempting uninstall: scipy\r\n    Found existing installation: scipy 1.6.2\r\n    Uninstalling scipy-1.6.2:\r\n      Successfully uninstalled scipy-1.6.2\r\nSuccessfully installed scipy-1.7.1\r\n<span class=\"ansi-yellow-fg\">WARNING: You are using pip version 21.0.1; however, version 23.3.1 is available.\r\nYou should consider upgrading via the &#39;/databricks/python3/bin/python -m pip install --upgrade pip&#39; command.</span>\r\n<span class=\"ansi-red-fg\">ERROR: Invalid requirement: &#39;==1.2.2&#39;</span>\r\n<span class=\"ansi-yellow-fg\">WARNING: You are using pip version 21.0.1; however, version 23.3.1 is available.\r\nYou should consider upgrading via the &#39;/databricks/python3/bin/python -m pip install --upgrade pip&#39; command.</span>\r\n</div>",
       "datasetInfos": [],
       "metadata": {},
       "removedWidgets": [],
       "type": "html"
      }
     },
     "output_type": "display_data"
    }
   ],
   "source": [
    "!pip install pycausalimpact\n",
    "!pip install scipy==1.7.1\n",
    "!pip install pandas ==1.2.2"
   ]
  },
  {
   "cell_type": "code",
   "execution_count": 0,
   "metadata": {
    "application/vnd.databricks.v1+cell": {
     "cellMetadata": {
      "byteLimit": 2048000,
      "rowLimit": 10000
     },
     "inputWidgets": {},
     "nuid": "ef719628-8b2c-46ad-b28c-ad7dfd5b4b94",
     "showTitle": true,
     "title": "Import Packages"
    },
    "jupyter": {
     "outputs_hidden": true,
     "source_hidden": true
    }
   },
   "outputs": [
    {
     "output_type": "display_data",
     "data": {
      "text/html": [
       "<style scoped>\n",
       "  .ansiout {\n",
       "    display: block;\n",
       "    unicode-bidi: embed;\n",
       "    white-space: pre-wrap;\n",
       "    word-wrap: break-word;\n",
       "    word-break: break-all;\n",
       "    font-family: \"Menlo\", \"Monaco\", \"Consolas\", \"Ubuntu Mono\", \"Source Code Pro\", monospace;\n",
       "    font-size: 13px;\n",
       "    color: #555;\n",
       "    margin-left: 4px;\n",
       "    line-height: 19px;\n",
       "  }\n",
       "</style>\n",
       "<div class=\"ansiout\"></div>"
      ]
     },
     "metadata": {
      "application/vnd.databricks.v1+output": {
       "addedWidgets": {},
       "arguments": {},
       "data": "<div class=\"ansiout\"></div>",
       "datasetInfos": [],
       "metadata": {},
       "removedWidgets": [],
       "type": "html"
      }
     },
     "output_type": "display_data"
    }
   ],
   "source": [
    "import re\n",
    "import pandas as pd\n",
    "import numpy as np\n",
    "import seaborn as sns\n",
    "from scipy import stats\n",
    "import random\n",
    "import matplotlib.pyplot as plt\n",
    "import pyspark.sql.functions as f\n",
    "from pyspark.sql import Window\n",
    "from pyspark.sql.window import Window\n",
    "from causalimpact import CausalImpact\n",
    "from datetime import datetime, timedelta\n",
    "from statsmodels.tsa.seasonal import seasonal_decompose\n",
    "from pyspark.sql.types import StringType, DateType, FloatType\n",
    "from pyspark.sql.functions import when, lit, col, count, sum, avg, max, countDistinct, weekofyear, concat_ws, datediff, coalesce, lower, rand, floor"
   ]
  },
  {
   "cell_type": "code",
   "execution_count": 0,
   "metadata": {
    "application/vnd.databricks.v1+cell": {
     "cellMetadata": {
      "byteLimit": 2048000,
      "rowLimit": 10000
     },
     "inputWidgets": {},
     "nuid": "13be6803-fb3d-4c0b-96d9-da913933d4c1",
     "showTitle": false,
     "title": ""
    },
    "jupyter": {
     "outputs_hidden": true,
     "source_hidden": true
    }
   },
   "outputs": [
    {
     "output_type": "display_data",
     "data": {
      "text/html": [
       "<style scoped>\n",
       "  .ansiout {\n",
       "    display: block;\n",
       "    unicode-bidi: embed;\n",
       "    white-space: pre-wrap;\n",
       "    word-wrap: break-word;\n",
       "    word-break: break-all;\n",
       "    font-family: \"Menlo\", \"Monaco\", \"Consolas\", \"Ubuntu Mono\", \"Source Code Pro\", monospace;\n",
       "    font-size: 13px;\n",
       "    color: #555;\n",
       "    margin-left: 4px;\n",
       "    line-height: 19px;\n",
       "  }\n",
       "</style>\n",
       "<div class=\"ansiout\"></div>"
      ]
     },
     "metadata": {
      "application/vnd.databricks.v1+output": {
       "addedWidgets": {},
       "arguments": {},
       "data": "<div class=\"ansiout\"></div>",
       "datasetInfos": [],
       "metadata": {},
       "removedWidgets": [],
       "type": "html"
      }
     },
     "output_type": "display_data"
    }
   ],
   "source": [
    "pd.set_option('display.max_rows', None)"
   ]
  },
  {
   "cell_type": "code",
   "execution_count": 0,
   "metadata": {
    "application/vnd.databricks.v1+cell": {
     "cellMetadata": {
      "byteLimit": 2048000,
      "rowLimit": 10000
     },
     "inputWidgets": {},
     "nuid": "16d1877b-f8a6-454f-a0b8-75f77c07dbd3",
     "showTitle": true,
     "title": "Start Run Time"
    },
    "jupyter": {
     "source_hidden": true
    }
   },
   "outputs": [
    {
     "output_type": "display_data",
     "data": {
      "text/html": [
       "<style scoped>\n",
       "  .ansiout {\n",
       "    display: block;\n",
       "    unicode-bidi: embed;\n",
       "    white-space: pre-wrap;\n",
       "    word-wrap: break-word;\n",
       "    word-break: break-all;\n",
       "    font-family: \"Menlo\", \"Monaco\", \"Consolas\", \"Ubuntu Mono\", \"Source Code Pro\", monospace;\n",
       "    font-size: 13px;\n",
       "    color: #555;\n",
       "    margin-left: 4px;\n",
       "    line-height: 19px;\n",
       "  }\n",
       "</style>\n",
       "<div class=\"ansiout\">Current Time = 19:19:39\n",
       "</div>"
      ]
     },
     "metadata": {
      "application/vnd.databricks.v1+output": {
       "addedWidgets": {},
       "arguments": {},
       "data": "<div class=\"ansiout\">Current Time = 19:19:39\n</div>",
       "datasetInfos": [],
       "metadata": {},
       "removedWidgets": [],
       "type": "html"
      }
     },
     "output_type": "display_data"
    }
   ],
   "source": [
    "now = datetime.now()\n",
    "\n",
    "current_time = now.strftime(\"%H:%M:%S\")\n",
    "print(\"Current Time =\", current_time)"
   ]
  },
  {
   "cell_type": "code",
   "execution_count": 0,
   "metadata": {
    "application/vnd.databricks.v1+cell": {
     "cellMetadata": {
      "byteLimit": 2048000,
      "rowLimit": 10000
     },
     "inputWidgets": {},
     "nuid": "55c89c35-3a5b-4918-88d9-1759dfe21e8d",
     "showTitle": true,
     "title": "Notebook Widget Parameter Selection"
    },
    "jupyter": {
     "source_hidden": true
    }
   },
   "outputs": [
    {
     "output_type": "display_data",
     "data": {
      "text/html": [
       "<style scoped>\n",
       "  .ansiout {\n",
       "    display: block;\n",
       "    unicode-bidi: embed;\n",
       "    white-space: pre-wrap;\n",
       "    word-wrap: break-word;\n",
       "    word-break: break-all;\n",
       "    font-family: \"Menlo\", \"Monaco\", \"Consolas\", \"Ubuntu Mono\", \"Source Code Pro\", monospace;\n",
       "    font-size: 13px;\n",
       "    color: #555;\n",
       "    margin-left: 4px;\n",
       "    line-height: 19px;\n",
       "  }\n",
       "</style>\n",
       "<div class=\"ansiout\">\n",
       "Values Selected:\n",
       "----------------------------\n",
       "Treatment IDs, Engagement with Any: 04b7b3b5-f821-409e-aa6f-5696834f0434,0fb3dd72-5eb4-4cb8-ba99-33b73040f26a,12bf0159-5018-47c9-b019-153eb896564c,16184978-699a-4bd0-a10f-a2f78f6ea0a9,1c96a563-9f9e-49ff-9267-f834ef19b382,276bbbdf-4307-423d-8bda-2085206bec56,35717bfe-4486-4449-94ba-ff23494c1f47,373b345b-4cbd-430e-a64b-576544e76181,4b465a3b-5b4e-4f72-bf1b-727231cb508f,5153ae50-1538-417e-939c-abbe0f054f21,56498a44-6272-40b6-84f7-186aaef42a5c,5ab9a1c2-cb1d-426e-8c58-6106ce81c1a2,5fc6f393-d598-4b2f-8f5b-12fd3ef9d3c1,64e29555-c399-489d-8f35-05060e847e49,65f8efb5-1341-4640-8c21-d4d5dfa122bb,6a0225ed-71ae-469b-97e2-a195e84dd499,871918ea-944a-47b1-b88c-fc8349a7c6a0,8c500c1a-fad0-4a72-a6c0-2e1f5f2c07c3,969189a2-d7c6-4d70-bc47-b8f3797c794d,b3c0c350-ff00-4a45-a4d9-cd2ddf2e8a75,bf921e57-2e26-42d7-8e11-d5b8e7fad0cc,c80c6254-46e0-4016-9174-238952461064,d35887b7-0c6c-4a5a-8c9b-73fdbf9aff84,d3aaa836-43f1-475d-9613-4606f0528d27,d84c2389-eabd-4d02-bd7e-3f6d099e2dc2,de6c1f30-07e6-4fc7-8c65-08469e7c7d43,dfc9451a-be86-48f4-83e0-f1ee59744091,e098adc7-e11b-402b-864f-4f27c5b39cfc,ecd6e590-58f6-48e9-82b0-50b7851b7d34,f8077532-4593-4333-8c2a-9bb35d31e168,faf3bc23-0001-4fce-a33f-ba2b3f447a38,fecd7e5a-da15-4b09-b0ce-4ab23ecc42c8\n",
       "Target KPI Value: unique_members_with_selected_product_group_nddc_purchases\n",
       "Marketplace Select: us\n",
       "Geo Select: All Geos\n",
       "Gender Select: Women\n",
       "Age Select: &lt;=25\n",
       "Tenure Select: All\n",
       "Sampling Select: nikeapp_thread_view_cadence,tenure_group\n",
       "Post-Treatment Period: 7\n",
       "Current Date: 2023-10-27\n",
       "Project Name: airmaxdocumentationexampleusecase\n",
       "Selected Product Group: &#39;air max%&#39;\n",
       "\n",
       "</div>"
      ]
     },
     "metadata": {
      "application/vnd.databricks.v1+output": {
       "addedWidgets": {},
       "arguments": {},
       "data": "<div class=\"ansiout\">\nValues Selected:\n----------------------------\nTreatment IDs, Engagement with Any: 04b7b3b5-f821-409e-aa6f-5696834f0434,0fb3dd72-5eb4-4cb8-ba99-33b73040f26a,12bf0159-5018-47c9-b019-153eb896564c,16184978-699a-4bd0-a10f-a2f78f6ea0a9,1c96a563-9f9e-49ff-9267-f834ef19b382,276bbbdf-4307-423d-8bda-2085206bec56,35717bfe-4486-4449-94ba-ff23494c1f47,373b345b-4cbd-430e-a64b-576544e76181,4b465a3b-5b4e-4f72-bf1b-727231cb508f,5153ae50-1538-417e-939c-abbe0f054f21,56498a44-6272-40b6-84f7-186aaef42a5c,5ab9a1c2-cb1d-426e-8c58-6106ce81c1a2,5fc6f393-d598-4b2f-8f5b-12fd3ef9d3c1,64e29555-c399-489d-8f35-05060e847e49,65f8efb5-1341-4640-8c21-d4d5dfa122bb,6a0225ed-71ae-469b-97e2-a195e84dd499,871918ea-944a-47b1-b88c-fc8349a7c6a0,8c500c1a-fad0-4a72-a6c0-2e1f5f2c07c3,969189a2-d7c6-4d70-bc47-b8f3797c794d,b3c0c350-ff00-4a45-a4d9-cd2ddf2e8a75,bf921e57-2e26-42d7-8e11-d5b8e7fad0cc,c80c6254-46e0-4016-9174-238952461064,d35887b7-0c6c-4a5a-8c9b-73fdbf9aff84,d3aaa836-43f1-475d-9613-4606f0528d27,d84c2389-eabd-4d02-bd7e-3f6d099e2dc2,de6c1f30-07e6-4fc7-8c65-08469e7c7d43,dfc9451a-be86-48f4-83e0-f1ee59744091,e098adc7-e11b-402b-864f-4f27c5b39cfc,ecd6e590-58f6-48e9-82b0-50b7851b7d34,f8077532-4593-4333-8c2a-9bb35d31e168,faf3bc23-0001-4fce-a33f-ba2b3f447a38,fecd7e5a-da15-4b09-b0ce-4ab23ecc42c8\nTarget KPI Value: unique_members_with_selected_product_group_nddc_purchases\nMarketplace Select: us\nGeo Select: All Geos\nGender Select: Women\nAge Select: &lt;=25\nTenure Select: All\nSampling Select: nikeapp_thread_view_cadence,tenure_group\nPost-Treatment Period: 7\nCurrent Date: 2023-10-27\nProject Name: airmaxdocumentationexampleusecase\nSelected Product Group: &#39;air max%&#39;\n\n</div>",
       "datasetInfos": [],
       "metadata": {},
       "removedWidgets": [],
       "type": "html"
      }
     },
     "output_type": "display_data"
    }
   ],
   "source": [
    "dbutils.widgets.removeAll()\n",
    "\n",
    "dbutils.widgets.text(\"project_val\", defaultValue = \"\", label = '1-Input Project Name For Saving Results')\n",
    "\n",
    "# Treatment Dates\n",
    "dbutils.widgets.text(\"treatment_start_date\", defaultValue = \"2023-09-01\", label = '2-Select Treatment Start Date')\n",
    "dbutils.widgets.text(\"treatment_end_date\", defaultValue = \"2023-10-01\", label = '3-Select Treatment End Date')\n",
    "\n",
    "# Treatment / Control \n",
    "dbutils.widgets.text(\"treatment_value_any\", defaultValue = \"\", label = '4-Input Treatment Content IDs (comma-separated)')\n",
    "\n",
    "# Demographic (Marketplace, Gender, Age Group, Tenure)\n",
    "dbutils.widgets.dropdown(\"geo_select\", 'All Geos', ['All Geos','APLA', 'EMEA', 'NA'], label = '5-Select Geo')\n",
    "dbutils.widgets.text(\"marketplace_select\", defaultValue = \"\", label = '6-Input Marketplace (comma-separated)')\n",
    "dbutils.widgets.dropdown(\"gender_select\",  'All', ['All', 'Men', 'Women'], \"7-Select Gender\")\n",
    "dbutils.widgets.dropdown(\"age_select\",  'All', ['All', '<=25', '>25'], \"8-Select Age Group\")\n",
    "dbutils.widgets.multiselect(\"tenure_select\",  'All', ['All','tenure>=180', '7<tenure<180', 'tenure<=7'], label = '9-Select Member Tenure')\n",
    "\n",
    "#synthetic control group options\n",
    "dbutils.widgets.multiselect(\"sampling_select\",defaultValue='tenure_group',\n",
    "                            choices=['preferred_gender', 'age_group', 'tenure_group', 'nrc_run_cadence', 'ntc_workout_cadence', 'nikeapp_thread_view_cadence','email_link_click_cadence'], label = '10-Select Control-Treatment Matching Criteria')\n",
    "\n",
    "dbutils.widgets.dropdown(\"num_control_groups\", '3', ['1', '3', '5', '10'], label = '11-Select Number of Control Groups')\n",
    "\n",
    "\n",
    "# Target KPI \n",
    "dbutils.widgets.dropdown(\"target_kpi_value\", 'unique_members_with_nikeapp_thread_cta_clicks',\n",
    "                         ['unique_members_with_nikeapp_app_opens',\n",
    "                          'unique_members_with_nikeapp_add_to_carts',\n",
    "                          'unique_members_with_nikeapp_thread_cta_clicks',\n",
    "                          'unique_members_with_nrc_app_opens',\n",
    "                          'unique_members_with_nrc_run_starts',\n",
    "                          'unique_members_with_ntc_app_opens',\n",
    "                          'unique_members_with_ntc_workout_starts',\n",
    "                          'unique_members_with_email_link_clicks',\n",
    "                          'unique_members_with_email_purchases',\n",
    "                          'unique_members_with_nddc_purchases',\n",
    "                          'unique_members_with_selected_product_group_nddc_purchases',\n",
    "                          'unique_members_with_ecosystemt_app_opens',\n",
    "                          'unique_members_with_ecosystem_thread_views'\n",
    "                          # ,'unique_members_with_7d_returning_ecosystemt_app_opens'\n",
    "                          # ,'unique_members_with_7d_returning_ecosystem_thread_views'\n",
    "                          ], label = '12-Select Target KPI')\n",
    "\n",
    "dbutils.widgets.dropdown(\"post_period_value\", '7', ['90', '30', '7', '2'], label = '13-Select Post-Treatment Days For Impact Measurement')\n",
    "\n",
    "dbutils.widgets.text(\"product_group\", defaultValue = \"\", label = '14-Input Product Franchise, Gender Construct or Sport Dimension For unique_members_with_selected_product_group_digital_purchase Target KPI')\n",
    "\n",
    "dbutils.widgets.multiselect(\"channel_select\",  'All', ['All','Nike App', 'NTC', 'NRC', 'Email'], label = '15-Select Channels For Treatment, Target KPIs and/or Control-Treatment Matching Criteria')\n",
    "\n",
    "channel_vals = dbutils.widgets.get('channel_select')\n",
    "\n",
    "# get widget values as variables\n",
    "treatment_value_any = dbutils.widgets.get(\"treatment_value_any\").replace(\" \", \"\").replace(\"\\'\", \"\").replace(\"\\\"\", \"\").replace(\"\\n\", \"\").replace(\"\\t\", \"\").lower()\n",
    "treatment_value_none = ''\n",
    "treatment_value_all = ''\n",
    "control_value_any = ''\n",
    "control_value_none = treatment_value_any\n",
    "control_value_all = ''\n",
    "project_val = dbutils.widgets.get(\"project_val\").replace(\" \", \"\").replace(\"\\'\", \"\").replace(\"\\\"\", \"\").lower()\n",
    "\n",
    "\n",
    "\n",
    "\n",
    "product_group = dbutils.widgets.get(\"product_group\")\n",
    "\n",
    "product_group = \"\\'\" + product_group + \"%\\'\"\n",
    "\n",
    "\n",
    "target_kpi_val = dbutils.widgets.get(\"target_kpi_value\")\n",
    "marketplace_val = dbutils.widgets.get(\"marketplace_select\").replace(\" \", \"\").lower()\n",
    "geo_val = dbutils.widgets.get(\"geo_select\")\n",
    "gender_val = dbutils.widgets.get(\"gender_select\")\n",
    "age_val = dbutils.widgets.get(\"age_select\")\n",
    "tenure_val = dbutils.widgets.get('tenure_select')\n",
    "sampling_val = dbutils.widgets.get('sampling_select')\n",
    "\n",
    "treatment_start_date = dbutils.widgets.get('treatment_start_date')\n",
    "treatment_end_date = dbutils.widgets.get('treatment_end_date')\n",
    "\n",
    "num_control_groups= int(dbutils.widgets.get(\"num_control_groups\"))\n",
    "\n",
    "#pre_period_val = int(dbutils.widgets.get(\"pre_period_value\"))\n",
    "post_period_val = int(dbutils.widgets.get(\"post_period_value\"))\n",
    "\n",
    "# pre_period_val is 2x the post_period_val or 30 if post_period_val<30\n",
    "if post_period_val<30:\n",
    "  pre_period_val=30\n",
    "else:\n",
    "  pre_period_val = post_period_val * 2\n",
    "\n",
    "# current date\n",
    "today_dt = datetime.today().strftime('%Y-%m-%d')\n",
    "\n",
    "print(f'''\n",
    "Values Selected:\n",
    "----------------------------\n",
    "Treatment IDs, Engagement with Any: {treatment_value_any}\n",
    "Target KPI Value: {target_kpi_val}\n",
    "Marketplace Select: {marketplace_val}\n",
    "Geo Select: {geo_val}\n",
    "Gender Select: {gender_val}\n",
    "Age Select: {age_val}\n",
    "Tenure Select: {tenure_val}\n",
    "Sampling Select: {sampling_val}\n",
    "Post-Treatment Period: {post_period_val}\n",
    "Current Date: {today_dt}\n",
    "Project Name: {project_val}\n",
    "Selected Product Group: {product_group}\n",
    "''')\n"
   ]
  },
  {
   "cell_type": "code",
   "execution_count": 0,
   "metadata": {
    "application/vnd.databricks.v1+cell": {
     "cellMetadata": {
      "byteLimit": 2048000,
      "rowLimit": 10000
     },
     "inputWidgets": {},
     "nuid": "7a40289d-d445-4fb4-99ec-4d265b4a5459",
     "showTitle": true,
     "title": "Treatment Content IDs Input"
    }
   },
   "outputs": [
    {
     "output_type": "display_data",
     "data": {
      "text/html": [
       "<style scoped>\n",
       "  .ansiout {\n",
       "    display: block;\n",
       "    unicode-bidi: embed;\n",
       "    white-space: pre-wrap;\n",
       "    word-wrap: break-word;\n",
       "    word-break: break-all;\n",
       "    font-family: \"Menlo\", \"Monaco\", \"Consolas\", \"Ubuntu Mono\", \"Source Code Pro\", monospace;\n",
       "    font-size: 13px;\n",
       "    color: #555;\n",
       "    margin-left: 4px;\n",
       "    line-height: 19px;\n",
       "  }\n",
       "</style>\n",
       "<div class=\"ansiout\"></div>"
      ]
     },
     "metadata": {
      "application/vnd.databricks.v1+output": {
       "addedWidgets": {},
       "arguments": {},
       "data": "<div class=\"ansiout\"></div>",
       "datasetInfos": [],
       "metadata": {},
       "removedWidgets": [],
       "type": "html"
      }
     },
     "output_type": "display_data"
    }
   ],
   "source": [
    "# treatment_value_any='''\n",
    "\n",
    "\n",
    "\n",
    "\n",
    "# '''.replace(\" \", \"\").replace(\"\\'\", \"\").replace(\"\\\"\", \"\").replace(\"\\n\", \"\").replace(\"\\t\", \"\").lower()"
   ]
  },
  {
   "cell_type": "code",
   "execution_count": 0,
   "metadata": {
    "application/vnd.databricks.v1+cell": {
     "cellMetadata": {
      "byteLimit": 2048000,
      "rowLimit": 10000
     },
     "inputWidgets": {},
     "nuid": "0863f981-6a74-47e2-b4f9-569ca2aedcf8",
     "showTitle": true,
     "title": "Treatment Pre / Post Dates"
    },
    "jupyter": {
     "source_hidden": true
    }
   },
   "outputs": [
    {
     "output_type": "display_data",
     "data": {
      "text/html": [
       "<style scoped>\n",
       "  .ansiout {\n",
       "    display: block;\n",
       "    unicode-bidi: embed;\n",
       "    white-space: pre-wrap;\n",
       "    word-wrap: break-word;\n",
       "    word-break: break-all;\n",
       "    font-family: \"Menlo\", \"Monaco\", \"Consolas\", \"Ubuntu Mono\", \"Source Code Pro\", monospace;\n",
       "    font-size: 13px;\n",
       "    color: #555;\n",
       "    margin-left: 4px;\n",
       "    line-height: 19px;\n",
       "  }\n",
       "</style>\n",
       "<div class=\"ansiout\">\n",
       "  Treatment Start Date: 2023-03-08\n",
       "  Pre-Treatment Start Date: 2023-02-05\n",
       "  Post-Treatment End Date: 2023-05-09\n",
       "  \n",
       "</div>"
      ]
     },
     "metadata": {
      "application/vnd.databricks.v1+output": {
       "addedWidgets": {},
       "arguments": {},
       "data": "<div class=\"ansiout\">\n  Treatment Start Date: 2023-03-08\n  Pre-Treatment Start Date: 2023-02-05\n  Post-Treatment End Date: 2023-05-09\n  \n</div>",
       "datasetInfos": [],
       "metadata": {},
       "removedWidgets": [],
       "type": "html"
      }
     },
     "output_type": "display_data"
    }
   ],
   "source": [
    "# first date for exposure to treatment\n",
    "treatment_start_date = datetime.strptime(treatment_start_date, '%Y-%m-%d').date()\n",
    "\n",
    "# last date for exposure to treatment\n",
    "treatment_end_date = datetime.strptime(treatment_end_date, '%Y-%m-%d').date()\n",
    "\n",
    "# returns the dates for the pre and post period to use in queries\n",
    "if treatment_start_date:\n",
    "  pre_treatment_window = treatment_start_date + timedelta(days= -pre_period_val-1)\n",
    "  post_treatment_window = treatment_end_date + timedelta(days= post_period_val+1)\n",
    "  \n",
    "  \n",
    "  print(f'''\n",
    "  Treatment Start Date: {treatment_start_date}\n",
    "  Pre-Treatment Start Date: {pre_treatment_window}\n",
    "  Post-Treatment End Date: {post_treatment_window}\n",
    "  ''')\n",
    "else:\n",
    "  raise ValueError(f'Select Treatment Start Date Not Detected')\n",
    "\n"
   ]
  },
  {
   "cell_type": "markdown",
   "metadata": {
    "application/vnd.databricks.v1+cell": {
     "cellMetadata": {
      "byteLimit": 2048000,
      "rowLimit": 10000
     },
     "inputWidgets": {},
     "nuid": "a02ef795-7d70-4942-adc1-df08ba84a293",
     "showTitle": false,
     "title": ""
    }
   },
   "source": [
    "\n",
    "## Obtain Member and Clickstream Data"
   ]
  },
  {
   "cell_type": "code",
   "execution_count": 0,
   "metadata": {
    "application/vnd.databricks.v1+cell": {
     "cellMetadata": {
      "byteLimit": 2048000,
      "rowLimit": 10000
     },
     "inputWidgets": {},
     "nuid": "7fac6d5d-87d0-4dd0-95eb-7aa9140a9c9f",
     "showTitle": true,
     "title": "Member Table Query"
    },
    "jupyter": {
     "outputs_hidden": true,
     "source_hidden": true
    }
   },
   "outputs": [
    {
     "output_type": "display_data",
     "data": {
      "text/html": [
       "<style scoped>\n",
       "  .ansiout {\n",
       "    display: block;\n",
       "    unicode-bidi: embed;\n",
       "    white-space: pre-wrap;\n",
       "    word-wrap: break-word;\n",
       "    word-break: break-all;\n",
       "    font-family: \"Menlo\", \"Monaco\", \"Consolas\", \"Ubuntu Mono\", \"Source Code Pro\", monospace;\n",
       "    font-size: 13px;\n",
       "    color: #555;\n",
       "    margin-left: 4px;\n",
       "    line-height: 19px;\n",
       "  }\n",
       "</style>\n",
       "<div class=\"ansiout\"></div>"
      ]
     },
     "metadata": {
      "application/vnd.databricks.v1+output": {
       "addedWidgets": {},
       "arguments": {},
       "data": "<div class=\"ansiout\"></div>",
       "datasetInfos": [],
       "metadata": {},
       "removedWidgets": [],
       "type": "html"
      }
     },
     "output_type": "display_data"
    }
   ],
   "source": [
    "# returns member demographics including upm_id, marketplace, gender, and age bucket\n",
    "member_pre_filter_df = (spark.read.table('member.member_hub')\n",
    "                        .withColumn('age_group', f.when(f.col('age') <= 25, \"<=25\")\n",
    "                                                  .when(f.col('age') > 25, \">25\")\n",
    "                                                  .otherwise('unknown')\n",
    "                                   )\n",
    "                         .select(f.col('source_id').alias('upm_id')\n",
    "                                 , 'preferred_gender'\n",
    "                                 , f.to_date('registration_date').alias('registration_date')\n",
    "                                 , 'age_group'\n",
    "                                )\n",
    "                       )\n",
    "\n",
    "#  widget selector adjusts to the user selected gender\n",
    "if gender_val == 'All':\n",
    "  #member_gender_df = member_pre_filter_df \n",
    "  member_gender_df = member_pre_filter_df.filter(~member_pre_filter_df.preferred_gender.isin(\"U\"))\n",
    "elif gender_val == 'Men':\n",
    "  member_gender_df = member_pre_filter_df.filter(f.col('preferred_gender')=='M')\n",
    "elif gender_val == 'Women':\n",
    "  member_gender_df = member_pre_filter_df.filter(f.col('preferred_gender')=='F')\n",
    "\n",
    "# widget selector adjusts to the user selected age bucket\n",
    "if age_val == 'All':\n",
    "  member_age_df = member_gender_df\n",
    "elif age_val == '<=25':\n",
    "  member_age_df = member_gender_df.filter(f.col('age_group') == '<=25')\n",
    "elif age_val == '>25':\n",
    "  member_age_df = member_gender_df.filter(f.col('age_group') == '>25')"
   ]
  },
  {
   "cell_type": "code",
   "execution_count": 0,
   "metadata": {
    "application/vnd.databricks.v1+cell": {
     "cellMetadata": {
      "byteLimit": 2048000,
      "rowLimit": 10000
     },
     "inputWidgets": {},
     "nuid": "adfde272-cc26-46fb-a35b-2b9a98601edf",
     "showTitle": true,
     "title": "Clickstream Tables Queries"
    },
    "jupyter": {
     "source_hidden": true
    }
   },
   "outputs": [
    {
     "output_type": "display_data",
     "data": {
      "text/html": [
       "<style scoped>\n",
       "  .ansiout {\n",
       "    display: block;\n",
       "    unicode-bidi: embed;\n",
       "    white-space: pre-wrap;\n",
       "    word-wrap: break-word;\n",
       "    word-break: break-all;\n",
       "    font-family: \"Menlo\", \"Monaco\", \"Consolas\", \"Ubuntu Mono\", \"Source Code Pro\", monospace;\n",
       "    font-size: 13px;\n",
       "    color: #555;\n",
       "    margin-left: 4px;\n",
       "    line-height: 19px;\n",
       "  }\n",
       "</style>\n",
       "<div class=\"ansiout\"></div>"
      ]
     },
     "metadata": {
      "application/vnd.databricks.v1+output": {
       "addedWidgets": {},
       "arguments": {},
       "data": "<div class=\"ansiout\"></div>",
       "datasetInfos": [],
       "metadata": {},
       "removedWidgets": [],
       "type": "html"
      }
     },
     "output_type": "display_data"
    }
   ],
   "source": [
    "nikeapp_filter=0\n",
    "ntc_filter=0\n",
    "nrc_filter=0\n",
    "email_filter=0\n",
    "\n",
    "if 'All' in channel_vals:\n",
    "  nikeapp_filter=1\n",
    "  ntc_filter=1\n",
    "  nrc_filter=1\n",
    "  email_filter=1\n",
    "\n",
    "if 'Nike App' in channel_vals:\n",
    "  nikeapp_filter=1\n",
    "  \n",
    "if 'NTC' in channel_vals:\n",
    "  ntc_filter=1\n",
    "  \n",
    "if 'NRC' in channel_vals:\n",
    "  nrc_filter=1\n",
    "  \n",
    "if 'Email' in channel_vals:\n",
    "  email_filter=1\n",
    "  \n",
    "\n",
    "\n",
    "clickstream_hit_nrc = spark.read.table(\"clickstream.hit_nrc\").select('hit_dt', 'upm_id', 'thread_id', 'page_type', 'event_name', 'app_state', 'locale_country').where(col(\"hit_dt\").between(pre_treatment_window, post_treatment_window) & (col('app_state') == \"active\") & (lit(1)==nrc_filter))\n",
    "\n",
    "\n",
    "\n",
    "clickstream_hit_ntc = (spark.read.table(\"clickstream.hit_ntc\").select('hit_dt', 'upm_id','workout_id', \n",
    "                                                                      coalesce('thread_id',when(col('event_name')=='workout started', lower('workout_id')).otherwise(None)),  # adding workout_ids as content identifiers for workout start events to be used as treatment/control selection criteria\n",
    "                                                                      'page_type', 'event_name', 'app_state', 'locale_country')\n",
    "                        .withColumnRenamed('coalesce(thread_id, CASE WHEN (event_name = workout started) THEN lower(workout_id) ELSE NULL END)','thread_id') ).where(col(\"hit_dt\").between(pre_treatment_window, post_treatment_window) & (f.col('app_state') == \"active\") & (lit(1)==ntc_filter) )\n",
    "  \n",
    "\n",
    "clickstream_hit_nikeapp = (spark.read.table(\"clickstream.hit_nikeapp\").select('hit_dt', 'upm_id', 'thread_id', 'page_type', 'event_name', 'locale_country')).where(col(\"hit_dt\").between(pre_treatment_window, post_treatment_window) & (lit(1)==nikeapp_filter))\n",
    "\n",
    "\n",
    "email = (spark.sql('''\n",
    "                    select record_dt as hit_dt, upm_id, comm_id as thread_id, response_type as event_name, lower(b.geo_country_cd) as locale_country\n",
    "                    from  comms.fact_email_response a \n",
    "                    left join gck_common.lu_geo_country b\n",
    "                    on b.geo_country_skey=a.response_geo_country_skey\n",
    "                    where not upm_id is null\n",
    "                    and record_dt between {} and {}\n",
    "                    '''.format('\\''+str(pre_treatment_window)+'\\'','\\''+str(post_treatment_window)+'\\''))\n",
    ").where(lit(1)==email_filter)"
   ]
  },
  {
   "cell_type": "code",
   "execution_count": 0,
   "metadata": {
    "application/vnd.databricks.v1+cell": {
     "cellMetadata": {
      "byteLimit": 2048000,
      "rowLimit": 10000
     },
     "inputWidgets": {},
     "nuid": "21f82c03-d716-47d9-9387-cb6b5894704d",
     "showTitle": true,
     "title": "DOL Queries"
    },
    "jupyter": {
     "source_hidden": true
    }
   },
   "outputs": [
    {
     "output_type": "display_data",
     "data": {
      "text/html": [
       "<style scoped>\n",
       "  .ansiout {\n",
       "    display: block;\n",
       "    unicode-bidi: embed;\n",
       "    white-space: pre-wrap;\n",
       "    word-wrap: break-word;\n",
       "    word-break: break-all;\n",
       "    font-family: \"Menlo\", \"Monaco\", \"Consolas\", \"Ubuntu Mono\", \"Source Code Pro\", monospace;\n",
       "    font-size: 13px;\n",
       "    color: #555;\n",
       "    margin-left: 4px;\n",
       "    line-height: 19px;\n",
       "  }\n",
       "</style>\n",
       "<div class=\"ansiout\"></div>"
      ]
     },
     "metadata": {
      "application/vnd.databricks.v1+output": {
       "addedWidgets": {},
       "arguments": {},
       "data": "<div class=\"ansiout\"></div>",
       "datasetInfos": [],
       "metadata": {},
       "removedWidgets": [],
       "type": "html"
      }
     },
     "output_type": "display_data"
    }
   ],
   "source": [
    "\n",
    "digital_demand = (spark.sql(\n",
    "  '''\n",
    "  select cast(to_date(order_dt) AS string ) as hit_dt, upm_id, lower(bill_country_cd) as locale_country,\n",
    "  sum(grd_amt_excl_tax_usd) as total_demand,\n",
    "  sum( case when franchise ilike {} or consumer_construct_dimension_name ilike {} or consumer_construct_global_consumer_offense_name ilike {} then grd_amt_excl_tax_usd else 0 end) as selected_product_group_demand\n",
    "  from  dtc_integrated.dtc_digital_order_line\n",
    "  where order_dt between {} and {}\n",
    "  and not upm_id is null\n",
    "  group by hit_dt, upm_id, locale_country\n",
    "  having total_demand>0\n",
    "  '''.format(product_group, product_group, product_group, '\\''+str(pre_treatment_window)+'\\'', '\\''+str(post_treatment_window)+'\\'')\n",
    "  )\n",
    "                  )\n",
    "\n",
    "\n",
    "##  dgtl_display_desc ilike {}\n"
   ]
  },
  {
   "cell_type": "code",
   "execution_count": 0,
   "metadata": {
    "application/vnd.databricks.v1+cell": {
     "cellMetadata": {
      "byteLimit": 2048000,
      "rowLimit": 10000
     },
     "inputWidgets": {},
     "nuid": "91099ed2-7c34-43f6-8337-80f7faa18713",
     "showTitle": true,
     "title": "Geo and Marketplace Filter"
    },
    "jupyter": {
     "source_hidden": true
    }
   },
   "outputs": [
    {
     "output_type": "display_data",
     "data": {
      "text/html": [
       "<style scoped>\n",
       "  .ansiout {\n",
       "    display: block;\n",
       "    unicode-bidi: embed;\n",
       "    white-space: pre-wrap;\n",
       "    word-wrap: break-word;\n",
       "    word-break: break-all;\n",
       "    font-family: \"Menlo\", \"Monaco\", \"Consolas\", \"Ubuntu Mono\", \"Source Code Pro\", monospace;\n",
       "    font-size: 13px;\n",
       "    color: #555;\n",
       "    margin-left: 4px;\n",
       "    line-height: 19px;\n",
       "  }\n",
       "</style>\n",
       "<div class=\"ansiout\"></div>"
      ]
     },
     "metadata": {
      "application/vnd.databricks.v1+output": {
       "addedWidgets": {},
       "arguments": {},
       "data": "<div class=\"ansiout\"></div>",
       "datasetInfos": [],
       "metadata": {},
       "removedWidgets": [],
       "type": "html"
      }
     },
     "output_type": "display_data"
    }
   ],
   "source": [
    "# widget selector adjusts to the user selected geo\n",
    "if geo_val in ('APLA','EMEA','NA'):\n",
    "\n",
    "  if geo_val == 'APLA':\n",
    "    countries = ['cl','sg','ec','kr','th','gq','nz','uy','ar','id','ve','au','co','py','my','kp','ph','vn','mx','pe','pa','br','jp','in']\n",
    "    \n",
    "  elif geo_val == 'EMEA':\n",
    "    countries = ['de','rs','es','lr','si','mu','ml','cg','pl','ma','ch','ss','il','km','cm','se','ls','cf','gh','cv','tg','so','ru','na','ng','tr','dz','dj','jo','hr','dk','td','uz','cs','mc','ee','cy','mz','az','gr','fr','sn','gb','it','bi','sa','zm','ke','bf','pt','mr','be','ro','tj','bn','fi','sl','ae','ao','ly','kg','hu','zw','ye','lb','ne','md','et','ps','by','gm','al','ba','tz','an','gw','sd','ua','mk','am','li','ie','rw','nl','sz','iq','bh','sk','cz','ug','bg','bj','qa','gn','me','om','at','ge','mg','sc','lt','ir','lu','lv','sy','mw','fx','kw','er','kz','no','za','eg','bw','tn','ga']\n",
    "    \n",
    "  elif geo_val == 'NA':\n",
    "    countries = ['us','ca']\n",
    "\n",
    "\n",
    "  clickstream_hit_nrc = (clickstream_hit_nrc\n",
    "                              .filter(col('locale_country').isin(countries)))\n",
    "  clickstream_hit_ntc = (clickstream_hit_ntc\n",
    "                              .filter(col('locale_country').isin(countries))) \n",
    "  clickstream_hit_nikeapp = (clickstream_hit_nikeapp\n",
    "                             .filter(col('locale_country').isin(countries)))\n",
    "\n",
    "  email = email.filter(col('locale_country').isin(countries))\n",
    "\n",
    "  digital_demand = digital_demand.filter(col('locale_country').isin(countries))\n",
    "\n",
    "\n",
    "\n",
    "if marketplace_val != 'all' and marketplace_val != '':\n",
    "\n",
    "  clickstream_hit_nrc = (clickstream_hit_nrc\n",
    "                              .filter(col('locale_country').isin(marketplace_val.split(','))))\n",
    "  clickstream_hit_ntc = (clickstream_hit_ntc\n",
    "                              .filter(col('locale_country').isin(marketplace_val.split(',')))) \n",
    "  clickstream_hit_nikeapp = (clickstream_hit_nikeapp\n",
    "                             .filter(col('locale_country').isin(marketplace_val.split(','))))\n",
    "  email = email.filter(col('locale_country').isin(marketplace_val.split(',')))\n",
    "\n",
    "  digital_demand = digital_demand.filter(col('locale_country').isin(marketplace_val.split(',')))\n",
    "\n"
   ]
  },
  {
   "cell_type": "markdown",
   "metadata": {
    "application/vnd.databricks.v1+cell": {
     "cellMetadata": {
      "byteLimit": 2048000,
      "rowLimit": 10000
     },
     "inputWidgets": {},
     "nuid": "3859c238-9f24-4d57-920e-8b779a07ce89",
     "showTitle": false,
     "title": ""
    }
   },
   "source": [
    "## Create Member Engagement Metrics"
   ]
  },
  {
   "cell_type": "code",
   "execution_count": 0,
   "metadata": {
    "application/vnd.databricks.v1+cell": {
     "cellMetadata": {
      "byteLimit": 2048000,
      "rowLimit": 10000
     },
     "inputWidgets": {},
     "nuid": "fdaa1188-e6bb-4cc5-992e-028c6d10a372",
     "showTitle": true,
     "title": "NRC Engagement Metrics"
    },
    "jupyter": {
     "source_hidden": true
    }
   },
   "outputs": [
    {
     "output_type": "display_data",
     "data": {
      "text/html": [
       "<style scoped>\n",
       "  .ansiout {\n",
       "    display: block;\n",
       "    unicode-bidi: embed;\n",
       "    white-space: pre-wrap;\n",
       "    word-wrap: break-word;\n",
       "    word-break: break-all;\n",
       "    font-family: \"Menlo\", \"Monaco\", \"Consolas\", \"Ubuntu Mono\", \"Source Code Pro\", monospace;\n",
       "    font-size: 13px;\n",
       "    color: #555;\n",
       "    margin-left: 4px;\n",
       "    line-height: 19px;\n",
       "  }\n",
       "</style>\n",
       "<div class=\"ansiout\"></div>"
      ]
     },
     "metadata": {
      "application/vnd.databricks.v1+output": {
       "addedWidgets": {},
       "arguments": {},
       "data": "<div class=\"ansiout\"></div>",
       "datasetInfos": [],
       "metadata": {},
       "removedWidgets": [],
       "type": "html"
      }
     },
     "output_type": "display_data"
    }
   ],
   "source": [
    "clickstream_hit_nrc = (clickstream_hit_nrc\n",
    "                       .filter(f.col('upm_id').isNotNull())                       \n",
    "                       .groupBy(f.col('hit_dt'), f.col('upm_id'), f.col('thread_id'))\n",
    "                       .agg(\n",
    "                        max(f.when(f.col('app_state') == \"active\", 1).otherwise(0)).alias('nrc_app_use_count'),\n",
    "                        max(f.when((f.col('page_type') == \"thread\") \n",
    "                                                 & (f.col('event_name') == 'thread viewed')\n",
    "                                                 & (f.col('app_state') == 'active'), 1).otherwise(0)).alias('nrc_thread_view_count'),\n",
    "                        max(f.when((f.col('page_type') == \"run\") \n",
    "                                                 & (f.col('event_name').isin('guided run started', 'quickstart run started'))\n",
    "                                                 & (f.col('app_state') == 'active'), 1).otherwise(0)).alias('nrc_run_start_count')\n",
    "                        )\n",
    "                       )\n"
   ]
  },
  {
   "cell_type": "code",
   "execution_count": 0,
   "metadata": {
    "application/vnd.databricks.v1+cell": {
     "cellMetadata": {
      "byteLimit": 2048000,
      "rowLimit": 10000
     },
     "inputWidgets": {},
     "nuid": "6eaf2d22-a995-475e-89dc-bd9e0dbd321a",
     "showTitle": true,
     "title": "NTC Engagement Metrics"
    },
    "jupyter": {
     "source_hidden": true
    }
   },
   "outputs": [
    {
     "output_type": "display_data",
     "data": {
      "text/html": [
       "<style scoped>\n",
       "  .ansiout {\n",
       "    display: block;\n",
       "    unicode-bidi: embed;\n",
       "    white-space: pre-wrap;\n",
       "    word-wrap: break-word;\n",
       "    word-break: break-all;\n",
       "    font-family: \"Menlo\", \"Monaco\", \"Consolas\", \"Ubuntu Mono\", \"Source Code Pro\", monospace;\n",
       "    font-size: 13px;\n",
       "    color: #555;\n",
       "    margin-left: 4px;\n",
       "    line-height: 19px;\n",
       "  }\n",
       "</style>\n",
       "<div class=\"ansiout\"></div>"
      ]
     },
     "metadata": {
      "application/vnd.databricks.v1+output": {
       "addedWidgets": {},
       "arguments": {},
       "data": "<div class=\"ansiout\"></div>",
       "datasetInfos": [],
       "metadata": {},
       "removedWidgets": [],
       "type": "html"
      }
     },
     "output_type": "display_data"
    }
   ],
   "source": [
    "clickstream_hit_ntc = (clickstream_hit_ntc\n",
    "                       .filter(f.col('upm_id').isNotNull())                       \n",
    "                       .groupBy(f.col('hit_dt'), f.col('upm_id'), f.col('thread_id'))\n",
    "                       .agg(\n",
    "                         max(f.when(f.col('app_state') == \"active\", 1).otherwise(0)).alias('ntc_app_use_count'),\n",
    "                         max(f.when((f.col('page_type') == \"thread\") \n",
    "                                                 & (f.col('event_name') == 'thread viewed')\n",
    "                                                 & (f.col('app_state') == 'active'), 1).otherwise(0)).alias('ntc_thread_view_count'), \n",
    "                         max(f.when((f.col('page_type') == \"workouts\") \n",
    "                                                 & (f.col('event_name') == 'workout started')\n",
    "                                                 & (f.col('app_state') == 'active'), 1).otherwise(0)).alias('ntc_workout_start_count')\n",
    "                         )\n",
    "                       )\n"
   ]
  },
  {
   "cell_type": "code",
   "execution_count": 0,
   "metadata": {
    "application/vnd.databricks.v1+cell": {
     "cellMetadata": {
      "byteLimit": 2048000,
      "rowLimit": 10000
     },
     "inputWidgets": {},
     "nuid": "a0c17fad-6648-481c-b839-84101efe0066",
     "showTitle": true,
     "title": "Nike app Engagement Metrics"
    },
    "jupyter": {
     "source_hidden": true
    }
   },
   "outputs": [
    {
     "output_type": "display_data",
     "data": {
      "text/html": [
       "<style scoped>\n",
       "  .ansiout {\n",
       "    display: block;\n",
       "    unicode-bidi: embed;\n",
       "    white-space: pre-wrap;\n",
       "    word-wrap: break-word;\n",
       "    word-break: break-all;\n",
       "    font-family: \"Menlo\", \"Monaco\", \"Consolas\", \"Ubuntu Mono\", \"Source Code Pro\", monospace;\n",
       "    font-size: 13px;\n",
       "    color: #555;\n",
       "    margin-left: 4px;\n",
       "    line-height: 19px;\n",
       "  }\n",
       "</style>\n",
       "<div class=\"ansiout\"></div>"
      ]
     },
     "metadata": {
      "application/vnd.databricks.v1+output": {
       "addedWidgets": {},
       "arguments": {},
       "data": "<div class=\"ansiout\"></div>",
       "datasetInfos": [],
       "metadata": {},
       "removedWidgets": [],
       "type": "html"
      }
     },
     "output_type": "display_data"
    }
   ],
   "source": [
    "clickstream_hit_nikeapp = (clickstream_hit_nikeapp\n",
    "                       .filter(f.col('upm_id').isNotNull())                       \n",
    "                       .groupBy(f.col('hit_dt'), f.col('upm_id'), f.col('thread_id'))\n",
    "                       .agg(\n",
    "                         max(f.when((clickstream_hit_nikeapp[\"hit_dt\"].isNotNull()), 1)\n",
    "                                          .otherwise(0)).alias('nikeapp_app_use_count'),\n",
    "                         max(f.when((f.col('page_type') == \"thread\") \n",
    "                                                 & (f.col('event_name') == 'thread viewed'), 1)\n",
    "                                          .otherwise(0)).alias('nikeapp_thread_view_count'),\n",
    "                         max(f.when((f.col('event_name').isin('add to cart cta clicked', 'add to bag cta clicked')), 1)\n",
    "                                          .otherwise(0)).alias('nikeapp_add_to_cart_count'),\n",
    "                         max(f.when((f.col('event_name').isin('thread cta clicked')), 1)\n",
    "                                          .otherwise(0)).alias('nikeapp_thread_cta_click_count')\n",
    "                         )\n",
    "                       )\n"
   ]
  },
  {
   "cell_type": "code",
   "execution_count": 0,
   "metadata": {
    "application/vnd.databricks.v1+cell": {
     "cellMetadata": {
      "byteLimit": 2048000,
      "rowLimit": 10000
     },
     "inputWidgets": {},
     "nuid": "6c830906-12da-455d-a326-7905224e5cd4",
     "showTitle": true,
     "title": "Email Engagement Metrics"
    },
    "jupyter": {
     "source_hidden": true
    }
   },
   "outputs": [
    {
     "output_type": "display_data",
     "data": {
      "text/html": [
       "<style scoped>\n",
       "  .ansiout {\n",
       "    display: block;\n",
       "    unicode-bidi: embed;\n",
       "    white-space: pre-wrap;\n",
       "    word-wrap: break-word;\n",
       "    word-break: break-all;\n",
       "    font-family: \"Menlo\", \"Monaco\", \"Consolas\", \"Ubuntu Mono\", \"Source Code Pro\", monospace;\n",
       "    font-size: 13px;\n",
       "    color: #555;\n",
       "    margin-left: 4px;\n",
       "    line-height: 19px;\n",
       "  }\n",
       "</style>\n",
       "<div class=\"ansiout\"></div>"
      ]
     },
     "metadata": {
      "application/vnd.databricks.v1+output": {
       "addedWidgets": {},
       "arguments": {},
       "data": "<div class=\"ansiout\"></div>",
       "datasetInfos": [],
       "metadata": {},
       "removedWidgets": [],
       "type": "html"
      }
     },
     "output_type": "display_data"
    }
   ],
   "source": [
    "email= (email\n",
    "        .groupBy(f.col('hit_dt'), f.col('upm_id'), f.col('thread_id'))\n",
    "        .agg(\n",
    "          max(f.when((f.col('event_name').isin('link click')), 1).otherwise(0)).alias('email_link_click_count'),\n",
    "          max(f.when((f.col('event_name').isin('ecommerce-purchase')), 1).otherwise(0)).alias('email_purchase_count')\n",
    "          ))"
   ]
  },
  {
   "cell_type": "code",
   "execution_count": 0,
   "metadata": {
    "application/vnd.databricks.v1+cell": {
     "cellMetadata": {
      "byteLimit": 2048000,
      "rowLimit": 10000
     },
     "inputWidgets": {},
     "nuid": "44078646-97d6-403d-8998-90945deb815b",
     "showTitle": true,
     "title": "NDDC Purchase Metrics"
    },
    "jupyter": {
     "source_hidden": true
    }
   },
   "outputs": [
    {
     "output_type": "display_data",
     "data": {
      "text/html": [
       "<style scoped>\n",
       "  .ansiout {\n",
       "    display: block;\n",
       "    unicode-bidi: embed;\n",
       "    white-space: pre-wrap;\n",
       "    word-wrap: break-word;\n",
       "    word-break: break-all;\n",
       "    font-family: \"Menlo\", \"Monaco\", \"Consolas\", \"Ubuntu Mono\", \"Source Code Pro\", monospace;\n",
       "    font-size: 13px;\n",
       "    color: #555;\n",
       "    margin-left: 4px;\n",
       "    line-height: 19px;\n",
       "  }\n",
       "</style>\n",
       "<div class=\"ansiout\"></div>"
      ]
     },
     "metadata": {
      "application/vnd.databricks.v1+output": {
       "addedWidgets": {},
       "arguments": {},
       "data": "<div class=\"ansiout\"></div>",
       "datasetInfos": [],
       "metadata": {},
       "removedWidgets": [],
       "type": "html"
      }
     },
     "output_type": "display_data"
    }
   ],
   "source": [
    "\n",
    "member_digital_demand_ts = (digital_demand\n",
    "                 .groupBy(f.col('hit_dt'), f.col('upm_id'))\n",
    "                 .agg(\n",
    "                   max(f.when((f.col('total_demand')>0), 1)\n",
    "                                          .otherwise(0)).alias('nddc_purchase_flag'),\n",
    "                   max(f.when((f.col('selected_product_group_demand')>0), 1)\n",
    "                                          .otherwise(0)).alias('selected_product_nddc_purchase_flag'),\n",
    "                   sum(f.col('total_demand')).alias('nddc_purchase_amount'),\n",
    "                   sum(f.col('selected_product_group_demand')).alias('selected_product_group_nddc_purchase_amount'),\n",
    "                   )\n",
    "                  )"
   ]
  },
  {
   "cell_type": "code",
   "execution_count": 0,
   "metadata": {
    "application/vnd.databricks.v1+cell": {
     "cellMetadata": {
      "byteLimit": 2048000,
      "rowLimit": 10000
     },
     "inputWidgets": {},
     "nuid": "0a539a7c-1f2f-4ee5-8772-d2a8bf05c621",
     "showTitle": true,
     "title": "Table Joins"
    },
    "jupyter": {
     "source_hidden": true
    }
   },
   "outputs": [
    {
     "output_type": "display_data",
     "data": {
      "text/html": [
       "<style scoped>\n",
       "  .ansiout {\n",
       "    display: block;\n",
       "    unicode-bidi: embed;\n",
       "    white-space: pre-wrap;\n",
       "    word-wrap: break-word;\n",
       "    word-break: break-all;\n",
       "    font-family: \"Menlo\", \"Monaco\", \"Consolas\", \"Ubuntu Mono\", \"Source Code Pro\", monospace;\n",
       "    font-size: 13px;\n",
       "    color: #555;\n",
       "    margin-left: 4px;\n",
       "    line-height: 19px;\n",
       "  }\n",
       "</style>\n",
       "<div class=\"ansiout\"></div>"
      ]
     },
     "metadata": {
      "application/vnd.databricks.v1+output": {
       "addedWidgets": {},
       "arguments": {},
       "data": "<div class=\"ansiout\"></div>",
       "datasetInfos": [],
       "metadata": {},
       "removedWidgets": [],
       "type": "html"
      }
     },
     "output_type": "display_data"
    }
   ],
   "source": [
    "#clickstream_hit_eng is used for calcularing member-level metrics and indetifying treatment group\n",
    "\n",
    "clickstream_hit_eng = clickstream_hit_nrc.join(clickstream_hit_ntc, [\"hit_dt\", \"upm_id\", \"thread_id\"], \"outer\")\n",
    "clickstream_hit_eng = clickstream_hit_eng.join(clickstream_hit_nikeapp, [\"hit_dt\", \"upm_id\", \"thread_id\"], \"outer\")\n",
    "clickstream_hit_eng = clickstream_hit_eng.join(email, [\"hit_dt\", \"upm_id\", \"thread_id\"], \"outer\")\n",
    "clickstream_hit_eng = clickstream_hit_eng.fillna(value=0)\n",
    "clickstream_hit_eng = clickstream_hit_eng.withColumn('week_number', weekofyear(clickstream_hit_eng.hit_dt)) \n",
    "\n"
   ]
  },
  {
   "cell_type": "code",
   "execution_count": 0,
   "metadata": {
    "application/vnd.databricks.v1+cell": {
     "cellMetadata": {
      "byteLimit": 2048000,
      "rowLimit": 10000
     },
     "inputWidgets": {},
     "nuid": "4ae1d770-34d3-47da-881e-0f3073bb8415",
     "showTitle": true,
     "title": "Treatment/Control Content Labeling"
    },
    "jupyter": {
     "source_hidden": true
    }
   },
   "outputs": [
    {
     "output_type": "display_data",
     "data": {
      "text/html": [
       "<style scoped>\n",
       "  .ansiout {\n",
       "    display: block;\n",
       "    unicode-bidi: embed;\n",
       "    white-space: pre-wrap;\n",
       "    word-wrap: break-word;\n",
       "    word-break: break-all;\n",
       "    font-family: \"Menlo\", \"Monaco\", \"Consolas\", \"Ubuntu Mono\", \"Source Code Pro\", monospace;\n",
       "    font-size: 13px;\n",
       "    color: #555;\n",
       "    margin-left: 4px;\n",
       "    line-height: 19px;\n",
       "  }\n",
       "</style>\n",
       "<div class=\"ansiout\"></div>"
      ]
     },
     "metadata": {
      "application/vnd.databricks.v1+output": {
       "addedWidgets": {},
       "arguments": {},
       "data": "<div class=\"ansiout\"></div>",
       "datasetInfos": [],
       "metadata": {},
       "removedWidgets": [],
       "type": "html"
      }
     },
     "output_type": "display_data"
    }
   ],
   "source": [
    "clickstream_hit_eng = (clickstream_hit_eng.withColumn(\"treatment_value_any\", f.when(f.col('thread_id').isin(treatment_value_any.split(',')), \n",
    "                                                                        f.lit(\"y\")).otherwise(f.lit(\"n\"))) \n",
    "                                 .withColumn(\"treatment_value_none\", f.when(f.col('thread_id').isin(treatment_value_none.split(',')), \n",
    "                                                                        f.lit(\"y\")).otherwise(f.lit(\"n\")))\n",
    "                                 .withColumn(\"treatment_value_all\", f.when(f.col('thread_id').isin(treatment_value_all.split(',')), \n",
    "                                                                        f.lit(\"y\")).otherwise(f.lit(\"n\")))\n",
    "                                 .withColumn(\"control_value_any\", f.when(f.col('thread_id').isin(control_value_any.split(',')), \n",
    "                                                                        f.lit(\"y\")).otherwise(f.lit(\"n\")))\n",
    "                                 .withColumn(\"control_value_none\", f.when(f.col('thread_id').isin(control_value_none.split(',')),\n",
    "                                                                     f.lit(\"y\")).otherwise(f.lit(\"n\")))\n",
    "                                 .withColumn(\"control_value_all\", f.when(f.col('thread_id').isin(control_value_all.split(',')), \n",
    "                                                                        f.lit(\"y\")).otherwise(f.lit(\"n\")))\n",
    "                  \n",
    "                  )  "
   ]
  },
  {
   "cell_type": "markdown",
   "metadata": {
    "application/vnd.databricks.v1+cell": {
     "cellMetadata": {
      "byteLimit": 2048000,
      "rowLimit": 10000
     },
     "inputWidgets": {},
     "nuid": "a98a3ec7-75e7-4384-b8a3-43e1244ee92a",
     "showTitle": false,
     "title": ""
    }
   },
   "source": [
    "## Create Member DataFrame with Clickstream and Member_hub Data"
   ]
  },
  {
   "cell_type": "code",
   "execution_count": 0,
   "metadata": {
    "application/vnd.databricks.v1+cell": {
     "cellMetadata": {
      "byteLimit": 2048000,
      "rowLimit": 10000
     },
     "inputWidgets": {},
     "nuid": "97b5d69b-0ee0-4c0e-94a2-e3811b64e1c2",
     "showTitle": false,
     "title": "c360 Base Table (upm_id)"
    },
    "jupyter": {
     "source_hidden": true
    }
   },
   "outputs": [
    {
     "output_type": "display_data",
     "data": {
      "text/html": [
       "<style scoped>\n",
       "  .ansiout {\n",
       "    display: block;\n",
       "    unicode-bidi: embed;\n",
       "    white-space: pre-wrap;\n",
       "    word-wrap: break-word;\n",
       "    word-break: break-all;\n",
       "    font-family: \"Menlo\", \"Monaco\", \"Consolas\", \"Ubuntu Mono\", \"Source Code Pro\", monospace;\n",
       "    font-size: 13px;\n",
       "    color: #555;\n",
       "    margin-left: 4px;\n",
       "    line-height: 19px;\n",
       "  }\n",
       "</style>\n",
       "<div class=\"ansiout\"></div>"
      ]
     },
     "metadata": {
      "application/vnd.databricks.v1+output": {
       "addedWidgets": {},
       "arguments": {},
       "data": "<div class=\"ansiout\"></div>",
       "datasetInfos": [],
       "metadata": {},
       "removedWidgets": [],
       "type": "html"
      }
     },
     "output_type": "display_data"
    }
   ],
   "source": [
    "clickstream_hit_upm_id_level = (clickstream_hit_eng\n",
    "                                .groupBy(f.col('upm_id'))\n",
    "                                .agg(countDistinct(f.when(f.col(\"treatment_value_any\") == 'y', col(\"thread_id\"))).alias('treatment_condition_any_count'),\n",
    "                                     countDistinct(f.when(f.col(\"treatment_value_none\") == 'y', col(\"thread_id\"))).alias('treatment_condition_none_count'),\n",
    "                                     countDistinct(f.when(f.col(\"treatment_value_all\") == 'y', col(\"thread_id\"))).alias('treatment_condition_all_count'),\n",
    "                                     countDistinct(f.when(f.col(\"control_value_any\") == 'y', col(\"thread_id\"))).alias('control_condition_any_count'),\n",
    "                                     countDistinct(f.when(f.col(\"control_value_none\") == 'y', col(\"thread_id\"))).alias('control_condition_none_count'),\n",
    "                                     countDistinct(f.when(f.col(\"control_value_all\") == 'y', col(\"thread_id\"))).alias('control_condition_all_count'),\n",
    "                                     f.min(f.when(f.col(\"thread_id\").isin(treatment_value_any.split(',')),f.col('hit_dt') )).alias('first_treatment_dt'),\n",
    "                                     \n",
    "                                     countDistinct(f.when((col(\"nikeapp_thread_view_count\") > 0) \n",
    "                                                          & (col(\"hit_dt\").between(lit(pre_treatment_window), lit(treatment_start_date) )),\n",
    "                                                          col(\"week_number\"))).alias('pre_treatment_nikeapp_thread_view_week_count'),\n",
    "                                     countDistinct(f.when((col(\"nrc_run_start_count\") > 0) \n",
    "                                                          & (col(\"hit_dt\").between(lit(pre_treatment_window), lit(treatment_start_date))),\n",
    "                                                          col(\"week_number\"))).alias('pre_treatment_nrc_run_start_week_count'),\n",
    "                                     countDistinct(f.when((col(\"ntc_workout_start_count\") > 0) \n",
    "                                                          & (col(\"hit_dt\").between(lit(pre_treatment_window), lit(treatment_start_date))),\n",
    "                                                          col(\"week_number\"))).alias('pre_treatment_ntc_workout_start_week_count'),\n",
    "                                     countDistinct(f.when((col(\"email_link_click_count\") > 0)\n",
    "                                                          & (col(\"hit_dt\").between(lit(pre_treatment_window), lit(treatment_start_date))),\n",
    "                                                          col(\"week_number\"))).alias('pre_treatment_email_link_click_week_count')\n",
    "                                    )\n",
    "                               )\n",
    "\n",
    "clickstream_hit_upm_id_level = clickstream_hit_upm_id_level.fillna(value=str(treatment_start_date), subset=[\"first_treatment_dt\"])"
   ]
  },
  {
   "cell_type": "code",
   "execution_count": 0,
   "metadata": {
    "application/vnd.databricks.v1+cell": {
     "cellMetadata": {
      "byteLimit": 2048000,
      "rowLimit": 10000
     },
     "inputWidgets": {},
     "nuid": "ac02ecf1-dc67-492d-97dd-0f9a8afa7648",
     "showTitle": true,
     "title": "Treatment/Control Member Labling"
    },
    "jupyter": {
     "outputs_hidden": true,
     "source_hidden": true
    }
   },
   "outputs": [
    {
     "output_type": "display_data",
     "data": {
      "text/html": [
       "<style scoped>\n",
       "  .ansiout {\n",
       "    display: block;\n",
       "    unicode-bidi: embed;\n",
       "    white-space: pre-wrap;\n",
       "    word-wrap: break-word;\n",
       "    word-break: break-all;\n",
       "    font-family: \"Menlo\", \"Monaco\", \"Consolas\", \"Ubuntu Mono\", \"Source Code Pro\", monospace;\n",
       "    font-size: 13px;\n",
       "    color: #555;\n",
       "    margin-left: 4px;\n",
       "    line-height: 19px;\n",
       "  }\n",
       "</style>\n",
       "<div class=\"ansiout\"></div>"
      ]
     },
     "metadata": {
      "application/vnd.databricks.v1+output": {
       "addedWidgets": {},
       "arguments": {},
       "data": "<div class=\"ansiout\"></div>",
       "datasetInfos": [],
       "metadata": {},
       "removedWidgets": [],
       "type": "html"
      }
     },
     "output_type": "display_data"
    }
   ],
   "source": [
    "treatment_value_all_values = len(set(treatment_value_all))\n",
    "control_value_all_values = len(set(control_value_all))\n",
    "\n",
    "member = (clickstream_hit_upm_id_level.join(member_age_df, on=\"upm_id\", how=\"inner\")\n",
    "                                      .withColumn(\"control_condition_any\", f.when(f.col('control_condition_any_count') > 0, f.lit(\"y\")).otherwise(f.lit(\"n\")))\n",
    "                                      .withColumn(\"control_condition_none\", f.when(f.col('control_condition_none_count') == 0, f.lit(\"y\")).otherwise(f.lit(\"n\")))\n",
    "                                      .withColumn(\"control_condition_all\", f.when(f.col('control_condition_all_count') == f.lit(control_value_all_values),\n",
    "                                                                                    f.lit(\"y\")).otherwise(f.lit(\"n\")))\n",
    "                                      .withColumn(\"treatment_condition_any\", f.when(f.col('treatment_condition_any_count') > 0, f.lit(\"y\")).otherwise(f.lit(\"n\")))\n",
    "                                      .withColumn(\"treatment_condition_none\", f.when(f.col('treatment_condition_none_count') == 0, f.lit(\"y\")).otherwise(f.lit(\"n\")))\n",
    "                                      .withColumn(\"treatment_condition_all\", f.when(f.col('treatment_condition_all_count') == f.lit(treatment_value_all_values),\n",
    "                                                                                   f.lit(\"y\")).otherwise(f.lit(\"n\")))\n",
    "         )\n",
    "\n",
    "\n",
    "member = (member.withColumn(\"t_c_flag\",  f.when(f.col(\"treatment_condition_any\") == 'y', lit(\"t\"))\n",
    "                                         .when(f.col(\"control_condition_none\") == 'y', lit(\"c\")))\n",
    "         )     "
   ]
  },
  {
   "cell_type": "code",
   "execution_count": 0,
   "metadata": {
    "application/vnd.databricks.v1+cell": {
     "cellMetadata": {
      "byteLimit": 2048000,
      "rowLimit": 10000
     },
     "inputWidgets": {},
     "nuid": "f4122394-c411-4c3c-80ef-8293d13b786a",
     "showTitle": false,
     "title": "Member Tenure"
    },
    "jupyter": {
     "outputs_hidden": true,
     "source_hidden": true
    }
   },
   "outputs": [
    {
     "output_type": "display_data",
     "data": {
      "text/html": [
       "<style scoped>\n",
       "  .ansiout {\n",
       "    display: block;\n",
       "    unicode-bidi: embed;\n",
       "    white-space: pre-wrap;\n",
       "    word-wrap: break-word;\n",
       "    word-break: break-all;\n",
       "    font-family: \"Menlo\", \"Monaco\", \"Consolas\", \"Ubuntu Mono\", \"Source Code Pro\", monospace;\n",
       "    font-size: 13px;\n",
       "    color: #555;\n",
       "    margin-left: 4px;\n",
       "    line-height: 19px;\n",
       "  }\n",
       "</style>\n",
       "<div class=\"ansiout\"></div>"
      ]
     },
     "metadata": {
      "application/vnd.databricks.v1+output": {
       "addedWidgets": {},
       "arguments": {},
       "data": "<div class=\"ansiout\"></div>",
       "datasetInfos": [],
       "metadata": {},
       "removedWidgets": [],
       "type": "html"
      }
     },
     "output_type": "display_data"
    }
   ],
   "source": [
    "\n",
    "member = (member.withColumn(\"tenure_group\", f.when(f.col('registration_date') <= f.date_sub(f.col('first_treatment_dt'), 180), lit(\"tenure>=180\"))\n",
    "                                           .when((f.col('registration_date') < f.date_sub(f.col('first_treatment_dt'), 7))\n",
    "                                                  & (f.col('registration_date') > f.date_sub(f.col('first_treatment_dt'), 180)), lit(\"7<tenure<180\"))\n",
    "                                            .when(f.col('registration_date') >= f.date_sub(f.col('first_treatment_dt'), 7), lit(\"tenure<=7\"))\n",
    "                                            .otherwise(\"unknown\")\n",
    "                           )\n",
    "         )"
   ]
  },
  {
   "cell_type": "code",
   "execution_count": 0,
   "metadata": {
    "application/vnd.databricks.v1+cell": {
     "cellMetadata": {
      "byteLimit": 2048000,
      "rowLimit": 10000
     },
     "inputWidgets": {},
     "nuid": "c068dc68-8409-4a0e-877b-8e9211434de0",
     "showTitle": true,
     "title": "Member Activity Cadence"
    },
    "jupyter": {
     "source_hidden": true
    }
   },
   "outputs": [
    {
     "output_type": "display_data",
     "data": {
      "text/html": [
       "<style scoped>\n",
       "  .ansiout {\n",
       "    display: block;\n",
       "    unicode-bidi: embed;\n",
       "    white-space: pre-wrap;\n",
       "    word-wrap: break-word;\n",
       "    word-break: break-all;\n",
       "    font-family: \"Menlo\", \"Monaco\", \"Consolas\", \"Ubuntu Mono\", \"Source Code Pro\", monospace;\n",
       "    font-size: 13px;\n",
       "    color: #555;\n",
       "    margin-left: 4px;\n",
       "    line-height: 19px;\n",
       "  }\n",
       "</style>\n",
       "<div class=\"ansiout\"></div>"
      ]
     },
     "metadata": {
      "application/vnd.databricks.v1+output": {
       "addedWidgets": {},
       "arguments": {},
       "data": "<div class=\"ansiout\"></div>",
       "datasetInfos": [],
       "metadata": {},
       "removedWidgets": [],
       "type": "html"
      }
     },
     "output_type": "display_data"
    }
   ],
   "source": [
    "# used to create activity cadence for stratified sampling\n",
    "member = (member.withColumn('nrc_run_cadence',\n",
    "                            f.when((f.col(\"pre_treatment_nrc_run_start_week_count\") == 0) , lit(\"no runs\"))\n",
    "                            .when(f.max(f.col('pre_treatment_nrc_run_start_week_count') / 2).over(Window.partitionBy('tenure_group')) > f.col('pre_treatment_nrc_run_start_week_count'), lit(\"low run cadende\"))\n",
    "                            .otherwise(lit(\"high run cadende\")))\n",
    "                .withColumn('ntc_workout_cadence', \n",
    "                            f.when((f.col(\"pre_treatment_ntc_workout_start_week_count\") == 0) , lit(\"no workouts\"))\n",
    "                            .when(f.max(f.col('pre_treatment_ntc_workout_start_week_count') / 2).over(Window.partitionBy('tenure_group')) > f.col('pre_treatment_ntc_workout_start_week_count'), lit(\"low workout cadende\"))\n",
    "                            .otherwise(lit(\"high workout cadende\")))\n",
    "                .withColumn('nikeapp_thread_view_cadence', \n",
    "                            f.when((f.col(\"pre_treatment_nikeapp_thread_view_week_count\") == 0) , lit(\"no nikeapp thread views\"))\n",
    "                            .when(f.max(f.col('pre_treatment_nikeapp_thread_view_week_count') / 2).over(Window.partitionBy('tenure_group')) > f.col('pre_treatment_nikeapp_thread_view_week_count'), lit(\"low nikeapp thread view cadence\"))\n",
    "                            .otherwise(lit(\"high nikeapp thread view cadence\")))\n",
    "                .withColumn('email_link_click_cadence', \n",
    "                            f.when((f.col(\"pre_treatment_email_link_click_week_count\") == 0) , lit(\"no email link clicks\"))\n",
    "                            .when(f.max(f.col('pre_treatment_email_link_click_week_count') / 2).over(Window.partitionBy('tenure_group')) > f.col('pre_treatment_email_link_click_week_count'), lit(\"low email link click cadence\"))\n",
    "                            .otherwise(lit(\"high email link click cadence\")))\n",
    "          )"
   ]
  },
  {
   "cell_type": "code",
   "execution_count": 0,
   "metadata": {
    "application/vnd.databricks.v1+cell": {
     "cellMetadata": {
      "byteLimit": 2048000,
      "rowLimit": 10000
     },
     "inputWidgets": {},
     "nuid": "b3b0f780-4acb-4610-9e21-b63dcc983c50",
     "showTitle": false,
     "title": "Member Tenure Filter"
    },
    "jupyter": {
     "source_hidden": true
    }
   },
   "outputs": [
    {
     "output_type": "display_data",
     "data": {
      "text/html": [
       "<style scoped>\n",
       "  .ansiout {\n",
       "    display: block;\n",
       "    unicode-bidi: embed;\n",
       "    white-space: pre-wrap;\n",
       "    word-wrap: break-word;\n",
       "    word-break: break-all;\n",
       "    font-family: \"Menlo\", \"Monaco\", \"Consolas\", \"Ubuntu Mono\", \"Source Code Pro\", monospace;\n",
       "    font-size: 13px;\n",
       "    color: #555;\n",
       "    margin-left: 4px;\n",
       "    line-height: 19px;\n",
       "  }\n",
       "</style>\n",
       "<div class=\"ansiout\"></div>"
      ]
     },
     "metadata": {
      "application/vnd.databricks.v1+output": {
       "addedWidgets": {},
       "arguments": {},
       "data": "<div class=\"ansiout\"></div>",
       "datasetInfos": [],
       "metadata": {},
       "removedWidgets": [],
       "type": "html"
      }
     },
     "output_type": "display_data"
    }
   ],
   "source": [
    "# widget selector adjusts to the user registration tenure\n",
    "if 'All' in tenure_val.split(','):\n",
    "  member = member.cache()\n",
    "else:\n",
    "  member = member.where(member.tenure_group.isin(tenure_val.split(','))).cache()"
   ]
  },
  {
   "cell_type": "markdown",
   "metadata": {
    "application/vnd.databricks.v1+cell": {
     "cellMetadata": {
      "byteLimit": 2048000,
      "rowLimit": 10000
     },
     "inputWidgets": {},
     "nuid": "d8b2a81e-8010-4208-b65d-db0af6f5eabc",
     "showTitle": false,
     "title": ""
    }
   },
   "source": [
    "##Member DataFrame read/write "
   ]
  },
  {
   "cell_type": "code",
   "execution_count": 0,
   "metadata": {
    "application/vnd.databricks.v1+cell": {
     "cellMetadata": {
      "byteLimit": 2048000,
      "rowLimit": 10000
     },
     "inputWidgets": {},
     "nuid": "e4b19ea4-20b3-4f54-a435-0e95d541b69a",
     "showTitle": false,
     "title": ""
    }
   },
   "outputs": [
    {
     "output_type": "display_data",
     "data": {
      "text/html": [
       "<style scoped>\n",
       "  .ansiout {\n",
       "    display: block;\n",
       "    unicode-bidi: embed;\n",
       "    white-space: pre-wrap;\n",
       "    word-wrap: break-word;\n",
       "    word-break: break-all;\n",
       "    font-family: \"Menlo\", \"Monaco\", \"Consolas\", \"Ubuntu Mono\", \"Source Code Pro\", monospace;\n",
       "    font-size: 13px;\n",
       "    color: #555;\n",
       "    margin-left: 4px;\n",
       "    line-height: 19px;\n",
       "  }\n",
       "</style>\n",
       "<div class=\"ansiout\">Table already exists, reading the member table from saved path\n",
       "</div>"
      ]
     },
     "metadata": {
      "application/vnd.databricks.v1+output": {
       "addedWidgets": {},
       "arguments": {},
       "data": "<div class=\"ansiout\">Table already exists, reading the member table from saved path\n</div>",
       "datasetInfos": [],
       "metadata": {},
       "removedWidgets": [],
       "type": "html"
      }
     },
     "output_type": "display_data"
    }
   ],
   "source": [
    "try:\n",
    "  member = spark.read.parquet(f'''s3://digital-pschemas-persistent-secure-east/gck/dhelf/cpa/causal_impact/member/{project_val}-{pre_period_val}-{post_period_val}-{marketplace_val}-{gender_val}-{age_val}-{tenure_val}''')\n",
    "  \n",
    "  print(\"Table already exists, reading the member table from saved path\")\n",
    "except:\n",
    "  (member\n",
    "   .write\n",
    "   .mode('overwrite')\n",
    "   .parquet(f'''s3://digital-pschemas-persistent-secure-east/gck/dhelf/cpa/causal_impact/member/{project_val}-{pre_period_val}-{post_period_val}-{marketplace_val}-{gender_val}-{age_val}-{tenure_val}''')\n",
    "  )\n",
    "\n",
    "  member = spark.read.parquet(f'''s3://digital-pschemas-persistent-secure-east/gck/dhelf/cpa/causal_impact/member/{project_val}-{pre_period_val}-{post_period_val}-{marketplace_val}-{gender_val}-{age_val}-{tenure_val}''')\n",
    "  \n",
    "  print(\"New table saved to S3\")\n"
   ]
  },
  {
   "cell_type": "markdown",
   "metadata": {
    "application/vnd.databricks.v1+cell": {
     "cellMetadata": {
      "byteLimit": 2048000,
      "rowLimit": 10000
     },
     "inputWidgets": {},
     "nuid": "7e56033c-a5ea-407b-b941-01b9265e1657",
     "showTitle": false,
     "title": ""
    }
   },
   "source": [
    "## Treatment Group Profile"
   ]
  },
  {
   "cell_type": "code",
   "execution_count": 0,
   "metadata": {
    "application/vnd.databricks.v1+cell": {
     "cellMetadata": {
      "byteLimit": 2048000,
      "rowLimit": 10000
     },
     "inputWidgets": {},
     "nuid": "7fdb50a0-bc1e-485f-8167-449ec6ad06d9",
     "showTitle": false,
     "title": ""
    },
    "jupyter": {
     "source_hidden": true
    }
   },
   "outputs": [
    {
     "output_type": "display_data",
     "data": {
      "text/html": [
       "<style scoped>\n",
       "  .ansiout {\n",
       "    display: block;\n",
       "    unicode-bidi: embed;\n",
       "    white-space: pre-wrap;\n",
       "    word-wrap: break-word;\n",
       "    word-break: break-all;\n",
       "    font-family: \"Menlo\", \"Monaco\", \"Consolas\", \"Ubuntu Mono\", \"Source Code Pro\", monospace;\n",
       "    font-size: 13px;\n",
       "    color: #555;\n",
       "    margin-left: 4px;\n",
       "    line-height: 19px;\n",
       "  }\n",
       "</style>\n",
       "<div class=\"ansiout\">[&#39;nikeapp_thread_view_cadence&#39;, &#39;tenure_group&#39;]\n",
       "</div>"
      ]
     },
     "metadata": {
      "application/vnd.databricks.v1+output": {
       "addedWidgets": {},
       "arguments": {},
       "data": "<div class=\"ansiout\">[&#39;nikeapp_thread_view_cadence&#39;, &#39;tenure_group&#39;]\n</div>",
       "datasetInfos": [],
       "metadata": {},
       "removedWidgets": [],
       "type": "html"
      }
     },
     "output_type": "display_data"
    },
    {
     "output_type": "display_data",
     "data": {
      "image/png": "[encoded data removed]"
     },
     "metadata": {
      "application/vnd.databricks.v1+output": {
       "addedWidgets": {},
       "arguments": {},
       "data": "data:image/png;base64,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",
       "datasetInfos": [],
       "metadata": {
        "imageDimensions": {
         "height": 302,
         "width": 541
        }
       },
       "removedWidgets": [],
       "type": "image"
      },
      "image/png": {
       "height": 302,
       "width": 541
      }
     },
     "output_type": "display_data"
    },
    {
     "output_type": "display_data",
     "data": {
      "image/png": "[encoded data removed]"
     },
     "metadata": {
      "application/vnd.databricks.v1+output": {
       "addedWidgets": {},
       "arguments": {},
       "data": "data:image/png;base64,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",
       "datasetInfos": [],
       "metadata": {
        "imageDimensions": {
         "height": 302,
         "width": 329
        }
       },
       "removedWidgets": [],
       "type": "image"
      },
      "image/png": {
       "height": 302,
       "width": 329
      }
     },
     "output_type": "display_data"
    }
   ],
   "source": [
    "# get values from 'Sampling Matching' Databricks Widget\n",
    "sampling_cols = sampling_val.split(',')\n",
    "sampling_values = len(sampling_cols)\n",
    "print(sampling_cols)\n",
    "\n",
    "\n",
    "member=member.drop(\"sample_array\")\n",
    "member=member.drop(\"sampling\")\n",
    "member = member.select(\"*\", f.array(sampling_cols).alias(\"sample_array\"))\n",
    "\n",
    "# create 'sampling' column by concatenating Sampling Matching values into single string\n",
    "member = (member.select(concat_ws('_', \"sample_array\")\n",
    "                                .alias(\"sampling\"), \"*\")\n",
    "                                .cache())\n",
    "\n",
    "\n",
    "\n",
    "\n",
    "# create member_treatment and member_control based off the t_c_flag\n",
    "member_treatment = member.filter(\"t_c_flag = 't'\")\n",
    "member_control = member.filter(\"t_c_flag = 'c'\")\n",
    "\n",
    "\n",
    "member_treatment_sampling_agg = (member_treatment.filter(~col('sampling').contains('unknown')).groupby('sampling', *[f.col('sample_array')[i].alias(f'sample{i}') for i in range(sampling_values)])\n",
    "                .count()\n",
    "                .withColumn(\"total\", f.sum('count').over(Window.partitionBy()))\\\n",
    "                .withColumn(\"percent\", f.col('count') / f.col('total'))\n",
    "                .drop(\"total\")\n",
    "                .cache()\n",
    ")           \n",
    "\n",
    "member_treatment_sampling_agg_columns = member_treatment_sampling_agg.select(member_treatment.colRegex(\"`(sample)+?.+`\")).columns\n",
    "\n",
    "# used to display the member treatment group sampling percentages\n",
    "for column in member_treatment_sampling_agg_columns:\n",
    "  member_treatment_group_agg = (member_treatment_sampling_agg.groupBy(column)\n",
    "                                                               .agg({\"count\":\"sum\", \"percent\":\"sum\"})\n",
    "                                                               .withColumnRenamed(\"SUM(count)\", \"count\")\n",
    "                                                               .withColumnRenamed(\"SUM(percent)\", \"percent\")\n",
    "                                                               .filter(f.col(column).isNotNull()) \n",
    "                                                               .cache()\n",
    "                                  )\n",
    "\n",
    "  member_treatment_group_agg_df = member_treatment_group_agg.toPandas()\n",
    "  sampling_column = member_treatment_group_agg_df[column]\n",
    "  percent = member_treatment_group_agg_df['percent']\n",
    "\n",
    "  fig = plt.figure(figsize=(5,5))\n",
    "  fig.patch.set_facecolor('black')\n",
    "  plt.rcParams['text.color'] = 'white'\n",
    "  plt.pie(percent, labels=sampling_column, autopct='%1.1f%%', shadow=False, startangle=90, normalize=False)\n",
    "  plt.title(f'Count of Treatment Group: {member_treatment.count()}')\n",
    "  plt.show() "
   ]
  },
  {
   "cell_type": "markdown",
   "metadata": {
    "application/vnd.databricks.v1+cell": {
     "cellMetadata": {
      "byteLimit": 2048000,
      "rowLimit": 10000
     },
     "inputWidgets": {},
     "nuid": "b92f03c5-5392-4dc7-9335-212babfc07b1",
     "showTitle": false,
     "title": ""
    }
   },
   "source": [
    "##Synthetic Control Group Selection based on Selected Criteria"
   ]
  },
  {
   "cell_type": "code",
   "execution_count": 0,
   "metadata": {
    "application/vnd.databricks.v1+cell": {
     "cellMetadata": {
      "byteLimit": 2048000,
      "rowLimit": 10000
     },
     "inputWidgets": {},
     "nuid": "b0ea0617-64a4-438e-890d-4dcd0c5cb036",
     "showTitle": false,
     "title": "Create Multiple Member Control Groups"
    },
    "jupyter": {
     "source_hidden": true
    }
   },
   "outputs": [
    {
     "output_type": "display_data",
     "data": {
      "text/html": [
       "<style scoped>\n",
       "  .ansiout {\n",
       "    display: block;\n",
       "    unicode-bidi: embed;\n",
       "    white-space: pre-wrap;\n",
       "    word-wrap: break-word;\n",
       "    word-break: break-all;\n",
       "    font-family: \"Menlo\", \"Monaco\", \"Consolas\", \"Ubuntu Mono\", \"Source Code Pro\", monospace;\n",
       "    font-size: 13px;\n",
       "    color: #555;\n",
       "    margin-left: 4px;\n",
       "    line-height: 19px;\n",
       "  }\n",
       "</style>\n",
       "<div class=\"ansiout\"></div>"
      ]
     },
     "metadata": {
      "application/vnd.databricks.v1+output": {
       "addedWidgets": {},
       "arguments": {},
       "data": "<div class=\"ansiout\"></div>",
       "datasetInfos": [],
       "metadata": {},
       "removedWidgets": [],
       "type": "html"
      }
     },
     "output_type": "display_data"
    }
   ],
   "source": [
    "\n",
    "member_control_sampling_agg = (member_control.filter(~col('sampling').contains('unknown')).groupby('sampling', *[f.col('sample_array')[i].alias(f'sample{i}') for i in range(sampling_values)])\n",
    "                                                .count()\n",
    "                                                .withColumn(\"total\", f.sum('count').over(Window.partitionBy()))\\\n",
    "                                                .withColumn(\"percent\", f.col('count') / f.col('total'))\n",
    "                                                .drop(\"total\")\n",
    "                                                .cache()\n",
    "                                )           \n",
    "\n",
    "member_control_pd=member_control.filter(~col('sampling').contains('unknown')).orderBy(rand()).limit(5000000).toPandas()\n",
    "treatment_sampling = {row['sampling']: row['percent'] for row in member_treatment_sampling_agg.collect()}\n",
    "control_sampling = {row['sampling']: row['percent'] for row in member_control_sampling_agg.collect()}\n",
    "\n",
    "\n",
    "final_sampling={s:treatment_sampling[s]/control_sampling[s] for s in set(treatment_sampling.keys()).intersection(set(control_sampling.keys())) }\n",
    "total = np.max(list(final_sampling.values()))\n",
    "final_sampling = {k: v / total for k, v in final_sampling.items()}\n",
    "\n",
    "for s in set(control_sampling.keys())-set(treatment_sampling.keys()):\n",
    "  final_sampling[s]=0\n",
    "\n",
    "member_control_sample = member_control_pd.groupby('sampling').apply(lambda x: x.sample(frac=final_sampling[x.name]))\n",
    "del member_control_pd\n",
    "\n",
    "\n",
    "member_control_sample['control_group_number'] = np.random.randint(1, num_control_groups+1, member_control_sample.shape[0])\n",
    "\n",
    "# need to drop first_treatment_dt from control groups since it is treatment start date. to make the two groups more aligned we are updating it using a random first_treatment_dt from treatment group. This helps homohgenizing the two groups more for using days since treatment as the time-series index.\n",
    "member_control_sample=member_control_sample.drop(columns=['sample_array','first_treatment_dt'])\n",
    "member_treatment_first_treatment_dates = member_treatment.select(\"first_treatment_dt\").rdd.flatMap(lambda x: x).collect()\n",
    "member_control_sample['first_treatment_dt']=random.choices(member_treatment_first_treatment_dates,k=len(member_control_sample))\n",
    "\n",
    "member_control_sample=spark.createDataFrame(member_control_sample)\n",
    "\n",
    "member_control_sample=member_control_sample.orderBy(rand())\n",
    "member_control_sample=member_control_sample.limit(1000000).cache()\n",
    "\n"
   ]
  },
  {
   "cell_type": "markdown",
   "metadata": {
    "application/vnd.databricks.v1+cell": {
     "cellMetadata": {
      "byteLimit": 2048000,
      "rowLimit": 10000
     },
     "inputWidgets": {},
     "nuid": "a3237a03-b1aa-4151-b7f2-f5c3eae0f6ad",
     "showTitle": false,
     "title": ""
    }
   },
   "source": [
    "## Member Engagement Time Series"
   ]
  },
  {
   "cell_type": "code",
   "execution_count": 0,
   "metadata": {
    "application/vnd.databricks.v1+cell": {
     "cellMetadata": {
      "byteLimit": 2048000,
      "rowLimit": 10000
     },
     "inputWidgets": {},
     "nuid": "d9ae8eff-6040-460b-8587-42aeb5c38ce1",
     "showTitle": false,
     "title": "Member-Level Time Series (upm_id, hit_date)"
    },
    "jupyter": {
     "source_hidden": true
    }
   },
   "outputs": [
    {
     "output_type": "display_data",
     "data": {
      "text/html": [
       "<style scoped>\n",
       "  .ansiout {\n",
       "    display: block;\n",
       "    unicode-bidi: embed;\n",
       "    white-space: pre-wrap;\n",
       "    word-wrap: break-word;\n",
       "    word-break: break-all;\n",
       "    font-family: \"Menlo\", \"Monaco\", \"Consolas\", \"Ubuntu Mono\", \"Source Code Pro\", monospace;\n",
       "    font-size: 13px;\n",
       "    color: #555;\n",
       "    margin-left: 4px;\n",
       "    line-height: 19px;\n",
       "  }\n",
       "</style>\n",
       "<div class=\"ansiout\"></div>"
      ]
     },
     "metadata": {
      "application/vnd.databricks.v1+output": {
       "addedWidgets": {},
       "arguments": {},
       "data": "<div class=\"ansiout\"></div>",
       "datasetInfos": [],
       "metadata": {},
       "removedWidgets": [],
       "type": "html"
      }
     },
     "output_type": "display_data"
    }
   ],
   "source": [
    "member_eng_ts =  (clickstream_hit_eng\n",
    "              .groupBy(f.col('upm_id'), f.col('hit_dt'))\n",
    "              .agg(max(f.when(f.expr(\"nrc_app_use_count + ntc_app_use_count + nikeapp_app_use_count\") > 0, 1).otherwise(0)).alias('ecosystem_app_use_flag'),\n",
    "                   max(f.when(f.col(\"nrc_app_use_count\") > 0, 1).otherwise(0)).alias('nrc_app_use_flag'),\n",
    "                   max(f.when(f.col(\"ntc_app_use_count\") > 0, 1).otherwise(0)).alias('ntc_app_use_flag'),\n",
    "                   max(f.when(f.col(\"nikeapp_app_use_count\") > 0, 1).otherwise(0)).alias('nikeapp_app_use_flag'),\n",
    "                   max(f.when(f.col(\"nrc_run_start_count\") > 0, 1).otherwise(0)).alias('nrc_run_start_flag'),\n",
    "                   max(f.when(f.col(\"ntc_workout_start_count\") > 0, 1).otherwise(0)).alias('ntc_workout_start_flag'),\n",
    "                   max(f.when(f.col(\"nikeapp_add_to_cart_count\") > 0, 1).otherwise(0)).alias('nikeapp_add_to_cart_flag'),\n",
    "                   max(f.when(f.col(\"nikeapp_thread_cta_click_count\") > 0, 1).otherwise(0)).alias('nikeapp_thread_cta_click_flag'),\n",
    "                   max(f.when(f.col(\"email_link_click_count\") > 0, 1).otherwise(0)).alias('email_link_click_flag'),\n",
    "                   max(f.when(f.col(\"email_purchase_count\") > 0, 1).otherwise(0)).alias('email_purchase_flag'),\n",
    "                   max(f.when(f.expr(\"nikeapp_thread_view_count + nrc_thread_view_count + ntc_thread_view_count\") > 0, 1).otherwise(0)).alias('ecosystem_thread_view_flag')\n",
    "                  )\n",
    "             )\n",
    "\n",
    "# Joining with demand for calculating purchase KPIs\n",
    "\n",
    "member_ts=member_eng_ts.join(member_digital_demand_ts, [\"hit_dt\", \"upm_id\"], \"outer\")\n",
    "\n",
    "member_ts = member_ts.fillna(value=0)"
   ]
  },
  {
   "cell_type": "code",
   "execution_count": 0,
   "metadata": {
    "application/vnd.databricks.v1+cell": {
     "cellMetadata": {
      "byteLimit": 2048000,
      "rowLimit": 10000
     },
     "inputWidgets": {},
     "nuid": "b7622ee5-37df-4662-9136-337c49cc2a86",
     "showTitle": false,
     "title": ""
    },
    "jupyter": {
     "outputs_hidden": true
    }
   },
   "outputs": [
    {
     "output_type": "display_data",
     "data": {
      "text/html": [
       "<style scoped>\n",
       "  .ansiout {\n",
       "    display: block;\n",
       "    unicode-bidi: embed;\n",
       "    white-space: pre-wrap;\n",
       "    word-wrap: break-word;\n",
       "    word-break: break-all;\n",
       "    font-family: \"Menlo\", \"Monaco\", \"Consolas\", \"Ubuntu Mono\", \"Source Code Pro\", monospace;\n",
       "    font-size: 13px;\n",
       "    color: #555;\n",
       "    margin-left: 4px;\n",
       "    line-height: 19px;\n",
       "  }\n",
       "</style>\n",
       "<div class=\"ansiout\"></div>"
      ]
     },
     "metadata": {
      "application/vnd.databricks.v1+output": {
       "addedWidgets": {},
       "arguments": {},
       "data": "<div class=\"ansiout\"></div>",
       "datasetInfos": [],
       "metadata": {},
       "removedWidgets": [],
       "type": "html"
      }
     },
     "output_type": "display_data"
    }
   ],
   "source": [
    "# member_ts = (member_ts.withColumn('ecosystem_app_use_next_7d_flag',\n",
    "#                                   f.when((f.sum(f.col('ecosystem_app_use_flag'))\n",
    "#                                    .over(Window.partitionBy('upm_id').orderBy(\"hit_dt\")\n",
    "#                                    .rowsBetween(Window.currentRow + 1, 8)) > 0) & (f.col('ecosystem_app_use_flag')>0), 1)\n",
    "#                                    .otherwise(0))\n",
    "#             )\n",
    "\n",
    "# member_ts = (member_ts.withColumn('ecosystem_thread_view_next_7d_flag',\n",
    "#                                   f.when((f.sum(f.col('ecosystem_thread_view_flag'))\n",
    "#                                    .over(Window.partitionBy('upm_id').orderBy(\"hit_dt\")\n",
    "#                                    .rowsBetween(Window.currentRow + 1, 8)) > 0) & (f.col('ecosystem_thread_view_flag')>0), 1)\n",
    "#                                    .otherwise(0))\n",
    "#             )\n",
    "\n",
    "            \n",
    "# member_ts = member_ts.fillna(value=0)\n"
   ]
  },
  {
   "cell_type": "code",
   "execution_count": 0,
   "metadata": {
    "application/vnd.databricks.v1+cell": {
     "cellMetadata": {
      "byteLimit": 2048000,
      "rowLimit": 10000
     },
     "inputWidgets": {},
     "nuid": "c39c155d-1672-4a66-9793-1820a1403ae1",
     "showTitle": false,
     "title": ""
    },
    "jupyter": {
     "source_hidden": true
    }
   },
   "outputs": [
    {
     "output_type": "display_data",
     "data": {
      "text/html": [
       "<style scoped>\n",
       "  .ansiout {\n",
       "    display: block;\n",
       "    unicode-bidi: embed;\n",
       "    white-space: pre-wrap;\n",
       "    word-wrap: break-word;\n",
       "    word-break: break-all;\n",
       "    font-family: \"Menlo\", \"Monaco\", \"Consolas\", \"Ubuntu Mono\", \"Source Code Pro\", monospace;\n",
       "    font-size: 13px;\n",
       "    color: #555;\n",
       "    margin-left: 4px;\n",
       "    line-height: 19px;\n",
       "  }\n",
       "</style>\n",
       "<div class=\"ansiout\"></div>"
      ]
     },
     "metadata": {
      "application/vnd.databricks.v1+output": {
       "addedWidgets": {},
       "arguments": {},
       "data": "<div class=\"ansiout\"></div>",
       "datasetInfos": [],
       "metadata": {},
       "removedWidgets": [],
       "type": "html"
      }
     },
     "output_type": "display_data"
    }
   ],
   "source": [
    "member_ts_treatment = member_ts.join(member_treatment, on=\"upm_id\", how=\"inner\")\n",
    "member_ts_treatment = member_ts_treatment.withColumn(\"days_since_treatment\", datediff(col(\"hit_dt\"), col(\"first_treatment_dt\"))).cache()\n",
    "\n",
    "member_ts_control = member_ts.join(member_control_sample, on=\"upm_id\", how=\"inner\")\n",
    "member_ts_control = member_ts_control.withColumn(\"days_since_treatment\", datediff(col(\"hit_dt\"), col(\"first_treatment_dt\"))).cache()"
   ]
  },
  {
   "cell_type": "markdown",
   "metadata": {
    "application/vnd.databricks.v1+cell": {
     "cellMetadata": {
      "byteLimit": 2048000,
      "rowLimit": 10000
     },
     "inputWidgets": {},
     "nuid": "62b09ebe-a58b-4f43-aa42-657e90562240",
     "showTitle": false,
     "title": ""
    }
   },
   "source": [
    "\n",
    "## Create Target KPI Time-Series for Treatment and Control Groups from Member Time Series\t\t\t\t"
   ]
  },
  {
   "cell_type": "code",
   "execution_count": 0,
   "metadata": {
    "application/vnd.databricks.v1+cell": {
     "cellMetadata": {
      "byteLimit": 2048000,
      "rowLimit": 10000
     },
     "inputWidgets": {},
     "nuid": "f7490ce5-9ee1-4d13-8478-40d63facdd9c",
     "showTitle": false,
     "title": "Treatment Group Target KPIs (hit_dt)"
    },
    "jupyter": {
     "source_hidden": true
    }
   },
   "outputs": [
    {
     "output_type": "display_data",
     "data": {
      "text/html": [
       "<style scoped>\n",
       "  .ansiout {\n",
       "    display: block;\n",
       "    unicode-bidi: embed;\n",
       "    white-space: pre-wrap;\n",
       "    word-wrap: break-word;\n",
       "    word-break: break-all;\n",
       "    font-family: \"Menlo\", \"Monaco\", \"Consolas\", \"Ubuntu Mono\", \"Source Code Pro\", monospace;\n",
       "    font-size: 13px;\n",
       "    color: #555;\n",
       "    margin-left: 4px;\n",
       "    line-height: 19px;\n",
       "  }\n",
       "</style>\n",
       "<div class=\"ansiout\"></div>"
      ]
     },
     "metadata": {
      "application/vnd.databricks.v1+output": {
       "addedWidgets": {},
       "arguments": {},
       "data": "<div class=\"ansiout\"></div>",
       "datasetInfos": [],
       "metadata": {},
       "removedWidgets": [],
       "type": "html"
      }
     },
     "output_type": "display_data"
    }
   ],
   "source": [
    "\ttarget_kpi_treatment = (member_ts_treatment\n",
    "                                .groupBy(f.col('days_since_treatment'))\n",
    "                                .agg(\n",
    "                                  countDistinct(f.when(f.col(\"nrc_app_use_flag\") > 0, col(\"upm_id\"))).alias('unique_members_with_nrc_app_opens'),\n",
    "                                  countDistinct(f.when(f.col(\"ntc_app_use_flag\") > 0, col(\"upm_id\"))).alias('unique_members_with_ntc_app_opens'),\n",
    "                                  countDistinct(f.when(f.col(\"nikeapp_app_use_flag\") > 0, col(\"upm_id\"))).alias('unique_members_with_nikeapp_app_opens'),\n",
    "                                  countDistinct(f.when(f.col(\"ecosystem_app_use_flag\") > 0, col(\"upm_id\"))).alias('unique_members_with_ecosystemt_app_opens'),\n",
    "                                  # countDistinct(f.when(f.col(\"ecosystem_app_use_next_7d_flag\") > 0, col(\"upm_id\"))).alias('unique_members_with_7d_returning_ecosystemt_app_opens'),\n",
    "                                  countDistinct(f.when(f.col(\"ecosystem_thread_view_flag\") > 0, col(\"upm_id\"))).alias('unique_members_with_ecosystem_thread_views'),\n",
    "                                  # countDistinct(f.when(f.col(\"ecosystem_thread_view_next_7d_flag\") > 0,col(\"upm_id\"))).alias('unique_members_with_7d_returning_ecosystem_thread_views'),                \n",
    "                                  countDistinct(f.when(f.col(\"nrc_run_start_flag\") > 0, col(\"upm_id\"))).alias('unique_members_with_nrc_run_starts'),\n",
    "                                  countDistinct(f.when(f.col(\"ntc_workout_start_flag\") > 0, col(\"upm_id\"))).alias('unique_members_with_ntc_workout_starts'),\n",
    "                                  countDistinct(f.when(f.col(\"nikeapp_thread_cta_click_flag\") > 0, col(\"upm_id\"))).alias('unique_members_with_nikeapp_thread_cta_clicks'),\n",
    "                                  countDistinct(f.when(f.col(\"email_link_click_flag\") > 0, col(\"upm_id\"))).alias('unique_members_with_email_link_clicks'),\n",
    "                                  countDistinct(f.when(f.col(\"email_purchase_flag\") > 0, col(\"upm_id\"))).alias('unique_members_with_email_purchases'),\n",
    "                                  countDistinct(f.when(f.col(\"nikeapp_add_to_cart_flag\") > 0, col(\"upm_id\"))).alias('unique_members_with_nikeapp_add_to_carts'),\n",
    "                                  countDistinct(f.when(f.col(\"nddc_purchase_flag\") > 0, col(\"upm_id\"))).alias('unique_members_with_nddc_purchases'),\n",
    "                                  countDistinct(f.when(f.col(\"selected_product_nddc_purchase_flag\") > 0, col(\"upm_id\"))).alias('unique_members_with_selected_product_group_nddc_purchases'),\n",
    "                                  sum(f.col('nddc_purchase_amount')).alias('total_nddc_demand'),\n",
    "                                  sum(f.col('selected_product_group_nddc_purchase_amount')).alias('selected_product_group_nddc_demand')\n",
    "                                  \n",
    "                                  )\n",
    "                               )\n"
   ]
  },
  {
   "cell_type": "code",
   "execution_count": 0,
   "metadata": {
    "application/vnd.databricks.v1+cell": {
     "cellMetadata": {
      "byteLimit": 2048000,
      "rowLimit": 10000
     },
     "inputWidgets": {},
     "nuid": "0db6906d-5895-4633-a261-289917cf3e0f",
     "showTitle": false,
     "title": "Control Group Target KPIs (hit_dt)"
    },
    "jupyter": {
     "source_hidden": true
    }
   },
   "outputs": [
    {
     "output_type": "display_data",
     "data": {
      "text/html": [
       "<style scoped>\n",
       "  .ansiout {\n",
       "    display: block;\n",
       "    unicode-bidi: embed;\n",
       "    white-space: pre-wrap;\n",
       "    word-wrap: break-word;\n",
       "    word-break: break-all;\n",
       "    font-family: \"Menlo\", \"Monaco\", \"Consolas\", \"Ubuntu Mono\", \"Source Code Pro\", monospace;\n",
       "    font-size: 13px;\n",
       "    color: #555;\n",
       "    margin-left: 4px;\n",
       "    line-height: 19px;\n",
       "  }\n",
       "</style>\n",
       "<div class=\"ansiout\"></div>"
      ]
     },
     "metadata": {
      "application/vnd.databricks.v1+output": {
       "addedWidgets": {},
       "arguments": {},
       "data": "<div class=\"ansiout\"></div>",
       "datasetInfos": [],
       "metadata": {},
       "removedWidgets": [],
       "type": "html"
      }
     },
     "output_type": "display_data"
    }
   ],
   "source": [
    "target_kpi_control = (member_ts_control\n",
    "                                .groupBy(f.col('days_since_treatment'), f.col('control_group_number'))\n",
    "                                .agg(\n",
    "                                  countDistinct(f.when(f.col(\"nrc_app_use_flag\") > 0, col(\"upm_id\"))).alias('unique_members_with_nrc_app_opens'),\n",
    "                                  countDistinct(f.when(f.col(\"ntc_app_use_flag\") > 0, col(\"upm_id\"))).alias('unique_members_with_ntc_app_opens'),\n",
    "                                  countDistinct(f.when(f.col(\"nikeapp_app_use_flag\") > 0, col(\"upm_id\"))).alias('unique_members_with_nikeapp_app_opens'),\n",
    "                                  countDistinct(f.when(f.col(\"ecosystem_app_use_flag\") > 0, col(\"upm_id\"))).alias('unique_members_with_ecosystemt_app_opens'),\n",
    "                                  # countDistinct(f.when(f.col(\"ecosystem_app_use_next_7d_flag\") > 0, col(\"upm_id\"))).alias('unique_members_with_7d_returning_ecosystemt_app_opens'),\n",
    "                                  countDistinct(f.when(f.col(\"ecosystem_thread_view_flag\") > 0, col(\"upm_id\"))).alias('unique_members_with_ecosystem_thread_views'),\n",
    "                                  # countDistinct(f.when(f.col(\"ecosystem_thread_view_next_7d_flag\") > 0,col(\"upm_id\"))).alias('unique_members_with_7d_returning_ecosystem_thread_views'),                \n",
    "                                  countDistinct(f.when(f.col(\"nrc_run_start_flag\") > 0, col(\"upm_id\"))).alias('unique_members_with_nrc_run_starts'),\n",
    "                                  countDistinct(f.when(f.col(\"ntc_workout_start_flag\") > 0, col(\"upm_id\"))).alias('unique_members_with_ntc_workout_starts'),\n",
    "                                  countDistinct(f.when(f.col(\"nikeapp_thread_cta_click_flag\") > 0, col(\"upm_id\"))).alias('unique_members_with_nikeapp_thread_cta_clicks'),\n",
    "                                  countDistinct(f.when(f.col(\"email_link_click_flag\") > 0, col(\"upm_id\"))).alias('unique_members_with_email_link_clicks'),\n",
    "                                  countDistinct(f.when(f.col(\"email_purchase_flag\") > 0, col(\"upm_id\"))).alias('unique_members_with_email_purchases'),\n",
    "                                  countDistinct(f.when(f.col(\"nikeapp_add_to_cart_flag\") > 0, col(\"upm_id\"))).alias('unique_members_with_nikeapp_add_to_carts'),\n",
    "                                  countDistinct(f.when(f.col(\"nddc_purchase_flag\") > 0, col(\"upm_id\"))).alias('unique_members_with_digital_purchases'),\n",
    "                                  countDistinct(f.when(f.col(\"selected_product_nddc_purchase_flag\") > 0, col(\"upm_id\"))).alias('unique_members_with_selected_product_group_nddc_purchases'),\n",
    "                                  sum(f.col('nddc_purchase_amount')).alias('total_nddc_demand'),\n",
    "                                  sum(f.col('selected_product_group_nddc_purchase_amount')).alias('selected_product_group_nddc_demand')\n",
    "                                  )\n",
    "                               )"
   ]
  },
  {
   "cell_type": "markdown",
   "metadata": {
    "application/vnd.databricks.v1+cell": {
     "cellMetadata": {
      "byteLimit": 2048000,
      "rowLimit": 10000
     },
     "inputWidgets": {},
     "nuid": "01389588-a586-47c6-96cc-a5f6339b87b5",
     "showTitle": false,
     "title": ""
    }
   },
   "source": [
    "## Target KPI Table read/Write"
   ]
  },
  {
   "cell_type": "code",
   "execution_count": 0,
   "metadata": {
    "application/vnd.databricks.v1+cell": {
     "cellMetadata": {
      "byteLimit": 2048000,
      "rowLimit": 10000
     },
     "inputWidgets": {},
     "nuid": "68c6a778-0979-49ca-855e-a95c0244b3ff",
     "showTitle": false,
     "title": ""
    }
   },
   "outputs": [
    {
     "output_type": "display_data",
     "data": {
      "text/html": [
       "<style scoped>\n",
       "  .ansiout {\n",
       "    display: block;\n",
       "    unicode-bidi: embed;\n",
       "    white-space: pre-wrap;\n",
       "    word-wrap: break-word;\n",
       "    word-break: break-all;\n",
       "    font-family: \"Menlo\", \"Monaco\", \"Consolas\", \"Ubuntu Mono\", \"Source Code Pro\", monospace;\n",
       "    font-size: 13px;\n",
       "    color: #555;\n",
       "    margin-left: 4px;\n",
       "    line-height: 19px;\n",
       "  }\n",
       "</style>\n",
       "<div class=\"ansiout\">Table already exists, reading the treatment target KPI table from saved path\n",
       "</div>"
      ]
     },
     "metadata": {
      "application/vnd.databricks.v1+output": {
       "addedWidgets": {},
       "arguments": {},
       "data": "<div class=\"ansiout\">Table already exists, reading the treatment target KPI table from saved path\n</div>",
       "datasetInfos": [],
       "metadata": {},
       "removedWidgets": [],
       "type": "html"
      }
     },
     "output_type": "display_data"
    }
   ],
   "source": [
    "# used for target_kpi_treatment and  target_kpi_control S3 paths\n",
    "sampling_path = sampling_val.replace(\",\", \"-\")\n",
    "sampling_path = sampling_path.replace(\"_\", \"-\")\n",
    "\n",
    "try:\n",
    "  target_kpi_treatment = spark.read.parquet(f's3://digital-pschemas-persistent-secure-east/gck/dhelf/cpa/causal_impact/target_kpi_treatment/{project_val}-{sampling_path}')\n",
    "  \n",
    "  print(\"Table already exists, reading the treatment target KPI table from saved path\")\n",
    "except:\n",
    "  (target_kpi_treatment\n",
    "   .write\n",
    "   .mode('overwrite')\n",
    "   .parquet(f's3://digital-pschemas-persistent-secure-east/gck/dhelf/cpa/causal_impact/target_kpi_treatment/{project_val}-{sampling_path}')\n",
    "  )\n",
    "  \n",
    "  target_kpi_treatment = spark.read.parquet(f's3://digital-pschemas-persistent-secure-east/gck/dhelf/cpa/causal_impact/target_kpi_treatment/{project_val}-{sampling_path}')\n",
    "  \n",
    "  print(\"New treatment target KPI table saved to S3\")"
   ]
  },
  {
   "cell_type": "code",
   "execution_count": 0,
   "metadata": {
    "application/vnd.databricks.v1+cell": {
     "cellMetadata": {
      "byteLimit": 2048000,
      "rowLimit": 10000
     },
     "inputWidgets": {},
     "nuid": "5b70828f-af17-411e-bd71-191498166b37",
     "showTitle": false,
     "title": ""
    }
   },
   "outputs": [
    {
     "output_type": "display_data",
     "data": {
      "text/html": [
       "<style scoped>\n",
       "  .ansiout {\n",
       "    display: block;\n",
       "    unicode-bidi: embed;\n",
       "    white-space: pre-wrap;\n",
       "    word-wrap: break-word;\n",
       "    word-break: break-all;\n",
       "    font-family: \"Menlo\", \"Monaco\", \"Consolas\", \"Ubuntu Mono\", \"Source Code Pro\", monospace;\n",
       "    font-size: 13px;\n",
       "    color: #555;\n",
       "    margin-left: 4px;\n",
       "    line-height: 19px;\n",
       "  }\n",
       "</style>\n",
       "<div class=\"ansiout\">Table already exists, reading the control target KPI table from saved path\n",
       "</div>"
      ]
     },
     "metadata": {
      "application/vnd.databricks.v1+output": {
       "addedWidgets": {},
       "arguments": {},
       "data": "<div class=\"ansiout\">Table already exists, reading the control target KPI table from saved path\n</div>",
       "datasetInfos": [],
       "metadata": {},
       "removedWidgets": [],
       "type": "html"
      }
     },
     "output_type": "display_data"
    }
   ],
   "source": [
    "try:\n",
    "  target_kpi_control = spark.read.parquet(f's3://digital-pschemas-persistent-secure-east/gck/dhelf/cpa/causal_impact/target_kpi_control/{project_val}-{sampling_path}')\n",
    "  \n",
    "  print(\"Table already exists, reading the control target KPI table from saved path\")\n",
    "except:\n",
    "  (target_kpi_control\n",
    "   .write\n",
    "   .mode('overwrite')\n",
    "   .parquet(f's3://digital-pschemas-persistent-secure-east/gck/dhelf/cpa/causal_impact/target_kpi_control/{project_val}-{sampling_path}')\n",
    "   )\n",
    "  \n",
    "  target_kpi_control = spark.read.parquet(f's3://digital-pschemas-persistent-secure-east/gck/dhelf/cpa/causal_impact/target_kpi_control/{project_val}-{sampling_path}')\n",
    "  print(\"New control target KPI table saved to S3\")\n"
   ]
  },
  {
   "cell_type": "markdown",
   "metadata": {
    "application/vnd.databricks.v1+cell": {
     "cellMetadata": {
      "byteLimit": 2048000,
      "rowLimit": 10000
     },
     "inputWidgets": {},
     "nuid": "c9db6243-215b-49a7-bc84-5c01b168b534",
     "showTitle": false,
     "title": ""
    }
   },
   "source": [
    "## Run Causal Impact Analysis for Selected Target KPI"
   ]
  },
  {
   "cell_type": "code",
   "execution_count": 0,
   "metadata": {
    "application/vnd.databricks.v1+cell": {
     "cellMetadata": {
      "byteLimit": 2048000,
      "rowLimit": 10000
     },
     "inputWidgets": {},
     "nuid": "0ecd990a-f5b8-4945-92fb-2bf48896238f",
     "showTitle": false,
     "title": ""
    },
    "jupyter": {
     "source_hidden": true
    }
   },
   "outputs": [
    {
     "output_type": "display_data",
     "data": {
      "text/html": [
       "<style scoped>\n",
       "  .ansiout {\n",
       "    display: block;\n",
       "    unicode-bidi: embed;\n",
       "    white-space: pre-wrap;\n",
       "    word-wrap: break-word;\n",
       "    word-break: break-all;\n",
       "    font-family: \"Menlo\", \"Monaco\", \"Consolas\", \"Ubuntu Mono\", \"Source Code Pro\", monospace;\n",
       "    font-size: 13px;\n",
       "    color: #555;\n",
       "    margin-left: 4px;\n",
       "    line-height: 19px;\n",
       "  }\n",
       "</style>\n",
       "<div class=\"ansiout\">Current Target KPI to be used for Causal Impact Analysis: unique_members_with_selected_product_group_nddc_purchases\n",
       "</div>"
      ]
     },
     "metadata": {
      "application/vnd.databricks.v1+output": {
       "addedWidgets": {},
       "arguments": {},
       "data": "<div class=\"ansiout\">Current Target KPI to be used for Causal Impact Analysis: unique_members_with_selected_product_group_nddc_purchases\n</div>",
       "datasetInfos": [],
       "metadata": {},
       "removedWidgets": [],
       "type": "html"
      }
     },
     "output_type": "display_data"
    }
   ],
   "source": [
    "# Final pandas dataframe after filtering for one target KPI granularity\n",
    "final = target_kpi_treatment.toPandas()[['days_since_treatment', target_kpi_val]]\n",
    "final.set_index('days_since_treatment', inplace=True)\n",
    "final = final.merge(target_kpi_control.toPandas().pivot(index='days_since_treatment',columns='control_group_number',values=target_kpi_val),left_index=True, right_index=True)\n",
    "\n",
    "final= final.sort_index(ascending=True)\n",
    "final = final.rename(columns={target_kpi_val: 'treatment_group'})\n",
    "\n",
    "#final.columns = ['treatment_group']+['synthetic_control_group_'+str(i+1) for i in range(num_control_groups+1)]\n",
    "final.columns = ['treatment_group']+['synthetic_control_group_'+str(i+1) for i in range(num_control_groups)]\n",
    "\n",
    "final = final.fillna(0.0)\n",
    "\n",
    "print(\"Current Target KPI to be used for Causal Impact Analysis: {0}\".format(target_kpi_val))"
   ]
  },
  {
   "cell_type": "markdown",
   "metadata": {
    "application/vnd.databricks.v1+cell": {
     "cellMetadata": {
      "byteLimit": 2048000,
      "rowLimit": 10000
     },
     "inputWidgets": {},
     "nuid": "ff1f8e97-ff16-4886-b70c-a2da8b86115a",
     "showTitle": false,
     "title": ""
    }
   },
   "source": [
    "The causality analysis has two assumptions:\n",
    "* Assumption 1: There are one or more control time series that are highly correlated with the response variable, but not impacted by the treatment. Violation of this assumption can result in wrong conclusions about the existence, the direction, or the magnitude of the treatment effect.\n",
    "* Assumption 2: The correlation between the control and the response time series is the same for pre and post treatment.\n",
    "\n",
    "The synthetic time series data we created satisfy the two assumptions.\n",
    "\n",
    "The python `CausalImpact` package has a function called `CausalImpact` that implements a Bayesian Structural Time Series Model (BSTS) on the backend. It has three required inputs:\n",
    "* `data` takes the python dataframe name.\n",
    "* `pre_period` takes the starting and the ending index values for the pre-treatment period.\n",
    "* `post_period` takes the starting and the ending index values for the post-treatment period.\n",
    "\n",
    "After saving the output object in a variable called `impact`, we can run `impact.plot()` to visualize the results."
   ]
  },
  {
   "cell_type": "code",
   "execution_count": 0,
   "metadata": {
    "application/vnd.databricks.v1+cell": {
     "cellMetadata": {
      "byteLimit": 2048000,
      "rowLimit": 10000
     },
     "inputWidgets": {},
     "nuid": "c86c883f-f283-4926-bf54-4f1841d25d62",
     "showTitle": true,
     "title": "Visualize treatment and control groups target KPI time-series"
    }
   },
   "outputs": [
    {
     "output_type": "display_data",
     "data": {
      "text/html": [
       "<style scoped>\n",
       "  .ansiout {\n",
       "    display: block;\n",
       "    unicode-bidi: embed;\n",
       "    white-space: pre-wrap;\n",
       "    word-wrap: break-word;\n",
       "    word-break: break-all;\n",
       "    font-family: \"Menlo\", \"Monaco\", \"Consolas\", \"Ubuntu Mono\", \"Source Code Pro\", monospace;\n",
       "    font-size: 13px;\n",
       "    color: #555;\n",
       "    margin-left: 4px;\n",
       "    line-height: 19px;\n",
       "  }\n",
       "</style>\n",
       "<div class=\"ansiout\">Out[60]: </div>"
      ]
     },
     "metadata": {
      "application/vnd.databricks.v1+output": {
       "addedWidgets": {},
       "arguments": {},
       "data": "<div class=\"ansiout\">Out[60]: </div>",
       "datasetInfos": [],
       "metadata": {},
       "removedWidgets": [],
       "type": "html"
      }
     },
     "output_type": "display_data"
    },
    {
     "output_type": "display_data",
     "data": {
      "image/png": "[encoded data removed]"
     },
     "metadata": {
      "application/vnd.databricks.v1+output": {
       "addedWidgets": {},
       "arguments": {},
       "data": "data:image/png;base64,iVBORw0KGgoAAAANSUhEUgAABJIAAAJNCAYAAABqVV/fAAAAOXRFWHRTb2Z0d2FyZQBNYXRwbG90bGliIHZlcnNpb24zLjQuMiwgaHR0cHM6Ly9tYXRwbG90bGliLm9yZy8rg+JYAAAACXBIWXMAAAsTAAALEwEAmpwYAAEAAElEQVR4nOzdd3xUVf7/8dedyUx6I41OAFFEihQVFCkCYi/YO9ZdrLuuu+tvV7+I67qIu2tbdXdVwO6KHbAgRVGkSAsBBBUTOum9zWTm/P5IyMJKyAAzuUl4Px+P+0jmzr3nvBMQyYdzPtcyxiAiIiIiIiIiItIUh90BRERERERERESkdVAhSUREREREREREAqJCkoiIiIiIiIiIBESFJBERERERERERCYgKSSIiIiIiIiIiEpAwuwMcCcuy9Mg5ERERERGRRhxb//F7W1OISCuUb4xJOdAbrbqQJCIiIiIiIo37V/3H0bamEJFWaGtjb2hrm4iIiIiIiIiIBESFJBERERERERERCYgKSSIiIiIiIiIiEhD1SBIREREREREJscTERH71q1+Rnp6OZVl2xxHBGEN2djZPPvkkRUVFAd9nGdN6H3ymp7aJiIiIiIg0blH9RzXbtt+UKVNYuXIlH3/8MT6fz+44IjidTs4991wGDx7M5MmT//ftVcaYIQe6T1vbREREREREREIsPT1dRSRpUXw+H3PnziU9Pf2Q7lMhSURERERERCTELMtSEUlaHJ/Pd8hbLVVIEhERERERERGRgKiQJCIiIiIiItLGxcfHM2nSpBY3VkuYRw6NCkkiIiIiIiIibVxCQgK33377z847nc6gjRVswZzH4VD5I1j0nRQRERERERFp46ZOnUrPnj1Zs2YNK1asYPHixXz44Yds3LgRh8PBtGnTWLFiBRkZGdx2220AREdHM3/+fFatWsW6deu44IILfjbWtGnTGDlyJF988QUffPABW7Zs4S9/+QtXX301y5cvZ926dfTo0QOA5ORk3nnnHVasWMGKFSs49dRTAZg8eTIvvfQSixYtYsuWLdx1110HnOdALMvi2Wef5bvvvmPevHnMnTuXSy65BICsrCymTp3KqlWruOyyy7jyyitZt24dmZmZTJ06tWGMsrKyhs8vueQSZsyYAcCMGTN4/vnn+fbbb9m8eTPnnntuMH9JWq0wuwOIiIiIiIiIHE0Sx9yKO7VHUMf05P5E0YIXGn3//vvvp2/fvgwcOJCRI0cyd+5c+vbtS3Z2NrfeeislJSWcfPLJuN1ulixZwrx589i+fTsXX3wxZWVlJCUlsWzZMj766KP9xgIYOXIkAwYM4Pjjj6ewsJCffvqJF198kVNOOYW7776bu+66i1//+tc89dRTPPHEEyxZsoQuXbrw2Wef0adPHwB69+7N6NGjiY2NZfPmzTz//PM/m+dAJkyYQHp6On369CE1NZXvvvuO6dOnN7xfUFDA4MGD6dChA8uWLWPw4MEUFRUxb948LrzwQj788MODfl/T09M5+eST6dmzJ4sWLeKYY46hpqbmUH5p2hwVkkRERERERESOMitWrCA7OxuAM888k/79+3PppZcCdb2JevXqxY4dO3j00UcZMWIEfr+fTp06kZaWdsDxvv32W/bs2QPAli1bmDdvHgCZmZmMHj0agLFjxzYUjgDi4uKIjo4GYO7cuXg8HgoKCsjNzW10nv81fPhwZs2ahTGGnJwcFi1atN/7//nPfwA46aST+OKLL8jPzwfg9ddfZ8SIEU0Wkt5++22MMfz444/89NNP9O7dm4yMjICytVUqJImIiIiIiIg0o4OtHGouFRUVDZ9blsVdd93VUPzZ64YbbiAlJYXBgwdTW1tLVlYWERERBxxv31U6fr+/4bXf7ycsrK704HA4GDp06AFX9Ox7zufzNdxzpPb9OhtjjGn4/H+/vn3fO9Dro5F6JImIiIiIiIi0cWVlZcTGxh7wvc8++4xJkyY1FG969epFVFQU8fHx5ObmUltby6hRo0hPT29yrIOZN29eQ/8jgAEDBhx25r2WLFnCJZdcgmVZpKamMmrUqANet2LFCkaOHElSUhIOh4OrrrqKL7/8EoCcnBx69+6NZVlcfPHF+9132WWXYVkWPXr0oEePHmzevDmAr7Rt04okERERERERkTausLCQJUuWkJmZSVVVFTk5OQ3vvfjii6Snp7N69WosyyIvL4+LLrqI119/ndmzZ7Nu3TpWrlzJd99997OxPvnkE+bOnRtQhrvvvptnn32WjIwMwsLCWLx4MZMmTQoo8yeffMLvfve7n13z7rvvMmbMGDZu3Mj27dtZvXo1JSUlP7tuz5493H///SxatAjLspg7dy4fffQRUNc/as6cOeTl5bFy5UpiYmIa7tu2bRsrVqwgLi6OX/7yl0d9fyQAqzUvy7Isq/WGFxERERERCbG93WJG25pCAF555RWuv/56u2O0SdHR0VRUVNCuXTtWrFjBaaedtl+h7HDNmDGDOXPm8O677wYhZcvVyO/NVcaYIQe6XiuSRERERERERKTVmjNnDgkJCbjdbv70pz8FpYgkjVMhSURERERERERatL59+/Lqq6/ud66mpoahQ4c2PBUu2G688caQjNvaqZAkIiIiIiIiIi3a+vXrGThwoN0xBD21TUREREREREREAqRCkoiIiIiIiIiIBESFJBERERERETliET0GE3/aVXbHEJEQUyFJREREREREjljswHOJH3YFONWKV6QtUyFJREREREREjpg7rQeWMwxXuy52RxGREFIhSURERERERI6IIzKOsNhkANyp6faGkZC68MILOf744xteL1q0iMGDBwd8f7du3bjqqv9ugRw8eDBPPfVUUDMGKj4+nkmTJh3yfSNHjmT27NkhSBRcp59+OqtWrcLr9XLJJZcEbVwVkkREREREROSIuNN6NHzuSkm3L4iE3EUXXUSfPn0O+/709HSuvvrqhterVq3innvuCUa0Q5aQkMDtt99+wPecTmfI57csK6Tjb9u2jYkTJ/LGG28EdVwVkkREREREROSIuFN7AuAt3oNbhaQmPTE+nEU3RAX1eGJ8eJPzRkVFMWfOHNauXUtmZiaXX34577//fsP7Y8eO5b333gOgrKyMRx55hLVr17J06VJSU1MZNmwYF1xwAY8//jhr1qyhR4+6AuJll13G8uXL2bx5M8OHDwfA4XAwbdo0VqxYQUZGBrfddhsAU6dO5fTTT2fNmjX86le/2m91T3R0NNOnT2fdunVkZGQwYcKERr+W8ePHs2rVKtauXcv8+fMBSExM5P333ycjI4OlS5fSr18/ACZPnsxLL73EokWL2LJlC3fddVdDlp49e7JmzRqmTZvGyJEjWbx4MR9++CEbN24kPDy8Ic/q1asZNWpUQL++ycnJzJs3j/Xr1/PCCy+QnZ1NUlIS3bp1Y9OmTbz88susX7+eLl26MG3aNDIzM1m3bh2XX3458PMVT8888ww33HADAFlZWTz22GOsW7eO5cuX07Nnz0ZzbN26lczMTPx+f0C5A6UuaCIiIiIiInJE3GndqS3JpWb7eiLSB9odRxpx1llnsWvXLs477zwA4uLimDJlCsnJyeTn53PjjTcyffp0AGJiYli2bBkPPPAAjz32GLfeeit//vOf+eijj5gzZw7vvvtuw7hhYWGccsopnH322UyePJlx48Zx8803U1JSwsknn4zb7WbJkiXMmzeP+++/n/vuu4/zzz8fqCua7PXggw9SUlJC//79gboVQweSnJzMCy+8wIgRI8jOziYxMRGAKVOmsGbNGi6++GJGjx7NK6+8wsCBdb8fe/fuzejRo4mNjWXz5s08//zz3H///fTt27fhmpEjRzJo0CD69u1LdnY29957L8YY+vfvz3HHHce8efM49thjm/w+T548mYULFzJ16lTGjx/PLbfc0vBer169uOGGG1i+fDkTJkzgxBNPZMCAASQnJ/Ptt9+yePHiJsff+z267rrrePLJJxu+l81FhSQRERERERE5Iu60nnhytuDJyyam31gckXH4q0rtjtVi/fqzGlvmzczM5G9/+xtTp05lzpw5fP3117z66qtce+21zJgxg2HDhnH99dcDUFNTw5w5c4C67Wfjxo1rdNy9q5hWrVpFeno6AGeeeSb9+/fn0ksvBer6EfXq1QuPx9PoOGPHjuXKK69seF1cXHzA64YOHcrixYvJzs4GoKioCIDhw4c39AJatGgRSUlJxMbGAjB37lw8Hg8FBQXk5uaSlpZ2wLFXrFjRMO7w4cN55plnANi8eTNbt24NqJA0fPhwLr74YgA+++wzCgsLG97bunUry5cvb7juzTffxO/3k5uby5dffslJJ51EaenB/9t58803Gz4+8cQTTeYJNhWSRERERERE5LBZrnDC2nWi4ruv8OZmAeBOSad62zqbk8n/+uGHHxg0aBDnnHMOjzzyCAsWLODFF19k9uzZVFdXM2vWLHw+HwBer7fhPp/PR1hY4+WDmpqan11nWRZ33XUX8+bN2+/afVcgNae9GeHgX09FRUVIcwQyfm1tLQ7HfzsRRURE7Pe+MeaAnzcX9UgSERERERGRw+ZKSceyHA0rkgBcenJbi9ShQwcqKyt5/fXXefzxxxk0aBC7d+9m165dPPDAA8yYMaPJMcrKyhpW+RzMZ599xqRJkxoKNr169SIqKuqg93/++efccccdDa8b29q2bNkyRowY0bD6ae/Wtq+++oprrrkGqCtY5efnU1ZWdthfy77j9erVi65du7J58+ZGr99ryZIlDf2Oxo0bR7t27Rod/4orrsDhcJCcnMyIESNYsWIFW7dupU+fPrjdbuLj4xkzZsx+911xxRUNH5cuXdpknmDTiiQRERERERE5bO7UuobLntyf8FeW4KsoUsPtFqpfv348/vjj+P1+vF4vkyZNAuD1118nJSWFTZs2NTnGW2+9xQsvvMDdd9/dsG3tQF588UXS09NZvXo1lmWRl5fHRRddxLp16/D5fKxdu5aZM2eyZs2ahnseeeQRnn32WTIzM/H5fEyZMmW/ZuB75efnc9ttt/Hee+/hcDjIzc3lzDPP5KGHHmL69OlkZGRQWVnZ0KC6MYWFhSxZsoTMzEw++eQT5s6du9/7zz33HM8//zzr1q2jtraWiRMnHnRr3l5TpkzhzTff5LrrrmPp0qXs3r2bsrIyYmJi9rvu/fffZ9iwYWRkZGCM4Xe/+x05OTkAvP3226xfv56srKz9vkdQVzjLyMigpqaGq666qtEcQ4YM4f333ycxMZHzzz+fKVOm0Ldv3ybzN8kY02oPwOjQoUOHDh06dOjQoUOHjgMfi+qPUM7RbvwdpvPdbza8Tr3iT6b99X+3/Wtvaccrr7xie4bGjmeeecbcdNNNtudoK4fb7TZOp9MAZujQoWbNmjVBGzsrK8skJSUFNW8jvzdXNlaLaZUrkizLOh9o3rbkIiIiIiIi8jPu1B54c39qeO3NzSZm4DlgOcAE97HjEnwrV66koqKC3/zmN3ZHaTO6du3K22+/jcPhwOPxcOutt9odKahaZSHJGDMbmG1ZVtv61RAREREREWlNLAeulHTK13zccMqTl4XDFU5YYgdqC3faGE4CMWTIELsjHNSyZcsIDw/f79x1113H+vXrbUr0XxMnTuSee+7Z79ySJUu48847GTRoUEjm7N69+8/O/eEPf+Cyyy7b79ysWbN49NFHQ5KhVRaSRERERERExH6upM44XOF49lmR5MnNBuqe3KZCkhypoUOH2h2hUTNnzmTmzJl2x+DRRx8NWdHoQPTUNhERERERETksDY22c/bZ2lawHeP34VLDbZE2SYUkEREREREROSyutB6YWg/ewh3/Penz4i3cqSe3ibRRKiSJiIiIiIjIYXGn9sCTlw1+337nvXnZuFJ/3stFRFo/FZJERERERETksLjTeuDJzfrZeU9uFq6E9ljuSBtSiUgoqZAkIiIiIiIih8wZm4wzMg5PzpafvefN2wqAK7lbc8eSELvwwgs5/vjjG14vWrSIwYMHB3x/t27duOqqqxpeDx48mKeeeiqoGQMVHx/PpEmTDvm+kSNHMnv27BAkCq5f//rXbNiwgYyMDObPn0/Xrl2DMq4KSSIiIiIiInLI3Gl1jba9+zyxbS9PXt0qJfVJansuuugi+vTpc9j3p6enc/XVVze8XrVqFffcc08woh2yhIQEbr/99gO+53Q6Qz6/ZVkhHX/NmjUMGTKEAQMG8M477zBt2rSgjKtCkoiIiIiIiBwyd2oPjPHjyc3+2Xu+0jz8NRW4U9ObPVdr0P7q9nS/v3tQj/ZXt29y3qioKObMmcPatWvJzMzk8ssv5/333294f+zYsbz33nsAlJWV8cgjj7B27VqWLl1Kamoqw4YN44ILLuDxxx9nzZo19OhRV0y87LLLWL58OZs3b2b48OEAOBwOpk2bxooVK8jIyOC2224DYOrUqZx++umsWbOGX/3qV/ut7omOjmb69OmsW7eOjIwMJkyY0OjXMn78eFatWsXatWuZP38+AImJibz//vtkZGSwdOlS+vXrB8DkyZN56aWXWLRoEVu2bOGuu+5qyNKzZ0/WrFnDtGnTGDlyJIsXL+bDDz9k48aNhIeHN+RZvXo1o0aNCujXNzk5mXnz5rF+/XpeeOEFsrOzSUpKolu3bmzatImXX36Z9evX06VLF6ZNm0ZmZibr1q3j8ssvB36+4umZZ57hhhtuACArK4vHHnuMdevWsXz5cnr27Nloji+++IKqqioAli1bRufOnQPK35SwoIwiIiIiIiIiRxV3Wk9qC3dhvNUHfN+Tm40rRQ23W5KzzjqLXbt2cd555wEQFxfHlClTSE5OJj8/nxtvvJHp06cDEBMTw7Jly3jggQd47LHHuPXWW/nzn//MRx99xJw5c3j33Xcbxg0LC+OUU07h7LPPZvLkyYwbN46bb76ZkpISTj75ZNxuN0uWLGHevHncf//93HfffZx//vlAXdFkrwcffJCSkhL69+8P1K0YOpDk5GReeOEFRowYQXZ2NomJiQBMmTKFNWvWcPHFFzN69GheeeUVBg4cCEDv3r0ZPXo0sbGxbN68meeff57777+fvn37NlwzcuRIBg0aRN++fcnOzubee+/FGEP//v057rjjmDdvHscee2yT3+fJkyezcOFCpk6dyvjx47nlllsa3uvVqxc33HADy5cvZ8KECZx44okMGDCA5ORkvv32WxYvXtzk+Hu/R9dddx1PPvlkw/fyYG6++WY++eSTJq8LhApJIiIiIiIicsjcqd2p2f19o+9787KJ7jOy0fePZnve2GPLvJmZmfztb39j6tSpzJkzh6+//ppXX32Va6+9lhkzZjBs2DCuv/56AGpqapgzZw5Qt/1s3LhxjY67dxXTqlWrSE9PB+DMM8+kf//+XHrppUBdP6JevXrh8XgaHWfs2LFceeWVDa+Li4sPeN3QoUNZvHgx2dnZABQVFQEwfPhwLrnkEqCud1NSUhKxsbEAzJ07F4/HQ0FBAbm5uaSlpR1w7BUrVjSMO3z4cJ555hkANm/ezNatWwMqJA0fPpyLL74YgM8++4zCwsKG97Zu3cry5csbrnvzzTfx+/3k5uby5ZdfctJJJ1FaWnrQ8d98882Gj0888USTea655hqGDBmyX9HuSKiQJCIiIiIiIofEER5NWEJ7ytZ+2ug1nrxsYiPOxRmbgq8srxnTSWN++OEHBg0axDnnnMMjjzzCggULePHFF5k9ezbV1dXMmjULn88HgNfrbbjP5/MRFtZ4+aCmpuZn11mWxV133cW8efP2uzZYxYxDtTcjHPzrqaioCGmOQMavra3F4fhvJ6KIiIj93jfGHPDzAxkzZgx//OMfGTly5EGLeIdCPZJERERERETkkLhS63rjeA7QaHsv796G2+qT1GJ06NCByspKXn/9dR5//HEGDRrE7t272bVrFw888AAzZsxocoyysrKGVT4H89lnnzFp0qSGgk2vXr2Iioo66P2ff/45d9xxR8Prxra2LVu2jBEjRjSsftq7te2rr77immuuAeoKVvn5+ZSVlR3217LveL169aJr165s3ry50ev3WrJkSUO/o3HjxtGuXbtGx7/iiitwOBwkJyczYsQIVqxYwdatW+nTpw9ut5v4+HjGjBmz331XXHFFw8elS5c2muPEE0/kX//6FxdccAF5ecEr5mpFkoiIiIiIiBySvU9s8+Q0Xkjy5G0FwJWSTtWWb5sllxxcv379ePzxx/H7/Xi9XiZNmgTA66+/TkpKCps2bWpyjLfeeosXXniBu+++u2Hb2oG8+OKLpKens3r1aizLIi8vj4suuoh169bh8/lYu3YtM2fOZM2aNQ33PPLIIzz77LNkZmbi8/mYMmXKfs3A98rPz+e2227jvffew+FwkJuby5lnnslDDz3E9OnTycjIoLKysqFBdWMKCwtZsmQJmZmZfPLJJ8ydO3e/95977jmef/551q1bR21tLRMnTgxoVc+UKVN48803ue6661i6dCm7d++mrKyMmJiY/a57//33GTZsGBkZGRhj+N3vfkdOTg4Ab7/9NuvXrycrK2u/7xHUFc4yMjKoqanhqquuajTH448/TkxMDLNmzQJg27ZtXHjhhU3mb5IxptUegNGhQ4cOHTp06NChQ4cOHQc+FtUfwR436Zxfm063v9zkdR1/8aJJPv+3tn8fWsLxyiuv2J6hseOZZ54xN910k+052srhdruN0+k0gBk6dKhZs2ZN0MbOysoySUlJQc3byO/NlY3VYrQiSURERERERA6JO63HQbe17eXNy8alrW0t2sqVK6moqOA3v/mN3VHajK5du/L222/jcDjweDzceuutdkcKKhWSREREREREJHBOF66kLlT9uKLJSz152UT2PAmcLvB5m7xemt+QIUPsjnBQy5YtIzw8fL9z1113HevXr7cp0X9NnDiRe+65Z79zS5Ys4c4772TQoEEhmbN79+4/O/eHP/yByy67bL9zs2bN4tFHHw1JBhWSREREREREJGDu5K5YzrDAViTlZmE5nLiSuuAN4HqR/zV06FC7IzRq5syZzJw50+4YPProoyErGh2IntomIiIiIiIiAXOn9QQO3mh7L09edt092t4m0maokCQiIiIiIiIBc6X2wF9TSW3xniavrS3ajd9bgyslPfTBRKRZqJAkIiIiIiIiAatrtJ1F3YOdmmD8ePO34VYhSaTNUCFJREREREREAmThTu2OJ2dLwHd487Jxp/y8QbCItE4qJImIiIiIiEhAwhI74HBH1q9ICownLwtnTCKOqPgQJpPmcuGFF3L88cc3vF60aBGDBw8O+P5u3bpx1VVXNbwePHgwTz31VFAzBio+Pp5JkyYd8n0jR45k9uzZIUgUXL/4xS9Yt24da9as4auvvtrv1+1IqJAkIiIiIiIiAXGn9QA4xBVJW+vu1fa2NuGiiy6iT58+h31/eno6V199dcPrVatWcc899wQj2iFLSEjg9ttvP+B7Tqcz5PNblhXS8d944w369+/PwIEDmTZtGn//+9+DMq4KSSIiIiIiIhIQd2pPjK8Wb8G2gO/Zu3pJDbf/6/6UVGZ26RrU4/6U1CbnjYqKYs6cOaxdu5bMzEwuv/xy3n///Yb3x44dy3vvvQdAWVkZjzzyCGvXrmXp0qWkpqYybNgwLrjgAh5//HHWrFlDjx51hcXLLruM5cuXs3nzZoYPHw6Aw+Fg2rRprFixgoyMDG677TYApk6dyumnn86aNWv41a9+td/qnujoaKZPn866devIyMhgwoQJjX4t48ePZ9WqVaxdu5b58+cDkJiYyPvvv09GRgZLly6lX79+AEyePJmXXnqJRYsWsWXLFu66666GLD179mTNmjVMmzaNkSNHsnjxYj788EM2btxIeHh4Q57Vq1czatSogH59k5OTmTdvHuvXr+eFF14gOzubpKQkunXrxqZNm3j55ZdZv349Xbp0Ydq0aWRmZrJu3Touv/xy4Ocrnp555hluuOEGALKysnjsscdYt24dy5cvp2fPno3mKCsra/g8OjoaYwLoaxaAsKCMIiIiIiIiIm2eO6073vxt4KsN+B5/VSm15YW4U9NDF0wCctZZZ7Fr1y7OO+88AOLi4pgyZQrJycnk5+dz4403Mn36dABiYmJYtmwZDzzwAI899hi33norf/7zn/noo4+YM2cO7777bsO4YWFhnHLKKZx99tlMnjyZcePGcfPNN1NSUsLJJ5+M2+1myZIlzJs3j/vvv5/77ruP888/H6grmuz14IMPUlJSQv/+/YG6FUMHkpyczAsvvMCIESPIzs4mMTERgClTprBmzRouvvhiRo8ezSuvvMLAgQMB6N27N6NHjyY2NpbNmzfz/PPPc//999O3b9+Ga0aOHMmgQYPo27cv2dnZ3HvvvRhj6N+/P8cddxzz5s3j2GOPbfL7PHnyZBYuXMjUqVMZP348t9xyS8N7vXr14oYbbmD58uVMmDCBE088kQEDBpCcnMy3337L4sWLmxx/7/fouuuu48knn2z4Xh7I7bffzr333ovb7eaMM85ocuxAqJAkIiIiIiIiAXGn9qQqa9Uh3+fNy8alhtsNpubl2jJvZmYmf/vb35g6dSpz5szh66+/5tVXX+Xaa69lxowZDBs2jOuvvx6Ampoa5syZA9RtPxs3blyj4+5dxbRq1SrS09MBOPPMM+nfvz+XXnopUNePqFevXng8nkbHGTt2LFdeeWXD6+Li4gNeN3ToUBYvXkx2djYARUVFAAwfPpxLLrkEqOvdlJSURGxsLABz587F4/FQUFBAbm4uaWlpBxx7xYoVDeMOHz6cZ555BoDNmzezdevWgApJw4cP5+KLLwbgs88+o7CwsOG9rVu3snz58obr3nzzTfx+P7m5uXz55ZecdNJJlJaWHnT8N998s+HjE088cdBrn3vuOZ577jmuuuoqHnjgASZOnNhk/qaokCQiIiIiIiJNckQn4IxJxJPz0yHf68nNInbQeWA5wPhDkE4C8cMPPzBo0CDOOeccHnnkERYsWMCLL77I7Nmzqa6uZtasWfh8PgC8Xm/DfT6fj7CwxssHNTU1P7vOsizuuusu5s2bt9+1+65Aak57M8LBv56KioqQ5ghk/NraWhyO/3YiioiI2O/9fbeoBbpd7a233uL5558PMOXBqUeSiIiIiIiINMmdVteLxZN76IUkb95WHK5wwhI7BjuWHIIOHTpQWVnJ66+/zuOPP86gQYPYvXs3u3bt4oEHHmDGjBlNjlFWVtawyudgPvvsMyZNmtRQsOnVqxdRUVEHvf/zzz/njjvuaHjd2Na2ZcuWMWLEiIbVT3u3tn311Vdcc801QF3BKj8/f78+QYf6tew7Xq9evejatSubN29u9Pq9lixZ0tDvaNy4cbRr167R8a+44gocDgfJycmMGDGCFStWsHXrVvr06YPb7SY+Pp4xY8bsd98VV1zR8HHp0qWN5jjmmGMaPj/33HP54YcfmsweCK1IEhERERERkSa5U/c+se0wViTlZdWPkU5t4Y6g5pLA9evXj8cffxy/34/X62XSpEkAvP7666SkpLBp06Ymx3jrrbd44YUXuPvuuxu2rR3Iiy++SHp6OqtXr8ayLPLy8rjoootYt24dPp+PtWvXMnPmTNasWdNwzyOPPMKzzz5LZmYmPp+PKVOm7NcMfK/8/Hxuu+023nvvPRwOB7m5uZx55pk89NBDTJ8+nYyMDCorKxsaVDemsLCQJUuWkJmZySeffMLcuXP3e/+5557j+eefZ926ddTW1jJx4sSDbs3ba8qUKbz55ptcd911LF26lN27d1NWVkZMTMx+173//vsMGzaMjIwMjDH87ne/IycnB4C3336b9evXk5WVtd/3COoKZxkZGdTU1HDVVVc1muPOO+9k7NixeL1eioqKmvx+BMwY02oPwOjQoUOHDh06dOjQoUOHjgMfi+qPYIyVfOHvTcdfvHh49zvDTNfffmgSTr/W9u+JXccrr7xie4bGjmeeecbcdNNNtudoK4fb7TZOp9MAZujQoWbNmjVBGzsrK8skJSUFNW8jvzdXNlaL0YokERERERERaZI7tQeenC2Hd7OvFm/BDjXcboFWrlxJRUUFv/nNb+yO0mZ07dqVt99+G4fDgcfj4dZbb7U7UlCpkCQiIiIiIiIHZbkjcbXrRMX6hYc9hjcvm/COxwUxlQTDkCFD7I5wUMuWLSM8PHy/c9dddx3r16+3KdF/TZw4kXvuuWe/c0uWLOHOO+9k0KBBIZmze/efF2P/8Ic/cNlll+13btasWTz66KMhyaBCkoiIiIiIiByUu34l0eE02t7Lk5dNdJ+RWO4ojKcyWNFaDWMMTqez4aloEpihQ4faHaFRM2fOZObMmXbH4NFHHz3sopHT6Qz4yW976altIiIiIiIiclDutMNvtL2XNzerbqyUbkHJ1NpkZ2dz7rnn4nQ67Y4iAtQVkc4991yys7MP6T6tSBIREREREZGDcqf1wFdZgq+84LDH8ORlA+BKSadm53dBStZ6PPnkk/zqV7/ikksuwbIsu+OIYIwhOzubJ5988pDuUyFJREREREREDsp1JI226/nK8vFXl+NOSQ9OqFamqKiIyZMn2x1D5Ihpa5uIiIiIiIg0zuHEndwNT/3WtCPhycvGlZp+5JlExDYqJImIiIiIiEijXEldsMJcR7wiCcCTm93QuFtEWicVkkRERERERKRRDY22j+CJbXt587JwhEfhjEs94rFExB4qJImIiIiIiEij3Kk98HurqS3cdcRjefK21o+ZfsRjiYg9VEgSERERERGRRrnTeuLNywbjP+KxvPl1hSTXUdpwW6QtUCFJREREREREGuVO7Y4n58i3tQEYTxXeot1H7ZPbRNoCFZJERERERETkgMLi03BExAStkATgzcvGnaqG2yKtlQpJIiIiIiIickCu1OA12t7Lk5dFWGJHrDB30MYUkeajQpKIiIiIiIgckDutB8bvw1vfJDsYvHlbsRxOXEldgjamiDQfFZJERERERETkgNypPfAW7sDU1gRtTE9uFqCG2yKtlQpJIiIiIiIickDutB54c7KCOmZt8R783mr1SRJppVRIEhERERERkZ9xRMYRFpeCJ3dLcAc2frx527QiSaSVUiFJREREREREfmbviqFgPrFtL29+Nu6UbkEfV0RCT4UkERERERER+Rl3Wk8gNIUkT242zuhEHFEJQR9bREJLhSQRERERERH5GXdqD2pLc/FXlwV9bE9eVv0c6UEfW0RCS4UkERERERER+RlXWg88QW60vZc3b2vdHClquC3S2qiQJCIiIiIiIvuxwsJxtesU/Ebb9fxVpdSWFeBWw22RVkeFJBEREREREdmPK6UblsMZshVJAN68bFxquC3S6rTKQpJlWedblvVvu3OIiIiIiIi0Re7UHgB4ckKzIgnAk5eNO7kbWK3yx1KRo1ar/C/WGDPbGHOb3TlERERERETaIndaT3zV5fhKc0M2hzc3CyvMhatdp5DNISLB1yoLSSIiIiIiIhI67rTueHN+CukcnrxsAFypargt0pqokCQiIiIiIiL/ZTlwpaTjyQ1tIclbsAPjq63b3iYirYYKSSIiIiIiItIgrF1HHK4IPCFekYS/Fm/hDq1IEmllVEgSERERERGRBu7UngAhX5EE4M3Nxp2SHvJ5RCR4VEgSERERERGRBu60HphaL96C7SGfy5OXRVh8KlZ4dMjnEpHgUCFJREREREREGrjTeuDJ3wp+X8jn8uRtrZtTfZJEWg0VkkRERERERKSBO7UHnpwtzTKXNy8LAFdqerPMJyJHToUkERERERERAcAZm4QzKh5vblazzOcrK8BXVYY7RQ23RVoLFZJEREREREQEqFuNBDTbiiQAb162ViSJtCIqJImIiIiIiAgA7rSeGOPHk5fdbHN68rLreyRZzTaniBw+FZJEREREREQEqFuRVFu0G+OparY5vXnZOMKjCItPbbY5ReTwqZAkIiIiIiIiALjSmq/R9l6e+n5MrpT0Zp1XRA6PCkkiIiIiIiKCFR6NK6F9Q2GnuXjzt2GMH3eqGm6LtAYqJImIiIiIiEhDIae5VyQZbzW1RXu0IkmklVAhSURERERERHCn1T+xLfenZp/bm5eNO6Vbs88rIodOhSQRERERERGpa7RdXoi/orjZ5/bkZROW2BErLLzZ5xaRQ6NCkoiIiIiIiOBO64nXhtVIAJ68LCyHE1dyF1vmF5HAqZAkIiIiIiJytHOG4UrqgifHnkKSNzcbAFeKGm6LtHQqJImIiIiIiBzl3MndsJxhtvRHAqgt3oPfU407Nd2W+UUkcCokiYiIiIiIHOVcqfWNtm1akQQGb/5WXMnpNs0vIoFSIUlEREREROQo507rgb+mktqi3bZl8ORla0WSSCugQpKIiIiIiMhRzp3aA09eFmBsy+DNzcIZFY8zOtG2DCLSNBWSREREREREjmoW7tTueHKybE3hydsKgCtVDbdFWjIVkkRERERERI5iYQntcYRH4c3dYmsOb142AO6UbrbmEJGDUyFJRERERETkKOZOs7vRdh1/dRm1Zfm4UrQiSaQla7KQZFlWtGVZjvrPj7Us6wLLslyhjyYiIiIiIiKh5k7tgfHV4snfZncUvLnZuFPS7Y4hIgcRyIqkxUCEZVmdgHnAdcDMUIYSERERERGR5uFO64m3YDv4vHZHwZOXhSu5CzicdkcRkUYEUkiyjDGVwATgOWPMZcAJoY0lIiIiIiIizcGV1sP2bW17efO2YjlduNp1sjuKiDQioEKSZVnDgGuAufXnVB4WERERERFp5RzRCYTFtMOT2zIKSZ7cuifHubS9TaTFCqSQ9Cvg/wHvG2M2WJbVA1gU0lQiIiIiIiIScu7UltFoey9v4U6Mz4tbDbdFWqywpi4wxnwJfGlZVlT965+Au0MdTEREREREREKroZDUQlYk4a/FW7ADV2q63UlEpBGBPLVtmGVZG4FN9a8HWJb1XMiTiYiIiIiISEi503pQW7wHU1Nhd5QGnjw9uU2kJQtka9uTwHigAMAYkwGMCGEmERERERERaQbu1JbTaHsvb242YXEpOMKj7Y4iIgcQSCEJY8z2/znlC0EWERERERERaSaWK4Kwdh1bzra2ep48NdwWackCKSRttyzrVMBYluWyLOs+4LsQ5xIREREREZEQcqemY1mOlrciKS8bAHeqGm6LtESBFJJ+CdwBdAJ2AifWvxYREREREZFWypXaE2hBjbbr+coL8VWVakWSSAsVyFPb8oFrmiGLiIiIiIiINBN3Wg98lSX4yvLtjvIz3lw13BZpqQJ5ats0y7Li6re1LbAsK8+yrGubI5yIiIiIiIiEhju1B57cLLtjHJAnLxtXSjfAsjuKiPyPQLa2nWmMKQXOA7KBY4DfhjKUiIiIiIiIhJDDiTulG56cLXYnOSBvXhYOdyRhCWl2RxGR/xFIIWnv9rdzgVnGmJIQ5hEREREREZEQc7XrjBXmxttiVyRtBcCVoobbIi1NIIWkOZZlbQIGAwssy0oBqkMbS0RERERERELFndYDoOWuSMrfijF+3KnpdkcRkf/RZCHJGHM/cCowxBjjBSqAC0MdTERERERERELDndYTv7cGb+FOu6MckPHWUFu0W09uE2mBmnxqW72OwFjLsiL2OfdKCPKIiIiIiIhIiLlTu+PNywbjtztKozx5enKbSEsUyFPbJgPP1B+jgWnABSHOJSIiIiIiIiHiSuuJJ/cnu2MclDc3i7DEDliucLujiMg+AumRdCkwBthjjLkRGADEhzSViIiIiIiIhIQzLhVnRAyenJZdSPLkbcWyHLiSu9kdRUT2EUghqcoY4wdqLcuKA3KBLqGNJSIiIiIiIqHQ0Gi7pa9Iyqt7opw7RYUkkZYkkB5JKy3LSgBeAFYB5cDSUIYSERERERGR0HCn9cD4fXhzs+2OclC1xTn4PVW4UrrbHUVE9tFkIckYc3v9p/+0LOtTIM4Ysy60sURERERERCQU3Kk9qC3ahamtsTtKEwzevK1quC3SwgSytQ3LsjpZlnUq0BVIsCxrRGhjiYiIiIiISCi403rgydlid4yAePKycaWm2x1DRPbR5Ioky7IeA64ANgK++tMGWBzCXCIiIiIiIhJkjohYwuJSKcuZY3eUgHjzsnGeeBbOmHb4ygvtjiMiBNYj6SLgOGNMS1/3KCIiIiIiIgfRWhpt7+XJrWu47UpJVyFJpIUIZGvbT4Ar1EFEREREREQktFyp9YWknNZRSPLmZQPgVsNtkRaj0RVJlmU9Q90WtkpgrWVZC4CGVUnGmLtDH09ERERERESCxZ3Wg9qyfPxVpXZHCYi/poLa0jz1SRJpQQ62tW1l/cdVwEfNkEVERERERERCyJ3ao9WsRtrLk5etJ7eJtCCNFpKMMS8DWJYVDVQbY3z1r51AePPEExERERERkWCwwty4kjpT+cNSu6McEm9uNpHpJ4IjDPy1dscROeoF0iNpARC5z+tIYH5o4oiIiIiIiEgouJK7YTmceHK22B3lkHjysrCcLlztOtkdRUQIrJAUYYwp3/ui/vOo0EUSERERERGRYNv7xDZvK9va1tBwO1UNt0VagkAKSRWWZQ3a+8KyrMFAVegiiYiIiIiISLC5U3vUNa8uybE7yiHxFu7E+Ly41CdJpEU4WLPtve4BZlmWtQuwgPbAFSFNJSIiIiIiIkHlTuvZ6hptA+D34c3frobbIi3EQQtJ9Y21Twd6A8fVn95sjPGGOpiIiIiIiIgEieXAlZJO+brP7E5yWDx52UR06293DBGhia1t9U9qu8oY4zXGrK8/VEQSERERERFpRcISO+JwR7TOFUmANy+LsNhkHBGxdkcROeoF0iNpiWVZ/7As63TLsgbtPUKeTERERERERIJib6Pt1lpI8uRtBVCfJJEWIJAeSSfWf3x4n3MGOCPoaURERERERCTo3Kk9MD4v3oLtdkc5LN7cLADcKd2o2Z5pcxqRo1uThSRjzOjmCCIiIiIiIiKh4U7rUbeqx19rd5TD4qsowldZgiu1u91RRI56TRaSLMv6vwOdN8Y8fKDzIiIiIiIi0rK4U3tQteVbu2McEU9utp7cJtICBNIjqWKfwwecDaSHMJOIiIiIiIgEieUIwxmdgCdni91Rjog3PxtXcjewAvkxVkRCJZCtbX/b97VlWX8FWuczI0VERERERI4yljsCAE99n6HWypObjcMdQVhCe2qLdtkdR+SodTil3Cigc7CDiIiIiIiISPA53JEAeHJb5xPb9vLm1RXCXCndbE4icnQLpEdSJnVPaQNwAins/wQ3ERERERERaaEsVyTewl0YT5XdUY6IN387xu/DndKdqu+X2h1H5KjVZCEJOG+fz2uBHGNM62z1LyIiIiIicpSx3BGtfjUSgKmtobZolxpui9isya1txpitQBJwITAB6BfqUCIiIiIiIhIElgNHmLvVN9rey5O3FVdqut0xRI5qTRaSLMv6P+Bl6opJycBMy7IeCHUwEREREREROTIOV9totL2XNy+bsIT2WPVfl4g0v0C2tl0DDDDGVANYljUVWAs8EsJcIiIiIiIicoSs+kbb3rayIik3C8ty4Eruimf393bHETkqBfLUtl3AvuXecGBnaOKIiIiIiIhIsDjcERhfLb6KIrujBIU3LxsAd2p3e4OIHMUCWZFUAmywLOtz6p7eNg5YYVnW0wDGmLtDmE9ERERERKRNcUQnYFmB/Jv+kbPckfi91c0yV3OoLcnFX1OJSw23RWwTSCHp/fpjry9CE0VERERERKSNshxEHXcacadcQnj7Y5ptWscb91Nbldds84WewZO/VU9uE7FRk4UkY8zLzRFERERERESkrbHCwonuN5a4ky/GldAeb8F2iha9hL+mslnm9xbuxFdZ2ixzNRdvbjZRvYfbHUPkqBXIiiQRERERERE5BI7IOGIHnUvsoPNwRsVTvfM7iha8QNWPK6jrGNI8fM02U/Px5GURO/BsnLFJ+MoK7I4jctRRIUlERERERCRIwuLTiD3pImL6j8PhiqDyh2WULn+Xmp3f2R2tzfDmbQXAldJdhSQRG6iQJCIiIiIicoTcaT2JO3lC3ZYr46diwyJKVrxHbcEOu6O1OZ69T25LSaf6p5X2hhE5CjVZSKp/Wttlxpji+teJwFvGmPEhziYiIiIiItKiRaSfSNwplxCZPhB/TQWlK96nbNVH+MoL7Y7WZpmaCmpLctVwW8QmgaxISt5bRAIwxhRZlpUaukgiIiIiIiItmOUgqvdw4k+5BHdaT2rLCihaNJ2ytZ9iPM3TRPto58nLxpWabncMkaNSIIUkv2VZXY0x2wAsy+pGc3aHExERERERaQEsVzgx/cYRd9JFhCW0x5O/jfyPn6Ri4xfgq7U73lHFm5dNZPdB4AzT916kmQVSSPoj8LVlWV8CFnA6cFtIU4mIiIiIiLQQjsg4YgefV/cEtsg4qrdvoHD+v6na8i36N3Z7ePKysZxhuNp1wZuXZXcckaNKk4UkY8ynlmUNAobWn/qVMSY/tLFERERERETsFZbQnriTLiK63zisMBdVPyyndMW71OzcZHe0o55nz48ARHTtq0KSSDNrtJBUXzza1676j13rt7qtDl0sERERERERe7jbH1P3BLbjTgO/n/INCyld8T61hXoCW0tRW7SLmj0/Et13DGWrZtsdR+SocrAVSX+r/xgBDAEyqNva1h9YCQwLbTQREREREZHmE9F9EHEnX0Jk+gD81eWULn+v7glsFUV2R5MDqMicT7txv8SVko43L9vuOCJHjUYLScaY0QCWZb0HDDLGZNa/7gs81CzpREREREREQizy2GEknHY17tTu1JblU7jwJcozPsV4quyOJgdR8d1iEs+4mZh+Yyla+KLdcUSOGoE02z5ubxEJwBiz3rKs40OYSUREREREJOQsdyTtxv6CmH5j8eRvJX/u36nYuBj8egpYa+CvKqXyxxVE9xlF0RczwO+zO5LIUSGQQtI6y7JeBF6rf30NsC50kURERERERELLndaT5At+T1hCGsVfv0HJN2+B8dsdSw5RReZ8oo87jcgeg6n6cYXdcUSOCoEUkm4EJgH31L9eDDwf7CCWZV0EnAvEAS8ZY+YFew4RERERETnaWcSedBGJI6/HV1FEzpt/oGbHBrtDyWGqylqNr7yImL5jVUgSaSZNFpKMMdXAE/XHIbEsazpwHpBrjOm7z/mzgKcAJ/CiMWaqMeYD4APLshKBvwIqJImIiIiISNA4ohJIPvfXRPYYTOXmbyj49Gn81eV2x5Ij4fdRvnERcYMvwBEZh7+q1O5EIm1eo4Uky7IyAdPY+8aY/gGMPxP4B/DKPuM6gWeBccAO4FvLsj4yxmysv+SB+vdFRERERESCIqL7IJLP/TWWO4qCT/9BecandkeSIKnIXED8yROI7jOKslUf2R1HpM072Iqk8+o/3lH/8dX6j9dykALTvowxiy3LSv+f0ycDPxpjfgKwLOst4ELLsr4DpgKfGGNWBzK+iIiIiIjIQTnCSBhxHfGnXIInL5v8t/6IN3+b3akkiLz5W6nZ/T0x/caokCTSDBotJBljtgJYljXOGDNwn7d+b1nWauD+w5yzE7B9n9c7gFOAu4CxQLxlWccYY/55oJsty7oNuO0w5xYRERERkaNEWGJHks//LeEdelG2eg5Fi6Zjaj12x5IQKM9cQNKZk3Cldsebm2V3HJE2zRHANZZlWaft8+LUAO87JMaYp40xg40xv2ysiFR/3b+NMUOMMUOCnUFERERERNqG6BPOoMPEpwhLSCP3vUco/PyfKiK1YZXfLcbUeonpN9buKCJtXiBPbbsZmG5ZVjxgAUXATUcw506gyz6vO9efExEREREROSKWO5J2Z95OzAmjqd6WSf6cv+IrK7A7loSYv7qMyh+XE91nFEWLZoC/1u5IIm1WIE9tWwUMqC8kYYwpOcI5vwV6WZbVnboC0pXA1Uc4poiIiIiIHOXcHY4l+fzfEhafSvHiVylZNguM3+5Y0kzKM+cT3Xs4kT2HUPXDMrvjiLRZTRaSLMsKBy4B0oEwy7IAMMY8HMC9bwKjgGTLsnYAk40xL1mWdSfwGeAEphtjNhzuFyAiIiIiIkc7i7hTJpBw+nX4ygvJeeN+anZ+Z3coaWbVWaupLS8kpt9YFZJEQiiQrW0fAiXAKqDmUAY3xlzVyPmPgY8PZSwREREREZH/5YxOJOm8e4lMH0jFpq8o+PQfmJoKu2OJHYyfig2LiDvpIhxRCfgri+1OJNImBVJI6myMOSvkSURERERERA5BRI8hJJ/7ayxXOAWfPE35unl2RxKbVWTOJ/6US4juM5KylR/aHUekTQrk6WvfWJbVL+RJREREREREAuEMI3HMraRd9hC+8kJ2v/wrFZEEAG/Bdmp2bdbT20RCKJAVScOBiZZlZVG3tc0CjDGmf0iTiYiIiIiI/I+wdp1JueC3uNN6UrryI4q+mAE+r92xpAUpz5xP0vg7cKf1xJOzxe44Im1OIIWks0OeQkREREREpAnR/cbRbuwvMLU15L7zMFVbVtgdSVqgyu8W027MrUT3HaNCkkgINFlIMsZsbY4gIiIiIiIiB2KFR5M0/g6ijx9B9dYM8uf8DV95od2xpIXy11RQ+cMyok8YRdEX08FXa3ckkTYlkBVJIiIiIiIitgjv1Jvk83+LMzaZoi9fpnT5u2D8dseSFq48cz7Rx48gsudJVH2/1O44Im2KCkkiIiIiItLyWA7ihl5KwvBrqC3NY8/rv8Oza7PdqaSVqM5eS21ZATH9xqmQJBJkARWSLMtqD5wMGOBbY8yekKYSEREREZGjUlh8GuGdjidmwHgiuvajYuOXFHz2LMZTaXc0aU2Mn4oNC4k7eQKO6AT8FcV2JxJpM5osJFmWdQvwf8BC6p7Y9oxlWQ8bY6aHOtxBMp0PnG/X/CIiIiIiEgSOMNxpPQjv3IfwTscT3rE3YbFJAPiqy8mf+wQV6xfYHFJaq/LMBcQPvYzoPqMp+/Z9u+OItBmWMebgF1jWZuBUY0xB/esk4BtjzHHNkO+gLMs6eHgREREREWkxHJFxhHfqXVc06nQ87va9cLjCAagt3kP1zu+o2fkdNTu+w5u/Vb2QgmBR/cfRtqawT/tr/4rljmD39DvtjiLS2qwyxgw50BuBbG0rAMr2eV1Wf05ERERERKQRFmFJnYjo1KehcORK6gyA8Xnx5GyhfO0n1OzYSM2uTXoKm4REeeZ8ks66E3f7Y/Ds+dHuOCJtQiCFpB+B5ZZlfUhdj6QLgXWWZd0LYIz5ewjziYiIiIhIK2CFhePucOx+K46ckbEA+CpLqNm5ifLMz6nZuQnPnh8wtR6bE8vRoGLTVySOuZXovmNVSBIJkkAKSVvqj70+rP8YG/w4IiIiIiLSGjhjkxoKRuGdjsed2gPLWffjhSd/G5Xff1O3TW3nd9QW7rQ5rRytTE0FVT8sJbrPSIoWvQi+WrsjibR6TRaSjDFTmiOIiIiIiIi0XM6YdkQde2pD4SgsPhUAv7caz67vKV3+bl3haNcm/NXlNqcV+a/yzAVE9xlF1DGnULl5id1xRFq9QJ7atoi6LW37McacEZJEIiIiIiLSojhjk2l/7eOExaVQW5ZPzY6NlH77ATU7N+LJzQK/z+6IIo2q3ppBbVk+0f3GqpAkEgSBbG27b5/PI4BLAK0HFBERERE5CjgiYki9/GEc4VHsfvnXePb8YHckkUNj/FSsX0jcKZfgjE7EV1FkdyKRVs3R1AXGmFX7HEuMMfcCo0IfTURERERE7GSFhZNy6WRcCe3JffdPKiJJq1WeOR/L4ST6hNF2RxFp9ZosJFmW1W6fI9myrPFAfDNkExERERERu1gOki/8PeEdjiVv9uPUbF9vdyKRw1ZbtIvqHRuJ7jfW7igirV4gW9tWUdcjyaJuS1sWcHMoQ4mIiIiIiL2SzrqLqGNOpuCzZ6n6fqndcUSOWMX6BSSddRfuDsfi2f293XFEWq1AtrZ1N8b0qP/YyxhzpjHm6+YIJyIiIiIizS9hxPXE9B9H8ddvUL72E7vjiARFxXdf4fdWE9N3jN1RRFq1QLa2uSzLutuyrHfqjzsty3I1RzgREREREWlesYPPJ37Y5ZSt+YSSJW/YHUckaIynksrvlxLVZyQ49SOtyOFqspAEPA8MBp6rPwbXnxMRERERkTYkqvfpJI65lcrN31D4uf7KL21PReZ8nBExRPUaancUkVYrkB5JJxljBuzzeqFlWRmhCiQiIiIiIs0votsAks+7l5rtG8ib/TgYv92RRIKuelsmtaW5xPQbQ+Wmr+yOI9IqBbIiyWdZVs+9LyzL6gH4QhdJRERERESakzutJykX/xFvwQ5y33sEfF67I4mEhvFTvn4hEekDccYk2Z1GpFUKpJB0H7DIsqwvLMv6ElgI/Ca0sQ7OsqzzLcv6t50ZRERERETagrCE9qRe9hD+6jJyZ03G1FTYHUkkpCoyF2A5nESfMMruKCKt0kG3tlmW5QQGAL2A4+pPbzbG1IQ62MEYY2YDsy3LutXOHCIiIiIirZkjKoHUy/8EloOct/8PX3mh3ZFEQq62eDfV2zcQ028spcvftTuOSKtz0BVJxhgfcJUxpsYYs67+sLWIJCIiIiIiR85yR5J62UM4oxPJfWcKtYU77Y4k0mwq1s/HldQFd8fjmr5YRPYTyNa2JZZl/cOyrNMtyxq09wh5MhERERERCQ1nGCkX/xF3anfyPvwLnt3f251IpFlVbPoav6eamL5j7Y4i0uoE8tS2E+s/PrzPOQOcEfQ0IiIiIiISYhbJ595LZPqJ5M/5O9U/rbI7kEizM54qKr//hujjT6do4QuYWo/dkURajSYLScaY0c0RREREREREQi9xzK1EHz+CokXTqdiw0O44IrapyJxPTN8ziOw1lMrvFtsdR6TVaLKQZFnWvQc4XQKsMsasDXoiEREREREJibhTLiVuyAWUfvsBpSveszuOiK2qt2VSW5JDTL+xKiSJHIJAeiQNAX4JdKo/fgGcBbxgWdbvQphNRERERESCJLrfWBJHTaRiwxcULXzJ7jgiLYChfP0CItJPxBmbZHcYkVYjkEJSZ2CQMeY3xpjfAIOBVGAEMDGE2UREREREJAgie55E0ll3UZW1mvyPn6Su5amIVKxfiGU5iD5BLYBFAhVIISkVqNnntRdIM8ZU/c95ERERERFpYcI79Sb5wt/jydlC3gd/AX+t3ZFEWoza4j1Ub8skpp+e3iYSqEAKSa8Dyy3LmmxZ1mRgCfCGZVnRwMaQphMRERERkcPmSupCyiWT8ZUVkvvOFIynyu5IIi1OeeZ8XO06Ed6pt91RRFqFJgtJxpg/AbcBxfXHL40xDxtjKowx14Q2noiIiIiIHA5nbDKplz+M8XnJfftB/JUldkcSaZEqNy/B76kiuq9WJYkEosmntgEYY1YCK0OcRUREREREgsAREUPq5VNwhEez543fU1uSY3ckkRbLeKup3LyE6ONHULTgBUytOriIHEwgW9tERERERKSVsMLCSbnkQVwJHcl97094c7PsjiTS4pVnLsARHkXUscPsjiLS4qmQJCIiIiLSVlgOki/4HeGdjid/zl+p2ZZpdyKRVqFm+3q8xXuI7jfG7igiLV6ThSTLsh4L5JyIiIiIiNir3fg7iOp1CoWf/5PKzUvsjiPSihgq1i8gotsAnLEpdocRadECWZE07gDnzg52EBEREREROXwJp19L7IDxFH/zFuVrPrY7jkirU7F+IZblIKbvGXZHEWnRGi0kWZY1ybKsTKC3ZVnr9jmyAK2RFRERERFpIWIHnUf8qVdSlvEZJV+9ZncckVaptiSH6q3rtL1NpAkHW5H0BnA+8GH9x73HYGPMNc2QTUREREREmhDVeziJY2+j8odlFH72rN1xRFq18sz5uBI7Et6pj91RRFqsRgtJxpgSY0w28BRQaIzZaozZCtRalnVKcwU8EMuyzrcs6992ZhARERERsVtE1/4kn/sbanZ8R/5H08D47Y4k0qpVfr8Ef02lViWJHEQgPZKeB8r3eV1ef842xpjZxpjb7MwgIiIiImIXKyycuKGXkXLJg3iLdpH37sOYWo/dsURaPeOtoXLzEqJ7n47lCrc7jkiLFEghyTLGmL0vjDF+ICx0kURERERE5IAsBzEDxtPxtn+TOPIGqrdlkvv2/+GvqbA7mUibUZ45H0d4FFHHnmp3FJEWKZCC0E+WZd3Nf1ch3Q78FLpIIiIiIiLyv6KOPZWEEdfjSupM9Y6N5H/4GDU7N9odS6TNqdmxAW/RbqL7jqViwyK744i0OIEUkn4JPA08ABhgAaBtZSIiIiIizSC8Sz8SR00kvONxePK3kvvun6j6cbndsUTatIr1C0g4/VqccSn4SvPsjiPSojRZSDLG5AJXNkMWERERERGp50rpTuKoG4jsMYTa0jzyP36SivUL1VBbpBmUr19A/PCriek7hpJv3rI7jkiL0mQhybKsGdStRNqPMeamkCQSERERETmKhcWnEX/6tUT3GYm/uoKiRS9RtnqummmLNCNfaR7VW9cR3W8sJd/8hwP8SCxy1Apka9ucfT6PAC4GdoUmjoiIiIi0dZE9hhA37HLKVs2mctNXdsdpMRyRccSfeiWxA8/G+P2ULn+X0mXvqJG2iE0qMueTfP59hHfuQ82ODXbHEWkxAtna9u6+ry3LehP4OmSJRERERKTNCu90PMkX/T8syyLiwt9TPeQCiha+iGfXZruj2cZyRRB30kXEnTwByxVO+brPKVnyJr7yArujiRzVKn9Yir+mkpj+Y1VIEtlHICuS/lcvIDXYQURERERauqjjR+BufwzFX8xUn5rD4EruRsqlk/GV5bPnjd8T1fMk4k+/jg7X/Y2KjV9Q9OXLR1dTW0cYMQPGk3DalTijE6nYvITixa9SW7jD7mQiAhhvDRWbviL6+BEUfv4vjLfa7kgiLUIgPZLKqNsQatV/3AP8PsS5RERERFoUZ1wKSWfdjcMdQVhMO/Ln/F3FpEPgjEsh9fKHMd4acv7zIP6KYsrXfU7Fpq+JO+US4k66mKhjT6X02w8oWTYL46myO3IIWUQdfzoJp1+LK7Ej1dsyyX3vkaN6VZZIS1WROZ/YAeOJOu7Uumb3IhLQ1rbY5ggiIiIi0pK1G/sLAEpWvEf8yRMwPh8FHz+JGrA2zREZR9rlD+NwhbPnjfvxleY2vGc8VZR89Rrlaz8lYcT1xA+7nJj+4yj+6jXK133e5op1EeknkjByIuHtj8GTm0XOrIeo/mml3bFEpBE1O7/DW7iLmL5jVUgSqddoIcmyrEEHu9EYszr4cURERERanshjTiGq11CKFk2ndMV7mJpKEk6/FuOvpfDTf6BiUuMsVzipl04mLD6NnP88iDcv+4DX+cryKZj7d8pWzSbxjFtIOusuYgefT9HCl6jOXtO8oUPAndaThFETiUwfSG1JDvlz/kbFxi/bXKFMpC0qXz+fxBHXExafRm1Jjt1xRGxnGXPgv/hYlrWo/tMIYAiQQd32tv7ASmPMsGZJeBCWZelvbSIiIhJSliucjjc/j99Tye6Z94DfB0DC6dcSf+qVlK2eS+Hnz9ucsoVyOEm95EEi0geS98FfqPphWcC3Rh17KgmjbsSV2IGqLSspWvQS3oLtIQwbGmEJHUgYcR3Rx4/AV1lCydL/ULbmY/DV2h1NjhJ7f6gbbWuK1s0Zm0ynSdMpX/MJRV9Mx3hr7I4k0hxWGWOGHOiNRlckGWNGA1iW9R4wyBiTWf+6L/BQCEKKiIiItDjxp15FWHwqe177bUMRCaD4q9fA6SL+lEsw/lqKFrxgY8qWyCLp7HuI7DGEgk+ePqQiEkDl999QuWUFsYPOJ+HUK+hw0z8oX/spxV+/jr+qNESZg8cRnUDCqVcSM+AsjK+W4m/eonT5exhPpd3RROQQ+cryqdy8hNhB5xLdbwxVP62icvMSqn5coQbcclRqdEVSwwWWtcEYc0JT5+ygFUkiIiISSq7kbnSY+BQVGxZS8MnTB7wmccytxA25kJLl71L8xYxmTthyJYy+ifiTJ1C0+BVKl759RGM5IuOIP+0qYgeeg/FWU/LNfyhd9VGLXNXjjGlHzIlnE3fSxVjOMMozPqP4mzfxVxTbHU2OUlqRFCSWg/DOJxB13GlEHXcqYTHt8HtrqM5aTeXmJVT+uLyNPyQgOBzRCThckdQW77Y7ijSt0RVJgRSS3gQqgNfqT10DxBhjrgpqxMOgQpKIiIiEjkXa1VNxJXdh1wu/POgqmHbjJhE76FyKv3mLkq9ea/S6o0XcyRNIHH0TpatmUzT/X0EbNyypM4mjbiLqmJPxFu+h+IsZVG5eErTxD4czJonwLn2J6NqPiK79cLXrBEDFd4sp/uo1aot22ZpPRIWkELAchHc6/r9FpdhkTK2Xqn2LSjUVdqdsEZzRiYR37UdE/Z+TrqQumFovu16aRG3xHrvjycEdUSEpApgEjKg/tRh43hhj+xo+FZJEREQkVKL7jSX5nF+R//FTVGR+3sTVFu3OupPYAeMp/uo1Sr55q1kytkTRfc8g+dx7qfhuMfkfPU4oGpFHpJ9I4uibcad2p3rHRooWvohn9/dBn+dAnLFJRHTpV/+DUT9c7ToC4K8up3rHRqq3ZVKdtQpv/rZmySPSFBWSQs0ivNNxRB03vK6oFJeK8Xmpyl5bt/3th2X4q8vtDtlsnDHt6orrXfoR0bUvrqQuAPhrKqnesYGaHRuJH3YFVVtWkP/RNJvTShMOv5AEYFmWGziOur8JbDbGeIOb7/CokCQiIiKh4IiIpeOt/8RbuIOc1+8nsGKIRdI59xDTbyxFX8ykdPk7oY7Z4kT2GELKJQ9SvS2T3HceCu3WM8tBTL+xJJx+Hc6YRCo2fEHRly/jK8sL6jTO2GQiuvStKxx17Ycrsa5w5Ksup2b7eqq3r6dmWyae3Cw9gU1aJBWSmpe7w7FEHXca0cedRlhCe4yvluqtGXUrlX5Y1ip6vB2KhsLR3uJ6UmegvnC0fX3dn5PbMvHkbGn4MzJ++DUknHYVu1/+NZ49P9gZXw7uiFYkjQJeBrKpe2pbF+AGY8zioEY8DCokiYiISCi0O+suYvqNZfeMu/Hmbw38RstB8rn3En3CKAoXvkjZtx+ELGNL4+7Ym7QrH8FbsIOcN/9fs/UKsdyRxJ9yCbEnXQxA2bfvU7L83cOe3xmb3LBNLbxLP1yJHYD6wtG2TKrrfyjy5mWrcCStggpJ9nG3P6Z++9twXIkdMH4f1dvWUblpCZU/LMVfWWJ3xEPW2HZef00F1ds3ULM9s75w9FOjf0Za7kg63fYC3vxt5Lz1h+aML4fmiApJq4CrjTGb618fC7xpjBkc9JiHSIUkERERCbbwTsfT/trHD795tuUg+YLfEd17OIWf/5Oy1XOCH7KFcSV1Ie2aafirytjz+m9t+eHIGZtCwsjriTlhNL7yIoq/epXyzPlNFnucsSn/LRx17YcroT0Avqqy+hVHmfWFo60qHEmrpEJSy+BK7UH0cacR1Xs4rnadMH4fNdvXU7F5CZXff9NiG/IfdDvv9g1Ub888rFWZMQPPJenMSeTMeojqn1aGKr4cmSMqJK0zxvRv6lxzsizrfOB84Fa7MoiIiEgb5HDS4YYncUREs+vF2w//sc4OJykX3k/UscMo+PQZyjM+C27OFsQZm0z7ax8Hh5Oc135LbUmOrXncHY4l8Yybieh8Ap7cLIoWvkj11oyG951xKfuvOGooHJVSs239/iuOQtDfSaS5qZDU8riSuxHVezjRvYfXNZ82fmq2b6jb/vb9N/jKC23L1uR23m2Z1Gxff+TbeR1OOt78PMbnYfeMu1Wob5mOqJA0A/Cx/1PbnMaYm4Ia8TBoRZKIiIgEU+xJF9PujJvJfe8Rqn5YdmSDOcNIufiPRPU8ifyPn6Qic35wQrYgjogY0q6ZRlhsEnveuB9vbpbdkRpEHXcaCaNuxJXQnsot3+KvLCaiSz/C9haOKkv269/hzduKCkfSFqmQ1LK5krvWb387DXdKOgDVOzZQtWVls20RxnLgTk0nvEvf/QtH2zLrV2WuD8l23qjjTiPlov/XZv8f2QYcUSEpHLgDGF5/6ivgOWNMTVAjHgYVkkRERCRYnLHJdLzleaq3ZZL37sNBGtRF6iUPEpF+IgVz/k7Fxi+CM24LYIWFk3rlI4Sn9STn7cnUbM+0O9LPOV3EDT6f+FOvqGt4W98Yu3pbZv1T1fRXSWn7VEhqPcLada7b/nbcabjTejTr3A3beeuLR821nbf9dX/DGZvErn/fhqn1hHw+OSSHV0iyLMsJbDDG9A5VsiOhQpKIiIgES8pFfyCixyB2vXg7vtLcoI1rhYWTeun/Ed6lL/mzH6dy09dBG9s2DicpF/+RyJ5DyPvgL1R9v9TuRAdnOcAYVDiSo5EKSa2TFR6N5XA223z+qjLs+DMyvPMJtL/msaP2aactXKOFpLCD3WWM8VmWtdmyrK7GmG2hySYiIiJir8geQ4g67lSKvpgZ1CISgKmtIffdh0m9bArJ5/+WPJ+Pqh9aeOGlCUln3UXUMSdT8Ok/Wn4RCdR7Q0RaHVNTcVSUvmt2bKDyxxXED72U8ozP8FeX2R1JAuAI4JpEYINlWQssy/po7xHqYCIiIiLNwQoLp924X+LJ30rptx+EZA7jrSH3nSnU7P6elAt/R2TPk0IyT3NIGDmRmH5jKf7qNcozPrU7joiItHLFX87EckcSf+oVdkeRAAVSSHoQOA94GPjbPoeIiIhIqxd/6hWEJbSncN7z4K8N2TzGU0Xu25Px5GbVbaPrPihkc4VK7EkXET/0UspWz6Hkm7fsjiMiIm2AN38b5ZnziR10LmHxaXbHkQA0WUgyxnwJbAbigThgc/05ERERkVYtLKkzcSdfTHnmAmq2rw/5fMZTSe5/HsRbsI2Ui/9IRLcBIZ8zWKL7jKLdGbdQselrCuf/2+44IiLShpR8/QbG7yPh9OvsjiIBaLKQZFnWLcAKYAJwKbDMsqybQh1MREREJNSSxt2O31NN0RfTm21Of00FOf95kNri3aRc8iDhXfo229yHK6LHYJLO+RXVWzPIn/NX9RwSEZGg8pUXUPbth0SfMAp3Wk+740gTAtna9ltgoDFmojHmBmAw8PvQxhIREREJregTRhPRrT/FX87EX1nSrHP7q0rJeeuP1JbkknrpZMI7Hd+s8x8Kd4djSbnw/+HN30rue4+AL3Tb/0RE5OhVsvxdfJUlJIy60e4o0oRACkkFwL6t08vqz4mIiIi0So6IGBJH30zNzk2UZ8yzJYO/soTct/6Ir7yQ1Mum4O5wrC05DiasXWdSL52Mr6KInFmTMZ4quyOJiEgbZTyVlHzzHyLTT2yVfQSPJoEUkn4ElluW9ZBlWZOBZcD3lmXda1nWvaGNJyIiIhJ8CSNuwBEZS8G8Z8HGByz7KorIeesP+CpLSL384Ra1nN8Zm0Ta5Q+D8ZP79oP4K4rtjiQiIm1c2ZqP8RbtJnHkRLACKVe0HHGnXEry+feBI8zuKCEXyK/MFuAD/vu3rA+BLCC2/hARERFpNdwdjiXmxPGUrZqNNzfL7jj4ygrIeesPmJoKUq/4E66UdLsj4QiPJvWyh3FExJDz9mRqi/fYHUlERI4G/lqKv3oVd1oPovuMsjtNwCJ7DCFh5PV1L0L4BNiWwjLGvn+FO1KWZbXe8CIiItL8LAcdbngCR1Q8u16c1KK2aoXFp5F29VSsMDc5b/4/vPnbbMlhhYWTesXDhLc/ltxZk6nets6WHCISHIvqP462NYXIobBof/3fcUbFs/OFX4DPa3eggwpr14kO1/8db9Fucl7/Paa2xu5IwbLKGDPkQG+0rrViIiIiIkcgdvB5uNN6UrTghRZVRAKoLckh560/Yny1pF3xZ8LadWr+EJaD5At+R3in48mf81cVkURExAaGoi+mExafStzg8+wOc1CWO4rUCQ9gar3kvffntlREOigVkkREROSo4IxJImH4tVT9tJLKzUvsjnNAtUW7yHnrj2BB2pWPEpbQoVnnTzrrTqJ6nULhvOdb7PdIRETavpptmVRtWUncsCtwRMTYHacRFsnn30dYQgfyPvgLvrI8uwM1m7bfBUpERKQFcsYkETvoXEqWzWpxK2PaqsQxt4DDSeHn/7Q7ykHVFu4g560HSLvqUdKunkrNjg3NMq8jMp7I9AEUL3mD8rWfNMucIiIijSn6ciYdbnyauKGXUfzFDLvj/EzC6dcQdczJFMx7rtn+X91SNFpIsizrGQ7yGBNjzN0hSSQiInIUSDrnHiK7D8IREUvhvGftjtPmRXQfRHTv0yle/GqraBztzd9Kzn8eIGn8HbhTuzfbvCVL36bk6zeabT4REZHGePOyqVi/gLjB51O2eg6+0paz4ifquNOIP/VKyjI+o3zNx3bHaXYHW5G0sv7jaUAf4D/1ry8DNoYylIiISFsW3XcMkd0H4cnNInbg2VR8t5ia7Zl2x2qzrDA37cZNwluwnZIV79odJ2De3Cz2vHqf3TFERERsU/zV60T1HkHC6ddRMPfvdscBwJXSnaRzfk31jo0Ufv683XFs0WiPJGPMy8aYl4H+wChjzDPGmGeAMcCJzZRPRESkTXFEJ5A45laqt29gz2v34S3aRdLZd2GFhdsdrc2KG3oZrsQOFM57Hnxt/5G8IiIibYWvLJ+yVbOJPmEUrpTmW6HbGEdkHKkT/oi/ppy8Dx49av9eEUiz7UQgbp/XMfXnRERE5BC1GzcJR5ibgk+fxnhrKPj0GVyJHYkffrXd0dqksMSOxJ9yKeUbFukJZCIiIq1QybJZ+KvLSRw10d4gloPkC36PM6Ydee/9GX9Fsb15bBRIIWkqsMayrJmWZb0MrAYeDW0sERERsFzhRPQYAk6X3VGCIurYU4k+7jSKv36D2sKdQN1TScrWfkLcSRfhbt/L5oTBYbmjiOg+CBz2P9Oj3Zm3Y2prKFr4kt1RRERE5DCYmgpKlr5NZI/BRHQbYFuOxDNuJjJ9AAWf/gPPnh9sy9ESNFlIMsbMAE4B3gfeA4bVb3kTEREJibCkziSOuY3Ot79M2mUPkXTmJLsjHTFHRAztxk2iZs+PlK54b7/3ihbNwFdRRNLZd7eI4ssRsRykXPxH0i5/mM6TZpBw+rU4Y1NsiRJ1/Egi00+kaPEr+CuLbckgIiIiR65s9RxqS3JIGHUjYDX7/NF9xxA35EJKv/2Aig0Lm33+lqbJQpJlWRYwFhhgjPkQcFuWdXLIk4mIyNHFEUZU79NJu+ovdLrln8SeeDZVW1ZSlvEZMf3PJLrPKLsTHpHEM27GERVHwSdPgfHv957xVFL42XO4U7sTP/RSmxIGR/ywy4lMH0DJ8nep2fMDccMup9MvXyRlwoNE9BhMc/3lzwqPpt0Zt1Cz+3vK137aLHOKiIhIiPhqKV78KuHtjyHq+BHNOrW7w7Ekjb+Tquy1FC2a3qxzt1SB/LPnc4AfOAN4GCgD3gVOCmEuERE5SjjjUogdcBYx/c/EGZOIt3gPRV/MoHzd5/irSsFy4GrXmXbj76Bm9/fUFu2yO/Ihi0gfSEy/cZR88x+8uVkHvKZqywoqNn5B/KlXUPn9N3jztzVzyiMX3qUv8addRfmGRRR/MQPY59d3wJlE9ToFb/Eeytd+8t9f3xBJOP06HFFxFL7z0M8KdyIiItL6VGz8ktiTLiJxxHVUfr+kWRpdO6MTSbn4j9SWF5D/4WP6O0U9yxhz8Assa7UxZpBlWWuMMQPrz2UYY2zbnGhZ1vnA+cCtdmUQEZEjYDmI6D6I2IHnENljMEDd6qO1H1P902pg//83OWOT6DDxaXxlBex+9Tfg89oQ+vBYrgg63vwsptbDrhl3HzS7IzKOjrc8T23xbva89rtW9ZcVR2QcHW58BuOpYvcrv8Z4qv7ngjCijh1G7MBziOjaD1PrpXLzEsrWfEzNzo1BzeJufwztr/87ZavmULTg30EdW0SktVlU/3G0rSlEgiMi/UTSrniEwgUvULbyw9BO5gyj/VVTcaV0Y8+r9+HN3xra+VqeVcaYIQd6I5AVSV7LspzU/63esqwU6lYo2cYYMxuYbVmWCkkiIq2IIyqemH7jiD3xLMIS2uMrL6J02SzK1n6Gryyv0ft8ZQUUzH2C1Mseot0Zt1D4+fPNmPrIJIy4HmdcCjmv/77JApi/qpTC+f8m5YLfEjv4PMpWftRMKY+URfK59+KMjGX3Ow/9vIgE4K+lctNXVG76CldSF2JOPJuYfmOIPmEUnrxsytZ8TMWGRQe+95CiOGh35h34Koop/uq1IxtLREREWpTq7LVUZa0m/tQrKM+cj6mpCNlc7cZNIrxTb/Lef/RoLCIdVCCFpKepa7SdalnWn4FLgQdDmkpERNqU8M4nEDvwbKKOOw3L6aJ66zqKvpxJ5ffLwB/YsuSqn1ZSsvxd4k+5hOpt66jcvCTEqY9ceKfj6wpCq+ZQs/O7gO6p/O5LKvuMJOH066n6YTm1JTkhTnnk4k6+mMieQyj47NlGt+7ty1uwnaIF/6Z48ctEHz+SmIHnkHTm7SSOupGKDV9QtuZjvHlNj3MgsQPPIbxDL/I+mobxVB7WGCIiItJyFX0xgw4TnyJ+6KUUfxma54DFDDyX2AHjKf7mLSq//yYkc7RmTW5tA7AsqzcwhroOmQuMMYH9bTjELMtqOryIiNjCckcSfcIZxA48G3dKOv7qcsrXL6Rs7cfUFuw4vEEdYbS/ZiqupC7snnF3yy6yOF10vPFprLBwdr10O8ZbHfitsUl0vPl5anb/QO5//hjCkEfO3bE37a+eSuUPy8j/cOrhj9Ph2LpiY+8ROFzhVO/8jvI1H1Ox6euAtzI6oxPpeOs/qdm1mdy3/++ws4iItCXa2iZtUdK59xJ13GnseuEX+Mrygzp2eJd+pF35CFVbVpL33iP8b8uFo0ijW9sC6ZH0qjHmuqbO2UGFJBGRlseV2p3YgecQ3WcUDnckNbt/oHztx1R8txjjrTni8Z1xqXS88Wm8Rbvq+ggFuKKpuSWcfh3xp15Bzn8epDp7zSHfHzPgLJLOupOCT56ifN3nIUh45Bzh0XV9kYyf3TPvCcryckdEDNF9xxB74tm4kjrjqyyhPHM+5Ws/pbZ490HvTT7/PqKOPZVd0+9slU3ZRURCQYUkaYuccSl0uvXfVGz8ou6JuEEct8MNT+KvKmX3K/ce+Zb71u2IeiSdsO+L+n5Jg4ORSkRE2gini+jep9dtK+rUG7+3msrvvqJszcd49vwQ1Kl8pbnkf/IUqRf/kcRREyla+GJQxw8GV2p34oZeSnnm54dVRAIoz/iM6D4jSRx9M1U/rcJXXhjklEcu6Zxf4YxJZM9rvwtajwJ/dTllKz+kbOWHRHQbQMzAc4g76SLiT7mEqqzVlK35mKofV/ysEXlE+olE9xlF8ddvqIgkIiLSxvlK8yhdPZu4ky6i9NsPgtLDyAoLJ3XCA1gOJ7nv/uloLyIdVKOFJMuy/h/wByDSsqy9z+e1AA+gR6CIiAhhCR2IGXg2Mf3G4oyMw1uwncIF/6YicwH+EDY/rPp+KaWr6v7yUL1tXV1hoaWwHCSdfQ/+ylKKFr50BAMZCj59hg43PkO7cZPIe//PQYsYDLGDziPq2GEULngh6MXCvaq3ZlC9NQNnTDti+p9JzIlnkTrhAWpL8yjP+IzydfPqCmxOF+3GTcJbuIuSZbNCkkVERERaltKlbxPT/0wSRk0k750pRzxe0jn34ErtTu47D+sfpZrQaCHJGPMX4C+WZf3FGPP/mjGTiIi0ZJaDyGNOIXbg2UR2H4Tx1VL5wzLK13xM9bZ1zRajaNF0wjsdT9I5v2b3jLsP+tS35hR38sWEtz+GvPcfxV9dfkRj1RbtouTr10gcfTNRvYdTuenrIKU8Mu60niSOvpnKH1eE/tG7gK+8kJJv3qJk6dtEHnMysQPPIeH0a4k/7Soqf1iGqanA1a4TOf95MOB+SiIiItK6+avLKV36NomjbyK8az9qtmUe9lhxp1xC9PEjKPpiBtU/rQxiyrbJEcA1KyzLit/7wrKsBMuyLgpdJBERacmSzrqT1Al/xJXUmeLFr7Lz+RvJ/3BqsxaRAPB5yf9oGpbDSfIFvwWHs3nnP4Cwdp1IGH4NFZuXBO0JH6XffkjN7u9pN/aXOCJigzLmkbDckSRf+Ht8lcUUzH2ieSc3fqp+WEbu2//Hzn/dSum3HxDRpS8x/c+k4rvFh72NUERERFqn0lWzqS3NJXHUjdRtoDp0ET2GkDDyBio2fknp8neDG7CNCqSQNNkYU7L3hTGmGJgcskQiItJihXfpR0z/Myn99gN2/vMWSpb+B19FkW15aot2UfDZP4jo3IeE4dfYlqOORdJZd+Ov9VD4+fPBG9b4KfjkaRwRMSSOuTV44x6mpLPuIiw+jfyPHsdfXWZbjtri3RR/MYMdz00k950pFHz6jG1ZRERExCY+L8VfvUZ4h2OJ6j38kG8PS+xIyvn34c3NouCTp0MQsG0KpJB0oGsCadItIiJtiSOMdmdOorZ4D8WLX/1Zs2O7VH63mLKMz4gfdjkR3QfZliNm4NlEdDmBogUv4K8oDurY3rxsSpbNIqbvGUT0OODDM5pFzIDxRB8/guKvXqNm50bbcuzH56Vqy7dqiCkiInKUqtjwBZ7cLBJGXA+OwEsVljuS1EsexPh95L73CKb2yJ8ufLQIpJC00rKsv1uW1bP++DuwKtTBRESkZYk7+WLcyV0p+PyfLe5/tEXz/40nbyvJ596LMzqx2ed3xqaQOHIiVVmrqVi/ICRzlCz9D578rSSNvx3LHRmSOQ7GldyNxDG3UZW1mtJl7zT7/CIiIiIHZPwUfTEDV2IHYgeeHeBNFsnn3UdYYkfyPpiKr7Rl9NpsLQIpJN1F3ZPa/gO8BVQDd4QylIiItCxh8WnEn3olFZuXtMgGhKa2hvwPp2K5I0g+/z6wAvnfW/AknXUHWBYFn/4jdJP4ain45GmcsckkjrwhdPMcgOUKJ+Wi+/HXVJA/5++Aadb5RURERA6mOms1VdkZxJ96ZUD/4BZ/+jVE9TqFogUvULP98Jt0H62a/Ju2MabCGHM/MNIYc5Ix5g/GmNA90/kodGL75v2BR6QlcUTGgdNldwxpQuK4X4LfR9GCf9sdpVHegu0Ufv5PIroNIH7Y5c02b/QJo4nsMYTiL1/GV5ob0rk8uzZTtvIjYgedR3jnE0I6177ajZtEWLtOFMz+K/7K4mabV0RERCRQxV9MxxkVT/wplxz0uqjjTiPh1CspXzePstVzmild29LkBkLLsk4FXgRigK6WZQ0AfmGMuT3U4Y4Go9KdLLohmhs+qOKVDD2yWI4eztgUEs+4mej6pni+imJqy/LxleVTW5qPryyv/mM+taV5+MoLwO+zOfXRKfLYYUT1PInChS/iKyuwO85BVWTOJ6Jrf+JPu4rq7RtC/i9MjqgEEsfcSvWOjZSt+Tikc+1V/NWrRPUaStLZd7N7xl2YWk9I54vuewYx/cZS/PUbzf9kPhEREZEAeXK2ULHxC2JPuoiyNZ/U/fzwP1wp6SSd82tqdm6iYN5zNqRsGwLpRPUEMB74CMAYk2FZ1oiQpjqKfJntY8m2Wp4YH8GnP9aSW6HtAtLGOV3EnzyBuGGXAVCydBbGW40zLpmw2BTCEtoT0aUvjoiY/W4zxo+vvAhfWQG1ZXkHKDjl4SsvajENoNsKyx1JuzG34cn5ibKVH9kdJyCF854jvMOxJJ9/H7tn3IW/qjRkc7UbexsOVyQFnz7dbL/3jLeGgk+fIe3KPxN/2lUUf/lyyOYKa9eZduNup3rrOkq+eStk84iIiIgEQ/HiV4k67jTih19N4f880dUREUvKhAfw11SQ9/6fwVdrU8rWL6CW5saY7ZZl7XtKywKCxAC3zK5m7S+ieXJ8BFe/p6fOSNsVeczJJJ5xK67EDlRs+pqihS/hKztwYzvLHYkzNqmuuBSXjLPhYzLu5K44uw/C8T/7n43fh6+8gNqyAnyleXUrnErz6wpP9R+D/TStti7htKsJi0th94ePtZoinfFWk/fhY3S4/m8kn3cvubOmEIqePpG9hhJ9/AiKFr9CbcGOoI9/MNVbMyjL+Iy4kydQuelrPDlbgj6HFeYm5cLf1/WfmvPXVvPrLyIiIkev2pIcylbPJXbw+ZR9+wHegu11b1gOki+8n7CYJPa88Xt8FUX2Bm3lAikkba/f3mYsy3IB9wDfhTbW0WVTvp9HvqrhT6MjeD3Ty9wfVBmVtiUssSPtxtxGZM8hePK3kvPWH6nemnHQe4ynitqCHQf9Ad0RHo0zNhlnXAphscn7FZzcaccQecwpOFzh+93jyd9G6bJZVHy3WFvlmuBK6U7skAsoW/sJnl2b7I5zSLx5WRQueIGk8XcQd/IESle8G9TxHeHRtDvzdjw5P1G6PLhjB6po0XQiewwh6ex72P3Kr4P++znxjFtxp3Yn5+3/w1deGNSxRUREREKlZOnbxPQfR8LIieS99ycAEkffRGT6APLnPoFn9/c2J2z9Aikk/RJ4CugE7ATmoae2Bd1jX3u44gQXz58bwQnPlVMW2pYXIs3CckUQf+oVxJ10EabWQ+GCF+oa2gXpB15/TQX+mgq8+VsbvcYRGYezvsgUFt+emP7jSD7vNyQMv4aS5e9SnjkffOpP9nMW7cbfjr+qLKRbp0KpfO0nRHTrT8LI66nZuYGancErhiWMvglnVDx570yxrSBpaioo/Px5Uic8QNwpl1C69O2gjR3V+3RiB55NybJZVGetDtq4IiIiIqHmryqlZNk7JI68gfDOJxAWn0bcSRdRuvIjKtYvsDtem2AZ03p78liW1XrD7yPcsqgxhlM6Ofnm5iieX+nlzo+r7Y4lckSijh9B4uibCItNpjzzc4q+fLnFbCuL7Hky8adeTnjH3tSWFVD67QeUr/0E49V/d3vFDBhP0ll3kT/371SsX2h3nMNmuaPocOPTWJaD3TPvxl9dfsRjRnQbQNqVf6Zk2awWUWRLvvD3RB0zlF0z7wrKFruwhPZ0mPh03erBN+7Xyj0RkVZuUf3H0bamEGleVlg4HW/7F8ZTRVh8GjU7vyPn7f/T32sOzSpjzJADvdFoIcmyrGc4SFMJY8zdwcl2+NpCIam7283MLl2ZlpvL3LJSnhgfzq+GhnPa9Aq+2R6c3+SOiFjCO/chvMsJRHTuQ83OTRQtfDEoY0voWa5wUi99iNriPZRvWEjNtvWEot9LsLhS0mk39hdEdO1Hze4fKJz/rxa7LSqia3/ihl1OZPqJ+KpKKVv5EWWr5wSl2NCaOaLi6XjLP/HmZZPz5v+zO84Rc7fvRftrp1G1ZWVdY8UjYLnC6XDTs+D3NcsT0wLhiEqg4y3P4S3cSc7rvz+yXkbOMNpf8zhhCe3ZPfNufKUH7mEmIiKthwpJcrSK7jeO5HPuobZ4D7tfuTekD2BpoxotJB1sa9vKEIWRfVT4/WzzeHi8Y0dOKo7kT4tyuai3ixfPj+DEf1XgOYxakjM2mfDOJxDR5QTCu5yAO7kbAKbWi7d4N3EnXYQnbysVmZ8H+auRUIjsMYSIrv3wdziWmP7jqC3NpWLDl1RsWPjf5nEtgCM8mvjTryV24Dn4q8sp+PQZytd93qIb9FZvW0f1tnW4Ox5H/NDLSDj9WuJOnkDZmo8pXflBi1lB1dwSR92Iwx1JYRt5JKpnzw8UfTGDdmNuq2u8uGr2YY+VcPp1uBLas+f137eIIhKAv7KYogUvkHzeb4gdeE7d9tHDlDjqRsI79CL33T+piCQiIiKtWsX6BTij4qn8YZmKSEEW8NY2y7KijDGVIc5zSNrCiiQAJ3B3cgq3JiWxqbqad8P28Nq1bh7+sobJX9Q0eX9Yu851RaP64lFYfBoA/ppKanZupHr7Bmp2bKRm9/fg95F6+cOEdzqePa/ce9DeMtIyJJ//WyK6DWDnv24h8piTiT5hNJHdB2E5nNTs+ZGKDQup2LgYf2WxTQmt+mZ2N+CIiKFszSeUfP1aq1zV40pJJ37opUT1Ph3jq6V83eeUrnj3qPqBOrxLX9pfPZWSpW9TvPgVu+MEVcqEB4jsMZg9r/0Wz54fD/l+d8fjaH/t45Sv+ZjCz/8ZgoRHJvWyhwjvfAK7XroDX2nuId8f2WsoqRMeoHTlhxQteCEECUVExA5akSQih+nQt7Y1XGBZw4CXgBhjTFfLsgYAvzDG3B78nIemrRSS9hoRHc3UDh0JA3K6FjD+VC+D/l3B+tx9VnRYDtyp3QnfWzjqfALO6AQAfBVFVO/YSM32DdTs2IAnN+uAq0EcUQl0uPFpTE0Fu1/+tfrCtGTOMLrc9QYVm76i8NNnGk47ohKIPn4E0SeMJrxDL4zfR3XWGso3LKTqh+WY2qYLkMHg7nAs7cb9kvAOx1K9fQOFn/8Tb15Ws8wdSmGJHYk75RJi+p4BWFRsXETJsneoLdxpd7TQcoTR4cancYS52fXSHc32+6i5OCJi6v7s8/nYPfMejOcQ/m3EGUaHiU/hcEfWfW88VaELepiccSl0vOlZanZtIvft/zvkezvc+Ay1RbvZ8/pvwaenh4qItBUqJInIYTqiQtJy4FLgI2PMwPpz640xfYMe8xC1tUISQIewMP7asSMDI6OISC8np2MxZ8zviqtzXyK69CW8Y28c4VEAeIv3NBSNqrevp7ZoV8DzhHfpR9qVj1Dx3WIK5vwtVF+OHKGIHkNIu+whcmY9RPVPB95tGpbUmZgTziC6zyjC4lPx11RS+f0SKtYvonpbJqHop+SIiidx5MS6rXZlBRQtmk7ld18GfR67OWOTiTv5YmIGjMcKc1O5eQklS2fhzf3J7mghEXfKpSSOmkjurIeoauT3W2sX3ul40q6eSuXmJeR/NC3g++KHX0PCaVcd9L/FliBm4LkknTmJ/LlPBP5UEoeTtKun4k7uxu6Zd1NbvCe0IUVEpFmpkCQih+mweiQ1MMZstyxr31NqdR4iexxufhGWzK+i4rg6ew9pJW4evngo/4icgCcvm4oNi6jeUVc88pUVHPY8NdszKfn6DRJGXEfNtkzK180L4lchwRJ17DD8NZVUb13b6DW1BTsoXvwKxYtfJbxLX6JPGEV07+HE9BtHbWkeFRu/oGLDIrz52448kOUgdtB5JAy/GssVTsmydyhZ+p8WuTojGHxl+RQteIGSpW8TN/gCYgefR3Tv06nc8i2lS9+mZud3dkcMmrD4NOJPu5LKzd+02SISQM3O7yhe/CqJoyZSvTWD8ozPmrynbsvjZZSvX9iii0gA5Ws+Jvr4ESSOuZWqrFUB9flKOP1aIjodT96HU1VEEhEREZEmBbIi6R3g78A/gFOAe4AhxpgrQx/v4NrCiiTLHUVk94EN/Y1cKelYDifGV8uQTfN5OOtznJbhT0WFvLEzP8iTOxp6aux59Td487KDO74cGctB5zteoXprBvmzHz+0W8Pc9f2Uzqjrp+QMw5OzhfINi6jY+MVhNZEO79KPduN+gTslnaqs1RTO/1fb3+r1P6zwaGIHnkPcSRfhjIqnelsmJUvfpjp7jd3RjljKJf9HRNd+7HpxEr6yIP9Z0+JYpF4+JbA/+ywH7a/7K2Fxqex6cRL+6rJmS3m4wtp1ouONz1C55VvyP/jLQa+N6D6ItMsfpmzNJxTOe7aZEoqISHPSiiQROUxHtLUtGXgKGAtYwDzgHmPM4S+HCZK2UEhytz+GDjc8id9TTc2uzdTs2EDN9vXU7N6M8dYwJNHNW8d1xlPk5pXCQv6Wl4s3iPM7ouLpMPFpjKeK3a/8us2uLGmNwjufQPtrHiPvg79QuXnJYY/jiIyr76d0BuEdj63rp5S9looNi6j8YSnGe/A+OM7YZBJH30T08SOoLd5D4cIXqfph2WHnaQssVzgx/ccTd8oEwmKTqdn9PSVLZ9V/X1rfH0uRvYaROuGPFC58ibJv37c7TrP47599lQftFRd38gQSR99E3odTqdz0dTOnPHx7tynmvf8old9/c8BrnDHt6HDjM/jKC9nz6m9azFPoREQkuFRIEpHDdPiFpJasLRSSsBy42x+DJ2cL+A+8Y/Duk1z8v/ZpFH0fw7qqKu7dtYtdtcErJ4V36UvalX+mctNX5M/+a9DGlSOTOOZWYk88m+1PXx20huhh7ToTc8Iook8YTVh8Wn0/paVUbFhY109p3+bszjDiTrqY+GFXgGVRumwWpSve0w+b+3KGEXPCGcQNvRRXYkc8+VspXTqLiu8WH7DRfUtkuSLoeMvz+KvL2f3yrxr9c6gtaugVt+ELCj5+4mfvhyV2pMONz1CdtZq89/9sQ8Ij4HDS/rq/ERaTxK6XJv38KYqWg7Qr/4y7/THsfvnX1BbusCeniIiEnApJInKYjmhF0jTgEaAK+BToD/zaGPNasFMeqjZRSAqAw4KvboyiW000u1Yk4DPwh927WVQRvMerxw29jMSRN1Dw6T8oz/g0aOPK4ev0y+l4crPIe+9PIRjdIrxzH6L7nkH0cafhiIihtiyfio1fUrF+IWFxKSSOvQ1XYkcqNi+haOFLh/U48aOG5SCq93Dih12OOyUdb/EeSpe9Q/n6+S3+6VcJo28i/uQJ7HntPmp2brI7TrOLP+0qEoZfQ/7cv1OxfuE+71ikXfUo7tTu7HrpdnzlhbZlPFyu1O50uOFJKjYspODjp/Z7L3741SScdjX5c/5GxYZFjYwgIiJtgQpJInKYGi0kOQK4+UxjTClwHpANHAP8NnjZpCl+A7fOrialezXZx+5hp9fLs507c19KSmDd0gNQuuwdqn5aRbuxt+FK7R6kUeVwudN6EhafSuUPS0M0g6FmxwYKP32G7f+4jrwP/oJnzxbihlxIx5ufJfWyh8DvI+c/D5D/wV9URGqK8VP53WJ2T7+L3Hcfxl9ZQtJZd9Lptn/j7nic3eka5UpJJ27IhZSt/fSoLCIBlHzzH6q3rqPduNsJS+rccD5mwHgiuvajaNFLrbKIBODNzaJ02TvE9BtHRPrAhvMRXfsTf+qVlGd+riKSiIiIiByyQApJe2sV5wKzjDElIcwTEMuyzrcs699252hOG/P8PPqVh8uGWLzs2smbRUXc1C6JmV270j4sGOUkQ/6cv+GrKiXlwv+H5Y4MwphyuKKOHYbx+6j6cUXoJ/N5qdy8hLz3/sSOZ6+n4LNnKfj0GXZNv4vq7LWhn79NMVT9uII9r/6GnLf+iPH5aH/VVKL7nmF3sAOwaDf+DvzV5RR/OdPuMPYxfvLn/BXjrSblwvuxwtwNfcGqsjMoX/e53QmPSPE3b+Et2E7SWXdiuSJwRCWQdP591BbupPDzf9odT0RERERaoUAKSXMsy9oEDAYWWJaVAgSnYcthMsbMNsbcZmcGO/zl6xo25Pr4x3nhPFGcw727dnJceDjvdkvn9OjoIx7fX1VK/ofTCEtII+msu4KQWA5X5LGnUrN9Pf6q0mad119VSvnaT+oeie5v2VuyWrrqrRnseeVeqndsJPnce0k84xawAvkjt3nE9B9HRKfjKVr00s/75xxlfOWF5M/9O+6UdBLH3Ea7M28Hh4PCT5+2O9qR83kp+ORpnHEpJIycSPJ59+IIjybvg6lNNtoXERERETmQJn+qMcbcD5wKDDHGeIFK4MJQB5Of8/jgltnVdI6z+PMZ4XxaVsal2dnk1Nbyr85d+HVyCs4jnKNm50aKF79K9PEjiDnx7KDklkMT1q4z7uSuVH4fqm1t0lz81WXkvv0gpSs/Iu6ki0i97CEc4Ude9D1Sjsg4EkbdSPW2zP/pC3T0qs5aTcnSWcSeeBZRx5xM8eJXqS3JsTtWUNTs/I6yVXOIG3wekd0HUbTg33jzt9odS0RERERaqYD+edwYU2iM8dV/XmGM2RPaWNKYZTt8/GOFhztPdjO0s5OtXi9XbdvK28XF3JqUxIwuXUk9wq1upcvfpXLLt7QbcxvutJ5BSi6Bijp2GEAI+yNJszJ+ihb8m/yPnyKiaz/aX/8ErqQutkZKHH0jDnckhfOeszVHS1P89WtUZa+lKjuDslWz7Y4TVMWLX8GTv5XydZ/XrTgUERERETlMTT61rSU7Wp7a9r9i3LDh9hjKagyD/l2Bp/5p3efHxTE5rT1Vfj+/372LbyorD3sOR2QcHSY+hfF52T3zVxjP4Y8lh6b9dX8HDHte/Y3dUSTIwjv1JuWiP2K5wsmf/VeqtjRDD6z/zdD5BNpf8xglS2dRvPjlZp+/dbCANvi/F8sBxm93ChERaWZ6apuIHKYjemqbtDDlHvjFnGpOSHVy/3B3w/nZpaVcvjWbQp+Pf3fuwp1JyYf9C+yvKiX/o2mExaeRdPbdwQkuTXLGJhPe8Vhta2ujanZuYvcrv8ZbuJOUSx4g7v+zd9/hTZXtA8e/J3s3adp0Q6FsFVBBBRcqoCK4cIGKe2/9+br3fp2vew9U3OIeDDeI4mApu4OWzqTNaPY4vz8KCAJt2iZtgedzXbnQNsl50jYn59znHvud2LULUKjIPPxiYu5aPPPf7tpt71B2wiASiCCSIAiCIAiCkBJJxRkkSSqQJGm0JEkHbbyle2FC675aE+PNJVFuOlDL4Kx/fo2lkQinVJTzsdfDxVlZvFhYRJayY52TwuuX4/7+NYyDDsC818RULV1ohaH/fgAEVs3f9DWLQsFTBYXsrReT9HYGcZ+TuhnXEfj7B2wHn0HW0f9BUmm7ZNuWkceiyepN45znkGOi0bIgCIIgCIIgCO3XZiBJkqQHgHnAzcC1G27/l+Z1CUm48usQ3rDMi0frUEj/fD0oy9xUW8uNNTUM0+v5sLgP+xoMHdqG99eZBNb8iu2Qc9Dk9kvRyoXtMQwYRcRZQaypetPXLs3K4hCTibty81B349qE1JFjEZyfPUTTt69gGHQAOac+gNKcndZtKi0OMvY/hcDK+QTXLkzrtgRBEARBEARB2Hklk5F0LDBQluUJsixP2nA7Os3rEpLgDMhc+VWY0UUqLhqxdYjhI6+HkyvK8cTjvFhYxIV2ewdK3WRcnz9KPNBE1jHXI/WAiVM7K4XegrZo9y3K2vppNJxitbEoGKRYo+F0W2Y3rlBINe+vH1D//p2obXnknfEo2sLd0ratzHEXgizTOPf5tG1DEARBEARBEISdXzJxhVIQiRA91ZtLo3y1JsZ9h+koskhbfX9NJMLJFeV84fNyeVY2zxUWkdnOUrdEyEfDx/9FZc4i68grUrV04V/0/fZBUigJbhZIusGRgz+R4KKqSr5p9nGh3d7hUkWhZwqV/kbN9GtIhJrJOeVuTMMOT/k29P33axlp/9MM4j5nyp9fEARBEARBEIRdx3YDSZIkPSFJ0uNAAFgkSdJzkiQ9vvHWdUsU2nLBZ0EkCZ45SrfN7wdkmetqari1toYRej3PFxbR3lBEpHoFTd+/hmHgaMx7T+r8ooWtGAaMJuapI1K3FoDDTCZGGY084WzAk0jw3/p6NJLEVdnpLYESul6ssYqa168hVLEY+xGXYRt7IShSEzCU1Doyx55PpL4M3++fpOQ5BUEQBEEQBEHYdbWWkfQb8DvwCXAXMH/D//++4XtCD7HOI3PTN2GOGqDmlN1V273f+x4P19XUMESnY1oHSqR8C2cSWP0LtkPORpM3oDNLFv5F0ujRFw/fVNamlSSuy3awKhziHbcbgHXRKK81NXFchpWhum0HDYUdlxz2U//+nXh++QDL3hPJOekuFHpLp583Y/8pqCwOGmc9BYl4ClYqCIIgCIIgCMKubLuBJFmWX5Nl+TXAuvG/N/uareuWKCTjyV8jLKiK8fgROuz6rUvcNprV7OMbn49Ls7IoULe/YtH1xaPEmxvJPvo/KES/pJTR990bSaXZFEg605ZJoUbDffX1bH7q/5zLRX0syo2OHLb/WxZ2WHIC93ev4Pz0IbQFg8ib9gjq7OIOP506qzeWkcfiW/w14fUrUrdOQRAEQRAEQRB2Wcn0SDpjG187M8XrEDopIcO5n4Sw6iQeObz1UeJ319eRQOZWR077txNqpuHjB1Ca7dgnXNnqfdWZasx7mdu9jV2Rof8o4n434fXLyVGpOM9u52ufl18CgS3uF5ATPNLQwFC9nqMtnc9WEXom/9/fUTvjelCqyT3tQfQDRnXgWSQyD7+ERKgZ93evpnqJgiAIgiAIgiDsolrrkTRFkqRPgT6SJH2y2e1boLHrligk66+GBPf9FGHaMA2Hl2y/v0ptLMZjDU4ONJmYYG5/oCdSs4qm717BMGAU5hHHbPV9fYmewosKGfDgAHpf3pvMw8SksVYpVehLRhJYvQDkBNdkZ6MAHqxv2ObdP/V6WRQMcnW2A4PU/jl8wo4hUrOK2teuJNpQgeO4m8jYfyq0Iw/NNHQsusIhNH37MomQL30LFQRBEARBEARhl9LaWeh84GFgxYZ/N96uAVI/VkhIiXt+DLO8Ic6zE/UYW6lce8vdxJJgkBscOWQo2h+M8P32CYFVP2Mbc1ZLvyQlZOybQd9b+lJySwnmPcw4ZzlpXtZM7km5aHI1nXhVOzdd7+EotAYCq39mL72eiZYMXm5spDoW3eb9ZeDe+jqyVSoutNu7drFCl4r7m6h96waal87GesBUso+9AUnddn8shd6CdcxZhCqX4V82twtWKgiCIAiCIAjCrqK1HkkVsix/J8vyKFmWv9/s9ocsy7GuXKSQvEgczv00RK8MibsO3X6JWwK4ra6WDKWS/8t2dGhbri8eIxGspOiiQxn40CCKLipCaVBS/Xo1K69aSd07dVS9UEUimqDw/ELaPSpuF2EYMIpE2E+kYjE3OXKoiUZ5qdHV6mOWhUJ86HFzRmYmvTvQ60rYgcSjuL74H41zn0fff19yT38IVUbrZam2MWeh0BhonPV0Fy1SEARBEARBEIRdRWulbT9t+NcnSZJ3s5tPkiRv1y1RaK/5lXGeXhjlin017FOw/ejNynCYVxobmWy1so/e0K5taPO15J6SgWX4s+h7/UQimk/5I+WsvnE1jXMbSYQTAMQ8Mapfq8bQ10D2RDG2fiuSAkP//QiuXchkk5HBOh0PNdQTlOU2H/pYQwPhRILrOtDrStjx+H77hPr3bkNpspN7xqNoe+2xzftpC3fDNHQc3oUziTrXdfEqBUEQBEEQBEHY2bWWkXTAhn/NsixbNruZZVkWXX57uBvnhljvlXlxkg51K5Vrz7icrItEuD03F43URv8VCUxDTRT/XzH97+2PdX8r7nlNVL9ZQMR1NZJ2XEvd1b94F3pxz3fjONqBvo++cy9sJ6MtHILSkIFy1TyuyMrmt0CAL33J9bNxxuM843IxxmTiQKOYoLcrCJUvonb61cT9bnJOvhvzXhO3vINCReb4i4l56vDMf7t7FikIgiAIgiAIwk6tzeY4kiTdJUnSWEmSxJnqDsQXgYs+D7FHjpL/7L/9/kQhWeaOulqKNRrOz9x2vx2FVkHmoZn0v7c/xVcXoy3QUvteLSuvXkn1q9U0zv4a/8p52A4+A03+oG0+R/Ub1cTcMQrPL0TSiMH1GxkGjEKORTjbU0GGUsm99XXtevwbTY2URcJc73AgCtx2DTF3DbWvX0Nw7W9kjruQzCMuA4UKAMvIY9Bk96Zx9nPI0XA3r1QQBEEQBEEQhJ1RMl2WS4GpwG+SJP0qSdLDkiRtPapL6HE+Xx3jraVRbjlIy6Cs7f+qfw4E+Njj4Ty7nX6af4JOaruanJNzGPjIQPKn5RMPxql8ppKV/7cS5+dO4s3xTfd1ffk4MZ+T7GP+g0K39SS4RCBB1YtVaPO05J6Um9oXugMz9B+FY/l3TLGYed/jZkW4fSf/UeD++nr6aLScahPT8XYVciRIw4d345n/NuZhh5Mz5R40eQPI2H8KgVU/E1z7a3cvURAEQRAEQRCEnZQkJ9GLBUCSpFzgJOD/AJssy+2fG59ikiQlt/hdWLZBYvklRpY7Exz0SmBblWcA2JRKPivuQ1k0wgUaJ5mH27HsbQEZvL95cc5yElwbbHVbmpwSck97iGD5nzR8cBfbqnPLnZpL1vgsyh4sw/+Xv/MvcAemySkh74zHuP2TmxkUC3BkWSnueLztB27D0wWFjNDrmVBWirODzyHsmAyDDsQ+4QoUah2JSIjqFy8i7mtI6za1eVq0hVq8C0W7PEEQBEHo6b7d8O8h3boKQRB2QL/LsjxiW99IprTtRUmS5gPPACrgBMCW2vUJ6dIQkLnq6zAH9FJx4YjtFz+5SfBkRjN76Q2cP6EY42Ajzi+drLp2FZXPVLYZRAKI1K2l8ZsXMfTbB8s+x2/zPnXv1RFaH6Lw3EKUxl17jJthwGj2q17KvnKYp5zODgeRAB6or0OrUHBltmhovqsJrPiR2jf+Q6S+jKZvXkh7EEnSSPS+uje9LumFvq/oeSYIgiAIgiAIu5pkStvstAxudwONgFOW5Vg6FyWk1utLosxaG+P+sToKLVv2J1KalWRPymbAQwNYepmdxbkJpsyK0XjtGureqyPaGG3Xtpr//Bz/ih+xHjwNbcHgrb4vR2Wqnq9CZVaRd3pep17Xjs7SbyTnLf6Q1eEwb7ubOvVcFdEo05saOT7Dyu46XYpWKOwoovWl1LxyGc2Lv077tnIm56DJ1hD3x8mbumu/hwVBEARBEARhV9RmIEmW5eNkWd4X+C9gBb6VJKkq3QsTUuuCz4IoJXh6QkuQQVuoJf+sfAY+MpCcyTmEqkKUP1LBdT+XoYrDDTZHh7fl+vIJYp46so65DoV+6wF/oYoQ9R/XY93PSsa+GR3ezo5MlVnIKU1l5Eeaua++jlREZp91uXDGYtzoyEG0MxfSQV+ixz7Ojmuui5q3ajD0M5Cx3675HhYEQRAEQRCEXVUypW0TJUl6AHgZuAD4Brg13QsTUqvcLXPDjxG0e1oYfWcf+t/dH+t+Vtw/uVl942oqHq6geWkz6yJRnnE5Odxs4RCjqUPbkiMBnB8/gFKfQdbR/0FXvCdKSzZsFt5o+LyBwJoA+dPyUVlVKXqVO47e/UZwyqo5zAmGWRAIpOQ5/YkEDzfUM1yvZ6Jl6wCeIHSGpJIoOLuAaFOUuvfqcM9zEywPkntirpjEKAiCIAiCIAi7kDabbUuS9CTwI/CjLMvVXbKqJIlm221TmpWYh5ux7GXBtJsJhUZBTizGAZVefvvIyReLI1u1xFYB7xcXY1YomVRWRkBOdGjbpmGHk3n4JUhSS7wyEQ0Ra6wm2lhFtLEKOVFB4ZluAquDlD9Y2rkXuoN5fPREDmos46i1q1gfbV/5YGsk4K1evclTqzmytLTDvztB+DfHsQ4cxzoof6Sc5iXNABgGGOh7Y1/qZtbR8HF6ezMJgiAIgtAxotm2IAgdtN1m20lPbeuJRCBp29RZaix7WbDsZcEwwICkkIg4I3j/8BJc5ONEfYTrR2spyVSwtC7OfT+FefevGPHNfprDdDre7NWbN91N3Fdf3+G1KPQW1PYi1PZC1JmFqOyFqDMLUGXkICmUqK0L0OV9RKD8UJqXZxN1rSe2IdAUdVUR9zlT8BPpWfa25/F6VgavaLN4cMlPKX/+oTodb/cu5gWXi0ed4uRe6DxtoZaS20vw/uql6vktK5uLLi7CPMzMqutXEWsS7fMEQRAEoacRgSRBEDpIBJJ2drpeOix7WTDvZUbfq2WSUqgyhPd3L94/vITWhba4v1KCk3dXceMBWnZzKFnTmOCBeWGmL44S2TA87CZHDlOsVqasq2BpKPTvTXaOUoXalo86s4C802R0+QHcC49DoR+CQmvcdLdEJEi0cWNwaT1RV0uQKdZYjRwLp3ZNXUABvD94GFkaHUetq8TXlJ4kv3ty8zjKbObo8jLWpTDjSdgFSdD3lr5osjSsvnE18eYtpwuqs9T0v68/3oVbB5kEQRAEQeh+IpAkCEIHiUDSTkdqKSvZmHmkydYgJ2QCqwN4//Di+8NHpCGSzNNw9EAVNx2oZWSBkipvgofmR3jhjwhSXMGnxX1wx+OcVFGekobQ26LKUNHvnn5E6iOU3lOKUmdDlVm4IYupYFM2kzLDsalMDiDmqd+UuRRtrCLmqiJUuQx6cDnX5IwM7srN4+4BhzPj0/+lbTtZSiVf9u3LL4EAl65fn7btCDs/++F28qbkUflMJZ5fPNu8j2OyA8ckB2vvWktwbbCLVygIgiAIQmtEIEkQhA5KTSBJkiQbUCTL8pJUrawzdrVAkqSWMO1mask8Gm5GZVGRiCZo/qsZ3x8+vH96ifvibT/Rdoztq+SmA7WMKVbR4E/w2C8Rli7T8ICjkIca6nm5sTGFr2ZLlhEWel3aq9VeK5JKg2pDFpPaXoQqswD1hoCTQtOSheX/+zucnz6UtnV2hlmh4Mu+JVRnl3CeIhPPvBlp3d7Ztkz+z+Hg/MpKfgr407otYeekydbQ7+5+NP/dzLr/rdvu/RQ6Bf3v70/UFaX07lK2arwmCIIgCEK3EYEkQRA6aLuBpDbHZUmS9B1w9Ib7/g7US5I0T5blq1O6RGGbFAYFluEtJWvmPcwotArigTi+xT68v3tpXtZMIpSaDJw5pXHmlAYYXaTkxgM03HOoDs9omd++8nOpPYvZPh+VaSqT8v7mxT3fjeNoB81LmgmWbZ3VIMciRBvKiTaUb/U9pcmOZeSxWPY5juYlswlVLE7LOjvjYnsWVqWSW4ceR2DmA2nf3utNjZxgtXK9w8Fx5WWIAjehvfLPykeOy1RPb70EMxFKUPd+HYXnFpKxXwaen7eduSQIgiAIgiAIwo5P0fZdyJBl2QscD0yXZXlfYGx6l7VrU9lUZB6WSfG1xQx+YjCF5xdiKDHQ9FMTZQ+WseKyFVQ9V4X3N2/Kgkibm18ZZ+JbQfZ8rpmv18Y4YJwXvQbeHJJPoSV9Y76r36gm5o5ReH5hu8eJx5tdNP0wnWhTNZnjLgRFmzHSLtVXo2Gqzcbntr6sREm0Pv1T6qLA/fV19NVqmWqzpX17ws7FdpAN0xATte/WJtVE2z3PTbAsSO6Jue1+/wqCIAiCIAiCsONIJpCkkiQpDzgJ+CzN69llafO1ZE/Kpu+tfRn06CDyT89HZVPh/NLJ2jvXsvLqldS8XoP/Lz9yvGvqRhbVJjj5/SDDXvFRmtlEVkjPomOyeWGSjhJb6k8UE4EEVS9Woc3TkntSbvufIB6lcc5zqO1FWEYem/L1dcb1DgfBhMwbI6YQWL2gy7b7g9/PD83NXGzPwq5Udtl2hR2byqoi95Rc/Cv8NH3flNyDZKiZUYM6U032hOz0LlAQBEEQBEEQhG6TTCDpDuBrYI0sywslSeoLrE7vsnYdut46+t/fn/739idncg7IUPteLatuWMWaG9dQ934dwdJgt/YcWelKMOnHBpZHglT9lsGUgVpWXmpixvF6dnck8yeUPP9yP86vndjH2jHuZmz7Af8SKv2dwKqfyRh9CkpzzziZPcRo4gCjieeVZrxGG4GV85N+rCZXQ/akbPpc3wd9H32Htn9/fT06hYIrsnrGz0Po+fKn5SOpJNa/sr5d+57A6gCeXzxkHZmFOlOdvgUKgiAIgtAjnbybimeO0nX3MgRBSLNWowCSJClpaa49VJbliwFkWS6VZXlyl6xuFxB1Rok0RKh+rZoVV66g9K5SnJ87idS0PXGtKyWA69fXIsUVPP+2gYd+jjBxgIqlF5n4+BQ9+xSkLtul7v06QutDFJ5biNLY/udtnPs8SGA77NyUramjNJLEdQ4Ha8JhPh9wCHF/E+HqFa0/JqcleFRyZwkD7h9AzuQcDP0N2MZ0rDytPBrhjaZGjs/IYDet+GAXWmcZ2TIJsn5mPZG69u+Hat+rBQXknJCThtUJgiAIgtCTXTJSw4UjNOyWndqLzYIg9CytvsNlWY4DU7poLbukuD9OxcMVNH7bSMzddh+S7rQ6EublRhdHGDOYOV9J78d83PptiP2LlPxyrpE5pxs4pLjzASU5KlP1fBUqs4q80/Pa/fi4twHP/HcwDtwfXZ+9Or2ezjjDZqOXRsN9Theakn1aytrkrftaaXI0ZE/MpuSOEgY80BI8SoQS1LxZw4qrVuD5zYN5uBk6WFH4tMtFYzzOjTmOTr4iYWemNCrJPy2fYFkQ59fODj1H1BnF+aUT62gr+pKOZdEJgiAIgrDj0atg38KWc4HTh4nMZEHYmSUTKp4nSdKTkiQdKEnSXhtvaV+Z0CM963JREYlwe04ugbDEXT9E6P1YM9fMCjEkW8E3Zxj5+RwDEwd0rtl1qCJE/cf1WPezkrFvRrsf7104k6irisyxF4KyexpvO1QqLrBnMdfnY5FjAAqtgcCqnzd9X+PQkHVUFiW3bwgenZCDHJGpmdESPCq7twzXbBexphi+RT7UGWr0xR07MfcnEjza0MCeegOTLJZUvURhJ5M7JRelUcn6l9e3pCF2kPNzJ9GmKHlT8zoc/BQEQRAEYccyukiJRilR709w2h5qFOIYQBB2WskEkoYDuwF3Ag9vuD2UxjUJPVhYlrmjrpbeGg0X2u0A+KPwyM8R+vyvmQs/C5JjVPDpFAOLLzRy4pCOB3EaPm8gsCZA/rR8VNZ2Pk881tJ4OzOfjH26pxLz6qxslMADDfUYBo4mEfaTCCz/J3j03wHknpiLHGsJHq28eiWl95TimuXaakpW85Jm5LiMeU9zh9fzkdfDkmCQq7OyMUjik13YkmkPE7YDbDR80UCoMtSp50qEE9S9X4ehxEDGfu0PBAuCIAiCsOMZU6wilpC5fk6YAosiJZUKgiD0TG0GkmRZPmQbt0O7YnHbI0nSJEmSnu/ONezKFgQCzPR4ODvTTn+NdtPXw3F47vcoA55s5vSZQVQKePdEA/87QtuxpIQEVD1fhaSSKDy3sN2ZDaHyP/Gv+AnLqJNQWrq2pGu4Ts/RGRm82tRInVWBdX8ZQ6//MeCBkpbgUVym5q0NwaO7W4JH0cbodp8v7o8TWB1oKW/rIBm4t76OHLWa8zcEAQUBQKFTkH9GPqHqEA2fNKTkOd3z3QTLguSemIukEYFLQRAEQdjZjSlW8lt1nBlLo7hDMtNEeZsg7LTaDCRJkpQjSdJLkiR9ueH/h0iSdE76l7Z9six/Ksvy+d25hl3dgw31+OJx7szN3eqPKJaAN5ZE2f1pP4/8HObyfbW8cbwedQd67kXqI9S8XYNpdxOZh2a2+/FN37wIcoLMsV335yIBNxXk0KCMM/s8CwMf7I++8FviwWZq3q5h5TUrKb2rFNfXrQeP/s27yIu+lx61veMfyktCIT72eDjTlkkvtfhwF1rkTM5Bnamm+uVq5FiKRkTKUDOjBnWmmuwJYmKgIAiCIOzMDGrYp0DJd+VxwnF4568okwerMYrDTUHYKSVzav8q8DWQv+H/VwFXpmk9wg7CHY/zQEM9w/R6TrZat3kfGbhmVpjr54SYuoeaT6YYMHTgw6Tp2yZ8i33knpSLJlfTrsfGfU48897G0H8/9CUj27/xdlDb1diPsHP+af3YTaXjrQlqQmrw/N4b7/IrWXv7SlxfuYi6kg8ebc63yAfQqawkgEcaGogi859s0XhbAEM/A5mHZdI4t5HAmkBKnzuwOoD7FzdZR2ahzhRHkoIgCIKwsxpV2NIf6bvylvYM0xdHMWokjh8sPv8FYWeUTCApS5bld9nQelWW5RgQT+uqhB3Cp14v8/x+rsrKxqHafg+jB+ZFOPeTIOP6Kpk7zUCmvv1lLutfXk8imqDw/EJoZ7m197ePiTjXYRt7AZKqfYGotmwMHvW9pS8DHx5I32NzmbZEyVJtlJdeXU3pnaUkYpMJripDjoY7ta1IbYRwbbjTgaSGeIxnXS4ONZsZbTB06rmEHZuklsg/O59oY5S69+vSso26d+tAgpwTc9Ly/IIgCIIgdL+N/ZHmVbacJs6vjLO2MSHK2wRhJ5VMIMkvSZKdlgQTJEnaD/CkdVXCDuOOulqUksRNjtZPEl/6M8rkd4MMz1Xy41kGCi3tCybFPDGqX63G0NdA9sR2lskkYjTNfha1NRfLvie077HboLQosY/7J3iUd0oeklKi9t1aDrvXRUYI7lhZRdQZRZPbD5XFQWD1z20/cRJ8f/owDjKi0HWgTnAz05uaqIhEuMGRQ/fMtBN6guxJ2ejydVS/Wk0i3Ikxba2IuqI4v3JiHWVFX9KxqYOCIAiCIPRsh2zoj5Qobsl0Bnh9SZRD+ygpMIteiT3dhSPUjC8RzdGF5CVzNno18AlQIknSPGA6cFlaVyXsMKqiUZ52ORlnNnOYydTqfT9eGeOINwIUWhTMO9vIQHv7giHe37y457txHO1A36d9J6ShdUvw//09GfudgMqa267HAkgaiYxRGfS+ujeDHh1E3ql5SCqJ2vdqWXXtKtbevhbzHC9TdBl84PHwd7gl+8gwYDRyIk5wza/t3ua2eBd5UagVmHZr/Wfdlqgs80B9PSVaLVNstpSsTdix6HrpyJ6QTdNPTTQva07rtpyfO4k2RcmbmtfupvmCIAiCIPRsm/dHyj0ll7xT81BlqHh9SQSFJHHqUJGV1JP1z1TwzFF6Pp9q4DTxuxKSlMzUtj+Ag4HRwAXAbrIsL0n3woQdx2uNjawIhbjZkYNR0fqf1PcVcQ5+1Y9WCT+dbWBkfvuCSdVvVBNzxyg8v7Ddk6Cavn0JOR7DNvaC5B6gaBmJXnh+IYOfGEzRBUVo87U0fNHA6htXs/a2tTg/dxJpiABwvcNBMJHgf85/pl4ZBowitG4piVBqTtQDqwPEmmOdLm8D+M7fzI/+Zi61Z5GpFFcgdikKKDi7gLg/Tu1btWnfXCKcoO79OgwlBjL2y0j79gRBEARB6Dqji5SolRKz/AoMfQ1ICgnLCAulTTI/rYsxTQQnerSLRqqJxGXmV8Z5/Tg9F+wtfl9C25KZ2qYDLgfuAu4ALtnwNUEAIAbcVldLtkrFlVltl50tqk2w/8t+vGH45gwjY/smH8RIBBJUvViFNk9L7kntyyyKNzfinjcDQ8lI9P323e799H305E7NZdCjgyi+phjzMDPu+W5K7y1l1bWrqP+gnnD1lv2OxhhNHGg08bTLSWO8pTZcZS9EbS8isCo1ZW0AJKB5aTPmYeaUZHbcX1+PTqHgiiR+b8LOI+vwLPTFeqrfqCbu75qWd+75bgKlAXJPzG13EFgQBEEQhJ5rY3+k1cUW5JhMxBkhY2TLhaPXl0TZzaFkr7zOtWUQ0sOghrOGa/jg7xjjXw/w6cooz07U83+jU9tXVtj5JPOOng7sBjwBPLnhv19P56KEHc/SUIg33U1MsVoZpms7zri2SWb/l/2sbUzw+VQDJ+2WfKce/3I/zq+d2MfaMe5mbNc6fb9/SqShgsyx5yOptJu+rs5Wk310Nv3v60/JbSVkHpKJf5WfiscrWHHFCqpfqyawKrChU9iW1JLE9Q4Ha8NhZjQ1bfq6of8oAIKrF7RrjW2+hkU+VBYV+r6d7zdTFonwZlMTkzMyGKLVtv0AYYenydHgOM6B93cv3oXertuwDLUzalFnqsmeIAKXgiAIgrCzGNNbyYL1cYz7WvEt8dH0YxOGAQZUGSre/StKOCZzushK6pGm7qHGqpN4amGEcByOfzfI28uiPDhOx+1jxLmBsH3JBJJ2l2X5HFmWv91wO4+WYJIgbOF/DU7qYjHuyM1NqoFzbbPMwa/6WVAV563Jei4emfwHTN37dYTWhyg8txClsR1lWYk4jbOeRpWRg23McWQekkmfm/ow8MGB5ByfQ8wTY/3L61lxxQoqn6rE94cPObaN6NFmptls9NJouK++jthmXzcMGE24egXxZlfy60uCb2nLmizDLSl5vo1ZVDe00TB9R6cwKCg4u2BTA8hdkgQFZxUgx2SqX6/u8s0H1gRwL3CTNSELdWZy7/cMhYJnCwoZIAKdgiAIgtDjbOyP9E5Ui9qmxj3PjXehd1N5mzsEn6yMMXUPNSqRlNTjXDJSw+La+KZpe7EEnPphkJf+jHDbwVoeHi+Ov4RtS+bt/MeGSW0ASJK0L/Bb+pYk7KgCcoK76uoYoNVxVmZyJ+ueMBz+RoDPVsV4aoKe2w5ObmclR2Wqnq9CZVaRd3pe0muU1BLavErUGQ+Td+rf5J+Rj1KvpPa9WlZevZKy+8to+qGJRCC5CVbZShUX2u184/MxPxDY9HWlORttXn8CK1NY1rZBIpDAv8qfkj5JAM2JBI85G9jbYOAoc2qCUz2NrpeOfrf3w3aQjdwpuWhyds10XdvBNoyDjNS+XUvMHWv7AWlQ914dADknJhe4PNdu5yCTiWuzHelcliAIgiAIHbCxP9KCXBMxXwzfIh/h6jChqhAZ+7SUt01fEsVhVHB4iZgV3JOMLlIyPFfJUwsjW3w9IcN5n4T43y9hrh6l5bmJOhSiK4HwL9sNJEmStFSSpCXA3sB8SZLKJUkqB34GRnTR+oQdzHf+Zr72ebnYnkVvdXIZB6EYHP9OkFf+jHD7GC1PTkhuZxWqCFH/cT3W/axk7NtKA18JjIONFJxdwKDHB9Hrkl4oDbVEGval8cfxrLl5TctUqcZokq/yH1dnZ6NG4oGG+i2+bhjQUtYWWJ36QBK0lLfpinSos1KTJjzT42FZKMj/ZWdjkHauTwrrAVb63twXSSVR8XgFckQm79Tkg487C5VNRe7JuTT/3UzTD01tPyBNoq4ozq+cWEdZ0fdrvTwzS6lkqtWGMxZjf6ORvfWdL+cUBEEQBCF1DilW0YhEYIAZzy8e5HhLJr/nVw+G/gZUVhVfrYnR4E8wbZgob+tJLhmpwROSeXPp1udAMnDlV2Hu+THM+XtrmH6sXmSUCVto7c9hIjAJOALoQ8vktoM3/PeR6V+asKO6t66eiCxzW07yzbDjMpz9SYj/zgtzyUgNM47Xo0miYq3h8wYCawLkT8tHZd3yKoeuSEfOyTkMfHggfa7rg2WkBe9vXsoeKGPlVcupfacWddahGAaMbu9LBGCoTscxGRm81tREZXTLHbBhwCgiDeXEmtJTPuRb5ANIWVaSTMvvLUet5jy7PSXP2d0ktUT+mfkUnltIYE2ANbetwfeHj/qP6jEPNafsZ7ejyD8jH0khsf6V9d29lJbAbVOUvKl5rTaNP89uRy1JnF25jvpYlMtFU3hBEARB6FHGFCt5PqZDoVbQ9OM/F6o2L2+LJeCtZVGOHqgiQ1RK9QgOo8QJQ1S8ujhCoJVr6Td/E+b6OSFOHarmvROTOz8Tdg3bDSTJslyx8QZ4gQzAvtlNELapIR7jkYYG9jMaOcbSvlKp6+aEuXZ2iJN3V/PZFAOmtiqQElD1fBWSSqLw3ELUmWqyJmTR765+9LurH1njsghWBFn31DpWXL6C9S+tx7/cDzL4/vicSF0ptsPOQ1K371NNAm505FAXjfKcy7nF9xR6C9rCIamd1vYvkfoIoepQyvokASwKBfnE4+FMWyaFSWaT9VTqLDV9b+pL5phMGj5toPzBcuK+ltpv11wXofUh8qbmIal3ruyr7cnYNwPLcAt1H9YRbWh/5l2qJcIJ6t6rw9DXgHWUdZv3yVWpODnDykyPhzWRCM+7XIw0GBhlMHTtYgVBEARB2CajGkbmK/nKaiJUFSJUEdr0vXBNmFBlaNP0tumLo+hUEifutmMfY+4szt1LjUYp8fTCto8LH5gX4dIvghw7SM2nUwwYxK9QgLZ7IkuSdBdwJrCWf2ZWycCh6VuWsKN71+NmUoaFGxw5jNAbWBEOszwcYmU4jD/Rev+hh+ZHaPDLvHi0jrnTjBw1I4AzsP2G15H6CDVv11BwRgEDHxkIQGB1gOrp1Xh+9RBv3s54czlB4+xnyD3tQTJGn4L7+9daXVeeSsUgrY5Ds3SMsRmxB/XcUFNNQN5ybYb++yIplARWzW/1+TrLt8iHfbwdhU5BIpRcT6e2PNzQwFizmVtzcri4qoru6aLTOaahJgrPL0RSSFQ8VrEpe2uTONS8UUOf6/qQdWQWDZ80dM9Cu4jSpCTv1DwCawO4ZqW28XtnuH92kzk2k5wTc/D85kGObPk+umBDZtyzGwK173k8nJNp5/KsbH5eV9Hl6005CYbta+cGMlHXR2E7u6lUkoHpTY184u3CaX2CIOxUztlTzeBsBdfNDhNvfRaJsAsYXaSkSqfGla2n6e2arb7vWejBcawDlVXF7zUx/m6IM22omhf/6P6LWrsypQQX7q1h9toYq1zJnUM8tTBKcwReOlrHV6camPhWAG84zQsVerRkOp6dBJTIshxp856CsIEM3FhTw42OHA4xmZhstW76XkUkwopwiOWhMCvCIf4OhXDGtzyLem1xFFdQ5t0T9Px4loHD3wiwzrP9I5amb5tQ29TIMRnPzx4iDcn9uYbXL6d56WwsI4+jedlcYq4qlEAfjYbBOh2DtFoGa3UM1unIUG7M5ZRRq2KYBzaTbwrC71s+p37AaGLuWqL1ZUmtoaN8f/rInpCNaQ9Tysa4N8Rj/Le+nttzc7kvL5/raqpJTYiqC0jgONaB4xgHwXVBKp+o3O7fgX+5H8+vHrKPysY9z03UtfMe0ORNzUNhULD+5fX/XAroCWSomVFDyc0lZB+VTf3Mf/qMFajVHJ9h5V23m5pYSzgzKss843JyZ24eBxmN/OD3d9fKO03fR0/eqXnc9IuW4nqZRbY4kZr0H4310mi4IyeXZaEQpRHxkS4IQvvdfJCWYqsCh0HizI9DJHrS54rQ5cYUq/jIYEROtBx//5tnoYec43OwjLDQOKeR6Yuj3D9WR1+bRGmT+OPpLpMGqijKUHDZl6G277yZ1xZH8UdlZhyvZ+40I0e8EcAVFL/HXVUygaRlgBWob+N+grCFddEoF66vAsChUm0KygzStfx7+GYTwpyxGMvDIVaEwpv+/XxVhPFvBPh0ioF5Zxs5/I0AfzdsP6xR/2H7/0T1kkSv+W+yr1ZFn4HD6V2lZIBWi07RUvUZlRNE9VFy8kIYMqNUxMO8usbP9GURPhxi4M6BWmYsi+LZcA4oafToew/H98dn7V5LewXWBIj5YpiHm1MWSIKWbDKTUsH/ZTuIyjI31db0qPjDtihNSgovKMS8h5mmH5uonl6NHG191bVv12IeZib3lFwqn6rsopV2LdMwE9bRVuo/qie8vuddNgquCeJe4CbryCyavm/a1PD+YruduCzzvGvLDKqPPB7O3ZCVtCMGkpRmJTkn5GA70MZei2Psvk7myd0izD1IzapryjY1KE0Xu1LJp336ck9uHqeuq9hxgsSCIPQI/TMVFFsVLKiKcfowDZFEy2Snnn6MIKTPQcVKbjQaaV7aTMyzdR57pCZCcF2QjH0yaJzTyJtLo9x7mJbThqq583txQaO7XDJSwzpPgs9Wtb/24P2/YwSiQT44Sc93ZxoY93qA2maxF9gVJRNIug/4U5KkZcCmMxFZlo9O26qEnU59LEZ9LLbFyZ9JoWDgpowfLYO0Os7MNKLeMDUskEiwMhzi1bcjHDtS5ptjNZzwpZefqjpWcJWpVLYEs3Q6Bml1DNZqKdZoUEgS/P05PrWe5XoLnzfXkZ8f4+DdEwwqTNAUbplm8NLcCIvr/jn1uurrEH9cYOTmg7RcO7vlraHvOwJJpU5rf6RNZPAt8WEeam5p2pTCffjLjY1oJInLs7KJyjK319X22ANFfR89RZcWobKoWP/Kepq+T24iWbQxSsNnDeRMzqFxSCP+v3e8wERrFDoFBdMKCFWFaPis55bv1b1bh2UvCzkn5lD1XBXFag1HWzJ4vamJhviW7/UY8LTLyf15+Yw1mZjT3Nw9i24vBWQekknO8TkotArcXzqZ+ruRNQmZN1c1UHR0MZaRFjwLtr6am0queJy762p5KL+AM2yZvNLUmNbtCYKwcxlf0pKZfeqHQaYN03DbwVrCMbjki/ZlNQg7B6MaKDHSpFXR9NP2j728C73kTM5BZVNR1RTj27I4pw/ViEBSNxloVzC2r4ob54Y6XJ76xeoYR77ZcrH/x7OMHDbd32rliLBzSiaQ9BrwALAUxAVMIXWaEwl+Dwb5PRjc9DU1UPKvzKX9NWaCS5UEgedN2VQPiLDQG9pUHrcyHMKzWd8lCShUq7d4jkFaLTmbNZBeH42yIhTiC5+XFeEwa2IRxp95OqfalnG6OohCkphTGuPmmRFmLo8R3kb/ksV1CV5ZFOXyfTU8+1uEtU0yhgGjiDc3Ea5ekb4f3GZ8i3zY9rdh6GcgsDqQ0ud+1uVCI0lcaM8iKsvcXV+X0udPhcxDMsk9NZeYO0bpPaWEytt3MOv8yon1ACt5p+ax5tY1XdKnpqvknNhy0LbuqXXIsZ774R5tjOL80onjGAeuuS4u9lsJyzIvNm67n9NnXi/nZdq5LCubb5qbe/yHkmGAgfzT89EV6Whe1kzNmzWcEjLQ22HjvMpKPBV+HDVh7OPsaQ8kAXzh83GEz8flWVl829xMeVQcyAuCkJzxJSpKmxKUNsnc/l0YrRKuP0BLJC5z1dc9L+tVSK/9eyn5LMOEFIxv3Y9yM56FHnIm55AxIgPXbBfTl0R57Vg9owqV/Fy1Ex147SAuHqkmHJM73afqu/I4Y6cH+PLUlmDS2OkBVjf29KMyIZWSCSQFZFl+PO0rEQQgCqwIh1kRDrfMCuSfwNC+GTpu3dNEv6gWk2TkGDI2PW59NMrKcAiLoiXryLShn1FMlimNhFkQCGwz8LS7Q8HZ+6s5faiGLMN7VMuZPLRuCM989Cvl7rZPvm/+JszJu6n57zgdkz+Ioe87Av/y70Humh1p89JmErEE5uHmlAeSAB53OtFIEmdn2onIMv9t6BkVrpJGouDMAqyjrfgW+6h6voq4v+2DkdOHqvGGZT5e2ZLpIkdlamfU0vuq3tjH2nF93XOaUbeHBEyz2Zjn97MmEsEwwID9MDvOr50ES4NtPr67NXzegO0gG/tNyGfCVypebHTRGN/27zMBPOVy8kh+AUeYzXzh2/7Ba3dSWVXknpyLdZSViDNCxeMV+P7wYVUquahPFj80NzMv0JIF55rjIv/0fPR99V3y+7qzrpZP+/Tl7rxcpq1b1+ODcYIgdD+VAg4pVvHm0n9OPm+YG0argqv20xKOw/Vzduxgku1gG2q7mmB5kFB5aFO5tbBt+/fX8KlBj+eHplbbCURqW8rbLPtYcM128eHyKE9P0DFtmFoEkrqYUQ1nDNPw3t9RGloZZJSsX9bHOeQ1P7NON/DDWS1lbsvqd+2jCtvBNtRZauo/6BnnTOmUTCDpR0mS7gM+YcvStj/StipB2IwMVEajVDqjzPrBx0cnGzjkYBXXfR7hp78VDNLpGKzVMVCrxZuI84nXu6nP0upImMi/pqpZtHD+7mrO2VPDPgVKInGZj1bEeOnPIH/0Px3DHuOpUV0OtD0ZqrZZ5r6fwtxzqI7x+/ZlpdbQNWVtGyRCCQIrApiHm6l7Lz0ZQw81NKCWJM7MzCQqyzzq7N4yKU2Ohl6X9kJboKXuwzoaPm1Iqqxv3wIlrx6rQyFJ3P1DmFu/DSMDvsU+vIu8OI514Fng2WaNf093dmYm12Q7KA2HmVxdQcHZBUQaItR90POyyLZFjsjUvVfH9Vl5BBRxXmlsveTqa5+PleEQl2Zl87XP16MSySSVhP1wO9mTspGUEvUf1dPwRcOmqXSX2LMwKBRbBGXd89zknJCDfZydqueq0r5GZzzOvfV1PJCXz2k2G9ObkisHFQRh17VfoRKzVmLW2i0/I6/+OoxGKXHd/i1lbrd9t2MGkywjLBScVbDF12LeGMGKIKGKEMHyIMGKINEGEVzaSL+XhZBCQcMP7jbv6/3VS84JOagz1TQ3RvlweZSTd1Nz5VehbWb9C+lx2lA1GTqJpxam7u94cV2Cg14JMGeage/PNHL4G35+q951g0m2A2wgQf0u0F46mUDSnhv+3W+zr8nAoalfjiC0zhuGI98MMGOyngeO0nC3Ocwt3ybX5+PAXkrO2VPNibupMaglltbFufKrEG8siW6aOKCofh3dgP3JHHchdW/dkNTzPvJzhPP30vDgaD9Hh7yEKpZ0+PV1hHeRl/zT8tE4NETq01Omcl99PRpJ4jx7S2bSUxtGsnc1815mCs8tRI7LVDxcQfNfyfXIUSvghUk61ntlZpdGufkgLQPtCs74KEgwBrUzaul3Tz9yTsxh/Yvr0/wqUmtvvZ4rsrJZGgyyh17PVfsW8VmulrL/lm0KXuwI8v4Ism9vmbdGSPjK2OyyxdZk4EmnkycKCplkyeAjb/pLwpJh2sNE3ql5aHO1eH/3UvNWDVHnPwdrJRoNJ1utvON2bzE1LRFK0PRjE/ZD7dS+U0vMnf5g5qdeL4ebzVyZlc33zc1URMXJkSAI2ze+REU8IfNN2db7p8u+CKFRwq0HawnHZe79cccqmdU4NBScXUBgbYDyh8rR5mvR99ajL9aj660j64gsJFVL/864P06woiWoFCpvCTBF6iM9aypqFzCqYWmRGbMnklQmrWehh5wTWqa3uWa1lLedPkzDxAEqPli+413A21FdMlLDHzVxFqQ4E2ylK8GBr/iZO83I3GlGJs4I8OO6XS9CqNAp0PfV0/BFz+1NmkptBpJkWT6kKxYiCMkKx+HE94I8O1Hm5oO0ZBslLv582yNoc00SZwxTc/aeagbYlXjDMq8vifLSHxEWbiNangh6cX//GvYjLsM4ZAz+v79rcz2hGFw/N8JbkxuZVD6DJxNd+4HoW+SD08A83IxrVvpKs+6sq0MtSVySlUVETvBCG1kjKaWAnBNyyJ6QTaA0QOVTlURdyZ/4/t9oDXvkKJn0VoDPVsVYVp/gofFa+tiMHPN2gOr6CM6vnDgmOWj6ronAmtSXCaaDXank4fx8KqMRzqqs5I6SfKY6TfzwlWeHax5+mT0btxznqwM1ZAWyqJ/Z+pWcuc3NLAsFudhu53Ovh+4Mg2iyNeROzcWyp4VwTZjyh8ppXrZ1kPM/2Q4CicQ2A7GNcxqxj7WTOSaT+o+65irWHbV1fNKnD3fn5nFGpShxEwRh+8b3VfHL+vimKbWbk4ELPg2hVcI9h+oIx+Dhn3eMYJKklii6pAg5IVP5VCWJYILg2iDBtf8ERySVhLZwy+CSfawdhbplwm88GN8iaylUESJcE96pg0v7DtPxp16HaX5yn1eRugjBiiAZIzNwzXLxTVmc9d4Epw9Vi0BSFzmwl5I9cpSc80l6SujL3TIHvuJnzukGvjrNwHHvBJi1dtcKJhkGGJCU0g53DN5RbQaSJEnKAe4F8mVZPlKSpCHAKFmWX0r76gRhOxIynP9piHq/zE0HasnSS5z6YZBwvKWO/6j+Ks7ZU82R/VWoFBLfl8e458cg7/8dJdDGGWfz4lmYho7HesjZBNb8ihxpO6gw0zOAPxIabsqZz6saaO7C46eoM0qoKpT2QJIM3Fpbi1qSuCrbQUSWea0LSmJUGSqKLirCOMiIa66L2rdq29U8un+mglsP1vLeX9FNY04fXRBhlSvBW5P1/HqukaPfDvDnpw3YRtvIOz2Ptbev7fEHgArgv3n5WBRKzq+qIqBIMONELQd+IXPJAgU/0+NfwibDdDrGmEw80lBPzZ8Gso7MoumHpjaDhU84nTxXWMRxGVbe9bi7ZrGbkTQS2ROzyToyCzkmU/tOLa5ZLuRtjEE5wGDkQJOJB+rrcG+j/1OkPoJviY/MQzJp+KyhSxqkN8Rj3Fdfx/15+Uy12njDLUrcBEHYmk0HIwsU3PXD9g9uZODsj0NolBIPjdcRicMTv/b8YFLe1Dz0vfWUP1q+3Z5IckwmVB4iVB76ZzKsEnQFOnS9deiL9eh768k8JBOFtiW4lAgnCK7bkLVUESRYHiRcHd5pxhY5DrTRIMv89XXyFxU9v3rIPTEXdaaaaGOUN5dGuWo/DVkGCWcK+vUIrbtkpIbGoMxbS9N36a3aJ3PQqwFmnWbg0ykGTnk/yMwVu06g0DTYRCKa2GEuSHeWIon7vAp8DeRv+P9VwJVpWo8gtMvN34S58qsQk4eo+eJUAw+M1VJ5lYmPTjEwIl/Jg/Mj9H+imTGvBZi+uO0gUguZxtnPoDRasR54alLrMAwYze3BU8jVx7huf22nXlNH+Bb5MA4wojAk85ZunVYJGdt5CQngxpoavvJ6uc6Rw1SrtdPba41hgIGSO0rQ99FT9XwVNa/XtPsE+7mJOkIxuPyrEDalEoPUkp7++eoY+7/sJ5aAH88ycnyJkpq3a9D31mMbY0vHy0mpi+1ZjDIaubuujlXhMH2PySY6UM8jiSb21Oo5Oc2/m1S6LCsbZyzGm01NLb2+5Japc2350e/nj2CAC+12NBt+r13FMsJC//v64zjagXehl9U3rMb5pXObQSQl8B+Hg4pIhBmtBF9ds12oMlRk7JOx3fuk2ideL981N3NVdja9NptsKQiCsNGhfVQopK37I/1bXIbTZwb5cHmUx4/Ucf7ePXufkjEqY1PwvnlxcqXym8QhtC6E+0c3Na/XUHp3KX9f9Derb1pN1fNVNH7fCAmwHmil8NxC+t/dnyHPDqHvLX3JOz0P20E2NA5Nel5YuklQM9DCoKYgvvrkgwTehS1TdCwjLQBMXxxFrZQ4ZfdkOq0InZFrkjh+sIpXFkUIpjmu4wzIHPKan9+q47x7op5T9+jZ+4FUMg42ElgTaLX5/M4kmbPOLFmW32VDDF2W5Rg71ZBsYUf3v18inPZhkAN7Kbl6lIYFVXEmvRWg6NFmbpwbZk0HRlFGatfQvOgrzHtNRJ3dp837GwaMYsFaD28uiXLNKA1Flq49qfUu8iKpJMx7mDv1PBol/HS2kWUXm7Drt/0a4sB/aqqZ6/Nxc04uJ2ak56TXfridPtf1IRFKsPautbjnu9v9HGcNV3NIHxXXzQpxhNrGnL4lvNW7GLOiZde3tD7BPi/6WVQb5/2TDFyiC9H8dzM5k3NQGpUpfkWpM9pg4EK7nZkeD18FPVxzmpWMSQ5Kqpp5d2k98/1+rs7KxqHq+QdnI/R6RhuNvNjoIijLRBujOL90Yt3PiqGfoc3HP+F0kqtWc1KGNf2LBbT5Wor/U0yvS3sR98cpvbeUquerWu1rdKLVSj+tloca6lstwfP/5Se0PoR9nD31C2/F7XW1RGWZu3Pz6No9lyAIO4LxJSo8IZlf17d9+B9LwCnvB/l0ZZTnJuo5c3jPPInU5mspOLMA/wo/dR+maDBFAsLrw7jnu6mdUUvZfWUsv2g5q25YReWzlTR+00giksA6ykrB2QX0u6cfmrwdL5iUtZsRl05Nxl/edj0uUh8hWB7cdLHkr4YEf9TEmTZ0x/sZ7GjO20uNWinx7G9d0wjAE4bxrwf4vjzO9ON0XNDDg8qpoDQq0fXS4V++a5S1QXKBJL8kSXY2VElIkrQf0DM6mwrCBm8ujbLHM34KH2nmuHeCfLYqxjYSA9rF/cN0EqFmMsdfCK2cXmly+6OyZBNY9TM3zA0BcP9YXec23k7BtUFi3hjm4Z0LJN17mJYR+UpyjBIvH7P91xADrq6p5vvmZm7LyeUYi6VT292cQqeg6JIi8qbk4f3Ty9o71hKuav8UGIexJb1+3t8SY135/MfhYFEwSLFGwxMFhZsyWOr9Moe+FuCNJRHuPVTH5bWNKPVKHJMdKXtNqeRQqfhvXj5rImHmGRr49Gob8w7NJzsY5bW4m1GFSu6oq0UpSdzsaDurp7tdnpVNXTTKO273pq81fNFAtDFK7tTc1t56APwSCLDA7+d8ux1dGrOSFHoFuafk0u/Ofuh766meXs3a29cSWNV6+rJZoeAyexa/BPzMbW77irdrjgt9Hz36fvpULb1N9bEY99fXM8JgYKq152fjCYLQtcaXqPimLEYsyety0URLL8uv18R46WgdU/foWRc1JE1LX6REKEHls5XpLTeTIVITwbPAQ+3btZQ/UM7yS5az+qbVyHGZnGN7/uf0v/UdZ8OYSFD2o7vdj/Us9GAoMaC2twQWpi+OMrJAyaCszmfUC9umUsAFe2v4ak2sQxfXO8ofhaNmBPh8VYxnJ+q5ZtTOHTA0DDQgKXad/kiQXCDpauAToESSpHnAdOCytK5KEDpgpStBnT91qYSJUDNN372KrnA3jLtvv+e8YcAo5ESc4NpfqfTKPPRzhKl7qNm3oAszWuSWMfamPUzJvau34Yh+Kq4ZpeWJXyNcMyvM0QPVXDJy+1cQorLMFdXrWRAIcHduHhPMnQtiQcsVwpLbSrDsZaHm7Roqn2xpfNkR/xunJ7zCQsbiXHLVaq5av55zqiq5vqaafQwG7t8s+yIch9Nnhrhxboir+sDYGi+ZYzLR9e7agGBbVMDDefnoFAqCg1y8eKaZ20ty8PviLLijDJ87xtNH6aiORXnK5WSs2cxhJlN3L3u7RhsMjDAYeK7RRVj+570rR2Rq36vF0NeAdZS1zed5wuUkS6VKTxBEAuv+Vvrf3x/7eDtNPzWx6vpVNH7TmNTJx4V2OxlKJQ/UJ9eQ1D3PTTwQ7/KspI+8Hn7YUOJWJErcBEHYoH+mgmKrgtml7auHCcfh2HcCfFceZ/qxek4Y0nOCSQVnFqDN01L5bGWXTMncitySueSa5SJj3wx0RT3rWKM1Cq2CyBAL43x+ft7GBL+2eH/dsrztrWVRYgmZ04eKz510OWagigKLgqcWdn3PsnAcjn83yDvLojw0XsdtB3d9+4+uYhpiIh6KEyxLTzPznqjNU05Zlv8ADgZGAxcAu8my3LXzzQWhm/iXziG0fjm2MWej0Bq3eR/DgFGE1i0hEWrJNnjgpzDVvgSPHt61O0vfIh8qkwpD/7bLgf4txyjx2rE6ltTFuXZWiCd+jfDZqpad/tCc7e8mIrLMpeur+D0Y5P68fMaZOh5Mytgvg5LbSlAYFJT9twzXVx1vHH5JPxMjq/JxrzTzkcfDpLJSvm72AfClz8cD9XUcYbFwvWPLrKP7foow+d0AN4Y82OIJ+p2V32ZGTFe6IjubvQ0GHCOaGLuPghMsWThjEqseLMdbF+XKr0IMz1Vy8UgN0xsbWREKcUtODiZFz7zSd3lWNuujUT7wbJ3k6lngIbA2QM6JOZual27Pn8EgPzY3c05mJgYpda9V11tH35v6UnheIdGGKGvvXEv1q9XEfclVd/dSqznNlsmHHg8rwsll1ckRmabvm8gYkYHK1rUnXrfV1RKXZe4SJW6CIGwwrqTlolhb/ZG2JRSDSW8FmF8ZZ8bxeo4e2P3BJNvBNqyjrdR/VN/tJSjOr5zEA3Ecx/XMDOhtsYywEFMrKCn1Jtl3dEuRhgjBspbpbdCSFf71mhinD1WLz500uWSkhnJ3gi9Wd0/T61gCpn4Y5KU/I9w+RstD43fOYJJxsJHAqsA2e2XurNo84pYkSQlMAA4DxgOXSZJ0dboXJgg9g0zjrGdQ6M1kHHj6Vt9V2QtR24sIrPp509f8UbjpmzCjilRd2kCweVkziWgCy/D2lZlJwPTj9Jg0Eqe83zL5DuCsj0M0BmXenqxH38rLCMkyF1dVsiQU5KH8fA4xti8DRlJK5J2WR9GFRQTLg6y9dS2BlR2bdmBWKLg7L4dLlIWEY3D++nXcUleLJ7Fl6shrTU282tjI6bZMzrZlbvG9D5fHOPKlZs6uaYJiA2OO2/L73eWEbBPnZNqx9vNTbgpyiGTHbVSz7vF1m0r/Plge4+s1Me46REuWSeKW2lrsShVXZWV38+q3NsZoYqhezzMuJ1F5Gx+6MtTMqEFtU5N1VFabz/eEy4lNpeJ0W+ezkpQmJfln5FNyWwmabA1VL1ZRek8pofJQu57n/7IdROQEjzsb2vU411wXSJB5aNf+7dXFYjxQX88+BgOn7EDN2gVBSJ/xfVWUNiVY29Sxk6PAhvKW32vivHeiniP7dV8wSddLR95pefiW+mj4tH375XRIBBI4v3Ri2cuCvk/XlTN3hv1AK0XRKJVLOj6ValN5W9aG8rYlUYoyFIwp7rm9KXdUQ7IVHNJHxTO/RUh0Y3wjIcN5n4T43y9hrhml5dmJOhQ7UeRQlaFCV7Br9UeClkqJtnwKhICl7DRDKwUhedH6Unx/foF5zwn4l84mUrd20/cMA0YDEFy9YIvHvLYoymX7aHhgrI6PVjQT6oKLAIlwAv8KP+bhZmrfqU36cVeP0jC+RMX5nwZZ7vznLe4MyJw+M8js0w08eoSOCz/b/kl0QJa5sKqKFwuLeDQ/n0vXr+enQNs7U4VBQfHVxRj6GXB+5aT2vdoOt/I/zGTilpwcslUqMgc1c8oftfzUvP0f/IMN9ThUKv7P4aAhHuNT7z9NI/+oSXDzQ3WMvNuEe0IOlzsDPP5D+4IIqSIB/9lLz5mRfFTGCA866/mgrwNLHwNVT63Dv2LLn/OlX4ZYdpGRh8bpOG1mkNebmjgzM5PPfF7+DPaMdFsJuCwri4pIhE+2kY20UXBtEPfPbrKOyEJlbv3jqhGYtzLKOcosvj1SS3NHz1UUYNnbglKvxDXLRf3H9R0qr9xHb2Cs2cxjDQ044+37o446o/j+9JE5JpOGTxq6dPrHh14Ph1vMXJPt4Ee/n6po1zTm3JHo++rRFmhxd6A/iCDsSFSKloltb3ZyXLgvAke8EWDONCMfnqxn0lsB5pR27dwehb6l/2LcF6fq+aoNnV+7n2u2C/s4O47jHVQ8XNHdy2mV2q5GP8jE0U1u3i/v+IGtZ6GH3JNysYyw4PrKxScrY3hCMtOGqfm2XMxzSqWLR2oIxWRe+qP7P8tl4MqvwjRH4KYDteiUcObH3XNsnWrGQS1VK83L2zn9cQeXTA1AoSzLx8uyfJssy3dsvKV9ZYLQg7h/fINE0Evm+IvYvNbJ0H8U4fUriDc3bnF/Gbjq6xC9MhRc3YXN5XyLfGjztGhyk9vmiHwF9x2m5f2/o7ywjQ+Zb8riPDAvwgV7a5g8uPUz8+ZEgvOrKlkTifBEQQH7Gdouscs6IgtDPwPrnlpH7dsdCyJlKZU8ll/AEwWFBKU4vcc28EHUyXeVrR/kyMANtTUs8Pu5OzePUf9ab7VX5vv/VeFSKiic7OCFSTrUXVwhNihLwY9nGLhAm0c8AaetruLtAZlY9s6gZkbNplG6m1vTmOCBeRFOHapmTLGSJ50NrI9GuTMnF3Uam1G3xziTmcE6HU+7nLR1KFr3Xh3h6jDmvcxt3t4bp8IUl5gqt33f7d6GmwmWBllzyxpq367tUBBJAVzncFAdjfJaU2Ob998W12wXKrOKjH3TMxWxNbfV1pKQZe7MyRWlBtuQd1oehecUkn9Gzyp9FYRU269QiVkrdais7d9apjj5WelM8PEpBg7q3bXZJwVnF6DJ0lD5dGXS5cldIRFK0PBFA+Y9zBgGtL81QVey7m8F4EhPMz9XdfxnGG2IEigNbJreForBu39HOWGIGoNolZQyZg1MG6rmnWVRXMEeEjkFbv4mzH0/hTljuKbV9hk7EuMQI/FAnFDFzhEYS5osy63egAeA8W3drztutJwLipu4dcnNuNuhcu/rPpNNQ8fJgKy0ZMu9r/tMtuxz/HYf88FJetl3g1nONUldska1XS3v/urusv0Ie5v3NWmQV19mkiuuNMlW3fbvp1IgLzjHKDf+xyz3ymj7dViVSnlmcbH8e/8B8t56/XbvpzAo5MFPD5aLLinq8OudnJEhL+jXX/6j/wD5PHum/Od5RrnqKpNs0Sb/HCaFQp5ZXCwv7N9fHqzVbvX9/DPz5T1e3k1ec3em/O0ZBjlTn/7fpVqBfMtBGjl0k1kuO6JQ/nvgIPkwk0nOOipL3v3V3eWck3NafbxOhbz2cpP818VGWa1APsholP8eOEi+yN7230W6bwqQPynuI39a3EdWpOH5H87Llxf27y9blcpue43HWzLkvwcOko80mzv1PP3u6ieX3FnSLa/hhIyW13ByhrXb/2Z60k2d2bKP7XdXP3n3V3eXiy4pkiVV1+zfxU3cuvp2xxitHLvFLGe04zO1rVuWQZKXXWSUfTeY5dFFXbOfzhybmfSxUXfcJI0kD3x0oNznhj5p28a3G26deY7+D/SXT3isRP7xLEPn/w6ObDmeUWepZUA+sJdSlm+zyFP3UHX772NnuV08Ui3Lt1nkkfmKbl/Lv2+ZekkO32yWHx6/9XH3jngb8N8Bcq/Le3X7OtJ0+217sZhkwoALgJmSJAUlSfJKkuSTJGnry+CCsJPz//UNocq/sB58JgqdGUP/UQBb9Ef6t2tnh9Ao4e5Du6axXNQVJbgumFSfpKcm6OhjlZj6QRB3KwH0WAKmfBBAqYA3j9ejbOMKvDse55zKSqqjUZ4tLGSYbtvTSOzj7CgNSho+aX+fgl5qNS8XFnFXbh4rwmGOKy/DOrCZ4flKLv0yhDe5vsZASybVBVVVeOIJni0souBfE6vq3q8jGohzWjyDfQuV/HKukYH29F1B2bdAyR8XGLnzEB1zF2gIlpl4tbGR34epyD0xF/fPburerWv1OUIxuPzLEEOylVy5n4Yf/H4+93q5INNOX033jl+dYLbQT6vlSaczLbXST7mc6CQF52R2T28rg6Tgiuxs/gwG+NLn69Rzuea40PfSd8tV6vc9Hub7/fyfI5t8lbhEvJFlRMu+dd2T66h5q4aMkRn0vro3Ct3OcVVVEDY3vkTJr+vjeNrxmdoWZ0DmsOkB1nsTfHmqgZH56X3v6PvqyT0lF+8f3k4N8UgnOSLT8FkDxoFGTLv1zEmrhv4GtDlapob9fJeC8jPPwpay9o1Nt39aF6esKcG0oTv3iPiudMlIDQvXx1lY3fM60zQGZT5dGePUPdRtnlf0dOosNRqHhua/d62yNkiutO0RYBRgkGXZIsuyWZbl9nXzFYSdROOsp1HoTFgPmoZhwCgi9WXE3DXbvX9pk8z/folw1nA1e+Z2zYmGb5EPQ38DSuP208ZPG6pm2jANd3wfZl5l2wcEZW6ZCz4LckAvFbckMbqzMR7n7MpKnLE4zxcWsfu/gkkKvYKs8Vl4//ASqkw+DVQJnJOZyUfFfRii03FLbQ1nVa5DaYpxxxgtM5dH+WhF+1Pw62Mxzq+qRCNJPF9YiFX5z88u3hyn/sN6mnsbOWihErMGFpxrZFzf1KblG9Xw2BFa5p9jwKKVOGNGFMe6TP4MBnguJ0DBWQU0/9XM+hfXt1wfaMPnq2N8vCLKbQdrKbRI3F9fR1CWub0by5WUwCVZWawIhZjV3Lkgy/aURiJ85vUy1WojS9n1jTvPtWeSrVLxQH19p5/L/bObWHMM+zh7ClbWfrfWtuzb7srN7Zbt90SWvS0E1wWJ1EVwfe2i6vkqjAON9LmuD0qzaBQr7DxsOhiZr2RWGnoZ1fllDp0eoMEv8/VpxrQdHymNSoouLiLWFKPqxaq0bCNVmr5vIuKM4JjcMye4WQ+wIkUSHB4M8m0n+iNtFHW2lLdZRracUsrA60uijO2rJN+8g0cWeoAxxUqGZCt5amGku5eyXa8tjpJjUnB4NzbgT4WN/ZF2tUbbkFwgqRJYJsvbGqsjCLuWqLMC3++fYhp+ONqi3Qis3n420kZ3/xDGFZB55PBtZ+akmm+RD0kpYRq67ataJTaJpyfo+KEixj0/Jv8B8/ayGK8uinDzgRoO7NX2CVNDPMZZletwx+O8UFjEIO0/ASj7WDtKo5L6j5M/2R6s1fJO72KuyXbwg9/PpLIyPvB4kIHnJuqJJloaTXdUaSTCJeuryFOpebqgEN1m/YQav20kuC6I93AH+7wWYJ0nwRenGrh4ZGoyNY7op+Kvi01cto+GpxZG2esZP8dFc4gkZG6UXORfWkSoOsS6J9a1a6zoFV+FkCR47HAdrnic/9bXM8Jg4ISMjJSsu72OsWTQW6PhCaczmVhYhz3jcqKWJM6zd20AJk+l4kxbJp95PSwJdb5OXo7INH3fhGVvC+rMrs8Kqo7FeLC+gVFGIyd2099MT6LKUGHob8D72z9J2e75bioer0Cbr6XvTX03TSEShB3doX1UKBWp6Y+0LdU+mUOn+/GGZWafbmB3R4qDSRIUnl+IKkPFuqfWkQj0vKyMzckxmfqP6zH0NWDe09zdy9mCpJHI2CeDPpXNqGIJfk7iAmQyPL96MPQ1oM5u2W++viSKUiExdQ+xH+2sS0ZqcAUSvPNX9zfZ3p6v1sRo8Cc4Y9iO/fs2DTER88YIr09h6uYOIpm9dinwnSRJN0iSdPXGW7oXJgg9lfunN4n73UiSgsDKtgNJ3jDc+l2YMcUqjh2U/qh7sCxI1BPFPHzrAxG1AmZMNhBNwGkfBts9CvSyL0OsbUrw5vF6bEnExWpjMc6qrCSQSPBSYRH9NBoUOgX2w+14F3mTakqnkySuyc7mnd7FZKmUXL6+iiur19MQbzm4PX2omrF9VVw/J0S1r3PhiT+CQa6tqWaoTsdD+flsCpfJUPN6DRq7htBBWez/sp8vV8d4aoKeJ47UdTgtN8sg8fpxOr481YA/KnPAywEu/zLEFdYcBmp13BRsQH91EfHmOBWPVJAIte9AuMIjc/cPYSYPUXN4iZKZXg8L/H6uyXZ0ebaOGrgoK4slwSDf+tOb/rsuGmWmx8PJGVZyVV13peuq7GwAHm1I3VjpxrktzbozD+ueUr13PW4W+P38x+Egvwt/lu2Rr1JzT24uQ7dTRpsqlr0tSAppi0ASQPPiZsofLEdlVtH3pr5oC7qmlFkQ0mlciQpvWObX9elrTL3OI3PIa36CMZg7zcCgrNQFk7ImZGEeZqb27VpC5TtGA1z3PDfh2jA5x+f0qEb+lr1aJpke7/fzS1WcYIpiixv3pRvL29Y0JphfGWPa0B07sNDdCswSxw5S8dKf0S6ZGt1R0QTMWBbl6IEqrF1zrT0tjIONu9y0to2S2WOXAXMBDWDe7CYIuyQ5EsT1xWP4/vyCaENZUo954fcoy+rjPDhOhybd5+9yy4mNeQ8z/Gtbdx2qZZ8CJed+EqTS2/6gS3MEpnwQJMck8eLR+qQeUx2LclblOiKyzMtFvRi+fzYqkyqp3kj7Ggx8VNyHczLtfOjxMKmsjDnN/+ysswwSjxyuZd66GM/+lpqrLnObm7m7vo5DTWZuyfmnpCewOoB7vpusI7OIZGg49p0gD84Pc+k+Gj6faiCjneeOU/dQ8ffFRk7aTc1t34XY8zk/P1fFOcZi4QSrled9jay/3AFKKH+4nJi7Y0cDD/8cYaUzzpMT9GiVcEddLVpJ4qacnA49X0cdb7VSoFbzhNPZJdt7zuVEkiQu6KKspGE6HRMtGbzS2EhNLHVHbtHGKN7fvdgOtiFpuufM4ubaWiQk7sjN65btt2aSxcJHxcUcl2Hlobx8DGmcTGgZYSFcEyZcvfVVx8CaAKX3lgLQ98a+GPr17OlLgtCWw0tUfFMWI5bmRJ4yt8yhrwWIJ1qCSf0yOx9MMgw0kDM5B/cv7k3B+B1CAuo/qkdXpNtU8tUT2A6wEXNGmGKM8F1F6gKLUWeUwNrApkAStGQl7ZGjZNhOMs2rO5y/twaFBM/81nPL2jaavjiKTiVx0m47ZvBQk6tBbVPj/3vXK2uDJAJJsizfsa1bVyxOEHqqUNkfNM56Oun7x2W4ZlaIfpkKLt0n/Y0EvX96URqUGAcYN31tXF8l1+2v5ZnfIszsQB+hjf6oSXD9nDDHD1Zzwd7J7fjXRaOcXVUJwOONNkwLmgmWBrd7f4tCwV05ubxS1IsEcMa6ddxeV4svseUR7SPjtVi0Eud/FkppqdTbbjfPuZycZLVy0WaBiNp3a5FjMrlTc0nI8J/ZYc75JMihfZT8fI6RElvbJ7G9MiS+mGrgzeMNrGlMsOdzfu78PkIkDv00Gm7NyeWXoJ/PzjKhzlRT8VgFkZqOHwxE4nDJFy1/e//ZX0NFNMozLheHmy0cYuyapp5aSeLCTDu/BwLMC3TNh211LMa7bjfHZ1gpVKf3AEUCrnfkUB+L8lJj6pu5uma7UJlUWEdZU/7cyaiORXmwoZ79jUYm95AStwyFgofz8nkgL5+V4TD/qa4mX63mquz09BdRmpQYBxrx/ObZ7n3C68OU3lNKzBej+NpiTMN6ZtNcQWhLv0wFxVZF2sra/m11Y4LDpgdQKeCbaQaKrR0PCCstSoouLCJSF6H6leoUrrJreH7xEKoKkXNcTnKX+9NMZVNhHGLE9rcXjULiuxT0R9qcZ6EHfR89muyWY+N3lkWJxGWm7eDlTt1FrYDz9lLzxeoY5e6e35Xmj5oEy+rjO2wWmmlwy+f8rtgfCXrELkoQdg2z1sb5YnWUWw7SkmVIb2ZB81/NJKKJTeVt2QaJ6cfpWVYf5+qvO5/i/diCCF+ujvHo4Tp2y05uN1IWiXB1Ly8qGe79RrXdSVCHm8x81qcvx2Rk8LzLyXHlZSwMBra63/gSJacP03D/TxH+bkj9JdP/OZ3M9Hi4LCub4zecPMfcMRo+acCyp2VTD6qX/4wy9vUADqPEL+caOaj3tlPOFBJcto+Gvy42cUAvJZd+EeSAVwKb1m6QJB7LL8CfSPDYURLaEj2Vz1QSXLP9gFuy5pbFeWdZlBsP1NLXJvFyo4tV4RC35ORgVKT/Y+Akq5UctZrHuygbaaPnXS7isrxFMDAdJpgtDNPreazBSSAN7QQDqwIEK4LYx3ZP022Ad90tJW7XZTvI6+YSt1EGAzOL+zDWbObRhnrOqFzHZz4vb7qbONVmY299ctmS7WHZy4KklPAubH1obdQZpfSeUsI1YXpf3hvraGvK1yII6Ta+pOVzrKsCSQDLnQnGTg9gUMO3ZxgpsnTgOEmCoguLUBqVLX2R2lkO3iPIUD+zHm2ettsuHmzOOtqKpJA4rLGZSFxOWX+kjTbuUy37tGRgNYXYaaZ5dYfjBqvIMyt4emHP7Y30b68tjrJ/L1VKshG7mnGIkYgrQqS+52d/pcOO9xsThB3YNbPCmDRw+5j09tCQIzL+v/2Yh5uRgNeO1WPVSUz5IJiSemkZOPPjIJ6wzNsn6NElcV4pqSV8x9i4cd8w+oTEq0VFW/SvcahUPJFfwKMFBdTFYpxUUc5jTifhbZyYG9Tw7FF6Vjjj3Ptj+prb3VZbw4/+Zm7PyeUgY0t2l2uWi3BNmLypeUiqlqOcHyri7Puin3p/S9PQs4ZvGSTbLVvBvLMNPH5kS5Pz3Z5u5qmF0S16VN2em0tvjYb7hoWJ72uheno1vj9TN9ns6lkhonF4/AgdMeDW2locKhVXZmWnbBvbopckzsu0s8Dv32ZAMJ0a4jHedrs52pJBsTo9mYA6SeLq7Gz+CoX42Lv9bJXOcs12oSvSbZoO0tVk4Ja6WhSSxO3dNMVNI0n8J9vBS0W98CcSTKko54XGRjaeKj7W0EBlJMLduXlbNMtPBcveFiL1EULr2g7Ex31xyu4vw7/ST+H5hdjHd18AUBA6YnxfFWVNCdY2dW1Gw9L6BONeD2DVSXxzhrHd07scxzgwDTFRPb2acNWO2/jW+7uXYHkQx7EOpG6OptgOsOFf6WdSlsyCFPZH2ijq2rq8bfqSlmle40t6Zl++nuySkRrWNib4ak0Pbo70L28uiRJP7IBZaFLLxLZdNRsJRCBJELrUCmeCZ3+LcsHeagansKnktngXedHmaDn3CBNH9ldx9dchltWn7upcvV/mjI+C7O5Q8tD4trvk2Q62obaqWfBdHedWVpKhVPJKUS8cKhUnZ1j5tLgPo41GHqyv55SKclaEt38QePsYLX1sCs7/NEQ4fX1AiQFXrV/PinCIR/MLGKrTIcdlat6oQZurxX74PyeIa5tkRr3k57vyOC8fo+e/47ToVXDHGC1/XGCkxKZgygcBjpqxdX+qkzOsTLRk8LIjSOXRGdR/Uk/Td00pfS3VPpnbvgtz1AA1xwxUsSQUYoa7iSlWa1qbFE+12chSqbo8G2mjFxtdhGWZi7PSczJ/hi2TPLWa++vr0jqJzvOLh5g31q1BifXRKA831HOg0cTxlq4tcRuo1fJu796cmZnJm01NnFhRzt//2kcEZZlbamvprdFweQoDpAqDAuNuRjy/Jx8oTIQSVDxSgWehh7ypeeSc0LU9yQSho1QKOKSPilml3XMi+mdtgsPfaMnynTvNQI4xuUCKaTcT2Udn0/RjE+6f3OldZBeo+6AOTbYG60HWbluDvkSPNk9LaIGbvfMUfFeengMuz68e9MV6NI6WCz5fro7hDCQ4fQctd+ouuzsUHNRbxTO/RdJ6PJJqNc0ys0vjnD5U3ZN6zLdJW6BFZVbtsv2RIIlAkiRJAyRJmitJ0rIN/z9UkqSb0780Qdg53f5dGF8YHk4i+NIZvkUt2Swjx2bw0Yooz6SoGfXmZq2N8+D8MJeM1HDMwO1fOZLUEtlHZeNf4SewMsBf4RDnV1WSpVLyVZ++3Jaby7JQiGPLy3ilqZHWDlX2zFVw9X4anv89wo/r0hhF2iAgy1xUVUVDLMbTBYX0Vqtp/qsZz28eHEc7UNn+ed2eMEx4M8CTv0a4drSWmmvM3HqwlreXRRn8lJ+3l219YD5Yq+UGh4OfNWHmnGOm6Ycm6j+sT8treeLXCEvr4vzvCB0GNTzW4KQuFuPO3FzScbhmVCg4J9POD83NLAp1rETPooV7D9NyWJ+OdalvjMd5o6mRCWYL/TSpzUrKVqo4z25nls/H78HOlyC2Ro7KNH7fiHm4uVtHzL/tdvNrIMB1Dgc5rZS4DbAruP4ADepOxssl4CxbJu/06o1NqeKCqkruqa8jtJ0Swl+DAd52NzHNZmNYigKkluEWFCrFVtPa2iLHZCqfrqTx20ayJ2aTf1Z+uy/f6VRw44EaCtqZmdEREnBShpUDjd2T9Sb0DPsWKLFopS4ta/u3X9fHmfBmgEKLgjnTDG2WualsKgovKCS8Pkz16x3ri2RVKjkvM5P9DD2jUX7z0mb8q/04jnYgqbvn9Nq6v5VEOMHQOj/KNPRH2mhTeduGBuPRBLy9LMaxg1RYetgQzFN2V3HK7j0zU+qSkRqCUZmX/9zxyqymL45QbFVstz1ET2QasqE/0goRSGrNC8ANQBRAluUlwCnpXJQg7MxcQZk7fwhzZH8Vh5ekb4epbY7Rxx9mjl7POZ+kb/TtTXPD/FbdkoVTuJ2DPdsBNtQ2NfWf/BMgWRwKcWFVFWsiYW6qqeGcqkoqo60Hu5QSvDBJT0NA5ro5XTfO1xWPc8GGZuHPFxZhVyqpfbsWJMg9ecsyn7gMl30Z4uLPg6x0JTj8DT9nfBTCFdz6xNesUPBYfgFNygQvXKDHu6SZ9a+tT9vriCXg4i9C9LYquOlALQE5wV11dQzQ6jgrM/WZLtNsNqxKJY87257Qty1mDXx1qoEbDtAyZ5qRBecYOXqgqt1XrF5pbMSfSHBpisv4rsjOQgU83JCewN+/NX7TCDLYD+u+rCQZuKW2BqUkcUfO9kvcXjpax32H6Xj7BD2qDgaTclUqXios4lqHgx/8fo4pL+NHf9sHbA83NFAXi3F3bh6aFJS4WUZYiDZGWx0QsF0yVL9WTf3H9WQenEmvS3q166Tw5N3U3HOojm/PMLS7zKc97EolzxUWcntuLv/Ny8fcBb3ThJ5pfImKeELmm7LuLY2ZVxln0lsBemUoWHShafsXq5RQdFERklpi3VPrkCPty8VwqFT8J9vBnL4lXJXt4P681JfGdlT9B/WobWoyD8ns8m1Lagnrvla8v3s5NF8iHGspbUuHaGOUwOoAGftsVt62OIJeLXHCkJ6TlXTZPhremmzgrckGLhnZc9YFLRfdThuq5q1lUZq67vA4ZT5aEcMb3rHK24yDjYRrw0Qbd5x+VKmWzJGCQZblX//1tR2n8FIQeqCnfo2wyhXnkcN1aWsm+PiROsZHgvyt1+JRpu+kIJqAKR8EUSvgjeP0KP71eiSlRNZRWQRWB7ZK//w9GOSkigpmJtlb5or9NOydr+SyL0O4u/iDsiIa5aL1VdhVKp4tLELtitPweQPW/azb7FvzzG9R9n3Rz6y12z/wuic3jzy1mv+drKa+PsS6p9bRajpWCvy0Ls6riyL832gNA+0KvvM385XXy0V2O71TON0sQ6HgTFsmc3y+rUqQkmHSwFenGRiRr+SU9wOc/2mQbKPEx6cYWHyhkSm7q5J+73gSCV5ramS82cxgbWoubw7WajnWksEb7qY2A6CpEmuK4fnNg+1gGwpt953oV0ajPNbQwEEmE8duo8TtiH4qDuil4us1MY4frOatye0PJh1pNjOzuA9D9Xpurqnh8ur1uOPJvTn8iQS31tZSotVyiT2rfRv+F4VWgWl3E97fvXSmVqB+Zj3Vb1Rj2dtC8TXFKPTJ/UBOGKKirjlBjknBt2cYyDOl/gNjlMHAh8V9GKE38ILLRYZSyZm2rj9xFXqG8SVKfl0f7/LP2G35rjzOXs81U9qU4KNTWvoMav91/S1ncg7GAUaqX60mUpt8JkahWs3tOTnM6tOX02w2Zvt83FxTg0OlZorVluJX0jH+FX6a/2ome2J2l+/zzcPNKI1Kmn5qYkyxil/Wp74/0uY8Cz3oe+vR5LRkDi+sTrDC2XOmeV0yUs3jR+qYuTzKzOVRnpyg5+IeFEw6Y5gGk0biqYU7XjYSQDAG7/4V5cQhagw958e6fQowDty1+yNBcoEkpyRJJWw4hJIk6QSgJq2rEoSdXDQB184OMyRbyQUjUr/HPGV3FWfvqWHtPC8oJMxDzSnfxubWNCa45IsQBxeruPHALcuHrPtb0WRptshG6ohiq8SdY7R8ujLK+393Tyx7aSjE1dXrGajV8lhBPu4vnEQaIuSdmtfukpVpNhtjzWamHyjxlz5GxaMV7b6S2lH/mR3GH4GnJrSU/txbX0dYllPaRPnMzEyMCgVPdKA3kkkDX55qYJ8CJad8EOSdv2K88EeUAU80c9qHQRQSzJhsYMWlJs7dS40micS+6U1NeOJxLktRVtJ1jhzc8TjPulwpeb5kuWa7UBqUZIzu2h5F//amu4nfAgGudzhw/KvE7e5DtJQ1JZj0VoArvwpxwhA1M45PLphkVij4b14eD+cXUBaJcFx5GR92oIn5vICfD9xuzsrMZDdtx0vcTENNKDQKPL91vpF645xGKp+pxNDPQJ/r+6C0tP6Ha9G2ZIe8viTKEW8EyNsQTMpNUTBJCVyRlcULhUV443FOrqjgUWcDX3m9TMu0YVPuOCUGQmpYdTAyX8ns0vSXjSdrbZPM/i/7eeTnMJfto+Hnc4wMsLfsTMzDzWRPyMY114Xnl+Teo/00Gh7Iy+PLPn051pLBh14PR5aVckNtDR96Pfzkb+bcDZ9fPUHdh3WoLCoyx3ZtcNd2gI2oK4pirT+t/ZE22lg6vEXT7cVRDi5W0TujezPELh6p5skJej5aEeXk94Oc/H6Qj1dEeWqCngvTcAzfERePVLOgKsYfNTvgpMINpi+OYtZKHDeoZ/xMW6PvrUdpUNL8d3N3L6VbJbOXvAR4DhgkSdJ64ErgonQuShB2BZ+sjPFNWYw7xmixprBdUrFV4tmj9MyvjPHEh16iTVHMe6Y3kATw+pIobyyJcNvBWkYXbTgBUUL2xGwCpQGal3ZuZ/vMUXoScktpVnf6we/nttpaDjCauMOeS82MGnRFOjIPTf4gb7hOzzXZDhb0lvlsKFQ8XEHc13UH7g0BmZu+CXFYXxUn76bCGY/zUEM9+xqMKWmibFMqOd2WyVc+H6sj7ctGMqrhi6kG9itUMuWDIB8u/ydoGJfhzaVR9njGz3HvBHCHZF6YpGft5Sau2FfT6lWs5kSClxpdjDGZOt07Z6zJxD4GA0+4nDQnuvagLbgmSLAsiH1s904C21jippYkbt+sxO34wSr2zldy+/dhogn43y8Rrvo6xIm7qXnjOH2rWWQj9QY+Ku7DEWYLjzsbOH1dRaeyvf7bUI8rFuOevI73AMsYkUHMEyOwKjUTBz2/eKj4XwXaXC19b+qLOnv7K5s0QI1GKfH+3zF+ropzxJsBCiwtwaRkGxBvT55KxWu9enGBPYsPPR5Oqijf9F59wuVEJyk4Lw3lrkLPdmgfFUpF9/ZH2pZIvGXq7cQZAYoyJH4/38hJBxgoPK+QYFmQ2rdq23yO3XU6Hs8v4JM+fTnMZGZ6UyPjSku5s66O9ZvtZx53OrGpVEyz9YyspODaIN5FXrInZKMwdE1wS5WhwrSHiab5TRzYS5XW/kgbRRuj+Ff7sexj2fS1N5a0/F5O68aspAtHqHlqgp5PVkY56b0g0UTLxeAT3wvyycoozxyl5/y9uzfwcVgfJYOylDy1cMcusfppXZzSpsQOUd5mHNJSibAr90eCJAJJsiyXyrI8FsgGBsmyfIAsy+VpX5kg7AKu/jpEpl7i5oNSU26jUsCM4/XIwNQPgsQT4Fvsw7S7qUtGyF78eYgKt8yM4/VkaME6yorGoaHhk471yNloyu4qjuin4sZvQlR5u38WxUyvh/81NHBsRgbnVGrxLfWRc3wOSnPbV/CtSiWPFOTjNMNTEyTKHy0n0tD1qcjP/R7lt+qW8kqzBj7wePgtEOBahwN7JzMRzs3MRCtJPOVqXzaSUQ1fnGpgVJGSqR8Et5t5JtNSTz/yBT/jX/ezpjHBY0foKL/CxI0HasjYzttpRlMTrlisU1lJakni/7IdrA6Hed/t7vDzdIZrtgtdgQ7jbt3bFLkiGuUxZwNjTCYmWSwoJLjrEC3LG+KbTgAAHlsQ4ZpZIU7eXc3r2wgmqSWJa7KzeaWoiLAsc+q6Cp51uTpd5elLJLi9rpYBWh0XdKDETVJLmIaZ8P7RubK2f2te2kzZA2UojUr63tQXXdG2A5snDFFR6Unw6/qWn8T8yjhHbmhA/O0ZBhwdDCYdZjLxYXEfBmi0/F/1em6tqyW4WfPyskiET7weplitW2WbCTu38SUqvGGZX9b3nIykzX2+OsbwZ/0sqIkjnV6AQQPO59chx7b/Bh2h1/NCYRHv9i5mpMHA004nh61dw4MNDTTEt/6MWRYKMcfn40xbJhk9JCupfmY9SqOSrPGdK9VNVsaoDCSFhHuemzHFSsIxmZ/T1B9pc96FXvS9/ilvq/TKfFsW67bAwvl7q3nmKD2froxy4oYg0kYbg0mfrYry3EQ95+7VfcGPS0ZqaPAneO+vHTuQJNNyUXpsX2WXDJjoDNNgE6HKUJdeBO6JkpnadqskSbcC1wBXbfb/giB00uK6BC//GeWyfTT0y+z8AcvtY7SMKlJx3qdBKjwtB1a+RT6UeiWGQemfROKLwJQPAuSbJZ49Wk/2xGyCFcFNE+Q6IlMv8dgROhZUxXi6B11tea7RxTvuJs63Z3HQe34kjUTuia2XhknAA3l52DUqHj1eycqXqgiVd0+GVUKGiz8PkmuSuH2MFhm4ra4WvSRxvaPjo8qzlEqmWG186vVSFkk+QGZQw2dTDexfpOS0D4O8l2T54uzSOIe8FmD/l/38uj7OPYfqqLjSzD2Hask2bHkgEpBlXmh0MdpoZIRe367XtdFpVhu9NBr+W1+f7nZW2+X51UPME8M+rvszRt5sauL3QIAbHTmct7uOIdlKbv0uTAK2CKw+8nOE/5sVYsoeaqZvFkzqp9HwTq/enJNp5z2Pm8nlZSwNpe498b3fzyceD+fZ7QxqZ38s0x4mlDplSsra/i1YGqTsnjKIQ58b+mAYsOX+2aRp6TX1wfLoFjGsn9a1TLPqlaHgm2ntCyZpJImbHDk8UVDIukiEyRXlfOHb9r75KacLhSRxob37/8Z2RAoJ7PquOxHqldWx/dm/je+r4puyGLEeXB2z3idzRjyDv7Ra7ne6+OV4DcNytj5+Osho5I1evZjeqzcDtVoeaqhnbOlannQ58bSRSfq4swGjQsHZPSQrL1QRwrPQg/1wO0pT+ktObQfYCKwOEKmNMKa3igVVcULtSEjSS1KHSmM9C1v2tVs03V4SZYBdyb4FXVtqe+5eap6bqOfzVVFOeC9IZBsf+JE4TH43yOerorwwSc/Ze3Z9MKnIInH0QBUv/hklvBPENKYvjqCQJE5NcRZavqr9g1q2R1JJGPobaF6+a5e1QXKlbf7NbnHgSKA4jWsShF3Kzd+ECcfgv2M7l5V0SLGSGw7Q8OIfkS0yOZr/biYRSWAZbmnl0amzsDrBzd+GMY3MQJurpf7jzvVGemicFptO4vxPQyS6PxlpC3fV1THX5+M6nZ0h73qxHWRD32f7B/Tn2+0caDTx6jglP31R3elyv85aWJ3g+d+jXL6vhj0cCsoiEZ5tdHGUxcJBHRwBfoE9C6Uk8Uw7spH0KvhsioEDeyk5fWZLT6T2ml8ZZ+JbQfZ8rpmv18a4/gAN5VeaeOwI7RbTBN9xu6mLRrm8A1lJNqWSC+12vm9uZl6g+9KZ5ZhM47eNmIea0Tg0bT8gjRLAzbU1aCWJKzNy+LM6zgcrY/S6ohcDHhyAKuOfjJaHf47wn9khpu6h5rVj9Eyz2XivdzHZKhUXV1VxR13dFpkxqXJffR2eeJy7c/NoT35NxogMYs2xtKWuh2vClN5TSswTo/j/ijEP/6cEeeIAFTqVtM2svB/XxZkwI0CxVcHcaYatAqbbUqzW8Hav3pxqs/FqYyOntVE2WB2L8p7bzeQMK4UpbMK/K9CpYM7pBlZdZkr76PI99XpeKenNV/beXLR/Uaeeq8Qm0cemYHZpzypr+zfLPhYyD7Pj/NLJ3c+6MGkkfjnXyCUj1SiAw01mPuhdzLOFReSq1NxVV8u40rW8vGF6ZzLWRCJ87vNyms1GVg/pFVY/sx6FVkHWhPRmJel669AV6mia14RFC3vlKfiuIrkIhUFScF5mJnNL+vFxcR+07Zx+F2uK4V/lxzLyn+PVD/6OEoh27TSvs/dU88IkPV+sjjL53W0HkTbaGEz6cnWMFybpOGt41+4vLxjRcgzw7G87ZpPtfyttkvmxIsYZKfp976HT8WxBIXNK+nF5VmreO/q+ehRaxS7faBuSK217eLPbPcAYoG/aVyYIu4g6v8x9P4U5brCaMcUdO2Cx6yXeOF7PKleCK77a8mq+HJFp/qt5i5OUdHtwfoRHjRb6hSMUVHZ8R3toHyVn7anhwfkRltb3vEukCeDammoWh4LcVG6g399R8k7PY1uXPfbRG7g0K4ufhki8sbYB9zx3Vy93m26cG6IpKPP0UTok4CWXizXhMLfm5GJo50FgnkrFiRkZzPR4ku5to1fBp1MMHNRbybSPgry1rHMnMYtqE5z8fpAhT/l5Z1mUi0doWHu5iRcm6SixSYRlmecaXYwwGBhtaF+W3qX2LPQKBQ82dC44mgqN3zZCAjIP6/7pWhXRKL/oGpEb9HzwvZqC8wuxDLeg1CmxHbxln5EH50e48+soBzbmcr0jh58DAY4tL+M7f/qCqp5Egjvrahmi03FOkhkGklLCPNyM709fWicpRhujlN5TSqgqRK/LemE9wArACYPVVPsSzK/c9sZ/qIgz8a0AfW0twaSsVoJJx1gsvF9cTI5KxYVVlfy3oZ5k3p3PuVzEZbnTk+92JWoFvHeinkP6qMjUS5wxLD2B3uE6PS8WFvFmr94M0GmpssNpASPmzI5vb3xJS5i1tUmj3U2To6HgrAL8q/3Uvl/L9xVxhj/nZ87aGHcPyuT3oSU8WlCATiFxY00NR5Su5S23m3AHAtRPOZ2oJalDZbHpEK4O41ngwX6YfYsAfarZDrSRiCbw/OrhgCT7IxkkiXMzM5ndty9XZTuoiETIUqk4wtz+407Pr56W8ra8lr9lXwRmLo9xyu7JDdborLOGq3lhko4vV8c4/p1gUlk+4Tgc906A2WvjvHi0LmVBkLZolHDeXmo+WxVjnaeHXWnthOlLogzJVjIiv+OVGrvrdDxTUMg7vYvZQ6djSTDI2ZmpmU5sGmJCTsj4V4pAUkd+QwagMNULEYRd2aMLIpS7EzwyXoeiA7mXrxyjw66XOOX9IIFtnCH4FvnQZGvQFqT58ugG5pEW6o0apta5eet4/VbjepOhU8FzE/WsdsW564f2j4/vKiFZ5uKqKtZHolz/iUx/ix7bgVuePGcplTxcXECNXeI+vZuGzzvXMyqVmkJw3ZwwB/RSMW2Ymihwa20t+Wp1u3sJbTzgfi7JbCSdCj6ZYuCQPkrO+CjEjKWpuxK+0pXg7E9C9Huimed/j3LaUDUrLzUx43g9KzQ+qtuZldRPo+Ekq5V33G5K21Gyly4xTwzPQg+2A20odN3bx0OngomHhYiaw0xS59B7twxq36nFt9RH5pjMLY40xpvMjHcW4qlTkzvCjXGEk6ZE+k9c5zQ386XXy0V2O/00bZ9sG4cYURqUmyYJpVO8OU75A+X4l/spPLeQ/KOymNBfxQfLY622ZvquPM7EGQH6ZW47mGSQJO7LzeO+vHyWhUIcV1HOD/7kD3wb4jFmuJuYZLFQksTPbFenkGD6cXomDlBz/qdBFlTFUj4efJhOx/OFhczovaFcq6mBSy5Q8L+BYWwBOHP/gg4/9/gSFWVNCdY09ryLNgCSRqLXpb2QYzKVT1dCHLSSxDhNBrpf86n51YZZL6Md7uLe2Do+8nrozCfKumi0pRG91Up+D+kVVv9RPZJKIntiaqaP/pukksjYLwPvH14SgcSm/kgLttMfySBJnJOZyey+JVyd7WBpKMTJFeVMWVfB2nCYKdb2Nyzf5vS2JREy9RIT+qf393DmcDUvHq1j9to4x70TaFepWDgOx74TYE5pnJeP0XVJBtXkwSocRgVPLez+Y5JUevevKKGYzLQOBOJ30+p4uqCQd3sXM0yv59GGesaVlnLp+irCiQQ3dKJ1w0bGwUaC5UESgZ65r+xKyfRIWipJ0pINt7+AlcBjaV+ZIOxCQjG4bk6IPfOU7b6Scek+aiYNVHPt7DCL67a9U9vYo6hLspIkcExyEFof4uXXGxmeq+SBce0PYN16sJZ+mQou+CzUrtr87uBJJDi/qopwNMENb8QYckTOpukqSuDRgb0wKZTcOSBA2Vs13bvYbXh1UZT5lTH+O06LTQeLQkHeamriNJuN3ZOccFakVnN8RgbveTzUxNr+helU8PEpBg7to+TMj0K8uTQ9/a/WeWQu+zJE8WPNPPRzhIkDVPx5kRFliZehej1jjKaknudah4PmRIInnT0nCOia5UJpUGLd39qt67hohIaCDAU3DYqgkyXOeDWI80snjd80os5UYx5uxqhQcG9uHo8VFFARiTCptIyH1zUybbiGl47uWAC9ve6pr6M5keDu3Dzaim1bRliIB+M0/9U15aeJcIKKRytw/+Im88RcnnbYeO/vtt8T35bHmfRWgP6ZCuacbtjUl2ewVsv7xX2YaLHwpLOBsyvXUZ/E+/LfXmxsJJBIcGmKSgJ2Zs9O1HHK7mqunR3ihT+iPL0wyqAsJYd0MNN4c0N1Op4rLOSt3sUM0ep4qL6e8aVrmblbgphFxTc/1PKnPsrJ1Vpsg9pflqxStExsm9WDy9ryT8tHW6Cl6vkqtJ4EZ28IYNySk0ttLMqFVZWcUlmO7Ajy3ZkGbjxQ0+n9yrMuJ7Isc1EPyUqK1Edo+qkJ2xgb6szUByrMw8yoTCrcP7kBttsfSS9JnG3LZFbfEq7JdrAsFOKUinIuXF+1qcfd2243Q/V6dtO2b0pqzB3Dv9K/RSBpbmmcGl+CaWmc3jZtmJqXjtYxpzTOse0MIm0UisExbweYWxrnlWN0aZ82d8lIDatdceaU9twswo7whlsGqkzZXYU6yetkQ7Ranioo5L3iYvbU63msoYGxa9fyQmMjATmBMx7nSZeTg0ympI/7tkXSSOhL9KKsbYNkfj0TgUkbbuOBfFmWn0zrqgRhF/TuXzHmrYtxz6FaTEkG4YfmKHhwnI7PVkV54tftX5GIeWIESgNY9kx/nyTLXhZ0RToaPm3gq9UxHl0Q5op9tUwckPyVpKE5Cq4dreHlPyN8W75jfEBWx6JcUFWJISBzy+fQ9+iWqx5XDsxj77iWp4ZHmfdmZUqnP6WKDFz0eQi7XuKew1oO+h51NuCMxbgzJzepvjIX2bOIyXJS2Ug6FXx0soGxfZWc9XGI15ekv4l6nV/m+jlhej/m49ZvQ+w+NIjaFON/Axwc2saJ3oFGIwcaTTyTRJPWrhQsCxJYG8A+1r7NcsquYNLADQdouDZhonysjZfzghzg0zDBbMa32EfEFeGg4VnM7F3MJIuFp51OTltXQUU0yj0/Rrj12xBnDtfwwiRd2l9CYzzOPfV1DNXrOcPWSkmgomU/5lvka3UaVKrJcZmqZ6sYUebhVauFsnG5SR2lzS2Lc/TbAQZmtQSTzsu28Vav3uglibMq1/G0y0VH/2rd8TjTm5o43GxhcDuble9KHhqv5by9NNz1Q5iH5rd8Fr/7VxRnIMHFIzuezbWHTsdzBYW83buY3bQ6HmpoCSC93NRIUJaxH2onWB4kuDbIE2tryWyG00fm02ak9F/2KVBi0UrMWtszA0nWA6zYDrIR/sjJmdU65vQt4f+yHawIh5i2roLT1q3jB7+f36oT7PlcM+/9FeOeQ3V8fZqBnA5ONwSojcV42+3mmIyMlJTEpELDxy0XM7KPTn1WknV/K9GmKM3LmrfZH0kvSZy1IYD0fw4Hf4VDTKko54L1VSz515CEj70eAokEp1it7V6HZ6EHXZEObV7LPicuw5tLoxw1QJWWJvanDVXzyjE65pbGOebtQKcuXm4MJn1TFue1Y3Wcukd6/m6G5SjYv5eKp3+L9sTDyk57bXGULIOizSy0wVotT+YX8H5xH/bS6/lfQwNjS9fyfKOLgLzlJ9+MpibWhMNc73CgaWfrho2M/Y0oVKI/0kbJBJJ8m92CgEWSpMyNt7SuThB2MVd9HSLPrOC6/ds+YDeo4e3JehqDMmd93PaUI98iH/q++qRG1HdG9tHZhGvCeH5pmb5x/Zwwf9a0XJ3JM7W941ZI8MKkltf1f7O6Z6JZR60Ih7m8qoo8l8y9rgwm7uXgHDKY1S/BKx+VI0d77sf9kroET/wa4YK91YzIV7RkbtTXMUin44zM1nf1fTQaJlksvOVuwhlvPfCnVcLMkw2MK1Fyzichpi/u2kl8TSG464cIxY83M1tuRB3QMPNQOz+fY9hmsFMF/CfbQXkkwltNTV261mS4ZrvQ5mkx7d7xK2ydccW+Gr7Ky+DrkkyafmziyW8qWBwMcnNOLrkKFSe8F+KBeVpklcRp6yp40uXcotzkrh8i3P5dmLP31PB8FwSTvvT5mOPzcVlWFsXqbZ/gGwcaUZlVXVLW9m96JTwecTNymQvrATZ6Xd4LSd32T2VOaZxT3gphW53FVZk5LAwFOK6inN+CwU6v6dWmRtzxOFd0oEH9ruCWgzRcM0rL47+EufXbf8qww3F46c8oxw5StXuU9R6b9ffYXafjkY0BpMZGAhv6/RgGGNAV6Wj8phGABT4/ixVhTliuJPfQ9k0bG1+iIp6Q+aas5wWStIVadjsuj5PfDfH28gwuzsri10CAkyrKOb+qaqu/cV8Epn4Y5NxPgowuUrL4QiPjSzp+3PNCo4uILHNpD/n7jzZGafquCduBtpQOW1CalZiHmnHPd4MMB27oj/RtWQydJHGmLZOv+5ZwrcPBinCYqRUVXFBVxeLtTNlsTiT4zOvhKIuFDEX7yq+9v3mRE/IWTbenL46iUUqcvHtqy9tO3UPNa8fq+Las80GkjYIxOPqtAN+VtwSTpqR4zQCX7KMhEJV5ddHOVda20ey1MWp8ie1WaQzSankiv4APivuwt8HA484GxpWu5blG13ab6seAe+vr6KXRcFZrF5NaYRxiRI7J+FeJQBKQ1IXmP4AioImWa55WYN2G78mIxtuCkDILqxO8sSTCNaM0vPBHpNXmeY8ermPg/7N33+FRlWkDh39nep/0kEIITYoNFRU7Yu+i2Ne+lrW7n2V3bbvruutadtfee+8KVlTsigIqivROepnMTKa39/tjAoIQMkkmDZ77uuZSkilvkjNnznnOUwp0HPRMiKZQxwGK1h9bKT6uGOeOznVpy9nmHOfEOsRK1cNV6zJvYkk45bUwc8638+xxVg56JrTZ6WuX7GZitzI9p7wWomVgxZEAmBkKcX1TPf9Wg7iNPFbkK67/ZiXJYP/PrLrp0ygnbWvk/sOtTHgsyMeBAB+2tnJxfgHTW1vbbaB9cX4BUaV41OPZ7POvDSIdOsLAuVPDPPlj7waR1heMwyXfe5g61E3zNw5KDwwx7RQbP9UneWNhgmTbRjoy5GJ4q5nP3XX8aXD2+8Q0hhSPfh/v8rht/yw/8ZPj5B+U3+tTAHMsMOawPG7Nz8U3y0f1E9Wg4Lq6Wl4bUsk7Q4dhbdHx0fbwX32QFUs2/Yb+22dRdFq6nFUBF0yL9OgV1r/X1zFt6DD+UTKIM1av3ihbxzXeRSqaovXn1h5cxaYdMsKA06Sx6sUGauZEKTm9hMqrKql6qIq4p/33y85WK5dRir/aQNGOXnbOaUV7JpmVRuGBVIpHPc1cVVjETlYrP2QhOAUwMk/HpKF6nvgxvtmpSP3Z5bub+Pv+Fp74IcYV72/cy++h2TGu3tPEebuY+OunHff629Zs4eKCAiY6HHiTSf7b2MBzLd6NrqwD5E3KIxlM4p3pXfe1e1bV8+jgCk7crZD7v/OR8GV2VnzwMD2zapJ4+9lnrs2i5+87D+GgR1NoST3vtvp51NPM0gz61D32Q5xvqpK8NMXKB7+z8++volw/I9rpfW1zMsmzLR7Ozy/gEU8zi6N937Ox8e1GcvfNpejYovTxVhbk7JGDZtDWDQKZWKknFFUMb3Vx87B8CgwGvg4GubymOuN9wAteLyfm5HKs281TnbgQk/AmCC0J4d7VTePUdAbWzw0pfqxLcvoORu6flZ1jh1O2M/DUsRY+bSsRDmcxjhpOwFEvhHj7FBvPTLaSUl2bSLspOZZ0AOy5n+P97j2bLWuz0C7b3US+VaM5nD4qGGU2c3F+AQc6nfiTSe5pauSZlhYCGWaLzwyF+KDVz/n5+Uzz+6jpZMm3fYyd0LIQKtZ/Lwz3pkwCSR8Cbyil3gXQNO0w4Fil1AU9urLN0DRtbamdEFucP38c5bgxRm49wMKpr2/6w3rKWAPn72LiX19GmbEisyPwyOoI8eY4znE9F0gqPLqQWENsgwNbSDc+vvS9CI8fY+WavUzc+uWmDwIHuzRumWTm3SVxXuzm9K6+NK3Jy6ByK6fqXVyxpoqAZ2BcMfJH4f+mR3j+eBvn7WzkoTlxbmmoZ1rlUP5aPIhzq9Zs9JhtzGYOd7l4qLmJls1kI5n08NqJVg4baeC8aWEe/6HvgkhrpYB7Gpv4b1kZVz6twzUkzJ/2MnHTfm3p9DGNZW/nYS6Kcv7+KTStc70eMlXm1HHDJ107OVFJhWeGh+LjijENMhGr671t7aRT8rmtJB8WBah6qIq1EZnlsRh3NDZyTl4e19TWsGhiDs4dc9HeqG/34OumT9PBpOv3NZNS8Ie3ey6Y1JRM8q+Gem4tKeXUnFye9a53gqOBaxcXrT+19smB4gljjTSFUny2MklyhYdEwZ9AGwAAfphJREFUIEH5+eWM/PdIPDM8NL7dSLL11/eZDjgvL5+LCwqoicc5ZdUqBqcSvHmSlemn2znomWBWTjSeb2nhzNw8Li8o5Kw1qzt+wGaUOTVu3M/MOTsZMeg0Tt/ByPEvh6kPDqwD87PHGfnfoRZenR/nvHaCnyu8iveWJDh/ZyP/+Lz9IMZYs5mLCwrZ3+HAl0zyv8ZGnm1p2WQACcDgNuAa78LzkWeD7fTrUIifEhGOm2XhzeOLWf14dYc/R44lXdp2yxf973Pqyj0rOHyRjtcJ8OCKeqoynAa61vzGFLs9EuS/h1q4di8z+w3Rc8prYVZ6O7etPe7xcHJOLpflF3BJTce/056W8CVo/riZgkMLaHy7kWhN94NbOXvnEFoeIloTxaxpHGjIYfnbLq4q1PNNMMgVNdV838kg8qJolDmhECfn5PJ0S0un9um+73yUnl6KudS87ud7em6c/xxiYZt8HYubu1dmftK2Bp6ZbOWL1dkPIq0VisORL4R491Qbzx1nRRHm5SwEk84aZ8Jm1LhvMy0ttgRPzY1z1Z5mTt7OwIc/6bgov4CD2wJI97YFkFq70G7gtoYG9h3q4OqiIq6sqcn4cTqbDmuldV1wUwBKqc3egJ8z+Vpf3EjnPMhNblvc7W8TzUrd5FITyvUbfa/CramWa51q5rl2ZdB17nlLzihRYx4cozSjlvU1O7Z3qO2e3E7l7pvb7n1eON6q4jc41e5lG/9cgJp2ilUF/uxUQ9zZX5/cMr99fIZNNV/jVIW29N/hpJwcNX/UaHW0y7XRfe8uLVPfjhip3Dpdu89n0qf/tuomlzpvZ2Of/3zr3zRQrw+pVO8NHab0631NA3VtYZGat80oNcZsXve1bN8eP9qiEjc4N/lez/Smd+nV2EfGqpLflfTa7618V6ca98S26tA7hyvNtPn3q22ELb1v2K/9fcPa2y2T0vu++4+wKK2Hf4YHysrVnJHbqMHGX7dJ28j0Wt27u3t9WzTrUf4/OdXDR1k2+Loxz6jKzilT2z6+rRrzwBhVdGyR0ll0qkCvV4+VD1bzR41Wt5eUKvt678HDRhhU5Dqn+u73duU2Z2d9p7btB/aw2br0+Dyrpm47yKzC1zlV9HqnuutQszp7nFEF/uxUq69wqF1K2t+H9LfbCWMNKnGDU713mk2Z9Ju/72EjDErd5FInjDVs9L0xZrO6t6xMzR81Wn0zYqS6IC9/g79je7fCowrVdk9up0zFpo2+t6/druaPGq0uvXKsso6wdvhck0en17fX4K7vg3riNnyHHPXjtqPVXbsPzdrfzHutU7Vc61THj9n4b9HR7YK8fDV/1Gi1g8WSlfV096Z36NWYB8aowRcPzuj+n7TdNvU9S4VFbffkdmrQpDz1u5xc9fnwEWr+qNHqk+2HqF2sHW9Dm7sd4XSp+aNGq71s9k49zuA2qG0f31YVHlO47muDHJpK3OBUN+9v7taaTtw2/f799Eybshl7/m9lN6I+O8um4jc41ZRN7Ac6c9NALb7Err48u2v74YF2++HUHPXTnhVq/qjR6tsRI9XF+QXKmcE+sqPb2vdzZz7PnOOcarsnt1O2UVvH73692+z2YjGZFK3WaJp2vaZplW2364DMw3dCiE677asoNa0p/nuIeYOeIXoNnj/Oik6DU14LdTpFu/XHVvQWPfYuTHXpSNExRcSaYuvSojflwrfDrPEpnj/eius3baBOGGvgyG2MXP9JlFWbKekTPe/idyM4TfDvA9N/pJe9Xr4Ph7i2sIhc/a+9JrY1WzjQ6eTJFk+7TaiNOnjlhPRI7AvfDvPI932fibQ+BdzT1MQQk4ljXO51X6swGjk1N5fXfT4WRKM99ul8+fsR1vgVTx9rwd7FnpxJfxLftz5y9spBZ+1cL4qusI2ykX/BYEbGYiy7c1WHmTuhpSHCq8PkTeq4J8F1M6Lc+mWUP4w3ce/hPZMBttZf6+tIKMXfBw1at591jXeRiqdondv7ZW0HDzfgNGu88suG75G4J07149UsvW4pgXkBio4t4qSLt+GtbYYzzmrl+tparq6t2aAvxHtLExz/cpgdB+mYfrp9o/1tV7zi81ETj3NFJ3vF2I1w/b4mll/m4I8TTLw4L8429wS4/P0oT/wYZ6/Hg6QUfHG2vUd6iWTbYSMMPHecla/XJDnupVCHZXkfLEuwvGXDpttj1u/vYc2sv8c6OsibmEdgXoBY/cYZCZ8Hg/wSjXDsl0nKTy3tsBH/wcMN+KOKb6v7T32h3qnn/4YMQinFv3/MTunWK/MTjHsowKKmFK+eaOP+IyxYOrG5PdPioTmR6De9wpKBJM0fNOPe1Y2lonv7ysI9cjjkuyQvrs7jL8XFePUxKiY18Vd/FXO6Wco6PdBKUyLBKZ1sup3wJQgtDuHezb3ua3UBxfRl6fK2rvbTmzI2/f79ak2SI54PEeqFQ5JgHA5/LsQ3a5K8cLyV48Z0fT930HA9I/P13Ddry85GGmEy8d/SUsxzBmHyWXgl1MxBy5dxX3NTl7KQfuuJFg+rYzH+UlScUXkWpMvaUrEU4WXZKe/eEmRyxHkKUAi80XYravuaEKKHBOPwl4+jTCg3cPJ6B9Y37GdmrwoDF74dZoW388GW4IIgqWgK5zhnNpeLfawd2wgbjW83opLtr8sXTTfBrHBrPHiEdd3Xcyxw92EWZtckuefbLfvDcSBY2JTizm9inL2TiT0Hpy+331RXh0Ov59rConX3u7SgYN1Up00x6uDlE6wcPcrIH94J89Cc/hVEWuuTYICfwmH+UFDA2ljOVYVFxFSKu5t6NoW5NQZnvBFmeJ6OOw7u+slA84fN6K16cvfOzeLqNmaptDD0yiEMTiXZe3o1S2oyS9P3zPBgHWLFOtza4X3//HGU276KctGuJu45rOeCSfWJBLc1NrC7zc6JbSc5rvEuAvMCpCK9P51vylgDnrBqd1JltDZK7X1rOPwfzdzwNrTm67j6JJixo7bJo7l3lqSDSeMG6fjgd7ZuB5PiSnF/UxPbW60c4Oi4ubtJD5fuZmLZZQ5u3t/CjBUJdngwyNlvRTa4WDC3PsX4R4J8V53k+eNt3Hqgudtj23vKvkP0vHailZ/qUxyZYTlMSsGDs2NMrDRw+CArd7cFkHa12binLYD0YHNzxj0+nOOcGPONNH/c3O59HmhqosSvcWDQTO5+m98nHDLcwCcrEl3u09YTJk4ezMTF8GzYR000e58bK72KfZ4IcvvX6WD1t7+3M7ogs+B7SCke8TSzh93OblZb1tbUHU3Tm0gEEhQdV9TxnTfBpGmcmpfD80tyOPdjxapojDNXr2bRkHr0eVFmVnU/uBhXitd8XvZzOCg1dC6A4pvlw1JmwVz6687r6Z9iDMnRse+QzjdQP26MgReOt/LNmiSHPxci2IuHJME4HP58iG+rkrx4vJXJo7sWTLp4VxP1gRSvLRi47R82Z4TJxH9KSpk6dBh72ew85Wui8og6TNv48Wdxam5MKf7VUM9ws5nTcjM7brKPsRNaHOrVaa79XYd7T6WURyl1uVJqp7bb5UqpzXdUFUJ029Nz48ypSXLrgRashvQB7PX7mHjyxxgvdLF/kIorAr8Esh5IKjqmiHhzPKPeSzOrktz0aZRTtjeum8Zw20EWCmwav58aZjNxKNGLbv48ympfivsPt6DXYFksxiPNzRztdrOXzc44i5V9HQ4ea+cKukEHL02xcuxoIxe/G+bB2f0ziLTWPU1NlBmNHJeTw25WGwc4nTzc3NzhFLps+GJ1kju/iXHheBOHjejawWVkVYTgkiB5B+Z1mIHQVeZSM5VXVeJOpri/qp47Psz8qpzvGx/JUJL8AzKbJnXtR1Hu+DrKJbuZuOvQnhs7/5rPx9fBIFcVFjJ0qANTvqlPprWZ9HD0KCNvLmy/8XqZ0cgzFUM4S+/mJW8LpzZVsVJLUH5uOSP+MQLXeNdGj3l7cYITXgmzS4me90+z4exmv/i3/D5WxKJcWlDQ7gGkToMzdjSy6BIHdx9m4ZfGFBMeDXLcy2HmN276h2sKKQ56JsQDs2Ncu5eZqSdvnLXa18aX6ph2io0V3hSHPhfC34m2NJ/N07Hq81zucA9hN5uNe9sCSA90IoC0Vv6kfGLNsc1mzc0IBFgYiTD50wQlxxWjt2/6pHt4rsbQXB3Tl/efk9KcvXL4Q40Fjy7Fg6sasv788RRc82GUw54LUeLQmH2enbPHZZYO+qLXS108zuWFBVlfV1ekQima3mvCNc6VUZB+LaOmcXJODu8PHcb1hYOoz4OLTI2cuWY1s8Ih9q80MLMqSTRLH3+veL0A6wL2mVo7vW39rKS3FibwRxWntzPNqz2TRxt48Xgr31YlOfz53g0irRWIwWHPhZhVk2w7Purc5/0Qt8aR2xh45PuBO6CgPcNNJu4oKeXNyqHs47DzYHMTBy1fxr/rmpi+Os7pOxizfoHhs2CQzwIBLs4voEC/+cCk3qnHWmElsKB3h5r0d+0GkjRN+1/bf6dpmjb1t7deW6EQWykFXPFBhAq3jn9MMvPsZCvLWtJNq7vD/4MfU74Jy+DsXOm3j7ZjH2Wn8d3GjKP0t34Z45MVCe493MLvdzZy3s4m7vwmxtz6fnRJdCsXisMV70fYcZCeS3ZLn30+7GlmeTTKTcXF/LGwkKZEguc3kY1k0JG+4jbGyKXvhbM2YaUnfRUKMicU4sK8fP5UVER1PN6pKTPddcOMKD/XJ3nsaAv51q4dLTVPb8ZcbMa5Q3YDxQDGQiOVV1eiTyqea2rgje/CrPFnHvVNRVN4v/Li2tWF3pnZleSrP4zyn2+iXLa7mf8e0nNRhRvr6tDQ+GteMSqewv9D7weSDhhqIMei8er8TZ/QH+Jw8vqQSoaZTFxZXc3f6uvxLAyw/OblrLp7FSiouKSCYTcOwz52w9LlqYsSnPhqmPGlet7/nQ1HN4JJSdJB123MFg5zbhy4OmaUgZ8utPPUsda24FCQA54OZVQ2FU/BRe9EuPDtMAcPN/Dt7+2MzOv5Us1MbFuo4/3TbOsCXplMSoX0MIL/lZbxZEkl/jozztF+jq1axv3NzV0qzzANMuHYzkHLpy1sNG7wNx5sbqY8oGPvVVq7GSsHDU+fyE5f1j/OSo0FRo6ZMIixa+Ce2oaOy/y64f2lCXZ8MMi31UkeP8bKs5OtHQZaY0rxYHMzO1lt7GvPfouArvB85CHhT1B8XHGH99WAk9oCSDcWD6I6HueaXcJcfyR8Oj+d4eY2w04lOj5Zmb3gYk0iwWeBAMe7czBqmX++JXwJgouCuHb9dV8TTsAr8+OcMNaINcM4zLGjDbw0xcqsmiSHPRci0IeJ760xOPTZELNrkrw8xcrRozIPJl043oRS8NCcLSdzf5jJxO0lpbxVOZT9HHYe8TRz4LJl3N3UtK5lwlNz45S50lM+s+3WhnpMmsYfCzef1be2JUhwQTDraxjINrf1PtP23zt6YyFCiI19uTrJq/Pj/HEPM7GkYo/Huv8B2Dq3FZVSOMc5iazp/jifwqMLibfEafk885PulILfvRHmpwvtPHKUlWWeFH/LYDSy6F1vLEzw7pI4f9/fzMu/xKkNKG6qr+OZiiGUm0z8q6GesNrwhMqggxeOt3L8WCOXvx/h3u/6fxBprbubmniqooJio5E/1lQTU72XHhdNpt8Ts86z8+CRFk54pfM1+P7v/cQ9cfIPys9qjx9DjoGh1wxFM2j8flYNReWKf3ZhwpNnhof8g/LJ3TeXpneaMnrM/01PT3O7YkK6Y/QfP8j+fqImEeeOxgZu1A1iz+kRfgn1TVmbN6L4eMWGJ292nY6rCgs5KSeXn8Jh/q+2hurfTK5q/b6V1h9aydkrh6Jjixh6zVAC8wPUv1JPeEV6O3pzYYKTXg3z8glW3j/NxqHdOJn6oLWVhZEIlxQU8EGrnwSwf6Wefx5gZkK5gYVNSaa8HOpy6cVDc+IsaErx6glWvjvPzsmvhvggC4GOPW02hpk6H5AssMHlu5vxL4W7Z0aZpM+BnI4ft4vNyiFOF4Fkkvubmphn8fHJOCvHVut5cHbXtrG8/fNIJVJ4Puu4MODDQCtLo1GO/cjA15fl0vJZC5HVG37mHzzMwEpviqWefnARR4PKc8o5/TNYlojxalsWS0+qDaQDg3/e28TfJprZvdzBVdMjfLwi0e7743Wfl3Py0hMMvwgG6esk6lQ0RePbjZScWoJ9tJ3gwk2f6Bbo9ZQZjdxUPIjvwyGur6vlOy3KqEmj8H7kSUeJgX2GGNBpGp+2U2LbVc97W5jkdHKww8k7rZkH6/2z/JSeUYq5zEy0Or3/f2ZunHN3MnHMaEOHE36PHmXg5SlWZtckOfTZEK39IAbTGoNDnwsx/Xd2XjnBypSXw0xbvPmfw6yH3+9s5K1FCao6cRGnPzJqGjtbrRzvdnO400VEKR7zeHiixYN3E1ngby9O0BJWnLmjkY+WZ3e7XBWP82SLh/PzC3jZ6+XHyKaPvexj7CTDScIrOz42m1ipJ8ei8ebC/pPp2VPaDSQppea0/fez3luOEOK3rvkwwt4Vev7xeZTva7t/sJf0JwmvCOPcyUnjtO71f7GNtOEY66D2+VpUvHMfbDWtirPeivDkMRbOfzvcI6NXRfdd+l6EXy5ycOfBFk59PcyccJgnPR72ttt5+TcH+noNnjvOypSxRq78IMLdA6zf1axwiOmtrVg1jfdbe7/Z8k/1KW74JMq/D7Twux0SPPtTJ4NwyXSwpnhK8QYjk7tD79RTeU0leoce3cOruOwoPbd9FevSqPZobZTA/AB5++fR9G4TmZ6BXflBOph05QQzKQVXTc9+MOktZ4TjK+C8nw1MNRioT/TeDsmgg2NHG5m66NdyBT0wJSeHS/ILyDcYeMzTzF2NjbS7KgXeL734ZvrInZhL0dFFDL9pOL7ZPhpebyBaE+WNhQlOfjXMi1OsvHearctX5hXpoOv95eVcVpHDIfvGOHi4gTW+FOdODfPUj/Fulyh/virJro8EefNkG++cauPaj6Lc+U3X9yeHO53cUVrW5ceH56f/e4EL2DgRa5MCySQPNDXx9HrDCGbXmLh4V1OXSn01k0buPrn4Z/lJ+js+mVLAA81N3GkuY9e5KYKnl7DilhXrvm/QwaShBl76pX8E+/MPyefYoJVSb4oL6+rprRyplIJbvojx2aokzx1n5c2TbcSTim+qkkxfluDD5Ulm1yRJtW3TCeC+5ib+XVLKwQ4nHwR6/7PitzyfeCg4tICi44s2+BuvdaI7h6GxKIFUinPXrOabUAiAvAPy0Bl0tHz564XAiZV6IgnFt1noj7S+b0IhVsVinJKb07lA0hw/Jb8rwb2rm4bqdKnj56uSrPKmOGMH02YDSUdtY+CVE6x8X5suR+0PQaS1/FE45Nkg00+38+qJVo57Kcw7S9r/WU7c1kiBTcd9swZmo+cRJhN72e3sabMz3mbDqtMRSqU2G0BaK5qEF3+Jc+aORi56J5L1v+NDzc0c5XJzfXExJ65auclkT8cYB8FFwQ4zQe1GeOIYK5GE4p3FCeL9IEbfo9ob57b2BuwFfAgsBpYDK4DlHT2uN270/Tg8ucmtV246LbvPt3Z0sMHdvTGkQ/5viBp91+gOx3/35s8mt+zfbtovPZJ90tBfx0P/djS7XkO9cLxVqZtc6soJG4+klltmN52G+vwsm/Je61SDXZ1/X+mdejX2kbGq5PSS7q/FqlPD/zpcjX14rLJtY1Ovn2hV3mudKtfS9ed0jXep7Z7cTjnHOTv92LsPsyh1k0vddlD3Rj9v6lY0uUgdcOdYNWfkNuqBsvJe/ZsfPFyv1E0uddQ26f3xvna7mlY5VM0fNVo9NbhCbWvu/LhxnUWnCo8uVGMeGKO2fXxbVXZumTLmGxWgpow1qPgNTvXZWTZl7+Lo61H5OjV7p6Fq8U4jVMMfHerKCSZl1mf/d2Mzol6akt6vPH2sRVkMnX+OHSwW9cPIbdRTgytUrl6vXDpdRrdKu17NP8+hWv7oUnuXGDJ+3NqbUdv4/Xv2OKNSN7nUPhX6Tv8cufvmpkdPj8x89LQO1NuVQ9Vb2w5X2z+xrcrZM2fd9/YcnN7ujh/TveOAbNzM5Wa16z1j1MztRqlHyzMbZ98TN5MetX+lXv3rALOafZ5dqZtcSt3kUp5rnOqVE6zq/F2MqjJHUzpQUyuHqmmVQ5Wuj39367aP/dPbh2N7xwZfn2CzqZ+2GaWqTSb1yW8eM+zGYWr434Zv8LXZ59nVjDN6Zrz5mbm5av6o0Wq0uXP78MprKtWIf47Y4Gs3729WiRucapBj05+TR4w0qOj1TvXt7+3Kbe77v097N7cZ9d3v7SpynVMdPrL99+I359rU/Ivsfb7eTG8Fer06yuVS/xxUoj4dPlzNHzVazR81Wr1dOVRdV1SsJtodyqbpMn6+3cvS+6uzxhl7ZL2HOp1q/qjR6iR3zkbfM+Qa1HZPbqfyD8nv8HnuOtSskjc61Z6DO7+P78e32e3FYjIpPn8M+A+wN7ArML7tv0KIXrL2Sli2rO0B4tyx671UrMOtOLd30vR+U4fjvzcn2z+byL5/fxVlmSfFvYdZMLZ9aqz/Z9Nr8MxkKydvZ+Sq6RH+O7MfXfYbYFIKznwzjE6DJ4+1drpvdrI1ie8bH7l756Kzdb2/jGbSGHLlEMzlZlbfs5qxgQiTxxi545soLd2oiPX/4CfeEidvUl6nH3vZexHumxXj6j3N3Hpgdnsmuca7WNYQ4n9NjezncHCUK8O0kyyYMtaIP6pYuUbPY+WDebB8MHpN49LqKs5cs5pfop3/haciKRqnNrL46sXpEeET3Iy8dSSDTh3EG2sUp70eZs/Bet451YatEz1rB7s0Hj3awi8X2anYqZVEyMCfnzby35mxrDXmXV8oDie9Gub6GRFO39HEZ2fZKXVm/q4oNRi4t6yc+kSCy2uqaUkm8adSHd40Y4rXTrNQWahx9KtBvqxNZPS49W/xTZTGvjgvjiesuGjXzjeqyjsgj/DqMKEloYwfkwIe8jQzMmFk+y8iFJ9YjM6S3i8cPNxAMqWYsaJv04E1g0b5+eUc94XCEYPbG7PfYDtTsSR8sjLJnz+OMv6RIIW3t3LyqyHeWBhn9zI9Dx1pZcXlThZd6iBc4WO42cyJeb23r9gc7+deYo0xio//tVdSpdHEf0vLWB6Lsiy24eeyudSMbZhtgyEpa/sjfbqqZ7aJN3w+wqkUJ3ey6bZvlg9LqQVz+a/7/Wd+iqPXaZyy3cY7sMNHGnjtRCtz61Ic/EwQXz/unOCLwsHPBvm5IcXrJ1o5dBMDN3Yu0TGh3MD9s/vvsZVZ09jTZuOqwkJeH1LJ5yNG8u+SUiY6HMwJhbm+rpYDli3lyJUruKWhnk+DAUIq83Sdb6uTLG5OrhvSk23vt7bybSjI5YWFuHUbHjs5xqSnlHbUH2nPwemeovd+F+PrNf2j71xPy+Qo06eUek8p1aCUal576/GVCSF6TLQqSqwp1q3pbUVHF5FoTeCZIUMct3SRBFzyXoQxhXr+uMeGJ0A6DZ461sop2xu55sNIt8pPRNoKr+LKDyJMGmrg8gmdP+Fs/qgZnVlH7r6ZjbT9Lc2gUXFpBbYRNqoeqiLwc4B/7G+hMZjif90NEibTZRjOHZyYijr/s13yboT7Z6Une/3zgOwEk8wlZixlFvyz/TzX0sL34RB/KSrucIpLNug1OLrSxNxP3LwwuJIxFgv/rK/nmBXL+TjQ/ekwyUCSupfqWHLtErxfe8k/MJ9tbt+GT7fJ45S3o+xdoeftUzoOJhXYNO482MziSx38bnsjd38XY+yLzcwMBjnTnY+1Ew10u+KWL2Ic82KIMQU6Zp9nZ/eyjv82Nk3HfeXlmDSNP1RXbbZ0YoPHGeHtU21sV6TjuJfDfLE6eycE4QQ88WOM48cYGOTI/HdmHW7FOsTapc/bd/1+VsdiTPkihcGpp+iYdFPZg4bpmVWT7FZgOBuKJhcxxGnhsLmKN3w+FkX7z1l/U0jx0i8Jzp0aoeJ/AUbfG+Cy9yIsaExy2J5xLLkx/l5ZxFdn2bhpPzN7Dtaj79m3QrtUUtHwVgPWSivOnZ24dToeKC8noRQXVVVvVCqYs3cOKqHwzvSu+1pP9Uday59K8a7fz5EuN05d5hc61k1v29W97muLm1N8W5XkjN8EFg4dYeD1E6383JDi4Gf7dxBpLW8EDnomyLyGFG+cZOWQ4Rvu3y7e1UQgpnh6bv8oQ4V04/bRZjPn5ObxaPlgZo4YyaODKzg9Nw9vMsl/Gxs4YeVK9l66hP+rreF1n4/abpaMPzU3zsRKA0PcPfMmu6W+HodOx+WFhRt83T7GTiKQ2GxfWbMeHjvawiqv4i8fD4CNLksyeRd/omna7Zqm7aFp2s5rbz2+MiFEj2r9sRXHtg40Y+d3yJYhFpw7prORUtEtvQBYQHrCzesL4ty4n5mKtg9xnQZPHmPhtB2MXPtRhNu/liBStjz2Q5ypi+L86wAzYws7l1kUWR0huDBI/gH5dDqlSQflF5bj3N5J9RPV+Gf52XeInkNGGLj1q1hWpt20fN6CSijy9u98VhKkg0kPzo7x573N3DKp+8Ek1/h0RoF/jp8UcENdHRZN48biQd1+7s2xahr/Hl5Iy8eDyPHaearFw6HLl/Gst4Vsny7EPXFqnqhhyV+WEPgpQNExRcw7ZxiHrrGyW6WBaafYNjkByWGCG/czsfwyB5fvbuL5n+Nsc2+AP34QpSmkuKupkQKDgd/ldi1o2RlTFyXY47EgoTh8dpZts1emdcAdpaUMN5m5sqaaFbHMNlyTHl4/0cYe5XpOez3M+0uzn5nx4Ow4Rr3G73fO/Mp6/gH5JMPpbMPOSpLuATJaZ2abqQHyD8onf4iZ3cv0fJjlxrWdZRtpo+CwAk54JUIipbi7KbMm/H1lUXOKe76LcfSLYfJva+W2ukYSQQOWBic37mfiq3PsNF/j5I2TrPxhvJERvTx10Pu1l2htlLJjirmrrJxBBgOXVldTk/jNHkUHOXvm0PpTK8nWX7eB/XuoP9L6XvC2YNPpOMbl7vjObZKtSYILg7h32/AxT/8UY9wgPTsUp3/PhwzX88ZJVuY1pDjomSDePg6SdsbaYNKCxhRvnmzjoGHpYFKeNZ119exPcfx9HJ8o1Bs4xuXitpISPhs+gtcrh3JVURGFBgMver1cULWGCUsWc07VGh7xePglGumopVCnrO0beXoPZSUtjcV4vqWFE905jDH/emxhH2NPZyNtpoLipolmRhfoOf/tMMH+E+/rcZns4XYnXc72T+DOtptMchNigGv9sRWdWbfRqOhMFB1TRCKQwPOxZCNtTa54P4JS8L9DLOg0eOIYC6fvaOLPH0e47SsJImXbedMi+KOKZyZb15UUZqr5o2ZMhabOZR1qUHZOGe7xbmqfq8X7hReAWyaZqfanuH9Wdv7GCW8C//d+cvbJ6VIgW5EeE//wnBh/2cfMzft3L5jkGu8itCREwpsOGqyIxbinuYkDnU4OdXY9a7M9OuA4l5v3hg3jcH0+lkERJq9azu2Njfh7cNw5QKwuxpr717D0pqWEV4apm1jEPoUlNG/n5s1Tfw0mmfVw+e7pANLfJlqYvizBdg8EOXdqhNW+X4+m50YifBoIcE5efqcyDLrql8YUuz0a5IvVSZ481sp/DjFvMgPkqsIiJjoc3FJfv66xcEf0Wnri5CEjDPx+WoRX5/dMec9ST4oPlia4YBdTRtkreqce164uvF95u3zhZprfR1Usxkk/6UhFkgw7qxSdTmP6sr4ra9NZdJSfV86wX+Ls12zkcU8zjcmBM3UjnoIHV7YyJxSidZGDstsDTHk5xEu/xBk3SM/9R1hZcqmD5Zc5eOhIC8ePMZBr6eFFpaD+9XoumWdkN5uN6+vqNjmFyrGtA2OOcYMm2wATKw18vSbZI2Wqa82PRpkbDne+vO07H+YS8wblbS/NSxBLKk7fwchBw/S8ebKNBY0DL4i0VksEDnwmxMKmFG+dbOPAYXrOHmfEatS4L0ufv51h1TT2tdu5trCIqZVD+WzECP5VUsoEm52ZoSB/rq1h4rKlHLNyBf9ubOCLYHCjSb7ZtNqXLsU9Y4eeCSRBupF+SzLJdcXpElFToQlTgWmzZW07DdJx9Z4mHvshlvWpcv1dh5/6Sqn9N3Gb1BuLE0L0nODCIMlwEte4ztX3WyosuHZ20Ty9mVREspG2Jmv8ips/jzJ5jJFPz7Rxxo4mrpsR4dYvJYjUExqCivOnRdi5RM+N+3UuWOL/3k+sKUb+QfkZP6bk1BJy986l/vV6mj9MV7AfOsLA3hUG/vFFlEgWz/GaP27G4DDg3j3zq9LrU8CFb0d49PsY1+9r5q8TuxZMMhYasQ6x4puzYabHUx4PP4XDXF9UTG4WS9z2sNl4dUgl/ygpoSaewLlnA9/mNrIs0ruXMCOrIqy6cxUrbl2BryHO34vyuXvvwfztskLO3snI4ksd/O9QC3PrU+z2SIApr4RZ2LTp/f3dTY249XrOyu1ahllnecKKQ58N8b+ZUa6cYObd02wbnKCf4HZzVl4ez7R4eMnnzeg5NdJlCceNMXL5+xGe/LFn/x73zYpR7tJx1Kh2hyevk7tvLjqjrlsXbhLAI55mdjBZGPKCl/BQO9NMVmb2YOZJRwadMghjvoHTpsWpj8d5wjMwL0z9r6mRIoORwyy5vLYgwQVvRxh6V4CR9wS46J0wc+uTnLStkVdPtNF4tZOZ59q5eX8z+1ToO32BIBPHLzMw6SfFSzumeCe46elouXvnkmhNEJj7a/lsjgXGDdLx6cqeD+a94G1hmNnM7jZbxo/xz2krb1svK6k5nJ6Mdc5OJt462cbCphQHPhPq83LN7vCEFQc+HWJxc4qpJ9u4ak8Tn69KMK+h54+3NWBbs4Xz8vJ4YvBgvhkxkgfLB3NyTg4NiQR3NDRw3MoV7LdsKdfU1vKW309DL044hXR528h8PXuU90zpeWsqxX8aG9nZauMol2vdxfbAgk2Xmht08PgxVhqCiv/7YABveF3U4S5M07QbN3XrjcUJIXqOSigCvwQ63XC78KhCkqEkzR9Jq7St0X++ibGgMck+Qwzc8EmEf34hQaSe9NaiBE/8EOPPe5s6d+CUAs/HHhxjHRtcwW1P0XFF5B+UT9P7TTRObVz39X/sb2ZFS4rHvs/uiXVoUYhIdaRLTbfXUsD50yI8/kOMm/Yzc9a4zl+ldI9Pn5T4Z294wpUErq+rxanXc11R8SYe2TnDTSYeKCvnscEVOHQ6/lhTzYNaFeUVCV5d0Hd58MGFQZbfvJxVd62ivjXF0zsUE7mgkq8xcsDTQQ56JsSsms2fwCyMRnnP7+eMvNysBt02J6ngyg+inPNWmImVer47z8HYQh0TbDauLx7E54EAtzVk3rT5rsMsnDnOxI2fRLj7257fp72zJMEqb4qLO2q6rUHe/nkE5geI1navruVNv5/aeJzfrTExJBjjtrwckoa+aejjHOckb788tn/Bzw6ambubmno0k6EnzQmH+SIY4Pd5edjXy8pb6knxwOw4k19Kl8Ht+ViQmz+PkUgp/rS3ic/PtrPqCgfDc7P3N5jkcPB/BYV8qA/x+mFGcvbK2eg+OpsO585OfDN9qOSvv/N9Knq2P9L63m9tpSWR4JSczEtik61JgguCG/RJAnj6pzh5Vo3FzSkOfDqEJzwwt6P1NYcVBzwdYoknxSCHrleykcqNRqZVDuWVykquLCzCrdPzrLeF369ZzYSlS/h91Roeb/GwMBrdXIVXj3t9QZxgTHFmFz7vM/Wm38fccJirC4soHGkn3hInVrvpv8G1e5kYN0jPH96JDIh+XNmWSSw8uN4tCRwGVPbgmoQQvaT1x1aMeUYsQzLLtzaXmXHv6qb5w2ZSIclG2hrFU3DMi2FOeCXEPz6XIFJvuPz9CGv8iqcnW7F34tip5fMWUtEU+QduPiup4LACio4uwvOZh7oX69Z9/bgxBnYp1fPXz6LEe+Dt7pnhwTbMhnWotcvPoYDfT40wsyrBX/czd/oKv2u8i/CKMPGmjYM5S2Mx7m9q4nCXiwMcji6tL0+v58biYt6oHMpOViu3NzRw5MoVvN/aypSxRkJxxXtL+r6cp/WHVmZftYTcqbXMT+i5ZVwZCycWo3dmFhi6t7kJi6bjvLzMM+Cy4Ykf40x8MoTDBF+c6Obe8jJWxmL8X23NRs2F2/OPSWYu3c3EHV9HubmX9mkpBQ/NiXHgMAOj8tvfaJ07ODEVmLIy1CKuFI94mtnZauPvi1rxWY0UHlHY8QOzTO/UU3Z2GYkVYc5ZbmJhJMJb/s73fupP7m5sItdg4Ix2eoUlFXxTleRvn0XZ+4kQ+be1ctxLoXRPrpM6NzmxPaPNZm4rKWVeJMI1C9YQXBGm6JgitN8EC927u9EZdZsoa9MTjiu+q+75QFJMKV7z+ZjkcFBs6Dgrb6215W2Wwb8es05dlOCMN8Ic8HSI5i0giLRWc1gx6akQZ74Z7rEy27VGmc08VzGEPIOBv9TWsu/SJRy3aiV3NDbydShEtB8FeQMxeG1BnJO2NWLuoesWCvhHfT15ej1n+x3tlrWNKdBxw75mXpwXZ+qivv8c7wuZlLbdud7tFmAiMKzHVyaE6HGtc1tRKZVxH5XCowpJhpM0T5dspK3ZEk+qxw9sxK9aY3DGG2GG5WrccXDmTTaSwSTeb7zk7JGD3r7pI67cibkMOmkQ3m+91DxZs+7rOg1u3t/M/MbkugaX2eb9yksynCTvgO6VRCng75/FGJKj61QTTmOeEdtwG77Z7Z/EPuZpZkEkwk3FgzYaCbw5Zk3jvLw83h86jOPdObzobeHQFct5osVDTCk04PgxBt5bkug/jTkVfPF6Mz9ftZjG9xrJ3SuXbf69DXkH5nV4tLgiFmOq38cpOTmdOjHMhm+qkuz/SJjaL/NwWmBeaT3BDHtNXb2niev2MfPwnBhXf9i7l5Mf+yFOLKm4cHz722zeAXnEW+L4f9h0iVJnve7zEdAS5H9vIfm9j4LDCzAW9tyV/U0pO6sMnU3HPk+1Um40cXtjQ1Yb8vaFX6IRPmxt5azcvIz2E/4ovLEwwSmvhdmuSMdjR3c9mA5QoNdzX1k5vmSSS6qriCpFw2sNmApM5O63YXArd69cImsiRFZtWIYzsdLAN1U92x9pfS/7vOiAE9w5GT/G/70flVS4dvu1JUNKwTM/xbeoINJazeH0pLZUD/5ou1itPDW4goRS/G71Kt70+2jKcMJlX3l6bpwci8bRGZQGd9Uv0QhvxFs54mfI/3njPmM6DR4/xkJrTHHpe1tfSdtaXanOtQHl2V6IEKL3JVuThJaFMuqTZCox4d7NjedjD8lg//6QEWJL88XqJHd+E+PC8SYOG5H5wVPzR83ozDpy9934Srl7gpvSM0rx/+in6uGqDSaSnLq9kbGFem78JNpjB7GpSArv117cu7vbDXRl6r2lCWbXJPnL3ptuvrwprl3aprXNbv8kPQFcV1eLW6/nTxmUuGnAkU4X7wwdxpWFRXwbCnHMihX8s6Fhg/Hzew7WU+rU9WlZW3tSkRT1L9Wz9IalhJeHKf1dKSP+NgLbqM33M7mvqRmdpnFhfu9mJRmBa92lJMJ65pc08peDDLx4vLXDLI8LdjFy20EWXpwX5w/v9P6JQENQ8covCc4aZ9rkWk2FJpw7OPF86iHj9KoOxJQiWOIn1GjG9UILKqkoOaUkO0+egZy9c3Dt4iLycgPnGtx8Fghk3Ay9v7unqRG7Tse5ncjK+3B5kutmRDl5OyN/3KODMsd2WDSNe8vKcev1XFxdtS4IEPglQHBRkMKjCtFM6Z2iZtSwjbDR8tWG2Ui92R9prap4nC+CQU7IySHTUGZ75W2ia/a3O3ikfDBNiQS/W72K5RlOt+xrn6xMssaX2uzkzmx4ojJKxASX1W08lOiy3U1MKDdw2XsRmkJbXhAzU5n0SPpZ07Sf2m6/AIuA//X4yoQQvaL1x1asQ60YcjZ/clp0VBEqrmj6oH+P5xViS3XDjCg/1yd5/BgL+dbMoiXRqiiB+YGNskqc45yUn1dOcFGQNfet2eBE1aiDv+5n5vvaJK8v6NkTC88nHnRGHTn75HT7uf7+WZTheTpO3T6zg0vXeBeRNRFi9Zs/eF4YjfJIczPHuN3sa29/yuUuVisvVgzhttJSWpJJzly9mktrqlkZ3/j5p4w1EEko3l7cfzP7orVRVt6xklV3r0Jn1THsz8Mov7AcQ+6mPytqEnFe8Xo5zp1DubH3slxuLB7E7jY719fWMfkDL9d8GOGEbQ18ebadwa5Nv09O3d7A/UdYmLYozulvhHv0iv/m3D87Ro5F2+Q2mzspF5VQtHzWsolHdo1egx13jhDTJznfnEvj1EZcO7twbN+10s3OMBYYKTmthODCICfP1WHT6bijMfM+Vv3d0liMd1r9nJabS0EneoXd+mWM1+bHue1AM/tXdi6grgH/KilhO4uFq2tqWBjdMKuu/rV6jDnGdb3ojG4DKqnwfbNhFua+Q3qvP9L6XvC2UGgwcEAnpmP6ZvkwDzJjqejpEXhbtskuN3eVlbE4GuV3a1ZT28tNs7tjbRbaISMMFNt7rs9bfFsbz+2UYg+TjYMcv26jw3I1bplkZtqiOC/MGzi/t56QSUbSkcBRbbeDgVKl1L09uiohRK9p/aEVYLPlbaYiE+4JbppnNJNslWwkIfpCNAm/eyNMnlXjwSMzP4hu/rAZU74J187pDBz7GDuDLx5MeGWY1XetRsU3PIs+Zycjw/N0XD+j55tqRquiBBcFyZ+Unz4r6oZpixP8WJfk+n1N6Dp4LoPbgG2kDf+czEqGHmpuYnE0wt+KB2005n6I0chdpWU8UzGEAoOBa2trOHHVSmaFN51pkS5rM/L+0gSBAXABuPX7Vpb8ZQkNbzbg2tnFyH+NpOCIgo16rwA81NxMUikuzi/olbWdnZvH8Tk5PNDUxNut6b/l7V/HOPL5MMNydcw+387eFRuenB89ysBTx1r5dGWSE18Nk+jDuqqv1ySZW5fkovEbZqNoRo3cfXLxf+8n4c3eicpuZXpyHfBxqoU97HYGfxYkWhul5LSSTf49s0aD8t+nixn0j9VzUk4ur/q8LBsgGRCZuq+pCaOmcUEnt/+z3gqzqDnFS1Os7QY/N+WS/AIOcbq4o7GRT4IbT5UKLQ4RmBeg8PBC0KX3e60/t5LwbbhNre2P9G0v9Eda35fBIGtiMU7uRNNt/5x0eZtkJXXdObl53FJSwrehEOesWb1BtuxA8fTcOAbdpoPwWaGBfbSd1wiwMBLh2qIiLFr6vfnIUVbiSbiwDzJZ+5tMeiStWu9WrZTaukNvQmxhojVRYg2xzQaSCo8sRCUUTe9JNpIQfemn+hQ3fBJlylgjv9shswOo1h9biTXGyD8wH+twKxWXVxCri7HqP6tIRTY8i7YY4IZ9zXy1OsF7S3vn477542ZMRSYc23U/K+Lmz6Nsk6/npG03n2Hp3NmJptM22x9pfXHg+ro6CgwGri4sAsCt0/GnwiKmDh3GnnYbdzU2csSK5Uzz+zcbgNutTM9gt25A9RlTMUXDmw0s+csSgr8EGXTCIEb8YwSOHTb8mzUmEzzvbeEol4vhpq6V6mRqf7uD/yss5H2/n3ubN/xsem9pgt0fDdISVsw4w8b5u6TfK5OG6nl5ipU5NSmOeTFEpB/8Ce6bFWOnkg3HWbt3d2NwGLLSZHt9Bw83kFKKO1Y140kkuDAnn9rnajEPMpN/cM+VJOYfko99tJ3a52q53JhLNJXi3qYt73hidTzO6z4fJ+bkUNqJXmGBGEx+KYxJr/HaibaMmggf6XTxh4ICXvV6ebKl/e2k/rV6DC4DllIzmkHD+5V3o/tMHGLg6zVJYr0cT0gBL/m87GazMSLD/UUykCQwP7BBnySRuasKC7mqqIh3/X4uqlpDqB810u6MRc0pvq1K9lh5m6XCgsFhoHVhkFsa6ik1Gvl9Xj7n7Wxk0lADV30YoaZ1YP7usqkrPZKEEFsY/49+HGMd6+ro12csSI+Q9XzqIekfeFcthNjS3PF1jC9WJbj3MEtmV69VOlhjH22n8qpKEr4EK+9YucleZ38Yb6LMpeO6Gb3XeLh1TitxX7zbTbcB3liQYF5Dkuv3NW82wcm9i5tobZRoVeY/57xIhMc9Hqbk5HBdUTHvDxvOabm5vOHzctjy5TzkaSaSwUH5lLEGYknFtMX9rz9SR+JNcVbfs5qVd6wEBZV/rKTi8gpMhb+eBD7q8RBKpbikoOeykkabzdxemp5Q9Ze62k0G7hY1p9j90SAfLU/y0JFWnj/Oylsn21jcnOKw54L9Jhvs+Z/j+CKKi3b99YQob1IekeoIwYWbnhbUVQcP1zOrOkVtWPFEi4d9HA6GLk3g/95P4dGFHZa4d4W53Ezx8cX45/gZMSfKAU4nj3ia8QzALIhMPNjchFKKP3QyK2lxc4rT3wiza5me+4/YfMbpTlYr/xg0iG9DQW6ur9vsfcMrwvi/96O361Gp9IWF9eVaYMdBOj5d1TdR1dd9PqKpVOeykmb5MRdLeVtn6IFbBpVwTl4+z7W0cE1tDQPvE2hDT/8UY8dBenYozn44wz4mXcYeXBBkTjjM234fv8/P49a97MxYkeDR7wf6by87JJAkhKD1x1Z0Jh2OsRtnBBQeWYhKKZre3fKuHgoxEKUUnPlmGJ0GTx5rzagirOXzFpKRJKlQipW3r9yotAHAYYI/721i+rIEn63qvZM8lUz3gXHu4MRY0L2ri4p0VtLYQj3Hj930SbHersc+xr7ZJtvtua+5ieXRKKfl5vJTOMzklSv4a319p6bcTBlrZPqyBP7eHRKWVYF5AZZev5S6l+qwj7Yz4p8jKDquCM2k4U0meaqlhUOcLsaYzVl/7d9OqNpc8M4XhSNfCHHbV1FO2d5IbWuKg58N0dKPKhKCcXhqbowTxhoptGlYh1qxDbNlPRvJbU5nw01fnn7vv9DixZtMcmF+AbXP16LpNQadNCirr6kZNMrPLycVSlHzZDXXFhVTE4/zdEv2+j71N3WJBC94vRzjdjOkk73Cpi1O8PfPopyzk6ndaX5lRiN3l5ZRk0hwRXV1RsGAhjfSvagS/sRGpcz79FF/pLW8ySTvtbZyjNuFTcvstHRdedtuUt6WCbOmcXdZOZPdbu5pauSWhvoBPykR4MV5CWJJ1SNZSY4xDiLVkXXHSrc3NGLQg/9nN+dN23iK29ZKAklCCEKLQiRDSZw7bVjeZswzkrN3Di2ftWS1T4MQontWeBVXfBBh0lADl0/ouCQgFUqx/B/LWfb3ZcSbNn3qcfnuJgrtOq6f0ftn2Z5PPKAgb//uZyW9Oj/BgsYkN7STleTc2Ymmz7ysbX0xpfh91RpOXbWKC6qrWNrJHi/jS3VU5gyssrb2qGS63HnJn5fgn+Wn6OgiRv5rJK5dXTzZ4sGbTHJ5QWFWX9PczoSqzUkpuPajKHs/HmTvJ0LUBfpfOcL9s+KYDRrn7pxujJyMJDdZgtQd+w81YNBpTF+W3vZCKsVTHg/7OxyMaNXR9E4TOXvkdDidrzOKJhdhrbBS/UQ1h2l2trVY+F9jI9EBWk6TqUc8zcSU4pIubP9//TTKO4vj3HWoZYNyRwC7Tsf9ZeUYNI0/VK3Bl8osHBBZEyG8KkKsceP91dr+SN/1cn+k9b3obcGu03O0O7NytWQwXd4mgaSOOXU6Hi0fzH52O3+rr+OB5ua+XlLWeMKKaYsSnLa9MeNprRnRg22UjeCCXzNCDxoLg7YPEK61UhbL3j5yoJNAkhAClVQE5gVw7ujcoOFtwRHp1GzJRhKi/3n8hzhTF8X51wFmxhZ2/HEerYpuMhMJ0uOfr9rTzJsL48yq6f1rlYmWBP4f/OTuk4tm7N4RYUrBLV/E2KFYzzGjN85Kco93E2uMEVnVtYBZXSLBj5GuXZGcMtZIPKmYumjLSYtPeBNUPVzF8n8uJxlMUnFxBYVXVfBkwse+Dgc7W61ZeR0N+Neg9ISqa2o3nlDVka/WJGkI9s8AxqLmFB8vT3Dqbhbcu7vxfu3dqH9Zdx083EBrVDGz6teAwXPeFvxtWUmN7zYSa4pR+rvSrJwd2EbaKDisAM9nHuJzA1xRUMjP4TDvtHY+E3Cg8SSTPNPi4QiXi1GdzMpTpIcqrPYpXjvRyiBHen+oB+4sKaXSZOLKmmpWxTu3D0lFUmwqDaWv+iOt76dIhHmRMKd0orzN950PU5EJyxApb2tPgV7P0xUV7GC1clVtDS95vX29pKx7+qc4xQ4dh4zIXlmudagVvUW/LpBUaNO461ALi21eVsSi/LmoGKPWg8MJBhAJJAkhgHR5mzHHiLUyfdBvyDGQu28u3i+8xD1bzkmPEFuS86ZF8EcVz0y2YuzGJ/rVe5pxmeGGT/qu3sozw4PBZcA1vvtNVF+cF2dJczoraX06qw77tvaMp7Vl25QxRj5ekexXpVXZElocYtlfl1HzdA2WCguz/lRAsyHF5UXZyUq6OL+AQ10u7mxsZEZg4wlVA939s2PMKXOiM+myXtYGcPAwA5+sTGwwpS6QSvFMSwsHOZ2M1EzUvVCHZbBl3bj4rtJZdJSfV068KU7dC3WcmZtHidHIbY0NPT4Jsr94wuPBn0xyaRd6hXkjMPmlEC6zxisnpPft1xQVsa/Dwc31dcwMbXoiZGf1dX+k9b3Y4mWk2cwuGQaeW79vRSWkvK09FUYjz1UMYbDRxIVVa3i/tbXjBw1A7y1J0BhMZbW8zTHGgUqpdT3q7jnMgtOkce7bEW6pr6fSZOLM3MyDnlsyCSQJIQBonduKSql109sKDi9A0zQa32ns45UJIdrTEFScPy3CziV6bprYtX40RXaNy3c38eK8BPMa+q5zQnB+ehR5/gHdnx6VbMtK2rlEzxEjf71S6RznRGfQdamsrbvGDdIxPE/HK/O34MB8Kh0QXPKnJdR/4+XNiXp2tdg4eLciMmrm1Y4jnS4uKijgNa+XJzYzoWoge2tRgucdDoa2hDvVBD4Tw3I1hufp1pW1re+ZFg+BZJIL8/Lxz/ETmBegeHIxemcGo8PaMeiUQRgLjFQ9UkVeXOP3+Xl82NrKnPDW01vEn0rxhMfDJIeTHSydz5qZ15Di3Klh9q4w8NIehZyem8eTHg+v+rK379q3rT/SJyv6vvH5u61+fMkkp2aYlbSuvG1XCST91hizmWcrhmDX6ThrzWq+yVLgsT+Kp+CFeXGOHmUgJ0vJafYxdiJrIiSDSY4ZZeCk7Yzc/HmUBU0pvg6F+Ki1lQvzCyjuxGTGLZUEkoQQQPpDObQkhHOcE4PbQN7EPLxfe9vtpyKE6B/eWpTgiR9i/Gkv00Y9NTLxl31MmA1w06d93/3ZM8ODbYQtK+UKz/0cZ3lLihv3+zXA5trFRbwlTnhZ75/QThlrJJFSvLWw76/+97RkIEnNUzU8/PYKGmyKS6x5DPvLMCyVnf+7jrOkJ1R9Fwrx9w4mVA1k1m0d1JqN/CEeZHhudssmDhqWPuGZvmzjgIE/leI5bwsHO50MN5moea4GnVlH8ZTiLr2Wc5yTvP3yaHq3idCSEJcUFGDSdPynsaFbP8NA9EyLh+ZEosu9wl76JcGTH2uMbs5jqS7IHVn+HU6s1BOKK2bV9H0gKaIUb/h8HOh0UqDP7HNsXXlbF/YrW6pdrTaeGlxBTClOX7OaeZEtMP31N56aG8di0Dhx2+5nJWlGDdvIdH+kHAs8cISFH+uS/PurX/uL/buxAR1wVWFRt19voJNAkhBindYfW7EOsVJyagmaXqNxmmQjCTEQXP5+hDV+xdOTrdg7cSw12KVx4S4mnvwxzlJP389xafmqhVQ01e3SGoBECv71ZZTdyvQcMlyPzqzDuYMzXdbWB/U1J4w18MmKJM3hraW4B1pXRbhreR0j6mCvgJHhNw6n9KxS9I7MThRLDUbuKSujNpHg8uqqAT+uenPyDsgj5Y+znz/IheM7bqDfGQcPN7DKm2JJO+/xp1paiCjFBfn5xGpjNH3YRN5+eViHdq6/ld6pp+zsMsKrwzS80cAIk4nj3Tm80NLS6Z4+W4KQUjziaWYPu53drJ1v0DvMZGJMXRFxS5wDjvIxriS7p20TK/u+P9L6XvK2YNQ0puTkZHR///d+UomUlLe1OcDh4OHycuoSCU5bvYoVnRwGMVB9X5tiXkOSM3bofiDJNsKGzqgjsCDAnQdbKLRrnPNWeIOS4Op4nMc86R5o47PUA3CgkkCSEGId/4/pviHu3d14Z3o3OeFDCNH/tMbgjDfCDMvVuOPgzK/O3tCWrfP3z/o+GwnS0+W833jJmZCDztb9Q5Snfoyz2pfOSnLs4EBn0uGf3fv9kbYr0rFNvp5XF2x9J9NTfT6WR6McPzVGywfN5O6Ty8hbR5J3QN5mj0LtOh0PlK+dUFWV8YSqgchYYMS5g5OmT1uYtiDBOTuZsGSpakKvwQFDDUxf3n4mnDeZ5PmWFg5zuqg0mmh8q5G4N07J6SWdKkksO6sMnU1H1UNVqKTi6sIiAqkUDzRvvQM7XvR6qY3Hubywc72ScvR67i8rJ6YUpy5bQ2M0xesn2iiwZSdbLdcCOxTr+HRl/8mQXBWP82UwwInuHDIJNadCKYK/BKW8DTje7eZ/pWUsiEY5ffUq6hP95+/aG56eG2evCgMj8rp33GAfY0clFbtFo5yzk4nbv47xQ93Gnz2PepqpisW4rrg4o211SyXFfUKIdWK1MaJ1UUxFJslGEmKA+WJ1kju/iXH1nmamLU7w7pLNH0iOyNNx9jgj982Kscbff7JkPDM85E3MI3fvXJqnd29UcbwtK+mBI6yMzHMT9CcILgp2/MAsmzLWSDKleHMrKGv7rSRwb3MT/yktY6d3m/noixZKTiuh9PRScvbKYcWtK1CxDbe/tROqhppMnF+1hpXxLfuiRt7EdAZey6ct3O9McdJ2Rk7ezsiTP3Y/8LhbmR63Rdtkf6T1Pdni4bTcXM7Pz+cvdbXUvVTH4AsGk7tPLi2ft3T4Ojl75+DaxUXti7VEq6PsabOxj8PBvxvqt+ggYEdiSvFgcxN/G1TCvnY7nwc73v8YNY27S8soNhg4c81qfonEOe7lJF+dY+fF460c8myIZDd32Wv7I326sp+kI7V5ocXLfeXl7O9w8FEGTfV9s3yU/76cYTcOS+9sekGsKYb/e3+6t2is7z87z8vL48rCIr4IBLiippqw6vs1dcS5sxPXOBc1T9egEt1f77M/pSfYnrGjkRu7MTTEMcZBdGWYxw4xs7Apyd/aKfmPKsW/Gxu4p6yck3Nyec7b8T5ySyQZSUKIDdS/Xk/dy3XE6rbsA3chtkQ3zIjyc32Sx462kG/d/JXrv+5nJpqAf37Rv97rkdURQktC6fK2LFx8f/yHOMtbFYx24v++78raPl/Vf8fP97QPWltZGIlwSUEByZooK29fSfXj1diG2XDtvPGUvqsLsz+hqr/SDBq5++bS+kMrcU+cz1clmdeQ5KIslbcdNFxPSik+3kxGEqRH1r/k9XKky0WF0YjvGx/BxUGKpxR3mB1oLDBScloJwYVBmj9oRgdcXVTE6liM57fAkeOd9YbPx+pYjMsLCjPapf21eBDjbTb+UlfLT209br6vTXHh2xEOGGbgXwd2bbDC+vpTf6T1fRYMUBOPc0qGTbf9s/34vvORCqVIRXvn5tjWQcXFFYy5dwwVl1bg3sONztr7p9QacE1hEVcWFjHN7+Pi6qqBEUQa56Tiogpy982laHJ2+gzVBhQfLU9y+g7GLh826Cw6rMOsTIhEqHBrnDs1QnQzb4+PAwG+DAa4tKCAvAz7em1pJCNJCLEB/3d9MxZbCNF90ST87o0ws86z89CRFqa8summ0tsW6jhlewP//irWL4MbzTOaGXzBYOxj7QR/6V4GUSwJ11cZiO6go2J1gJosrTFTYwp0jC3Uc9+srWdi1W8p4O6mJu4vL+dYt5tXfT5avmih6Jgi3BPc+Gb+OonqpJwczshLT6h6JYsTqvor164uDC4DzR//mn13/6wY9x9hZXypjtk13cvmOXiYgVnVKVoy6Ln7uKeZU3JyOC8vnxvq66h9tpbhfx1O8eRiap+r3fSDNCj/fTkAVY9WgYLJbjejzBauqK4mPgBObHtaArivuYl/l5RyiNO52VHs5+blMdnt5t6mRt77zf2emhtntzI9V+9pZnZNkpd/6XqG4/79rD/SWingZa+XKwoLGWoyddjnJxVJseb+Nb2zuLV0YN/Gjmu8C9cu6VsqkS6z88/x4//eTzLQs79YA/CPQSUc7XbztMfDvxsb+uIaSac5tnUw+OLBhFeFidZFKTisgNa5rYQWd/+CwVNzYzx/vI19h+j5bFXnf/+2bWxoeo2LcuPc+3mMr9d0/Bz/amjgzcqhXFFQyI1b8DCI9khGkhBCCLEF+ak+xQ2fRDl+rJHT22k+efP+ZlqjcPtX/aM30m/5Z/lJ+BPkT8rPyvN9lWPDmUjyt/LeLy2bMtZASileX7D1lbWt79NggLnhMH/IL8CkaaDSU5cc2znQ29NXc/ew2biuqJhPA4GsT6jqr/In5ROtjRJc8GvA9Nmf4rRGFRfv2r2sJLcZdi/X82EH2UhrNSWTvOLzcrTbTanBSGR1BM8nHvIOyMNcvuksmPxD8rGPtlP7XC3xpjg2TeOygkLmhEJMD7QfMNnavOP3szQa5ZL8gnZ7qhzocPB/hUW84/dzf/Omy3qveD/CV6sTPH60lW0Lu3Yal2fV2HGQnk/6UX+k9b3q8xJXipMzbLrd61IQXBik9tlaFv1xEctuXobnQw/mUjNl55Qx+q7RVF5TSd6kPAzu7OdsWDSNe8rKOdrt5n+Njdw6QIJItlE2Ki6rIFoTZeWdK6l9Or3PKD+vHJ2l+yGJNxcm8EcVZ+zYtabb7m0dGFKK3PoIf/k4s2OjFbEYT7d4mJKTw/aWrW96oASShBBCiC3MHV/H+GJVgnsOszDYtWGi9/hSHZPHGLnjm2hGWQp9QSUULZ+34NzJiTGve5NYNL2GfZwLx7IABw81sOfg3k1BnzLWyJerk9QFBsKhfs+6q6mREqORE905AHhnetEZdLh2cTHUZOK/pWUsi0W5qqaGraGrjqXCgm2kDc8nng1KLltj8MxPcU7ezkheByWqm7P/UAMGXcf9kdb3mMeDUorz8tN9mxpebyAZTFL6u9KN7msuN1N8fDH+OX68X3oBOCcvn0KDgdu3kkBgplLA3U2NDDObOcq1cXPoMWYzt5aUMjcc5vq6drK/SPd9O+GVMP6o4o2TrLi7UOW275D0PrC/9Uday5NM8kGrn2NdbqxadpqL9xgF4WVh6l6qY/HVi1l601Ia323EmGuk9IxSRv13FEP/MpT8g/Mx5nd/qphbp+PRwYPZ227nxrpaHvZ0r49gb7EOtzLkiiHEmmKsvGPlulLEqoerMOYbKTm1pNuvEU7AK/PjnDDWiK0Lv+ph4x3sFI1y6bQQwU60p3ugqZmGRJzrioqzUY0/oEggSQghhNjCpBSc+WYYnQZPHmvd4ODmlkkWGoMp/jezf/VG+i3PJx4Acidm1iujPfaxdvQ2PT9M99IQTHHDvt3vL5KpbfJ17FCs59X5/fPKf2+bGQoxMxjk/Px8rJpGZFWEaF2UwTu5eaBtQtXFVVWE1NYQRoK8A/JIRVO0fLlxo9b7Z8WwGDTOHtf1k8+DhhlojSpmVmUeMKhPJHjd7+M4dw6DDAaSwST1r9ZjH23HvfuvARDNoFF+fjmpUIrqJ6sBKDYYODsvj3f8/nW9fcSvPgoEmBcJc1F+Puv/VYsMBu4vK8ebTHJpdRXRDsoBawOKKa+EqczR8dxx1k6fvK7rj1TdPwNJAC94vTj1eo5wbdxDrT+LrIrQ8FoDS/68hCV/WULDmw3oLDpKTi1h1J2jGHbjMAqOKMBU3PlswyKDgacrhrCd2cKVNdW8OkBKfy0VFir/WEnCn2DlbStJtv663YWWhmh6p4ncfXNx7uTs9ms99WMcp1lj8ujO7TfHDTXgzTNjWBHko+Wde1+EVIo7GhrZwWplsnvrmiAogSQhhBBiC7TCq7jigwiThhq4fEL6oHXfIXoOHm7gX1/GCPTvOBLx5jitc1vJ2y8PTd/163yu8S6S4STNPwW485sYh44wsGtp7xz+HD8mXdbw+oLuT9/aUtzV1EiBwcDvctMBwtA3Pm6cZ6HYaOCS6ipqtpKx1TqbjpwJOXhnekmFNg6c/dKY4rOVCf4w3tTlq9wHDzfwycoE8U7G5R5tK6s6Ny9dWtryeQvhlWEGnTwInTn93imaXIS1wkr1E9XrTgwvKyhEB/y3Uaa+tueuxibKTSaObyvbsmoa95WV49DruKi6iqZkZiexX69Jcvn7EY7YxshNEzsXHJ84xMBXq5Od3i560w/hMAsjEU7NsOl2fxStidI4tZFlNy5j8TWLqXs53UNn0AmD2Obf2zDi5hEUHlOIuazjv98Qo5HnKoZQYjBwflVVRhPt+gNzqZnKqypJhpOsvG0lCd/G+/eGNxsIrwpTdnYZemf3Moa/XJ1kRUuqU+VtBh1cfHIuStN48+2uBefebvUzJxTiyoJCXLqtJ7yy9fykQgghxFbm8R/iTF2UHos7tlDHLZPMVPtTPDC7n0eR2nhmeDC4DbjGd/GqtA5cO7nSY5rjivtnxWgO9V5W0pSxRr5ek6C6Vcra1pobifBJIMA5efk4dTou+dnI2Cr4V37rVpXFkrtXLjqzDs/Hnnbvc//sGMPzdBwyovN9VoblaozI02XcH2l9NYkEb/p8THG7KdQbQEHNMzUYc40UHlWIbaSNgsMK8HzmofXHdB+kMWYzx7hcPNPSQk1CAqft+SoUZHYoxIVtWXn/KilljNnMVTU1LI52rmfdA7PjPPFDjJv2M3PUNpltI2v7I326qv8HbF/wtjDaYmGcxdrXS+m2WEOMpnebWP735Sz64yJqn68lGUpSdEwRI28Zych/jaT4+GIsQzbus7Ot2cJzFUOwaBpnrlnNd+GBMcnSVGyi8ppKVFKx8raVxJs3vV9QSUXVw1XorDrKzi7r1msq4Omf4hw4TE+ZM7MQ/LV7mWgYZEOLpWha1PWhGLc01JOj13NJQUGXn2OgkUCSEEIIsQU7b1oEf1Tx4ek29q4wcPPnUSL9/xwCgMC8ANH6KHmT8rr0ePs2dgwuA/7Z6WmUgRj8Z2aMo0YZ2WlQzx4CDcvV2LlEyto25Z6mRtx6PU8NruAYo5Pnt08ye9LAP1nMmAZ5k/IILQkRWd1+8OyNBQlqW1NcNL7z5W0HDUsHFqYv61r50iOeZvSaxjl56fdeeFmYli9byD80n8EXDibeFKfuhV+nFF1dWIQ3mRwwPVv60l1NjRQZ0hkmBzud3NbYwGfBrk2n/MM7EWbXJHlmspVt8jvep+3Xz/sjre8dv5/WZJJTcnP6eilZFffEaZ7ezIp/rWDRlYuoeaqGuCdOweEFjPjbCLa5fRsGnTwI6wgrE2w2nqwYTCiV4nerV7Ggk8HGvmLMN1J5TSWaTmPl7SuJNWz+4lW0Okr9a/W4dnaRs09Ot1776bkxdJrGae0MG1nfmAIdN+xr5kOdGf/CICrZ9Ys+C6NRXvR6OSUnl23MvVdC35ckkCSEEEJswRqCivOnRSh16ljekuLxHwZQtoBK90qyj7K3OzVqc1zjXaSiKVp/+nV61L3fxWgJqx7PSpoyNn0Q+5qUtW1kYTTKe34/oy0W3vX7eTDUgm2kDWNB95vRDgT2MXbMJWaaZ2w+6BJPwSPfxzliGwOVOZ0rcDtomIFV3hSLm7tWv1QVjzPN7+eknBwK9OngQ/0r9aiYwpBroOqRKlKR9HNPtDuYYLdzX3MTgVQ/rpfqJ+aEw3wRDDDaYuFlr5enWzbukZWpaBKOeylELJluvu3ooPXOxEo9wVj/7o+0Vkgp3vT7OMThJE/fu0MSekvCl8DziYeVt69k4WULqXqsikh1hLwD8jj+lKE8NGQwtfoUp61ezar4wPgsMeQYGHrtUPQWPSvvWEm0JrPgV/MHzQQWBCg5taRbnwXLWxRfrk5wZgflbToNHj/GwqqUjianaYPJmV11b1Mj/mSS64qKu/1cA4EEkoQQQogt3FuLEpw7NcxJr4b6dV+MTfF+4SUVS3U+K0kD1y4uWn9uRcV+vcroj8Jd38aYPMbI9kU9dxg0ZYyR76qTrPZJWdum3NrQwP8aG7murhbfd+m+FOs3c96S5U3KI+FPrMuU25yH58RIKbhgl8yb8+o1OGCYgeldKGvb4LWbmzBqGme1ZSUlfAlW37uaNQ+uIbQkXV5jAK4qLGR5NMorXm+3Xm9r8re6eu5sbOAf9XUd37kDa/yKk14NMypfxxPHbD6zb2Klga/W9O/+SOt70evFpNNx/FbQxDgZTOL9wsvq/63GcNUKrnw5wWo33HK5BcPJhWjG/j8TTO/UU3lNJXqnnpV3rtxsxuVGFFQ/Wg0Kys8rpzsj0J6aG2dsoZ7xm+mHeNnuJiaUG7hiafo+gfnd7zvlS6W4vbGRmaEgW2boc0MSSBJCCCG2Ao//EGd2zQA5e1hPMpjEN9NHzp456CyZH7bYhtsw5ho3ebJ+17dR/FHF9T2UlTTErbFrmZ5X5w+MK8h9oTGZ4GFPM1GliDfFCS0NbRWBJGOeEdfOLlo+b0HFOw4yVrcq3lqY4NydjJgzPDPZtUxPjkXjw2XdCyStisd5t9XPyTm55LZlhATnB/F/9+t76oScHIaZzdzR2IgUcWauJhHnMY8na7+zT1YmufajKFPGGrlmr00HHY062KFYz6crB85fakUsxsxgkJNycreak9YKo5H7CspoiiU458dlrPqimfyD8hl+43DMpf23ZEpv11N5dSWmfBOr/ruK8PLO9xuKN8epfa4W+yg7BYd2vdfQK7/EiSQUZ+y46ffCsFyNWyaZeXtxnLkOK8lgsnNBr8140+/jgeZm+n/OX/dtLe9JIYQQQgxQzTOa0Vv05OyVk/FjXONdpOKpdc2A1+eNwN3fxpgy1sDYwuwfCh3fVtYmgaTMeWd6sVZYMZf03xOlbMidmJ5C5fm0/Sbbv3X/7BiFdh0nbJtZucfBw/WklOLjFd0/lXmouTnd5Dd34+lZDp2Oi/ML+DYU5NPgwJgitSW785sYL86L889JZg4ctnHU0d321hoI/ZHW97y3hVKjkf3sjr5eSo/L1+t5uHwwGnB+1RoaIwnqnq9j5X9WYnAbGP7X4V3uGdiTdBYdQ/5vCOYSM6vuXkVocdcbgnu/8uKb7aPouKIulbQD+KLw5sIEp2xnwLiJj/hHjrIST8KFb0dwjHEQXBhMd+oWnSKBJCGEEEL0a5GVEULLQ506gHaNdxH4JbCuj8tv/XdmjFAcrtsn+4GLKWMMzKlJssIrR6aZ8s/yo1Jqi85K0vQaufvl0vpTK/GmzIOMM1YkWdiUzLjp9kHDDMyuSeEJd3/7Wx6L8UFrK6fl5uL+zVjr8/PyydHrua2hoduvI7Lj3Klh5jemePF460Z9tXIsGsGYYnbNwAokfRIIUB+Pc/IW1nT7t2yaxv1l5RQaDFxUXbVBT6TATwGW3rCU4MIgpWeUUnF5BXpH/yie0kwaQ64cgrXCypr71hD8pfu9hmqeqiEZSjL4gsFohq7VuD01N06BTccRv5loeN7ORiYNNXD1hxEazAZMRSYCCyQQ3hUSSBJCCCFEv+f52IOlzIJ9tL3D+1oqLZgKTJvtQeMJK+6bFePk7QwZTTvKVLlLY4/BBl6VJtudkvAlCC4M4p6w5QaSXONdGN1GPB9nno201v2z4uwx2NDhtEGXGSaU65nezbK29T3Y3Ixdp+f03F8DuaUGI6fn5jLV7x8wk6S2BqE4TH4phE7TeP1EG9b1zqFzLNqA6o+0VhJ42edlH7uDCuOW2ZDfAPy3tIwxFgt/rKnmp8jGZVYJX4JV/11F7fO1OLZzMOLmEdjHdvx52JM0o8aQy4ZgG2ljzUNrNpkB3BXJ1iTVj1djGWyhaHJRl57jw2XpqZdnrDe9rcypccfBFmasSPDI9/F1xxPZaLS9NZJAkhBCCCH6Pd93PhKBBHkHdJyV5B7vRiUVrT9s/qD2zq9jRBLwl70zb2TckePGtE1rmz9w+pD0F76ZPsyDzFiGWPp6KT0ib1IesYYYgXmdv/r99NwYwZjiD7tuflvdv9KAQadlNZC0JBZlemsrp+fm4mzLSrqisIAU6VH2on9Z1qI47fUwOw7S8dCR6feSUQcOkzag+iOt7xWvl7hSnJyzcYnlluBvg0rYx+Hgb/V1fBbcTFBDQfP0ZpbfvJxkOMnQa4ZSfGIxmr73G3Freo3BFw/GsZ2D6seq8c/qeHhAZwTmBvB86qHgsAJs29g6/fikgud+Tk+9zLemfz8PHmnBoIPzpqX7NznGOkj4E0SrJRjeFRJIEkIIIUS/p+KKli9acO3swpBj2Ox9XeNdBBcESQY3X8LRGFI8MDvGaTsYGZ6bnQPxKWMMzK1LssQzwC779wP+OX5SidQWmZVkLjdjH2WneUZzl3px+KLpk6LTtjeSs5k428HDDQRiiplV2S1ferC5Cadez2m5uWxvsXCky82THg/1iYEZmNjSvbc0wU2fRjl9RxOX7mbC3bbNDLT+SGs1JZN81NrKZLcbi9b/p5d1xmUFBUx2u7m3qZHXfL6MHhNZHWHZX5fh+cRD4eGFDLthGKbi7F0Q6ZAOyi8oxzXORfVT1Xi/8vbIy9S9UEe8KU75eeWdGrax1tNz45j0GidvZ+DU7Q0cuY2R62ZEWd6S3gnbx9ilrK0bJJAkhBBCiAGhZUYLaJC7X/tXpc3lZsyDzPhmZ3ZAfsfXMeJJ+HMWeiWVODT2qtBLWVsXJYNJAvMC5OyW063Rz/1R3qQ8UrEU3i+8XX6O+2fFsBk1zmxnEhHAQcP0fLIikfXypYXRKDMCrZyZm8d1RcU0JRI85ul8iZ7oPbd8HuOthXH+c4iZwS4dSQWzBlh/pPW94G3BrddzmNPV10vJmpNycrgwv4CXvV7ub27u1GNVTFHzVA2r7l6FscDIiL+PIGefnJ5Z6Po0KDu3DPdubmpfqKXlk5Yee6lUNEXVw1UY842UnFrS6cf/3JDih9okfxhv4q5DLXyzJsHd38YAMA0yYcw1EpwvZW1dJYEkIYQQQgwIscYYgZ8D5E3Mg3b6jLrHu1Ephf/7zNLs6wKKR76PccYORoa4uxe9OG6MAZ2m8aqUtXWZb6YPY74R28jOlzL0VzqLjpw9c/B96+swS25z5tan+Gp1got2NW4yzjY0R2Nkvp7py3tm+3uwuRm3Xs8OVit3NzUSUpJ1158p4Iw3wyzzpHCbNXwRRWIA/8lmh8MsiUY5OSenr5eSFQc4HNxQVMyMQCs319d1+Xlav29l6fVLCS0LUX5uOYMvHozO1nOn+KVnlJK7Vy71r9XT/EHngl9dEVoaoumdJnL3zcW5k7PTj39qbpxti/Q4TRrnTo2QassIdYxJTwGU/khdJ4EkIYQQQgwYnhkejLlGXDtt+qq0a7yL0OIQSX/mJ+y3fRUjpeBPe3cvK2nKWCO/NCRZ2DSAz9b6WOsPraSiqS1qelvOXjnoLXo8M7qfwXP/7Bjb5Os5YBPj3Q8ani75nL6sZ7JO5kUifNTayi+RCK9nWIIj+pY/CpNfChNPQXMWpvj1tRe8LWxvtbK9ZWD3UdvJauX2klJ+jkS4qqaG7r5jE94EK29fSd3Ldbh2cjHi5hFd6ivUkUGnDCJv/zwapzXSOK33+qM1vNlAeFWYsrPL0Ds7N63u+Z/j+KOKGz+NsmC9z2b7WDux5hixhli2l7vVkECSEEIIIQaM1p9aiTXFyJu0cdNt0yATlnJLxmVta1W3Kh77Ic45Oxkpd3UtK6nIrrHvED2vSDZSt6SiKVp/bMW9q3uLOUrNm5RHaHmI8Ipwt5/r1fkJGoIpLhq/cXnbwcMMrPalWNzcc4HMK2uqOXXVSiRUOnAsaErxzZok1a0DP5A0ze8nmEoO6Kbbw0wm7i8rpzYR5w/VVURUlv4uCprebWL5LctRccXQPw2l6LiidrN3O6vouCIKDimgaXoT9a/VZ+dJM6SSiqqHq9BZdZSdXdapxzaGFMV3tHLbV+sFjDSwj7ZLNlI3bSEf0UIIIYTYKqh0VpJjrANz6YYZRO7x6SwW/5zOT4+59cv01JZr9+paVtLk0WvL2qQ/Und5v/VicBnWlR4MZPbRdixllqxkIwHEkvDo93GOHmXYIOip12DSUENWp7VtShKQLXzg2VICf8FUird8fg53OnHrBt5pbKHewMPlg4krxflVVXiT2c8eDK8Is+yvy/B+5aXo6CKG/XkYxkJjt56z8MhCio4uwvOph7rnu16G1x3R6ij1r9bj2tnV6V5Qkd/sFs1lZgxOg/RH6qaB9w4UQgghxFat5YsWUvHURllJrvEuQktDJFo6fzK9xq94am6c3+9spMTR+aykKWONLGxK8kvjlnLK1ncCPwdIhpJbxPS2vEl5JAIJfN9mrxTsoTkxNA0u2OXXrKTxpXpyrVqPB5KE6Gsvelsw63Qc787p66V0ikOn46Hyctx6HRdUraE63nMh2VQkRfVj1ax5YA3mUjMj/j4C9x5d25/mH5xP8ZRivF97qXmqJssr7Zzm6c0EFgQoObUEY0HXg2OOsW39kRZKIKk7JJAkhBBCiAEl2ZrEP8tPzl456MzpQxljoRFrpbXTZW3r+9cXUQw6uHqvzo1RLrBpTKzUS5PtLFFxhX+OH9cuLjTjwB3fZsgx4NrZhfcLLyqevbKi1T7F24sTnLezEWPbkfzBw/WklOLjFQN3KpcQmVgaizErFOKknJwBM9zRqGncXVrGcLOZy6qrWRCN9srr+r71sfTGpUTWRBh8wWDKzy9HZ8n89D93v1xKTi3BN8tH1aNV6Q7ufUlB9aPVoKD8vPIuT/e0j7ETrYsS90h+ZXdIIEkIIYQQA07zx83orXrce6avsrp2STff9s/ufFnbWiu8imfmxrlwFxPF9syPUI8dbcCgk7K2bPJ960Nv0+PYfuCWt+Xul4tm0LJW1ra++2bFKHboOG5MusH2wcMNzK5J4dkCGioL0ZEXvC0MNpnY227v66V0SAP+OaiECXY719fV8k0o1KuvH2+Ks+LWFdS/UY97gpsRfx+Bdbi1w8fl7JlD6ZmltM5tperBqn5THxlvjlP7XC32UXYKDi3o/BPowD5K+iNlgwSShBBCCDHghJeFCa8Mkz8pH0j3RwqvDBNv6l4w559fxjDp4f/2zDwracoYI0s9KebW95Mj7S1AYH6AhD9Bzu45fb2UrtFD3sS8dHP4xuxPBfpwWZKlnhQX72rCZYYJ5Xo+XC4ZcWLr8HFrK42JBKcMgKbbVxcWcYTLxR2NDUzzd/1CR7ekoPGtRlb8cwXoYNhfhlF4VGG7GT2u8S7Kfl9GcGGQ1feuRiX7V4Da+5UX32wfRccVYS7vXF9D6xArepuewPxAD61u6yGBJCGEEEIMSJ4ZHiyDLbh3d2MbYetSk+3fWupJ8cK8OBeNN1Fg6zgrKc+qccAwvWQjZVsKfLN8OMc515UvDiSunVwYc409ko0E6QqTB2bH2GeIgct2N2HQSX8ksfWIA694vexrt1Nm7F4j6Z50Zm4uZ+Xl8WyLh8c9PbMv6IzQ0hBLb1yKb5aP4uOLGXrtUIx5G/7+HDs6GHzhYEJLQ6y+a3VWy3KzqebJGpKhJIMvGIxmyDyD2D42ncUm/ZG6b+B9MgshhBBCAN6ZXpKhJKVnlgJ0qz/S+m75IobVCFdO6Dgr6ehR6bK2VySQlHW+b33ozDqcOzn7eimdljcpj1hTjNa5rT32Gk/8ECMcV9y4r5lATPHNGumPJLYer/i8pIAT+2nT7cOcTq4tKuaDVj+3NjT09XLWSYVSVD1YRdXDVViGWBhx8whc49Ol4faxdiouqSC8Osyq/64iFe2/WbbJQJLqx6uxDLZQNLko48c5xjiIrImQbJX9ZXdJIEkIIYQQA5KKKVq+aEFv0xOpihCrzU4J0cKmFC//kuDS3UzkWjZ/3yljDKxoSfF9bf894B6oQktCxJvjA256m7nEjGOsA88nnh5tTtsSgRfmxTHqNT5ZkSAum6DYitQnEswIBJjidmPS+lfb7d1tNm4tKWVWKMS1tbX9pb3QBrxfe1l20zKi9VEqLqlg8EWDGXL5EGJ1MVbduYpUuD+uekOBuQE8n3ooOKwA2za2Du+vGTRsI20EFkhZWzZIIEkIIYQQA5ZnhgeVUvi+y954dYB/fB7Fada4YkL7/RfcZjhouIFXF0g2Uo9Q4PvOh2M7B3q7vq9Xk7H8Q/NJxVO0fN7S469136x08PS9pVLWJrY+z7e0kGsw8M7QYVyQl0+Bvu/3E6PMZu4uLWNlLMal1VXEVP8sDQOINcRYfstyGqc14hrvIu6Js+L2FSSDAydbp+6FOuJNccrP63ginXWYFZ1ZR3C+lLVlgwSShBBCCDFgxepjLL1xKU3vNWX1eX9pTPHa/DiX7W7C3U4s6ahRRkx6jVfny0l8T/HO9KIz6NZN5evvzKVmcvfJxTPD0yulE9/XptjpoQCPfC/BTLH1+S4c4tLqKtbEYlxeWMjHw0fwv9Iy9rTZujoZvltKDQYeKi8nmEpxQdUa/Kn+n9VDEupfq2fpDUtZ/o/lJP0DJ4gEkIqmqHq4CmO+kZJTSzZ7X8dYByqlCC6WQFI2SCBJCCGEEANatCraIw1Bb/48So5F49LdN90racoYA6t9Kb6rHlgH3gNJZFWEaF10wJS3FU8pJhVJ0Titsdde88e6FIkBcL4qRE/4OBDgnKo1HLZ8Gc+2eNjVauXRwRW8N3QYv8/LI7+XspTcOh0PlQ/Gouk4v2oNdYmBdYEhWh0dUJlI6wstDdH0ThO5++ZutqeefYyd8MowqZDsMLNBAklCCCGEEJswtz7FWwvjXDnBjPM3sSSnCQ4ZYeA1KWvrcb5vfdhH2zG4DX29lM2yjbDh2tlF07tNJAMD84RMiIFqVTzO7Y2N7L98GVfX1FCXSPDHwiJmDB/Bf0tL2aMHs5TMmsa9ZeUMNhq5pLqKpbHs9OsTmWt4s4HwqjBlZ5ehd24cPNRMGtbhVoILJBspWySQJIQQQgjRjps/j5Jn1bh4tw0jSUduY8BikLK23uCb6UPTabh27d/lbYNOGkS8JU7T9OyWWQohMhdTinda/Zy1ZjVHrFjOcy0t7G6z89jgCt4dOoxz8vLIy2KWkg64vaSUnaxWrq2tZXY4nLXnFplTSUXVw1XorDrKzi7b6Pv2kXZ0Bp0EkrJIAklCCCGEEO2YU5vi3SVx/jjBhN3469enjDVS7U/JyPVeEK2NEl4dJmdCTl8vpV3OnZ3YRtpoeLMBFeu/zXWF2JqsiMW4rbGBicuWcm1tDY2JBFcVFvHJ8BHcUVLKbtaOJ3115C9FxRzodHJrQwMfBFqzsGrRVdHqKPWv1uPa2UXOPjkbfM8+1o5KSH+kbJJAkhBCCCHEZtz8eYxCu44Lx6ezkuxGOKytrE1CBr3D960P2wgbxgJjx3fubbp0b6RITYSWL3p+UpsQonNiSjHN7+eMNas5asVyXmhpYS+7nScrKnhn6FDOys0jpwtZSufn5XNqbi6PNjfzrFfe+/1B8/RmAgsClJxassHnhX2MndCykAT6s0gCSUIIIYQQmzGzKsn0ZQmu3tOE1QCHjzRgNUpZW2/yfesDwL17/2u6nbtPLpZSC/Wv1IP0cBWiX1sWi3FrW5bSn2praEkmuaaoiE+HDee2khLGW60ZPc+xLjdXFBYyze/jv02911xfdEBB9aPVoKD8vHLQQGfTYa2U/kjZJoEkIYQQQogO/P2zKMUOHefvYmLKWCN1gRRfSVlbr4k3xQktDfW7QJJm0ig6tojgkiCtP0hZixADRVQppvr9/G71ao5esZxXfD72tTt4umII0yqHckZuLm7dpk+V97bZ+fugQXwdDHJ9ba1kpvYz8eY4tc/VYh9lp+DQAuzb2NF0GoEFgb5e2hZFAklCCCGEEB34ak2ST1YkuGYvE0eMNPD6ggQpOXvoVd6ZXqwVVswl5r5eyjoFhxRgzDVS91JdXy9FCNFFS2MxbmmoZ+KypfyltpbWVIo/FRXz6fAR3DqohJ3Xy1La1mzhf2VlLIlGubymGpnb2T95v/Lim+2j6Lgi8g7IIxVLEV4mjdCzSQJJQgghhBAZ+PvnUUqdOuwmjVfny+lDb/PP8qNSCveE/pGVpHfqKTi8AP8cP+GlcoIixEAXUYo3/T5OXb2KyStX8JrPx/4OB89WDGFq5VDOzcvjgfJyPIkEF1StIZiSWtb+rObJGpKhJM7tnYQWh1AJufqTTRJIEkIIIYTIwKcrk3yxKkF9IMXnq6SsrbclfAmCC4P9pryt8KhCdGYd9a/W9/VShBBZtiga5R9tWUrX19USSqX4v8Ii9MD5VVU0JeUzoL9LBpJUP14NQOAXKWvLNkNfL0AIIYQQYqA4/uUwORaNpFzY7BO+mT7KzinDMsRCZFWkz9ZhLDSSNymPls9biNZG+2wdQoieFVaK130+Xvf52MZsJpRKURWXjNSBIjA3wLK/LSNS1XefF1sqyUgSQgghhMhQY0ixxCPlDH3FP8dPKpEiZ0JOn66j+LhiSELDmw19ug4hRO9ZHI1KEGkACq8Io+Jy9SfbJJAkhBBCCCEGhGQwSWBeAPdubtD6Zg2WIRZy9sihaXoTCW+ibxYhhBBC9CEJJAkhhBBCiAHDN9OHMd+IbaStT15/0AmDSLQmaHq3qU9eXwghhOhrEkgSQgghhBADRusPraSiqT5puu3Y1oFjOweNUxtJhaXEUQghxNZJAklCCCGEEGLASEVTtP7YintXd+8eyWpQfGIxscYYnk88vfjCQgghRP8igSQhhBBCCDGgeL/1YnAZcIx19Npruie4sQ6xUv9aPSohjVuFEEJsvSSQJIQQQgghBpTAzwGSoWSvlbdpBo3i44oJrwzj+9bXK68phBBC9FcSSBJCCCGEEAOKiiv8c/y4dnGhGXt+fFvepDxMhSbqXqkDSUYSQgixlZNAkhBCCCGEGHB8M33obXoc2/dseZvOqqPwqEIC8wIEfwn26GsJIYQQA4EEkoQQQgghxIATWBAg4U+Qs3tOj75O4eGFGJyGdDaSEEIIISSQJIQQQgghBqAU+Gb5cI5zojP3zCGtIcdA/sH5eL/xElkV6ZHXEEIIIQYaCSQJIYQQQogByTfTh86sw7mTs0eev2hyEeih/rX6Hnl+IYQQYiCSQJIQQgghhBiQQktDxJvjuCdkf3qbudRM7j65eGZ4iDfFs/78QgghxEAlgSQhhBBCCDEwKfB+58WxnQO9XZ/Vpy6eUkwqkqJxamNWn1cIIYQY6CSQJIQQQgghBizfTB86gw7XLq6sPadthA3Xzi6a3m0iGUhm7XmFEEKILYEEkoQQQgghxIAVWRUhWhfNannboJMGEW+J0zS9KWvPKYQQQmwpJJAkhBBCCCEGNN9MH/bRdgxuQ7efy7mzE9tIGw1vNqBiKgurE0IIIbYsEkgSQgghhBADmu9bH5pOw7VrN8vbdOneSJGaCC1ftGRncUIIIcQWRgJJQgghhBBiQIvWRgmvDpMzIadbz5O7Ty6WUgv1r9ZDKjtrE0IIIbY0EkgSQgghhBADnm+mD9sIG8YCY5cer5k0io4tIrgkSOv3rVlenRBCCLHl6DeBJE3Thmma9pimaa/29VqEEEIIIcTA4vvOB4B796413S44pABjrpH6l+qzuSwhhBBii9OjgSRN0x7XNK1B07R5v/n6oZqmLdI0bammaX8CUEotV0qd25PrEUIIIYQQW6Z4U5zQklCXAkl6p56Cwwvwf+8ntDTUA6sTQgghthw9nZH0JHDo+l/QNE0P3AccBowFTtE0bWwPr0MIIYQQQmzhvN96sVZYMZeaO/W4wqMK0Zl11L8i2UhCCCFER3o0kKSU+hzw/ObLuwFL2zKQYsCLwDE9uQ4hhBBCCLHl88/yo1KqU1lJxkIjeZPyaPm8hWhttAdXJ4QQQmwZ+qJHUhmwZr1/VwFlmqbla5r2ILCTpml/bu/Bmqadr2nabE3TZvf0QoUQQgghxMCR8CUILgh2KpBUfFwxJKHhzYYeXJkQQgix5eg3zbaVUs1KqQuVUsOVUv/azP0eVkqNV0qN7831CSGEEEKI/s/3rQ/zIDOWIZYO72sZYiFnjxyapjeR8CZ6YXVCCCHEwNcXgaRqYPB6/y5v+5oQQgghhBDd4pvtI5VIkTMhp8P7DjphEInWBE3vNvX8woQQQogtRF8EkmYBIzVNG6ppmgk4GZjaB+sQQgghhBBbmFQoReDnAO7d3KC1fz/Htg4c2zlonNZIKpzqvQUKIYQQA1yPBpI0TXsB+AYYpWlalaZp5yqlEsAlwAfAAuBlpdQvPbkOIYQQQgix9fB968OYb8Q20rbpO2hQfGIxscYYnhm/nQsjhBBCiM0x9OSTK6VOaefr7wLv9uRrCyGEEEKIrVPrD62koincu7sJLQ5t9H33BDfWIVbWPLQGlVB9sEIhhBBi4Oo3zbaFEEIIIYTIhlQ0ReuPrbh3dW90tKsZNIqPKya8Moxvpq9vFiiEEEIMYBJIEkIIIYQQWxzvt14MLgOOsY4Nvp43KQ9ToYm6V+pAkpGEEEKITpNAkhBCCCGE2OIEfgqQDCVxT3Cv+5rOqqPwqEIC8wIEfwn24eqEEEKIgUsCSUIIIYQQYoujEgr/HD+unV1oxvT4tsLDCzE4DelsJCGEEEJ0iQSShBBCCCHEFsk304fepsexvQNDjoH8g/PxfuMlsirS10sTQgghBqwendomhBBCCCFEXwksCJDwJ8jZPQfnjk7QQ/1r9X29LCGEEGJAk0CSEEIIIYTYMqXAN8tH7r65aHqN5o+aiTfF+3pVQgghxIAmpW1CCCGEEGKL5ZvpQ2fUkYqmaJza2NfLEUIIIQa8AZmRpGnaUcBRfb0OIYQQQgjRv4WWhgjMD+Cf7ScZSPb1coQQQogBT1NK9fUaukzTtIG7eCGEEEIIIYToYZ+0/Xf/Pl2FEGIAmqOUGr+pb0hpmxBCCCGEEEIIIYTIiASShBBCCCGEEEIIIURGJJAkhBBCCCGEEEIIITIigSQhhBBCCCGEEEIIkREJJAkhhBBCCCGEEEKIjEggSQghhBBCCCGEEEJkRAJJQgghhBBCCCGEECIjEkgSQgghhBBCCCGEEBmRQJIQQgghhBBCCCGEyIgEkoQQQgghhBBCCCFERiSQJIQQQgghhBBCCCEyIoEkIYQQQgghhBBCCJERCSQJIYQQQgghhBBCiIxIIEkIIYQQQgghhBBCZMTQ1wvoCk3TjgKO6ut1CCGEEEIIIYQQQmxNBmRGklJqmlLq/L5ehxBCCCGEEEIIIcTWZEAGkoQQQgghhBBCCCFE75NAkhBCCCGEEEIIIYTIiASShBBCCCGEEEIIIURGJJAkhBBCCCGEEEIIITIigSQhhBBCCCGEEEIIkREJJAkhhBBCCCGEEEKIjEggSQghhBBCCCGEEEJkRFNK9fUaukzTtEZgVV+vI0sKgKa+XoTo12QbER2RbUR0RLYR0RHZRkRHZBsRHZFtRHREtpGBYYhSqnBT3xjQgaQtiaZps5VS4/t6HaL/km1EdES2EdER2UZER2QbER2RbUR0RLYR0RHZRgY+KW0TQgghhBBCCCGEEBmRQJIQQgghhBBCCCGEyIgEkvqPh/t6AaLfk21EdES2EdER2UZER2QbER2RbUR0RLYR0RHZRgY46ZEkhBBCCCGEEEIIITIiGUlCCCGEEEIIIYQQIiMSSBJCCCGEEEIIIYQQGZFAUh/SNO1mTdN+0jTtR03TpmuaVtr2dU3TtLs1TVva9v2d+3qtom9omna7pmkL27aDNzRNy2n7eqWmaeG2bedHTdMe7OOlij7S3jbS9r0/t+1HFmmadkgfLlP0IU3TTtA07RdN01Kapo1f7+uyHxHrtLedtH1P9iViA5qm/VXTtOr19h+H9/WaRP+gadqhbfuKpZqm/amv1yP6H03TVmqa9nPbvmN2X69HdI0EkvrW7UqpHZRS44C3gRvbvn4YMLLtdj7wQN8sT/QDHwLbKaV2ABYDf17ve8uUUuPabhf2zfJEP7DJbUTTtLHAycC2wKHA/Zqm6ftslaIvzQOOAz7fxPdkPyLW2uR2IvsSsRn/XW//8W5fL0b0vbZ9w32kz2XGAqe07UOE+K392/Yd4zu+q+iPJJDUh5RS/vX+aQfWdj4/Bnhapc0EcjRNK+n1BYo+p5SarpRKtP1zJlDel+sR/c9mtpFjgBeVUlGl1ApgKbBbX6xR9C2l1AKl1KK+Xofo3zaznci+RAiRqd2ApUqp5UqpGPAi6X2IEGILI4GkPqZp2i2apq0BTuPXjKQyYM16d6tq+5rYup0DvLfev4dqmvaDpmmfaZq2T18tSvQr628jsh8RmZD9iOiI7EtEey5pK6t+XNO03L5ejOgXZH8hMqGA6ZqmzdE07fy+XozoGkNfL2BLp2naR8CgTXzrOqXUW0qp64DrNE37M3AJcFOvLlD0uY62kbb7XAckgOfavlcLVCilmjVN2wV4U9O0bX+T5Sa2EF3cRsRWJJNtZBNkP7KV6eJ2IrZSm9teSLdduJn0CeHNwJ2kL2YIIURH9lZKVWuaVgR8qGnaQqXUpsrvRT8mgaQeppQ6MMO7Pge8SzqQVA0MXu975W1fE1ugjrYRTdPOAo4EDlBKqbbHRIFo2//P0TRtGbANIA3rtkBd2UaQ/chWpROfNes/RvYjW5mubCfIvmSrlen2omnaI6R7fQoh+wvRIaVUddt/GzRNe4N0SaQEkgYYKW3rQ5qmjVzvn8cAC9v+fypwRtv0tgmATylV2+sLFH1O07RDgWuAo5VSofW+Xri22ammacNIN2Zf3jerFH2pvW2E9H7kZE3TzJqmDSW9jXzXF2sU/ZPsR0SGZF8iNvKb3p2TSTdrF2IWMFLTtKGapplIN+qf2sdrEv2Ipml2TdOca/8fOBjZfwxIkpHUt27VNG0UkAJWAWsn5rwLHE66oWUIOLtvlif6gXsBM+m0T4CZbZOV9gX+rmlanPT2c6FSytN3yxR9aJPbiFLqF03TXgbmky55u1gplezDdYo+omnaZOAeoBB4R9O0H5VShyD7EbGe9rYT2ZeIdtymado40qVtK4EL+nQ1ol9QSiU0TbsE+ADQA48rpX7p42WJ/qUYeKPtmNUAPK+Uer9vlyS6Qvu1CkIIIYQQQgghhBBCiPZJaZsQQgghhBBCCCGEyIgEkoQQQgghhBBCCCFERiSQJIQQQgghhBBCCCEyIoEkIYQQQgghhBBCCJERCSQJIYQQQgghhBBCiIxIIEkIIYQQQgghhBBCZEQCSUIIIYTo1zRN+6umaVf18muWapr2ai+8zjhN0w7vr8/X168jhBBCiP5HAklCCCGEEL+hlKpRSk3phZcaB2wyIKNpmiGbz5dlvfU6QgghhOhnNKVUX69BCCGEEGIDmqZdB5wJNABrgDmADzgfMAFLgdMBPfATsI1SKq5pmguYC2wD/AG4EEgA85VSJ7fzWvsBd7X9UwH7AvnA20qp7TRNOws4GrABw4E3lFLXtD32UOCfbetoUkodoGmaHbgH2A4wAn9VSr21iddd+3NYgWrgX8CYttcYBqwGLgMeBCraHnaFUuorTdN2a1uzBQgDZwMr2nm+oW3PVwFcCUwADmu7z1Ftv7ddgP8ADqAJOEspVatp2qfAt8D+QA5wbtu/N3gdpdRLm/rdCiGEEGLLIxlJQgghhOhX2oIaJ/Nr1suubd96XSm1q1JqR2ABcK5SqhX4FDii7T4nt90vDvwJ2EkptQPpgFJ7rgIuVkqNA/YhHZj5rXHAScD2wEmapg3WNK0QeAQ4vm1NJ7Td9zpghlJqN9IBmNvbgksbUErFgBuBl5RS49YLxowFDlRKnUI6WPRfpdSuwPHAo233WQjso5Taqe05/rmZ5xsOTCIdDHsW+EQptX3bz3mEpmlG0oGvKUqpXYDHgVvWW6qh7We5ArhpM68jhBBCiK1AV1KmhRBCCCF60j6ks35CAJqmTW37+naapv2DdGaMA/ig7euPAtcAb5LOzDmv7es/Ac9pmvZm2/fa8xXwH03TniMdhKrSNO239/lYKeVrW898YAiQC3yulFoBoJTytN33YODo9fo6WUhnAy3I7MdnqlJqbTDrQGDseutxaZrmANzAU5qmjSSdRWXczPO915Z19DPpzKn3277+M1AJjCKdPfVh2+vogdr1Hv9623/ntN1fCCGEEFsxCSQJIYQQYqB4EjhWKTW3rdxsIkBbqVelpmkTAb1Sal7b/Y8gXaZ2FHCdpmnbK6USv31SpdStmqa9Qzr76StN0w4BIr+5W3S9/0+y+WMojXSW0qLO/XjrBNf7fx0wQSm1wXo0TbuXdGbRZE3TKklnZbUnCqCUSmmaFle/9jVIkf45NOAXpdQem3s8Hf/cQgghhNgKSGmbEEIIIfqbz4FjNU2zaprmJB0IAnACtW2lWKf95jFPA88DTwBomqYDBiulPgGuJZ3B49jUi2maNlwp9bNS6t/ALGB0huucCeyradrQtufJa/v6B8Cl/9/e3atWFQRxAP8PYm3lU9go2OgLCDYSCFgJWosfL2BlIbHUV4iITdqAjVVaEy9aWPkANoKdKdZiV4jhXu+JaGKuv191Pjg7s+2wM6fG8Z6quvSLNb6OfS3yOsm9A7leHJfn0ucTJcntI6w3z8ck56vqyohxtqouLPnmd+IAACtAIQkA+Ke01t4meZU+NHs7vbiTJI/SBz3vpM8IOuhFeqvZy3F/JsnmaOfaTfKstfZlQciHVfW+qmZJ9kfMKXl+Th/+vVVV70bOSfI4vdVsVlUfxv0ib9Jb1/aq6uac9/eTXK6q2Wip+zHr6WmSJ1W1m59PCS1bb94+viVZT7Ix9rGX5OqSz44cBwBYDf7aBgCcelW1nuRGa+3WSecCALDK9LkDAKdaVT1P/5399ZPOBQBg1TmRBAD8F6rqTpIHhx7vtNbuHkPsa0k2Dj3+1Fpb+9uxAQD+JIUkAAAAACYxbBsAAACASRSSAAAAAJhEIQkAAACASRSSAAAAAJjkO3xXgwUr8Vd7AAAAAElFTkSuQmCC",
       "datasetInfos": [],
       "metadata": {
        "imageDimensions": {
         "height": 589,
         "width": 1170
        }
       },
       "removedWidgets": [],
       "type": "image"
      },
      "image/png": {
       "height": 589,
       "width": 1170
      }
     },
     "output_type": "display_data"
    },
    {
     "output_type": "display_data",
     "data": {
      "text/html": [
       "<style scoped>\n",
       "  .ansiout {\n",
       "    display: block;\n",
       "    unicode-bidi: embed;\n",
       "    white-space: pre-wrap;\n",
       "    word-wrap: break-word;\n",
       "    word-break: break-all;\n",
       "    font-family: \"Menlo\", \"Monaco\", \"Consolas\", \"Ubuntu Mono\", \"Source Code Pro\", monospace;\n",
       "    font-size: 13px;\n",
       "    color: #555;\n",
       "    margin-left: 4px;\n",
       "    line-height: 19px;\n",
       "  }\n",
       "</style>\n",
       "<div class=\"ansiout\">&lt;matplotlib.lines.Line2D at 0x7f26c80bc880&gt;</div>"
      ]
     },
     "metadata": {
      "application/vnd.databricks.v1+output": {
       "addedWidgets": {},
       "arguments": {},
       "data": "<div class=\"ansiout\">&lt;matplotlib.lines.Line2D at 0x7f26c80bc880&gt;</div>",
       "datasetInfos": [],
       "metadata": {},
       "removedWidgets": [],
       "type": "html"
      }
     },
     "output_type": "display_data"
    }
   ],
   "source": [
    "fig = final.loc[-1*pre_period_val:post_period_val].plot(figsize=(20,10), title='', ylabel = target_kpi_val.replace(\"_\", \" \"), logy=True);\n",
    "fig.patch.set_facecolor('black')\n",
    "plt.rcParams['text.color'] = 'white'\n",
    "plt.legend(facecolor=\"black\")\n",
    "plt.axvline(x=-1, color='red')"
   ]
  },
  {
   "cell_type": "code",
   "execution_count": 0,
   "metadata": {
    "application/vnd.databricks.v1+cell": {
     "cellMetadata": {
      "byteLimit": 2048000,
      "rowLimit": 10000
     },
     "inputWidgets": {},
     "nuid": "42190e18-0084-43d8-a900-904782db53a2",
     "showTitle": true,
     "title": "Run Causal Impact"
    },
    "jupyter": {
     "outputs_hidden": true,
     "source_hidden": true
    }
   },
   "outputs": [
    {
     "output_type": "display_data",
     "data": {
      "text/html": [
       "<style scoped>\n",
       "  .ansiout {\n",
       "    display: block;\n",
       "    unicode-bidi: embed;\n",
       "    white-space: pre-wrap;\n",
       "    word-wrap: break-word;\n",
       "    word-break: break-all;\n",
       "    font-family: \"Menlo\", \"Monaco\", \"Consolas\", \"Ubuntu Mono\", \"Source Code Pro\", monospace;\n",
       "    font-size: 13px;\n",
       "    color: #555;\n",
       "    margin-left: 4px;\n",
       "    line-height: 19px;\n",
       "  }\n",
       "</style>\n",
       "<div class=\"ansiout\">/databricks/python/lib/python3.8/site-packages/statsmodels/tsa/base/tsa_model.py:578: ValueWarning: An unsupported index was provided and will be ignored when e.g. forecasting.\n",
       "  warnings.warn(&#39;An unsupported index was provided and will be&#39;\n",
       "/databricks/python/lib/python3.8/site-packages/statsmodels/tsa/base/tsa_model.py:376: ValueWarning: No supported index is available. Prediction results will be given with an integer index beginning at `start`.\n",
       "  warnings.warn(&#39;No supported index is available.&#39;\n",
       "</div>"
      ]
     },
     "metadata": {
      "application/vnd.databricks.v1+output": {
       "addedWidgets": {},
       "arguments": {},
       "data": "<div class=\"ansiout\">/databricks/python/lib/python3.8/site-packages/statsmodels/tsa/base/tsa_model.py:578: ValueWarning: An unsupported index was provided and will be ignored when e.g. forecasting.\n  warnings.warn(&#39;An unsupported index was provided and will be&#39;\n/databricks/python/lib/python3.8/site-packages/statsmodels/tsa/base/tsa_model.py:376: ValueWarning: No supported index is available. Prediction results will be given with an integer index beginning at `start`.\n  warnings.warn(&#39;No supported index is available.&#39;\n</div>",
       "datasetInfos": [],
       "metadata": {},
       "removedWidgets": [],
       "type": "html"
      }
     },
     "output_type": "display_data"
    }
   ],
   "source": [
    "pre_period = [-1*pre_period_val, -1]\n",
    "post_period = [0, post_period_val]\n",
    "\n",
    "ci = CausalImpact(final, pre_period, post_period)"
   ]
  },
  {
   "cell_type": "markdown",
   "metadata": {
    "application/vnd.databricks.v1+cell": {
     "cellMetadata": {
      "byteLimit": 2048000,
      "rowLimit": 10000
     },
     "inputWidgets": {},
     "nuid": "78f544ed-551b-448c-86ad-a4a9f9ebc58d",
     "showTitle": false,
     "title": ""
    }
   },
   "source": [
    "## Interpreting Causal Impact Analysis\n",
    "Was the Content Effective for the Selected Target KPI?"
   ]
  },
  {
   "cell_type": "code",
   "execution_count": 0,
   "metadata": {
    "application/vnd.databricks.v1+cell": {
     "cellMetadata": {
      "byteLimit": 2048000,
      "rowLimit": 10000
     },
     "inputWidgets": {},
     "nuid": "cda2f6ff-26d6-4503-a1fe-01e44e1810d5",
     "showTitle": true,
     "title": "Visualize Actual Values and Counterfactual Predictions"
    },
    "jupyter": {
     "source_hidden": true
    }
   },
   "outputs": [
    {
     "output_type": "display_data",
     "data": {
      "image/png": "[encoded data removed]"
     },
     "metadata": {
      "application/vnd.databricks.v1+output": {
       "addedWidgets": {},
       "arguments": {},
       "data": "data:image/png;base64,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",
       "datasetInfos": [],
       "metadata": {
        "imageDimensions": {
         "height": 769,
         "width": 879
        }
       },
       "removedWidgets": [],
       "type": "image"
      },
      "image/png": {
       "height": 769,
       "width": 879
      }
     },
     "output_type": "display_data"
    }
   ],
   "source": [
    "plt.rcParams['text.color'] = 'black'\n",
    "\n",
    "figsize = (20, 6)\n",
    "\n",
    "ci.plot()"
   ]
  },
  {
   "cell_type": "markdown",
   "metadata": {
    "application/vnd.databricks.v1+cell": {
     "cellMetadata": {
      "byteLimit": 2048000,
      "rowLimit": 10000
     },
     "inputWidgets": {},
     "nuid": "597a30cb-3428-48e9-aa6d-fe950ae2cb95",
     "showTitle": false,
     "title": ""
    }
   },
   "source": [
    "The **average** column, shows average daily data for the post-treatment window. The **cumulative** column deals with the cumulative effect after the treatment which shows the overall impact of the treatment over the post-treatment window.\n",
    "\n",
    "The **Actual** row shows the actual observations. The **prediction** row shows the model results without treatment (the counterfactual).\n",
    "\n",
    "The **absolute effect** row shows the estimated impact using the difference between the actuals and preditions. **(Absolute effect = Actual - Prediction)**\n",
    "\n",
    "The **relative effect** row shows the estimated impact using the ratio of difference between the actuals and preditions and the preditions. **(Relative effect = (Actual - Prediction)/Prediction)**\n",
    "\n",
    "The **95%CI** shows the results for a 95% confidence interval.\n",
    "\n",
    "The **posterior tail-area probability p** is a statistical measure of how certain we are that seeing the effect didn't happen by chance. For a full explanation, see [here](https://stats.stackexchange.com/questions/263763/what-does-posterior-tail-area-probability-mean-in-causal-impact), but the lower this number is, the better.\n",
    "\n",
    "If the p-value is under .05, results are considered statistically significant and if it's below .005 they are considered highly statistically significa"
   ]
  },
  {
   "cell_type": "code",
   "execution_count": 0,
   "metadata": {
    "application/vnd.databricks.v1+cell": {
     "cellMetadata": {
      "byteLimit": 2048000,
      "rowLimit": 10000
     },
     "inputWidgets": {},
     "nuid": "8d945e9d-cecf-47ab-a9f4-a1bbd70c6545",
     "showTitle": true,
     "title": "Causal Impact Analysis Output Report Table For The Post-Treatment Period"
    },
    "jupyter": {
     "source_hidden": true
    }
   },
   "outputs": [
    {
     "output_type": "display_data",
     "data": {
      "text/html": [
       "<style scoped>\n",
       "  .ansiout {\n",
       "    display: block;\n",
       "    unicode-bidi: embed;\n",
       "    white-space: pre-wrap;\n",
       "    word-wrap: break-word;\n",
       "    word-break: break-all;\n",
       "    font-family: \"Menlo\", \"Monaco\", \"Consolas\", \"Ubuntu Mono\", \"Source Code Pro\", monospace;\n",
       "    font-size: 13px;\n",
       "    color: #555;\n",
       "    margin-left: 4px;\n",
       "    line-height: 19px;\n",
       "  }\n",
       "</style>\n",
       "<div class=\"ansiout\">Posterior Inference {Causal Impact}\n",
       "                          Average            Cumulative\n",
       "Actual                    96.75              774.0\n",
       "Prediction (s.d.)         66.89 (8.01)       535.12 (64.12)\n",
       "95% CI                    [50.64, 82.06]     [405.11, 656.46]\n",
       "\n",
       "Absolute effect (s.d.)    29.86 (8.01)       238.88 (64.12)\n",
       "95% CI                    [14.69, 46.11]     [117.54, 368.89]\n",
       "\n",
       "Relative effect (s.d.)    44.64% (11.98%)    44.64% (11.98%)\n",
       "95% CI                    [21.97%, 68.94%]   [21.97%, 68.94%]\n",
       "\n",
       "Posterior tail-area probability p: 0.0\n",
       "Posterior prob. of a causal effect: 100.0%\n",
       "\n",
       "For more details run the command: print(impact.summary(&#39;report&#39;))\n",
       "</div>"
      ]
     },
     "metadata": {
      "application/vnd.databricks.v1+output": {
       "addedWidgets": {},
       "arguments": {},
       "data": "<div class=\"ansiout\">Posterior Inference {Causal Impact}\n                          Average            Cumulative\nActual                    96.75              774.0\nPrediction (s.d.)         66.89 (8.01)       535.12 (64.12)\n95% CI                    [50.64, 82.06]     [405.11, 656.46]\n\nAbsolute effect (s.d.)    29.86 (8.01)       238.88 (64.12)\n95% CI                    [14.69, 46.11]     [117.54, 368.89]\n\nRelative effect (s.d.)    44.64% (11.98%)    44.64% (11.98%)\n95% CI                    [21.97%, 68.94%]   [21.97%, 68.94%]\n\nPosterior tail-area probability p: 0.0\nPosterior prob. of a causal effect: 100.0%\n\nFor more details run the command: print(impact.summary(&#39;report&#39;))\n</div>",
       "datasetInfos": [],
       "metadata": {},
       "removedWidgets": [],
       "type": "html"
      }
     },
     "output_type": "display_data"
    }
   ],
   "source": [
    "print(ci.summary())"
   ]
  },
  {
   "cell_type": "code",
   "execution_count": 0,
   "metadata": {
    "application/vnd.databricks.v1+cell": {
     "cellMetadata": {
      "byteLimit": 2048000,
      "rowLimit": 10000
     },
     "inputWidgets": {},
     "nuid": "cd24cea5-304b-4343-93a1-e3a459a54214",
     "showTitle": true,
     "title": "Causal Impact Analysis Output Report"
    },
    "jupyter": {
     "source_hidden": true
    }
   },
   "outputs": [
    {
     "output_type": "display_data",
     "data": {
      "text/html": [
       "<style scoped>\n",
       "  .ansiout {\n",
       "    display: block;\n",
       "    unicode-bidi: embed;\n",
       "    white-space: pre-wrap;\n",
       "    word-wrap: break-word;\n",
       "    word-break: break-all;\n",
       "    font-family: \"Menlo\", \"Monaco\", \"Consolas\", \"Ubuntu Mono\", \"Source Code Pro\", monospace;\n",
       "    font-size: 13px;\n",
       "    color: #555;\n",
       "    margin-left: 4px;\n",
       "    line-height: 19px;\n",
       "  }\n",
       "</style>\n",
       "<div class=\"ansiout\">Analysis report {CausalImpact}\n",
       "\n",
       "\n",
       "During the post-intervention period, the response variable had\n",
       "an average value of approx. 96.75. By contrast, in the absence of an\n",
       "intervention, we would have expected an average response of 66.89.\n",
       "The 95% interval of this counterfactual prediction is [50.64, 82.06].\n",
       "Subtracting this prediction from the observed response yields\n",
       "an estimate of the causal effect the intervention had on the\n",
       "response variable. This effect is 29.86 with a 95% interval of\n",
       "[14.69, 46.11]. For a discussion of the significance of this effect,\n",
       "see below.\n",
       "\n",
       "\n",
       "Summing up the individual data points during the post-intervention\n",
       "period (which can only sometimes be meaningfully interpreted), the\n",
       "response variable had an overall value of 774.0.\n",
       "By contrast, had the intervention not taken place, we would have expected\n",
       "a sum of 535.12. The 95% interval of this prediction is [405.11, 656.46].\n",
       "\n",
       "\n",
       "The above results are given in terms of absolute numbers. In relative\n",
       "terms, the response variable showed an increase of +44.64%. The 95%\n",
       "interval of this percentage is [21.97%, 68.94%].\n",
       "\n",
       "\n",
       "This means that the positive effect observed during the intervention\n",
       "period is statistically significant and unlikely to be due to random\n",
       "fluctuations. It should be noted, however, that the question of whether\n",
       "this increase also bears substantive significance can only be answered\n",
       "by comparing the absolute effect (29.86) to the original goal\n",
       "of the underlying intervention.\n",
       "\n",
       "\n",
       "The probability of obtaining this effect by chance is very small\n",
       "(Bayesian one-sided tail-area probability p = 0.0).\n",
       "This means the causal effect can be considered statistically\n",
       "significant.\n",
       "</div>"
      ]
     },
     "metadata": {
      "application/vnd.databricks.v1+output": {
       "addedWidgets": {},
       "arguments": {},
       "data": "<div class=\"ansiout\">Analysis report {CausalImpact}\n\n\nDuring the post-intervention period, the response variable had\nan average value of approx. 96.75. By contrast, in the absence of an\nintervention, we would have expected an average response of 66.89.\nThe 95% interval of this counterfactual prediction is [50.64, 82.06].\nSubtracting this prediction from the observed response yields\nan estimate of the causal effect the intervention had on the\nresponse variable. This effect is 29.86 with a 95% interval of\n[14.69, 46.11]. For a discussion of the significance of this effect,\nsee below.\n\n\nSumming up the individual data points during the post-intervention\nperiod (which can only sometimes be meaningfully interpreted), the\nresponse variable had an overall value of 774.0.\nBy contrast, had the intervention not taken place, we would have expected\na sum of 535.12. The 95% interval of this prediction is [405.11, 656.46].\n\n\nThe above results are given in terms of absolute numbers. In relative\nterms, the response variable showed an increase of +44.64%. The 95%\ninterval of this percentage is [21.97%, 68.94%].\n\n\nThis means that the positive effect observed during the intervention\nperiod is statistically significant and unlikely to be due to random\nfluctuations. It should be noted, however, that the question of whether\nthis increase also bears substantive significance can only be answered\nby comparing the absolute effect (29.86) to the original goal\nof the underlying intervention.\n\n\nThe probability of obtaining this effect by chance is very small\n(Bayesian one-sided tail-area probability p = 0.0).\nThis means the causal effect can be considered statistically\nsignificant.\n</div>",
       "datasetInfos": [],
       "metadata": {},
       "removedWidgets": [],
       "type": "html"
      }
     },
     "output_type": "display_data"
    }
   ],
   "source": [
    "# Causal impact report\n",
    "print(ci.summary(output='report'))"
   ]
  },
  {
   "cell_type": "code",
   "execution_count": 0,
   "metadata": {
    "application/vnd.databricks.v1+cell": {
     "cellMetadata": {
      "byteLimit": 2048000,
      "rowLimit": 10000
     },
     "inputWidgets": {},
     "nuid": "f8dd3e96-9869-49a8-8c2e-3d3dce21b489",
     "showTitle": true,
     "title": "Causal Impact point-wise Output"
    },
    "jupyter": {
     "source_hidden": true
    }
   },
   "outputs": [
    {
     "output_type": "display_data",
     "data": {
      "text/html": [
       "<style scoped>\n",
       "  .ansiout {\n",
       "    display: block;\n",
       "    unicode-bidi: embed;\n",
       "    white-space: pre-wrap;\n",
       "    word-wrap: break-word;\n",
       "    word-break: break-all;\n",
       "    font-family: \"Menlo\", \"Monaco\", \"Consolas\", \"Ubuntu Mono\", \"Source Code Pro\", monospace;\n",
       "    font-size: 13px;\n",
       "    color: #555;\n",
       "    margin-left: 4px;\n",
       "    line-height: 19px;\n",
       "  }\n",
       "</style>\n",
       "<div class=\"ansiout\">Out[65]: </div>"
      ]
     },
     "metadata": {
      "application/vnd.databricks.v1+output": {
       "addedWidgets": {},
       "arguments": {},
       "data": "<div class=\"ansiout\">Out[65]: </div>",
       "datasetInfos": [],
       "metadata": {},
       "removedWidgets": [],
       "type": "html"
      }
     },
     "output_type": "display_data"
    },
    {
     "output_type": "display_data",
     "data": {
      "text/html": [
       "<div>\n",
       "<style scoped>\n",
       "    .dataframe tbody tr th:only-of-type {\n",
       "        vertical-align: middle;\n",
       "    }\n",
       "\n",
       "    .dataframe tbody tr th {\n",
       "        vertical-align: top;\n",
       "    }\n",
       "\n",
       "    .dataframe thead th {\n",
       "        text-align: right;\n",
       "    }\n",
       "</style>\n",
       "<table border=\"1\" class=\"dataframe\">\n",
       "  <thead>\n",
       "    <tr style=\"text-align: right;\">\n",
       "      <th></th>\n",
       "      <th>actuals</th>\n",
       "      <th>counterfactual predictions</th>\n",
       "      <th>point_effects</th>\n",
       "      <th>point_effects_lower_ci</th>\n",
       "      <th>point_effects_upper_ci</th>\n",
       "      <th>cumalative_effects</th>\n",
       "      <th>cumalative_effects_lower_ci</th>\n",
       "      <th>cumalative_effects_upper_ci</th>\n",
       "    </tr>\n",
       "    <tr>\n",
       "      <th>days_since_treatment</th>\n",
       "      <th></th>\n",
       "      <th></th>\n",
       "      <th></th>\n",
       "      <th></th>\n",
       "      <th></th>\n",
       "      <th></th>\n",
       "      <th></th>\n",
       "      <th></th>\n",
       "    </tr>\n",
       "  </thead>\n",
       "  <tbody>\n",
       "    <tr>\n",
       "      <th>0</th>\n",
       "      <td>326.0</td>\n",
       "      <td>56.161176</td>\n",
       "      <td>269.838824</td>\n",
       "      <td>229.492381</td>\n",
       "      <td>310.185267</td>\n",
       "      <td>269.838824</td>\n",
       "      <td>229.217961</td>\n",
       "      <td>311.714687</td>\n",
       "    </tr>\n",
       "    <tr>\n",
       "      <th>1</th>\n",
       "      <td>433.0</td>\n",
       "      <td>74.051989</td>\n",
       "      <td>32.948011</td>\n",
       "      <td>-7.402161</td>\n",
       "      <td>73.298183</td>\n",
       "      <td>302.786835</td>\n",
       "      <td>245.511734</td>\n",
       "      <td>360.711480</td>\n",
       "    </tr>\n",
       "    <tr>\n",
       "      <th>2</th>\n",
       "      <td>496.0</td>\n",
       "      <td>74.179602</td>\n",
       "      <td>-11.179602</td>\n",
       "      <td>-51.533503</td>\n",
       "      <td>29.174298</td>\n",
       "      <td>291.607232</td>\n",
       "      <td>221.364538</td>\n",
       "      <td>362.041900</td>\n",
       "    </tr>\n",
       "    <tr>\n",
       "      <th>3</th>\n",
       "      <td>555.0</td>\n",
       "      <td>71.160804</td>\n",
       "      <td>-12.160804</td>\n",
       "      <td>-52.518432</td>\n",
       "      <td>28.196824</td>\n",
       "      <td>279.446428</td>\n",
       "      <td>191.465984</td>\n",
       "      <td>368.627214</td>\n",
       "    </tr>\n",
       "    <tr>\n",
       "      <th>4</th>\n",
       "      <td>614.0</td>\n",
       "      <td>63.103619</td>\n",
       "      <td>-4.103619</td>\n",
       "      <td>-44.464975</td>\n",
       "      <td>36.257736</td>\n",
       "      <td>275.342809</td>\n",
       "      <td>182.300119</td>\n",
       "      <td>375.041104</td>\n",
       "    </tr>\n",
       "    <tr>\n",
       "      <th>5</th>\n",
       "      <td>676.0</td>\n",
       "      <td>62.990195</td>\n",
       "      <td>-0.990195</td>\n",
       "      <td>-41.355278</td>\n",
       "      <td>39.374888</td>\n",
       "      <td>274.352614</td>\n",
       "      <td>170.528191</td>\n",
       "      <td>388.693988</td>\n",
       "    </tr>\n",
       "    <tr>\n",
       "      <th>6</th>\n",
       "      <td>719.0</td>\n",
       "      <td>63.860064</td>\n",
       "      <td>-20.860064</td>\n",
       "      <td>-61.228874</td>\n",
       "      <td>19.508746</td>\n",
       "      <td>253.492551</td>\n",
       "      <td>138.003688</td>\n",
       "      <td>375.231162</td>\n",
       "    </tr>\n",
       "    <tr>\n",
       "      <th>7</th>\n",
       "      <td>774.0</td>\n",
       "      <td>69.611210</td>\n",
       "      <td>-14.611210</td>\n",
       "      <td>-54.983746</td>\n",
       "      <td>25.761327</td>\n",
       "      <td>238.881341</td>\n",
       "      <td>117.542640</td>\n",
       "      <td>368.885793</td>\n",
       "    </tr>\n",
       "  </tbody>\n",
       "</table>\n",
       "</div>"
      ]
     },
     "metadata": {
      "application/vnd.databricks.v1+output": {
       "addedWidgets": {},
       "arguments": {},
       "data": "<div>\n<style scoped>\n    .dataframe tbody tr th:only-of-type {\n        vertical-align: middle;\n    }\n\n    .dataframe tbody tr th {\n        vertical-align: top;\n    }\n\n    .dataframe thead th {\n        text-align: right;\n    }\n</style>\n<table border=\"1\" class=\"dataframe\">\n  <thead>\n    <tr style=\"text-align: right;\">\n      <th></th>\n      <th>actuals</th>\n      <th>counterfactual predictions</th>\n      <th>point_effects</th>\n      <th>point_effects_lower_ci</th>\n      <th>point_effects_upper_ci</th>\n      <th>cumalative_effects</th>\n      <th>cumalative_effects_lower_ci</th>\n      <th>cumalative_effects_upper_ci</th>\n    </tr>\n    <tr>\n      <th>days_since_treatment</th>\n      <th></th>\n      <th></th>\n      <th></th>\n      <th></th>\n      <th></th>\n      <th></th>\n      <th></th>\n      <th></th>\n    </tr>\n  </thead>\n  <tbody>\n    <tr>\n      <th>0</th>\n      <td>326.0</td>\n      <td>56.161176</td>\n      <td>269.838824</td>\n      <td>229.492381</td>\n      <td>310.185267</td>\n      <td>269.838824</td>\n      <td>229.217961</td>\n      <td>311.714687</td>\n    </tr>\n    <tr>\n      <th>1</th>\n      <td>433.0</td>\n      <td>74.051989</td>\n      <td>32.948011</td>\n      <td>-7.402161</td>\n      <td>73.298183</td>\n      <td>302.786835</td>\n      <td>245.511734</td>\n      <td>360.711480</td>\n    </tr>\n    <tr>\n      <th>2</th>\n      <td>496.0</td>\n      <td>74.179602</td>\n      <td>-11.179602</td>\n      <td>-51.533503</td>\n      <td>29.174298</td>\n      <td>291.607232</td>\n      <td>221.364538</td>\n      <td>362.041900</td>\n    </tr>\n    <tr>\n      <th>3</th>\n      <td>555.0</td>\n      <td>71.160804</td>\n      <td>-12.160804</td>\n      <td>-52.518432</td>\n      <td>28.196824</td>\n      <td>279.446428</td>\n      <td>191.465984</td>\n      <td>368.627214</td>\n    </tr>\n    <tr>\n      <th>4</th>\n      <td>614.0</td>\n      <td>63.103619</td>\n      <td>-4.103619</td>\n      <td>-44.464975</td>\n      <td>36.257736</td>\n      <td>275.342809</td>\n      <td>182.300119</td>\n      <td>375.041104</td>\n    </tr>\n    <tr>\n      <th>5</th>\n      <td>676.0</td>\n      <td>62.990195</td>\n      <td>-0.990195</td>\n      <td>-41.355278</td>\n      <td>39.374888</td>\n      <td>274.352614</td>\n      <td>170.528191</td>\n      <td>388.693988</td>\n    </tr>\n    <tr>\n      <th>6</th>\n      <td>719.0</td>\n      <td>63.860064</td>\n      <td>-20.860064</td>\n      <td>-61.228874</td>\n      <td>19.508746</td>\n      <td>253.492551</td>\n      <td>138.003688</td>\n      <td>375.231162</td>\n    </tr>\n    <tr>\n      <th>7</th>\n      <td>774.0</td>\n      <td>69.611210</td>\n      <td>-14.611210</td>\n      <td>-54.983746</td>\n      <td>25.761327</td>\n      <td>238.881341</td>\n      <td>117.542640</td>\n      <td>368.885793</td>\n    </tr>\n  </tbody>\n</table>\n</div>",
       "datasetInfos": [],
       "metadata": {},
       "removedWidgets": [],
       "textData": null,
       "type": "htmlSandbox"
      }
     },
     "output_type": "display_data"
    }
   ],
   "source": [
    "#ci.alpha\n",
    "#ci.n_sims\n",
    "#ci.model_args\n",
    "#ci.lower_upper_percentile\n",
    "#ci.post_normed_data\n",
    "#ci.pre_normed_data\n",
    "#ci.summary_data.loc['predicted]['cumulative']\n",
    "#ci.inferences\n",
    "\n",
    "causal_impact_df = ci.inferences\n",
    "rslt_df = causal_impact_df[causal_impact_df.index > -1][['post_cum_y', 'preds', 'point_effects',\n",
    "       'point_effects_lower', 'point_effects_upper', 'post_cum_effects',\n",
    "       'post_cum_effects_lower', 'post_cum_effects_upper']]\n",
    "rslt_df.columns=['actuals', 'counterfactual predictions', 'point_effects','point_effects_lower_ci', 'point_effects_upper_ci', 'cumalative_effects','cumalative_effects_lower_ci', 'cumalative_effects_upper_ci']\n",
    "\n",
    "rslt_df.head(30)"
   ]
  },
  {
   "cell_type": "code",
   "execution_count": 0,
   "metadata": {
    "application/vnd.databricks.v1+cell": {
     "cellMetadata": {
      "byteLimit": 2048000,
      "rowLimit": 10000
     },
     "inputWidgets": {},
     "nuid": "20361372-9e09-4047-b3e3-e20b743cec82",
     "showTitle": false,
     "title": ""
    },
    "jupyter": {
     "outputs_hidden": true,
     "source_hidden": true
    }
   },
   "outputs": [
    {
     "output_type": "display_data",
     "data": {
      "text/html": [
       "<style scoped>\n",
       "  .ansiout {\n",
       "    display: block;\n",
       "    unicode-bidi: embed;\n",
       "    white-space: pre-wrap;\n",
       "    word-wrap: break-word;\n",
       "    word-break: break-all;\n",
       "    font-family: \"Menlo\", \"Monaco\", \"Consolas\", \"Ubuntu Mono\", \"Source Code Pro\", monospace;\n",
       "    font-size: 13px;\n",
       "    color: #555;\n",
       "    margin-left: 4px;\n",
       "    line-height: 19px;\n",
       "  }\n",
       "</style>\n",
       "<div class=\"ansiout\"></div>"
      ]
     },
     "metadata": {
      "application/vnd.databricks.v1+output": {
       "addedWidgets": {},
       "arguments": {},
       "data": "<div class=\"ansiout\"></div>",
       "datasetInfos": [],
       "metadata": {},
       "removedWidgets": [],
       "type": "html"
      }
     },
     "output_type": "display_data"
    }
   ],
   "source": [
    "#ax = ci.inferences.post_cum_effects.plot(figsize=(15,6))\n",
    "#ci.inferences.post_cum_effects_upper.plot(ax=ax, style='r--')\n",
    "#ci.inferences.post_cum_effects_lower.plot(ax=ax, style='r--')"
   ]
  },
  {
   "cell_type": "code",
   "execution_count": 0,
   "metadata": {
    "application/vnd.databricks.v1+cell": {
     "cellMetadata": {
      "byteLimit": 2048000,
      "rowLimit": 10000
     },
     "inputWidgets": {},
     "nuid": "0717a209-d0a9-47e0-bc4a-da082087d2ca",
     "showTitle": true,
     "title": "End Run Time"
    },
    "jupyter": {
     "source_hidden": true
    }
   },
   "outputs": [
    {
     "output_type": "display_data",
     "data": {
      "text/html": [
       "<style scoped>\n",
       "  .ansiout {\n",
       "    display: block;\n",
       "    unicode-bidi: embed;\n",
       "    white-space: pre-wrap;\n",
       "    word-wrap: break-word;\n",
       "    word-break: break-all;\n",
       "    font-family: \"Menlo\", \"Monaco\", \"Consolas\", \"Ubuntu Mono\", \"Source Code Pro\", monospace;\n",
       "    font-size: 13px;\n",
       "    color: #555;\n",
       "    margin-left: 4px;\n",
       "    line-height: 19px;\n",
       "  }\n",
       "</style>\n",
       "<div class=\"ansiout\">Current Time = 21:19:36\n",
       "</div>"
      ]
     },
     "metadata": {
      "application/vnd.databricks.v1+output": {
       "addedWidgets": {},
       "arguments": {},
       "data": "<div class=\"ansiout\">Current Time = 21:19:36\n</div>",
       "datasetInfos": [],
       "metadata": {},
       "removedWidgets": [],
       "type": "html"
      }
     },
     "output_type": "display_data"
    }
   ],
   "source": [
    "now = datetime.now()\n",
    "\n",
    "current_time = now.strftime(\"%H:%M:%S\")\n",
    "print(\"Current Time =\", current_time)"
   ]
  },
  {
   "cell_type": "code",
   "execution_count": 0,
   "metadata": {
    "application/vnd.databricks.v1+cell": {
     "cellMetadata": {
      "byteLimit": 2048000,
      "rowLimit": 10000
     },
     "inputWidgets": {},
     "nuid": "1b021718-fef3-47c5-b500-47cb102ad2a8",
     "showTitle": false,
     "title": ""
    }
   },
   "outputs": [
    {
     "output_type": "display_data",
     "data": {
      "text/html": [
       "<style scoped>\n",
       "  .ansiout {\n",
       "    display: block;\n",
       "    unicode-bidi: embed;\n",
       "    white-space: pre-wrap;\n",
       "    word-wrap: break-word;\n",
       "    word-break: break-all;\n",
       "    font-family: \"Menlo\", \"Monaco\", \"Consolas\", \"Ubuntu Mono\", \"Source Code Pro\", monospace;\n",
       "    font-size: 13px;\n",
       "    color: #555;\n",
       "    margin-left: 4px;\n",
       "    line-height: 19px;\n",
       "  }\n",
       "</style>\n",
       "<div class=\"ansiout\"></div>"
      ]
     },
     "metadata": {
      "application/vnd.databricks.v1+output": {
       "addedWidgets": {},
       "arguments": {},
       "data": "<div class=\"ansiout\"></div>",
       "datasetInfos": [],
       "metadata": {},
       "removedWidgets": [],
       "type": "html"
      }
     },
     "output_type": "display_data"
    }
   ],
   "source": [
    "## show actual dates for any splike\n",
    "\n",
    "\n",
    "# display(member_ts_treatment.where((f.col('days_since_treatment')==0)&(f.col('digital_purchase_flag')==1)).groupBy('first_treatment_dt').count().orderBy('count'))"
   ]
  },
  {
   "cell_type": "code",
   "execution_count": 0,
   "metadata": {
    "application/vnd.databricks.v1+cell": {
     "cellMetadata": {},
     "inputWidgets": {},
     "nuid": "ae40f416-9501-4ddd-804c-d703bb6818be",
     "showTitle": false,
     "title": ""
    }
   },
   "outputs": [],
   "source": []
  }
 ],
 "metadata": {
  "application/vnd.databricks.v1+notebook": {
   "dashboards": [],
   "language": "python",
   "notebookMetadata": {
    "mostRecentlyExecutedCommandWithImplicitDF": {
     "commandId": 3342562764433264,
     "dataframes": [
      "_sqldf"
     ]
    },
    "pythonIndentUnit": 2,
    "widgetLayout": [
     {
      "breakBefore": false,
      "name": "project_val",
      "width": 338
     },
     {
      "breakBefore": false,
      "name": "treatment_start_date",
      "width": 253
     },
     {
      "breakBefore": false,
      "name": "treatment_end_date",
      "width": 253
     },
     {
      "breakBefore": false,
      "name": "treatment_value_any",
      "width": 422
     },
     {
      "breakBefore": false,
      "name": "geo_select",
      "width": 253
     },
     {
      "breakBefore": false,
      "name": "marketplace_select",
      "width": 338
     },
     {
      "breakBefore": false,
      "name": "gender_select",
      "width": 253
     },
     {
      "breakBefore": false,
      "name": "age_select",
      "width": 253
     },
     {
      "breakBefore": false,
      "name": "tenure_select",
      "width": 253
     },
     {
      "breakBefore": false,
      "name": "sampling_select",
      "width": 507
     },
     {
      "breakBefore": false,
      "name": "num_control_groups",
      "width": 253
     },
     {
      "breakBefore": false,
      "name": "target_kpi_value",
      "width": 507
     },
     {
      "breakBefore": false,
      "name": "post_period_value",
      "width": 422
     },
     {
      "breakBefore": false,
      "name": "product_group",
      "width": 929
     },
     {
      "breakBefore": false,
      "name": "channel_select",
      "width": 169
     }
    ]
   },
   "notebookName": "CPA_Causal_Impact_Analysis_Toolkit",
   "widgets": {
    "age_select": {
     "currentValue": "<=25",
     "nuid": "a22f04f8-ae36-4672-9924-ed003b32b175",
     "widgetInfo": {
      "widgetType": "dropdown",
      "defaultValue": "All",
      "label": "8-Select Age Group",
      "name": "age_select",
      "options": {
       "widgetType": "dropdown",
       "choices": [
        "All",
        "<=25",
        ">25"
       ]
      }
     }
    },
    "channel_select": {
     "currentValue": "Nike App",
     "nuid": "4bf99ec6-5554-40e0-8e14-6d9460baab52",
     "widgetInfo": {
      "widgetType": "multiselect",
      "defaultValue": "All",
      "label": "15-Select Channels For Treatment, Target KPIs and/or Control-Treatment Matching Criteria",
      "name": "channel_select",
      "options": {
       "widgetType": "dropdown",
       "choices": [
        "All",
        "Nike App",
        "NTC",
        "NRC",
        "Email"
       ]
      }
     }
    },
    "gender_select": {
     "currentValue": "Women",
     "nuid": "42ce4372-67ad-497f-a3bd-fb7da0486c97",
     "widgetInfo": {
      "widgetType": "dropdown",
      "defaultValue": "All",
      "label": "7-Select Gender",
      "name": "gender_select",
      "options": {
       "widgetType": "dropdown",
       "choices": [
        "All",
        "Men",
        "Women"
       ]
      }
     }
    },
    "geo_select": {
     "currentValue": "All Geos",
     "nuid": "a8b1d4b4-9903-42fa-b6bc-45dcdace44ab",
     "widgetInfo": {
      "widgetType": "dropdown",
      "defaultValue": "All Geos",
      "label": "5-Select Geo",
      "name": "geo_select",
      "options": {
       "widgetType": "dropdown",
       "choices": [
        "All Geos",
        "APLA",
        "EMEA",
        "NA"
       ]
      }
     }
    },
    "marketplace_select": {
     "currentValue": "us",
     "nuid": "279f6793-d0bc-4cf3-b2c9-0387d6b6106c",
     "widgetInfo": {
      "widgetType": "text",
      "defaultValue": "",
      "label": "6-Input Marketplace (comma-separated)",
      "name": "marketplace_select",
      "options": {
       "widgetType": "text",
       "validationRegex": null
      }
     }
    },
    "num_control_groups": {
     "currentValue": "3",
     "nuid": "efb100ab-2834-4247-9baf-4274d5aaf0db",
     "widgetInfo": {
      "widgetType": "dropdown",
      "defaultValue": "3",
      "label": "11-Select Number of Control Groups",
      "name": "num_control_groups",
      "options": {
       "widgetType": "dropdown",
       "choices": [
        "1",
        "3",
        "5",
        "10"
       ]
      }
     }
    },
    "post_period_value": {
     "currentValue": "7",
     "nuid": "d2d0fc2f-3dd7-446e-b277-bf5fdce9e674",
     "widgetInfo": {
      "widgetType": "dropdown",
      "defaultValue": "7",
      "label": "13-Select Post-Treatment Days For Impact Measurement",
      "name": "post_period_value",
      "options": {
       "widgetType": "dropdown",
       "choices": [
        "90",
        "30",
        "7",
        "2"
       ]
      }
     }
    },
    "product_group": {
     "currentValue": "air max",
     "nuid": "af3f31db-f587-40f4-9466-d3090688131e",
     "widgetInfo": {
      "widgetType": "text",
      "defaultValue": "",
      "label": "14-Input Product Franchise, Gender Construct or Sport Dimension For unique_members_with_selected_product_group_digital_purchase Target KPI",
      "name": "product_group",
      "options": {
       "widgetType": "text",
       "validationRegex": null
      }
     }
    },
    "project_val": {
     "currentValue": "air max documentation example use case",
     "nuid": "5317acd6-9e37-4971-aa48-28f61e5de864",
     "widgetInfo": {
      "widgetType": "text",
      "defaultValue": "",
      "label": "1-Input Project Name For Saving Results",
      "name": "project_val",
      "options": {
       "widgetType": "text",
       "validationRegex": null
      }
     }
    },
    "sampling_select": {
     "currentValue": "nikeapp_thread_view_cadence,tenure_group",
     "nuid": "e33953d4-2d7d-4718-9ccb-c85bdc2b8a27",
     "widgetInfo": {
      "widgetType": "multiselect",
      "defaultValue": "tenure_group",
      "label": "10-Select Control-Treatment Matching Criteria",
      "name": "sampling_select",
      "options": {
       "widgetType": "dropdown",
       "choices": [
        "preferred_gender",
        "age_group",
        "tenure_group",
        "nrc_run_cadence",
        "ntc_workout_cadence",
        "nikeapp_thread_view_cadence",
        "email_link_click_cadence"
       ]
      }
     }
    },
    "target_kpi_value": {
     "currentValue": "unique_members_with_selected_product_group_nddc_purchases",
     "nuid": "b7dee23b-239e-4ead-a7a1-a52387c074ef",
     "widgetInfo": {
      "widgetType": "dropdown",
      "defaultValue": "unique_members_with_nikeapp_thread_cta_clicks",
      "label": "12-Select Target KPI",
      "name": "target_kpi_value",
      "options": {
       "widgetType": "dropdown",
       "choices": [
        "unique_members_with_nikeapp_app_opens",
        "unique_members_with_nikeapp_add_to_carts",
        "unique_members_with_nikeapp_thread_cta_clicks",
        "unique_members_with_nrc_app_opens",
        "unique_members_with_nrc_run_starts",
        "unique_members_with_ntc_app_opens",
        "unique_members_with_ntc_workout_starts",
        "unique_members_with_email_link_clicks",
        "unique_members_with_email_purchases",
        "unique_members_with_nddc_purchases",
        "unique_members_with_selected_product_group_nddc_purchases",
        "unique_members_with_ecosystemt_app_opens",
        "unique_members_with_ecosystem_thread_views"
       ]
      }
     }
    },
    "tenure_select": {
     "currentValue": "All",
     "nuid": "a265abdb-86cf-468d-9e22-7c27ab16c400",
     "widgetInfo": {
      "widgetType": "multiselect",
      "defaultValue": "All",
      "label": "9-Select Member Tenure",
      "name": "tenure_select",
      "options": {
       "widgetType": "dropdown",
       "choices": [
        "All",
        "tenure>=180",
        "7<tenure<180",
        "tenure<=7"
       ]
      }
     }
    },
    "treatment_end_date": {
     "currentValue": "2023-05-01",
     "nuid": "3132084e-1fe1-4173-8f47-431519fd70f3",
     "widgetInfo": {
      "widgetType": "text",
      "defaultValue": "2023-10-01",
      "label": "3-Select Treatment End Date",
      "name": "treatment_end_date",
      "options": {
       "widgetType": "text",
       "validationRegex": null
      }
     }
    },
    "treatment_start_date": {
     "currentValue": "2023-03-08",
     "nuid": "6b2c2a22-dbcc-40ad-8e79-4f221a81e065",
     "widgetInfo": {
      "widgetType": "text",
      "defaultValue": "2023-09-01",
      "label": "2-Select Treatment Start Date",
      "name": "treatment_start_date",
      "options": {
       "widgetType": "text",
       "validationRegex": null
      }
     }
    },
    "treatment_value_any": {
     "currentValue": "04b7b3b5-f821-409e-aa6f-5696834f0434, 0fb3dd72-5eb4-4cb8-ba99-33b73040f26a, 12bf0159-5018-47c9-b019-153eb896564c, 16184978-699a-4bd0-a10f-a2f78f6ea0a9, 1c96a563-9f9e-49ff-9267-f834ef19b382, 276bbbdf-4307-423d-8bda-2085206bec56, 35717bfe-4486-4449-94ba-ff23494c1f47, 373b345b-4cbd-430e-a64b-576544e76181, 4b465a3b-5b4e-4f72-bf1b-727231cb508f, 5153ae50-1538-417e-939c-abbe0f054f21, 56498a44-6272-40b6-84f7-186aaef42a5c, 5ab9a1c2-cb1d-426e-8c58-6106ce81c1a2, 5fc6f393-d598-4b2f-8f5b-12fd3ef9d3c1, 64e29555-c399-489d-8f35-05060e847e49, 65f8efb5-1341-4640-8c21-d4d5dfa122bb, 6a0225ed-71ae-469b-97e2-a195e84dd499, 871918ea-944a-47b1-b88c-fc8349a7c6a0, 8c500c1a-fad0-4a72-a6c0-2e1f5f2c07c3, 969189a2-d7c6-4d70-bc47-b8f3797c794d, b3c0c350-ff00-4a45-a4d9-cd2ddf2e8a75, bf921e57-2e26-42d7-8e11-d5b8e7fad0cc, c80c6254-46e0-4016-9174-238952461064, d35887b7-0c6c-4a5a-8c9b-73fdbf9aff84, d3aaa836-43f1-475d-9613-4606f0528d27, d84c2389-eabd-4d02-bd7e-3f6d099e2dc2, de6c1f30-07e6-4fc7-8c65-08469e7c7d43, dfc9451a-be86-48f4-83e0-f1ee59744091, e098adc7-e11b-402b-864f-4f27c5b39cfc, ecd6e590-58f6-48e9-82b0-50b7851b7d34, f8077532-4593-4333-8c2a-9bb35d31e168, faf3bc23-0001-4fce-a33f-ba2b3f447a38, fecd7e5a-da15-4b09-b0ce-4ab23ecc42c8",
     "nuid": "86587d05-3144-4c2d-a563-1264d6c88141",
     "widgetInfo": {
      "widgetType": "text",
      "defaultValue": "",
      "label": "4-Input Treatment Content IDs (comma-separated)",
      "name": "treatment_value_any",
      "options": {
       "widgetType": "text",
       "validationRegex": null
      }
     }
    }
   }
  }
 },
 "nbformat": 4,
 "nbformat_minor": 0
}
